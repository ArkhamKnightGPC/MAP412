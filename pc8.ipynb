{
 "cells": [
  {
   "cell_type": "markdown",
   "metadata": {},
   "source": [
    "# PC 8 : Résolution numérique d'équations différentielles ordinaires"
   ]
  },
  {
   "cell_type": "markdown",
   "metadata": {},
   "source": [
    "**<big> Préparation avant la PC :</big>**\n",
    "**Les question 1 des exercices 1 et 2 sont à préparer** avant la séance de PC du 26/10.\n",
    "\n",
    "**<big><font color=black><span style=\"background-color:skyblue\">À rendre</span></font> après la PC :</big>**\n",
    "**Les exercices 1 et 2 contiennent des parties <font color=black><span style=\"background-color:skyblue\">à rendre</span></font> avant le 30/10 à 20h00 avec ceux de la PC7. Les questions 2 et 3 de l'exercice 1 et 3 et 4 de l'exercice 2 sont en <font color=black><span style=\"background-color:deepskyblue\">bonus</span></font>**."
   ]
  },
  {
   "cell_type": "code",
   "execution_count": null,
   "metadata": {},
   "outputs": [],
   "source": [
    "# Ce package permet de travailler efficacement avec des tableaux\n",
    "import numpy as np\n",
    "# Ce package permet de faire des sorties graphiques\n",
    "from matplotlib import pyplot as plt"
   ]
  },
  {
   "cell_type": "markdown",
   "metadata": {},
   "source": [
    "## Exercice 1 : Méthodes de Runge-Kutta (RK)\n",
    "\n",
    "On considère un problème de Cauchy de la forme\n",
    "\n",
    "$$\\left\\{\n",
    "\\begin{aligned}\n",
    "&y' = f(t,y)\\\\\n",
    "&y(t_0) = y_0, \n",
    "\\end{aligned}\n",
    "\\right.$$\n",
    "\n",
    "avec un champ de vecteur $f:\\mathbb{R}\\times\\mathbb{R} \\to \\mathbb{R}$ qu'on supposera aussi régulier que nécessaire. On cherche à résoudre ce problème de manière approchée aux temps $t_0<t_1<...<t_N=t_0+T$. On rappelle qu'on note $\\Delta t_n = t_{n+1}-t_n$, et $\\Delta t= \\max\\limits_{0\\leq n\\leq N} \\Delta t_n$."
   ]
  },
  {
   "cell_type": "markdown",
   "metadata": {},
   "source": [
    "### Question 1 : méthode du point milieu explicite\n",
    "\n",
    "La méthode du point de milieu explicite est définie par\n",
    "\n",
    "$$ y_{n+1} = y_n + \\Delta t_n f\\left(t_n + \\frac{\\Delta t_n}{2},\\quad{} y_n+\\frac{\\Delta t_n}{2}f(t_n,\\ y_n)\\right). $$\n",
    "\n",
    ">C'est une méthode Runge Kutta d'ordre 2, et c'est celle qui est traditionnellement appelée RK2, même si ce n'est pas la seule méthode de Runge Kutta d'ordre 2. "
   ]
  },
  {
   "cell_type": "markdown",
   "metadata": {},
   "source": [
    "$1$. Montrer que, sous certaines hypothèse de régularité sur $f$, la méthode est consistante et d'ordre $2$, i.e. que l'erreur de consistance $E = O(\\Delta t^2)$ où \n",
    "\n",
    "$$ E = \\sum\\limits_{n=0}^{N-1} |\\varepsilon_n|, \\qquad{} \\varepsilon_n =  y(t_{n+1}) - y(t_n) - \\Delta t_n f\\left(t_n + \\frac{\\Delta t_n}{2},\\quad{} y(t_n)+\\frac{\\Delta t_n}{2}f(t_n,\\ y(t_n))\\right). $$\n",
    "\n",
    "*On pourra commencer par montrer que l'erreur locale de troncature $\\varepsilon_n = O(\\Delta t_n^3)$.*\n",
    "\n",
    ">Remarque : comme on l'a vu dans la PC7, dès qu'un schéma est stable aux perturbations (comme le sont les schémas RK), l'erreur globale $\\max\\limits_{0\\leq n\\leq N} \\vert y_n - y(t_n) \\vert$ est du même ordre que l'erreur de consistance $E$."
   ]
  },
  {
   "cell_type": "markdown",
   "metadata": {},
   "source": [
    "$2$. **<font color=black><span style=\"background-color:skyblue\">À rendre :</span></font>** \n",
    "- Implémenter la méthode RK2. \n",
    "- Tester la sur le cas $f(t,y)=y$, pour $t_0=0$, $y_0=1$ et $T=1$. \n",
    "- Afficher sur le même graphe la solution obtenue pour un pas de temps constant $\\Delta t_n = \\Delta t=2^{-5}$ et la solution théorique. \n",
    "- Tracer la courbe de convergence de $\\max_{0\\leq n \\leq N } |y(t_n) - y_n|$ en fonction du nombre $N$ de pas de temps. Pour cela, prendre $N = 2^i$ avec $i$ entiers allant de 5 à 10. Vérifier qu'elle est en $O(\\Delta t^2)$, c'est à dire que la méthode converge à l'ordre 2."
   ]
  },
  {
   "cell_type": "code",
   "execution_count": null,
   "metadata": {},
   "outputs": [],
   "source": [
    "def f_1(t, x):\n",
    "    return x"
   ]
  },
  {
   "cell_type": "code",
   "execution_count": null,
   "metadata": {},
   "outputs": [],
   "source": [
    "def RK2(f, y0, t):\n",
    "    \"\"\"\n",
    "    Calcule les itérés successifs y_n obtenus avec le schéma RK2\n",
    "    ----------   \n",
    "    parametres:\n",
    "    f       : fonction second membre, dépend de t (en 1e argument) et de x (en 2nd argument)\n",
    "    y_0     : valeur au temps t_0\n",
    "    t       : tableau contenant les temps t_0, t_1, ..., t_N = T\n",
    "    \n",
    "    valeurs de retour:\n",
    "    tab_y  : tableau contenant les valeurs y_n à chaque itération\n",
    "    \"\"\"\n",
    "    \n",
    "    return "
   ]
  },
  {
   "cell_type": "code",
   "execution_count": null,
   "metadata": {},
   "outputs": [],
   "source": [
    "# Tester votre algorithme avec f1 comme second membre et avec les paramètres donnés\n",
    "# Comparer avec la solution exacte\n"
   ]
  },
  {
   "cell_type": "code",
   "execution_count": null,
   "metadata": {},
   "outputs": [],
   "source": [
    "# Tracer la courbe de convergence en fonction de N en échelle loglog\n",
    "# Comparer avec la courbe (Delta t)^2\n"
   ]
  },
  {
   "cell_type": "markdown",
   "metadata": {},
   "source": [
    "### Question 2 : méthode RK4\n",
    "Il existe de nombreuses méthodes de Runge-Kutta d'ordre 4, mais celle qui est communément nommmée RK4 est définie de la façon suivante :\n",
    "\n",
    "$$ y_{n+1} = y_n+\\frac{\\Delta t_n}{6}(k_1+2k_2+2k_3+k_4),$$\n",
    "\n",
    "où\n",
    "\n",
    "$$\\begin{aligned}\n",
    "\t    k_1 & = f(t_n, \\ y_n), \\\\\n",
    "\t    k_2 & = f\\left(t_n+\\frac{\\Delta t_n}{2},\\ y_n+\\frac{\\Delta t_n}{2}k_1\\right), \\\\\n",
    "\t    k_3 & = f\\left(t_n+\\frac{\\Delta t_n}{2},\\ y_n+\\frac{\\Delta t_n}{2}k_2\\right), \\\\\n",
    "\t    k_4 & = f(t_n+\\Delta t_n,\\ y_n+\\Delta t_n k_3).\n",
    "\t\\end{aligned}$$\n",
    ">\n",
    "> Les $k_i$ dépendent de $n$, mais on omet souvent cette dépendance dans les notations pour alléger un peu l'écriture de ces schémas.\n",
    ">   \n",
    "\n",
    "**<font color=black><span style=\"background-color:deepskyblue\">Bonus :</span></font>** Implémenter la méthode RK4, la tester sur le même exemple que pour RK2, et vérifier numériquement que cette méthode est d'ordre 4."
   ]
  },
  {
   "cell_type": "code",
   "execution_count": null,
   "metadata": {},
   "outputs": [],
   "source": [
    "def RK4(f, y0, t):\n",
    "    \"\"\"\n",
    "    Calcule les itérés successifs y_n obtenus avec le schéma RK4\n",
    "    ----------   \n",
    "    parametres:\n",
    "    f       : fonction second membre, dépend de t (en 1e argument) et de x (en 2nd argument)\n",
    "    y_0     : valeur au temps t_0\n",
    "    t       : tableau contenant les temps t_0, t_1, ..., t_N = T\n",
    "    \n",
    "    valeurs de retour:\n",
    "    tab_y  : tableau contenant les valeurs y_n à chaque itération\n",
    "    \"\"\"  \n",
    "    \n",
    "    return"
   ]
  },
  {
   "cell_type": "code",
   "execution_count": null,
   "metadata": {},
   "outputs": [],
   "source": [
    "# Tester numériquement votre algorithme \n",
    "# Comparer avec la solution analytique\n"
   ]
  },
  {
   "cell_type": "code",
   "execution_count": null,
   "metadata": {},
   "outputs": [],
   "source": [
    "# Tracer la courbe de convergence en fonction de N en échelle loglog\n",
    "# Comparer avec la courbe (Delta t)^4\n"
   ]
  },
  {
   "cell_type": "markdown",
   "metadata": {},
   "source": [
    "### Question 3 : méthode du point milieu implicite\n",
    "\n",
    "On considère une méthode RK de la forme suivante\n",
    "\n",
    "$$\\left\\{\n",
    "\\begin{aligned}\n",
    " k_n &= f\\left( t_n + c \\Delta t_n, \\quad{} y_n + a k_n \\Delta t_n\\right) \\qquad{}& (1a)\\\\\n",
    "y_{n+1} &= y_n + b k_n \\Delta t_n, \\qquad{}&(1b)\n",
    "\\end{aligned}\n",
    "\\right. $$\n",
    "\n",
    "où $a, b, c \\in \\mathbb{R}$ sont des constantes.\n",
    "\n",
    "$1$. En supposant $f$ globalement lipschitizienne par rapport à la deuxième variable et $\\Delta t$ suffisamment petit, montrer qu'il existe un unique $k_n$ satisfaisant (1a). \n",
    "\n",
    "$2$. $a$. Écrire le développement limité de $y(t_n + \\Delta t_n)$ jusqu'à l'ordre $O(\\Delta t_n^3)$ en fonction de $f$ et de ses dérivées.\n",
    "\n",
    "$b$. De même, écrire un développement limité de $k_{n}$ faisant apparaitre les mêmes dérivées et ne faisant pas apparaître $k_n$.\n",
    "\n",
    "$c$. Comparer $y(t_n + \\Delta t_n)$ et $y_{n+1}$ et déterminer $a$, $b$ et $c$ tel que la méthode (1) soit d'ordre supérieur ou égale à 2. \n",
    "\n",
    "$3$. On définit $y_{n+\\frac{1}{2}} = y_n + \\frac{\\Delta t_n}{2}k_{n}$. Réécrire le schéma correspondant sans faire apparaitre $k_{n}$ et justifier l'appelation *méthode du point milieu implicite*.\n",
    "\n",
    "$4$. **<font color=black><span style=\"background-color:deepskyblue\">Bonus :</span></font>** Implémenter la méthode du point milieu implicite sur le même cas qu'à la question 1 et vérifier numériquement son ordre. \n",
    "*On utilisera un algorithme de Newton pour la résolution de l'équation non-linéaire comme pour le schéma d'Euler implicite à la PC7.*"
   ]
  },
  {
   "cell_type": "code",
   "execution_count": null,
   "metadata": {},
   "outputs": [],
   "source": [
    "def Newton_scalaire(g, dg, x0, tol=1.e-12, N_max=100):\n",
    "    \"\"\"\n",
    "    Calcule une solution approchée du problème g(x)=0 par la méthode de Newton\n",
    "    ----------   \n",
    "    parametres:\n",
    "    g     : fonction dont on cherche le zero\n",
    "    dg    : fonction dérivée de g\n",
    "    x_0   : valeur initiale de la suite\n",
    "    tol   : on utilise | g(x_n) | < tol comme critère d'arrêt \n",
    "    N_max : nombre maximal d'itérations\n",
    "    \n",
    "    valeurs de retour:\n",
    "    x  : x_n à la dernière itération\n",
    "    \n",
    "    !!! afficher un message d'avertissement si on n'a pas convergé (si on n'a pas | g(x) | < tol) !!!\n",
    "    \"\"\"  \n",
    "    \n",
    "    return "
   ]
  },
  {
   "cell_type": "code",
   "execution_count": null,
   "metadata": {},
   "outputs": [],
   "source": [
    "# Cellule de test pour valider votre fonction Newton_scalaire (voir tests unitaires de la PC5)\n",
    "# ou pour tester scipy.optimize.newton\n"
   ]
  },
  {
   "cell_type": "code",
   "execution_count": null,
   "metadata": {},
   "outputs": [],
   "source": [
    "def pt_milieu_implicite(f, df, y0, t):\n",
    "    \"\"\"\n",
    "    Calcule les itérés successifs y_n obtenus avec le schéma du point milieu implicite\n",
    "    ----------   \n",
    "    parametres:\n",
    "    f       : fonction second membre, dépend de t (en 1e argument) et de x (en 2nd argument)\n",
    "    y_0     : valeur au temps t_0\n",
    "    t       : tableau contenant les temps t_0, t_1, ..., t_N = T\n",
    "    \n",
    "    valeurs de retour:\n",
    "    tab_y  : tableau contenant les valeurs y_n à chaque itération\n",
    "    \"\"\"\n",
    "\n",
    "    # --- Bloc à modifier et à placer dans votre fonction ---\n",
    "    # construire la fonction satisfaite par y_n+1 et sa dérivée à partir de f et df\n",
    "    def g(x):\n",
    "        # fonction dont on cherche le zéro \n",
    "        return\n",
    "    def dg(x):\n",
    "        # dérivée de la fonction dont on cherche le zéro \n",
    "        return \n",
    "    # --- Fin du bloc ---\n",
    "    \n",
    "    return "
   ]
  },
  {
   "cell_type": "code",
   "execution_count": null,
   "metadata": {},
   "outputs": [],
   "source": [
    "# Tester votre algorithme sur f_1\n",
    "def f_1(t, y):\n",
    "    # fonction second membre\n",
    "    return y\n",
    "\n",
    "def df_1(t, y):\n",
    "    # fonction dérivée de f_1 en fonction de y\n",
    "    return \n"
   ]
  },
  {
   "cell_type": "code",
   "execution_count": null,
   "metadata": {},
   "outputs": [],
   "source": [
    "# Tracer la solution numérique obtenue avec le schéma du point milieu implicite\n",
    "# Comparer à la solution exacte \n"
   ]
  },
  {
   "cell_type": "code",
   "execution_count": null,
   "metadata": {},
   "outputs": [],
   "source": [
    "# Tracer la courbe de convergence en fonction de N en échelle loglog\n",
    "# Comparer avec la courbe (Delta t)^2\n"
   ]
  },
  {
   "cell_type": "markdown",
   "metadata": {},
   "source": [
    "### Question 4 : tableaux de Butcher\n",
    ">Considérons maintenant une méthode de Runge-Kutta explicite générale, avec $q \\geq 1$ étapes intermédiaires utilisées pour passer de $y_n$ à $y_{n+1}$. La valeur $y_{n+1}$ est donc calculée de la manière suivante\n",
    ">\n",
    ">$$ y_{n+1} = y_n + \\Delta t_n \\sum_{j=1}^q b_j k_j,$$\n",
    ">\n",
    ">où les $k_i$ sont définis par\n",
    ">\t\n",
    ">$$\\begin{array}{ccl}\n",
    "\tk_1 & = & f\\left(t_n, \\ y_n\\right) \\\\ \n",
    "\tk_2 & = & f\\left(t_n+c_2\\Delta t_n, \\ y_n+\\Delta t_n(a_{21}k_1)\\right)\\\\\n",
    "\tk_3 & = & f\\left(t_n+c_3\\Delta t_n, \\ y_n+\\Delta t_n(a_{31}k_1+a_{32}k_2)\\right)\\\\\n",
    "\t\\vdots & \\vdots & \\vdots \\\\\n",
    "\tk_q & = & f\\left(t_n+c_q\\Delta t_n, \\ y_n+\\Delta t_n(a_{q1}k_1+...+a_{q,q-1}k_{q-1})\\right).\n",
    "\t\\end{array}$$\n",
    ">\n",
    ">La méthode obtenue est donc caractérisée par le nombre d'étapes $q$ et par les coefficients $(a_{ij})_{1 \\leq j<i \\leq q}$, $(b_j)_{j=1,...,q}$ et $(c_i)_{i=2,...,q}$. Toutes ces informations peuvent êtres regroupées dans un tableau de Butcher (nommé après John C. Butcher)\n",
    ">\n",
    ">$$\\begin{array}{c|ccccc}\n",
    "\t0 & 0 & 0& 0& 0& 0 \\\\\n",
    "\tc_2 & a_{21} & 0& 0& 0 & 0\\\\\n",
    "\tc_3 & a_{31} & a_{32} & 0& 0 & 0 \\\\\n",
    "\t\\vdots & \\vdots & & \\ddots &0 & 0   \\\\ \n",
    "\tc_q & a_{q1} & a_{q2} & \\cdots & a_{q,q-1} & 0   \\\\\n",
    "\t\\hline \n",
    "\t& b_1 & b_2 & \\cdots &b_{q-1} & b_q \n",
    "\t\\end{array}$$"
   ]
  },
  {
   "cell_type": "markdown",
   "metadata": {},
   "source": [
    "$1$. Écrire les tableaux de Butcher associées aux méthodes RK2 et RK4 décrites dans les questions précédents."
   ]
  },
  {
   "cell_type": "markdown",
   "metadata": {},
   "source": [
    "$2$. Implémenter une fonction qui prend en argument les tableaux $A = (a_{i,j})_{i,j = 1, \\dots, p}, B = (b_i)_{i=1,\\dots,p}, C = (c_i)_{i=1,\\dots,p}$ décrits ci-haut (notamment $A$ strictement triangulaire inférieur), et qui calcule la solution numérique obtenue par la méthode RK explicite associée aux tableaux. Tester sur le même exemple que ci-dessus, et vérifier que vous obtenez bien le même résultat.\n",
    "\n",
    ">L'implémentation à l'aide des tableaux est un peu plus délicate, mais permet de changer de méthode RK simplement en changeant de tableau."
   ]
  },
  {
   "cell_type": "code",
   "execution_count": null,
   "metadata": {},
   "outputs": [],
   "source": [
    "def RK_Butcher(f, y0, t, A, B, C):\n",
    "    \"\"\"\n",
    "    Calcule les itérés successifs y_n obtenus avec le schéma RK explicite décrit par les coefficients A, B et C\n",
    "    ----------   \n",
    "    parametres:\n",
    "    f       : fonction second membre, dépend de t (en 1e argument) et de x (en 2nd argument)\n",
    "    y_0     : valeur au temps t_0\n",
    "    t       : tableau contenant les temps t_0, t_1, ..., t_N = T\n",
    "    A       : matrice de taille qxq, triangulaire inférieure et de diagonale nulle\n",
    "    B       : vecteur de taille q\n",
    "    C       : vecteur de taille q\n",
    "    \n",
    "    valeurs de retour:\n",
    "    tab_y  : tableau contenant les valeurs y_n à chaque itération\n",
    "    \"\"\"\n",
    "    \n",
    "    return "
   ]
  },
  {
   "cell_type": "code",
   "execution_count": null,
   "metadata": {},
   "outputs": [],
   "source": [
    "# Définir les tableaux de Butcher de RK2 et tester votre algorithme \n",
    "# Comparer avec votre implémentation de RK2 sur la fonction f1\n"
   ]
  },
  {
   "cell_type": "code",
   "execution_count": null,
   "metadata": {},
   "outputs": [],
   "source": [
    "# Définir les tableaux de Butcher de RK4 et tester votre algorithme \n",
    "# Comparer avec votre implémentation de RK4 sur la fonction f1\n"
   ]
  },
  {
   "cell_type": "markdown",
   "metadata": {},
   "source": [
    "$3$. Remarquez que la matrice $A$ du tableau de Butcher ci-haut est strictement triangulaire inférieure. A quelle hypothèse qu'on a faite au départ cette structure est-elle liée?"
   ]
  },
  {
   "cell_type": "markdown",
   "metadata": {},
   "source": [
    "**Réponse :**"
   ]
  },
  {
   "cell_type": "markdown",
   "metadata": {},
   "source": [
    "## Exercice 2 : Un système conservatif\n",
    "\n",
    ">On considère l'oscillateur harmonique\n",
    ">\n",
    ">$$ q''+q=0, $$\n",
    ">\n",
    ">qu'on réécrit comme un système d'ordre 1 à deux variables :\n",
    ">\n",
    ">$$ \\left\\{ \\begin{aligned}\n",
    "q'&=p\\\\\n",
    "p'&=-q.\n",
    "\\end{aligned} \\right. \\qquad{} (2) $$\n",
    ">\n",
    ">*$q$ peut être interprété comme une position, et $p$ comme une vitesse.*\n"
   ]
  },
  {
   "cell_type": "markdown",
   "metadata": {},
   "source": [
    "### Question 1 : Une propriété importante du système continu\n",
    "\n",
    "Montrer que le hamiltonien $\\mathcal{H}(q,p)=\\frac{1}{2}(p^2+q^2)$ (parfois aussi appelé énergie), est conservé au cours du temps pour toute solution de (2)."
   ]
  },
  {
   "cell_type": "markdown",
   "metadata": {},
   "source": [
    "### Question 2 : Schéma d'ordre 1\n",
    "\n",
    "$1$. Ecrire explicitement les relations de récurrence entre $(q_{n+1},p_{n+1})$ et $(q_{n},p_{n})$ définies par les schémas d'Euler explicite et implicite.  En particulier, montrer que le schéma implicite ne nécessite pas la résolution d'une équation non-linéaire pour ce problème. \n",
    "\n",
    "$2$. Calculer explicitement la suite $\\mathcal{H}(q_{n},p_{n})$ en fonction de $n$, $\\Delta t$ et $\\mathcal{H}(q_0,p_0)$ pour les schéma d'Euler explicite et implicite.\n",
    "\n",
    "$3$. **<font color=black><span style=\"background-color:skyblue\">À rendre :</span></font>** \n",
    "\n",
    "$a$. Implémenter les schéma d'Euler explicite et implicite pour le système (2).\n",
    "\n",
    "$b$. Tester avec $\\Delta t_n = \\Delta t = 2^{-5}$, $(q_0,p_0) = (1,0)$ et $T=2^4$ (i.e. $N=2^9$ pas de temps) et tracer $p_n$ et $q_n$ en fonction du temps, ainsi que la solution analytique.\n",
    "\n",
    "$c$. Tracer dans le plan de phase $(q,p)$ la solution obtenue avec les schémas d'Euler explicite, implicite et la solution analytique, c'est-à-dire avec $p$ en abscisse et $q$ en ordonnée.\n",
    "\n",
    "$d$. Tracer l'hamiltonien $\\mathcal{H}(q,p)$ en fonction du temps, pour les deux schémas et pour la solution analytique. \n",
    "\n",
    "$e$. Commenter les valeurs du Hamiltonien et les conséquences sur les courbes $p$ et $q$ en fonction du temps et dans le plan de phase $(q, p)$."
   ]
  },
  {
   "cell_type": "code",
   "execution_count": null,
   "metadata": {},
   "outputs": [],
   "source": [
    "#3)a)\n",
    "def Euler_explicite_oscillateur(q0, p0, dt, N):\n",
    "    \"\"\"\n",
    "    Calcule les itérés successifs y_n obtenus avec le schéma d'Euler explicite sur le problème (2)\n",
    "    ----------   \n",
    "    parametres :\n",
    "    q0, p0 : conditions initiale\n",
    "    dt     : pas de temps \n",
    "    N      : nombre de pas de temps\n",
    "    \n",
    "    valeurs de retour :\n",
    "    (tab_q, tab_p) : tableaux contenant les valeurs de p_n et q_n à chaque itération\n",
    "    \"\"\"\n",
    " \n",
    "    return "
   ]
  },
  {
   "cell_type": "code",
   "execution_count": null,
   "metadata": {},
   "outputs": [],
   "source": [
    "def Euler_implicite_oscillateur(q0, p0, dt, N):\n",
    "    \"\"\"\n",
    "    Calcule les itérés successifs y_n obtenus avec le schéma d'Euler implicite sur le problème (2)\n",
    "    ----------   \n",
    "    parametres :\n",
    "    q0, p0 : conditions initiale\n",
    "    dt     : pas de temps \n",
    "    N      : nombre de pas de temps\n",
    "    \n",
    "    valeurs de retour :\n",
    "    (tab_q, tab_p) : tableaux contenant les valeurs de p_n et q_n à chaque itération\n",
    "    \"\"\"\n",
    "    \n",
    "    return "
   ]
  },
  {
   "cell_type": "code",
   "execution_count": null,
   "metadata": {},
   "outputs": [],
   "source": [
    "#b)\n",
    "# Tester les schémas d'Euler explicite et implicite sur ce cas test avec les paramètres donnés\n"
   ]
  },
  {
   "cell_type": "code",
   "execution_count": null,
   "metadata": {},
   "outputs": [],
   "source": [
    "# Tracer les solutions pn et qn obtenues en fonction du temps t et comparer à la solution exacte \n"
   ]
  },
  {
   "cell_type": "code",
   "execution_count": null,
   "metadata": {},
   "outputs": [],
   "source": [
    "#c)\n",
    "# Tracer les solutions numériques pn et qn et exacte p(tn), q(tn) dans le plan de phase (p,q) \n"
   ]
  },
  {
   "cell_type": "code",
   "execution_count": null,
   "metadata": {},
   "outputs": [],
   "source": [
    "def H(q, p):\n",
    "    # définition du Hamiltonien\n",
    "    return (p**2+q**2)/2"
   ]
  },
  {
   "cell_type": "code",
   "execution_count": null,
   "metadata": {},
   "outputs": [],
   "source": [
    "# Tracer H(pn,qn) pour les solutions numériques et H(p(tn),q(tn)) pour la solution exacte en fonction du temps \n"
   ]
  },
  {
   "cell_type": "markdown",
   "metadata": {},
   "source": [
    "**Réponse :**"
   ]
  },
  {
   "cell_type": "markdown",
   "metadata": {},
   "source": [
    "### Question 3 : Schéma d'ordre 2\n",
    "\n",
    "$1$. Réécrire le schéma RK2 (décrit dans l'exercice précédent) adapté au système (2).\n",
    "\n",
    "$2$. **<font color=black><span style=\"background-color:deepskyblue\">Bonus :</span></font>** \n",
    "\n",
    "$a$. Implémenter le schéma RK2 pour le système (2).\n",
    "\n",
    "$b$. Le tester avec $\\Delta t_n = \\Delta t = 2^{-3}$, $(q_0,p_0) = (1,0)$ et $T=2^8$ (i.e. $N=2^{11}$ pas de temps) et afficher $p_n$, $q_n$ et $\\mathcal{H}(q_n,p_n)$ en fonction du temps ainsi que $(q_n,p_n)$ dans le plan de phase. Afficher à chaque fois également la solution analytique.\n",
    "\n",
    "$c$. Commenter les résultats obtenus."
   ]
  },
  {
   "cell_type": "code",
   "execution_count": null,
   "metadata": {},
   "outputs": [],
   "source": [
    "def RK2_oscillateur(q0, p0, dt, N):\n",
    "    \"\"\"\n",
    "    Calcule les itérés successifs y_n obtenus avec le schéma RK2 sur le problème (2)\n",
    "    ----------   \n",
    "    parametres:\n",
    "    q0, p0 : conditions initiale\n",
    "    dt     : pas de temps \n",
    "    N      : nombre de pas de temps\n",
    "    \n",
    "    valeurs de retour:\n",
    "    (tab_q, tab_p)  : tableaux contenant les valeurs de p_n et q_n à chaque itération\n",
    "    \"\"\"   \n",
    "    \n",
    "    return "
   ]
  },
  {
   "cell_type": "code",
   "execution_count": null,
   "metadata": {},
   "outputs": [],
   "source": [
    "# Tester votre implémentation avec les paramètres donnés\n"
   ]
  },
  {
   "cell_type": "code",
   "execution_count": null,
   "metadata": {},
   "outputs": [],
   "source": [
    "# Tracer pn et qn en fonction de tn \n"
   ]
  },
  {
   "cell_type": "code",
   "execution_count": null,
   "metadata": {},
   "outputs": [],
   "source": [
    "# Tracer pn et qn dans le plan de phase \n"
   ]
  },
  {
   "cell_type": "code",
   "execution_count": null,
   "metadata": {},
   "outputs": [],
   "source": [
    "# Tracer H(pn,qn) en fonction de tn \n"
   ]
  },
  {
   "cell_type": "markdown",
   "metadata": {},
   "source": [
    "**Réponse :**"
   ]
  },
  {
   "cell_type": "markdown",
   "metadata": {},
   "source": [
    "### Question 4 : Schéma symplectique\n",
    "\n",
    "On considère maintenant le schéma suivant\n",
    "\n",
    "$$ \\left\\{ \\begin{aligned}\n",
    "    q_{n+1} &= q_n +\\frac{\\Delta t}{2}(p_n+p_{n+1}),\\\\\n",
    "    p_{n+1} &= p_n -\\frac{\\Delta t}{2}(q_n+q_{n+1}).\n",
    "  \\end{aligned} \\right. \\qquad{} (3)$$\n",
    "\n",
    ">Dans le cadre général des équations de la forme $y'=f(t,y)$, ce schéma s'écrit\n",
    ">\n",
    ">$$y_{n+1} = y_n + \\Delta t f\\left(t_n+\\frac{\\Delta t}{2},\\ \\frac{y_n+y_{n+1}}{2}\\right). \\qquad{} (4)$$\n",
    ">\n",
    ">Il est parfois également appelé méthode du point milieu implicite, mais on remarquera que ce n'est pas le même schéma que celui introduit à la question 2 de l'exercice 1! Le schéma (4) n'est pas un schéma de type Runge-Kutta.\n",
    "\n",
    "$1$. Montrer que l'on peut obtenir une formulation explicite du schéma (3), c'est-à-dire écrire $q_{n+1}$ et $p_{n+1}$ comme une fonction de $q_n$ et de $p_n$\n",
    "\n",
    "$$ (q_{n+1},p_{n+1}) = \\phi_{\\Delta t}(q_n,p_n). $$\n",
    "\n",
    "Expliciter la fonction $\\phi_{\\Delta t}$."
   ]
  },
  {
   "cell_type": "markdown",
   "metadata": {},
   "source": [
    "$2$. **<font color=black><span style=\"background-color:deepskyblue\">Bonus :</span></font>** \n",
    "\n",
    "$a$. Implémenter le schéma (3). *On utilisera la formule explicite $\\phi_{\\Delta t}$ obtenue à la question précédente.*\n",
    "\n",
    "$b$. Tester avec à nouveau $\\Delta t_n = \\Delta t = 2^{-3}$, $(q_0,p_0) = (1,0)$ et $T=2^8$ (i.e. $N=2^{11}$ pas de temps) et afficher $p_n$, $q_n$ et $\\mathcal{H}(q_n,p_n)$ en fonction du temps ainsi que $(q_n,p_n)$ dans le plan de phase. Afficher à chaque fois également la solution analytique.\n",
    "\n",
    "$c$. On fixe maintenant $T=2^4$. Etudier numériquement l'ordre du schéma (3), en traçant $\\max_{0\\leq n \\leq N } ||(q_n,p_n) -(q(t_n),p(t_n))||_{\\infty}$ en fonction du nombre $N$ de pas de temps (i.e. avec $\\Delta t=T/N$), et vérifier ce shcéma est également d'ordre 2. On prendre $N = 2^i$ pour $i$ entiers allant de 5 à 10.\n",
    "\n",
    "$d$. Commenter l'ensemble des résultats obtenus et compararer les avantages et inconvénients du schéma symplectique par rapport aux schemas précédents. "
   ]
  },
  {
   "cell_type": "code",
   "execution_count": null,
   "metadata": {},
   "outputs": [],
   "source": [
    "def symplectique_oscillateur(q0, p0, dt, N):\n",
    "    \"\"\"\n",
    "    Calcule les itérés successifs y_n obtenus avec le schéma (3) sur le problème (2)\n",
    "    ----------   \n",
    "    parametres:\n",
    "    q0, p0 : conditions initiale\n",
    "    dt     : pas de temps \n",
    "    N      : nombre de pas de temps\n",
    "    \n",
    "    valeurs de retour:\n",
    "    (tab_q, tab_p) : tableaux contenant les valeurs de p_n et q_n à chaque itération\n",
    "    \"\"\"\n",
    "    \n",
    "    return "
   ]
  },
  {
   "cell_type": "code",
   "execution_count": null,
   "metadata": {
    "scrolled": true
   },
   "outputs": [],
   "source": [
    "# Tester votre implémentation avec les paramètres donnés\n"
   ]
  },
  {
   "cell_type": "code",
   "execution_count": null,
   "metadata": {},
   "outputs": [],
   "source": [
    "# Tracer les solutions numériques obtenues en fonction de tn et comparer à p(tn) et q(tn) exactes\n"
   ]
  },
  {
   "cell_type": "code",
   "execution_count": null,
   "metadata": {},
   "outputs": [],
   "source": [
    "# Tracer H(pn,qn) en fonction de tn et comparer à H(p(tn),q(tn)) exacte et dans le plan de phase\n"
   ]
  },
  {
   "cell_type": "code",
   "execution_count": null,
   "metadata": {},
   "outputs": [],
   "source": [
    "# Tracer la courbe d'erreur en fonction de N en échelle loglog\n"
   ]
  },
  {
   "cell_type": "markdown",
   "metadata": {},
   "source": [
    "**Réponse :**"
   ]
  },
  {
   "cell_type": "markdown",
   "metadata": {},
   "source": [
    "$3$. Calculer explicitement $\\mathcal{H}(q_{n},p_{n})$ en fonction de $n$, $\\Delta t$ et $\\mathcal{H}(q_0,p_0)$ pour ce schéma, et vérifier la cohérence avec les résultats numériques obtenus à la question précédente.\n",
    "\n",
    ">On peut vérifier que le schéma (4) est sympleptique, c'est-à-dire qu'il vérifie\n",
    ">\n",
    ">$${}^T D\\phi_{\\Delta t}(q,p) \\, J \\,  D\\phi_{\\Delta t}(q,p) = J, \\quad \\text{ où } \\quad\n",
    "  J = \\begin{pmatrix}\n",
    "    0 & -1 \\\\\n",
    "    1 &  0\n",
    "  \\end{pmatrix}.$$\n",
    ">\n",
    ">On peut montrer qu'un schéma symplectique appliqué à un système hamiltonien canonique conserve toujours une certaine quantité $\\tilde {\\mathcal{H}}_{\\Delta t} (q_{n+1},p_{n+1})=\\tilde {\\mathcal{H}}_{\\Delta t} (q_{n},p_{n})$. Généralement, on n'a pas exactement $\\tilde {\\mathcal{H}}_{\\Delta t} = \\mathcal{H}$, mais seulement $\\tilde {\\mathcal{H}}_{\\Delta t} \\underset{\\Delta t\\to 0}{\\longrightarrow} \\mathcal{H}$."
   ]
  }
 ],
 "metadata": {
  "kernelspec": {
   "display_name": "Python 3 (ipykernel)",
   "language": "python",
   "name": "python3"
  },
  "language_info": {
   "codemirror_mode": {
    "name": "ipython",
    "version": 3
   },
   "file_extension": ".py",
   "mimetype": "text/x-python",
   "name": "python",
   "nbconvert_exporter": "python",
   "pygments_lexer": "ipython3",
   "version": "3.9.12"
  },
  "latex_envs": {
   "LaTeX_envs_menu_present": true,
   "autoclose": false,
   "autocomplete": false,
   "bibliofile": "biblio.bib",
   "cite_by": "apalike",
   "current_citInitial": 1,
   "eqLabelWithNumbers": true,
   "eqNumInitial": 1,
   "hotkeys": {
    "equation": "Ctrl-E",
    "itemize": "Ctrl-I"
   },
   "labels_anchors": false,
   "latex_user_defs": false,
   "report_style_numbering": false,
   "user_envs_cfg": false
  },
  "toc": {
   "base_numbering": 1,
   "nav_menu": {},
   "number_sections": false,
   "sideBar": true,
   "skip_h1_title": false,
   "title_cell": "Table of Contents",
   "title_sidebar": "Contents",
   "toc_cell": false,
   "toc_position": {},
   "toc_section_display": true,
   "toc_window_display": false
  }
 },
 "nbformat": 4,
 "nbformat_minor": 4
}
