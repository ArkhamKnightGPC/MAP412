{
 "cells": [
  {
   "cell_type": "markdown",
   "metadata": {},
   "source": [
    "# PC 1 : Représentation des nombres en machine"
   ]
  },
  {
   "cell_type": "markdown",
   "metadata": {},
   "source": [
    "**Chargement des modules python :**"
   ]
  },
  {
   "cell_type": "code",
   "execution_count": 5,
   "metadata": {},
   "outputs": [],
   "source": [
    "# Ce package permet de travailler avec  diverses representations en virgule flottante\n",
    "# et une arithmetique d'intervalle\n",
    "# utilise a l'exercice 5\n",
    "from mpmath import mp, iv\n",
    "\n",
    "# Ce package permet de faire des sorties graphiques\n",
    "# utilise a l'exercice 5\n",
    "from matplotlib import pyplot as plt\n",
    "\n",
    "# Ce package permet de travailler efficacement avec des tableaux\n",
    "# utilise a l'exercice 5 \n",
    "import numpy as np"
   ]
  },
  {
   "cell_type": "markdown",
   "metadata": {},
   "source": [
    "## Exercice 1 : Représentation des  nombres en machine "
   ]
  },
  {
   "cell_type": "markdown",
   "metadata": {},
   "source": [
    "> Considérons une représentation en virgule flottante de nombres normalisés en binaire ([1,2])\n",
    ">\n",
    "> $$\n",
    "\\begin{aligned}\n",
    "x &= (-1)^\\sigma \\times (1,b_1 b_2 \\dots b_p)_2 \\times 2^{E-B_*(E_*)}, \\qquad{}  (1)\\\\ \n",
    "E &= (e_1 e_2 \\dots e_{E_*})_2, \\qquad{} B_*(E_*) = 2^{E_*-1}-1,\n",
    "\\end{aligned} \n",
    "$$\n",
    ">\n",
    "> où $p$ la taille de la mantisse et $E_*$ de l'exposant sont des entiers positifs données et les chiffres $\\sigma$,  $b_i$ et $e_i$ sont $0$ ou $1$ (on travaille en binaire). \n",
    ">  \n",
    ">La fonction $fl(x)$ désigne l'arrondi d'un nombre $x$ obtenu dans la représentation (1) en troncant la mantisse à $p$ chiffres significatifs."
   ]
  },
  {
   "cell_type": "markdown",
   "metadata": {},
   "source": [
    "### Question 1\n",
    "\n",
    "Supposons $p = 52$ et $E_* = 11$. Combien de nombres différents peuvent être représentés? Quel est le plus grand nombre positif $M_{p,E_*}$ et plus petit nombre positif $m_{p,E_*}$ ?"
   ]
  },
  {
   "cell_type": "markdown",
   "metadata": {},
   "source": [
    "<div class=\"alert alert-block alert-info\">\n",
    "$2^{1 + p + E_*} = 2^{64}$\n",
    "\n",
    "**Le plus petit nombre positif**\n",
    "\n",
    "On a $\\sigma = 0$, $b_1=b_2=...=b_p=0$ et $e_1=e_2=...=e_{E_*}=0$.\n",
    "\n",
    "Donc, $m_{p, E_*} = (-1)^0 \\cdot (1,0...0)_2 \\cdot 2^{0 - b_*} = 2^{-b_*}$\n",
    "\n",
    "**Le plus grand nombre positif**\n",
    "\n",
    "On a $\\sigma  = 0$, $b_1=b_2=...=b_p=1$ et $e_1=e_2=...=e_{E_*}=1$\n",
    "\n",
    "$M_{p, E_*} = (-1)^0 \\cdot (1,1...1)_2 \\cdot 2^{(11..1)_2 - b_*} = (2 - 2^{-p}) \\cdot (2^{12 - b_*} - 1) $\n",
    "</div>"
   ]
  },
  {
   "cell_type": "markdown",
   "metadata": {},
   "source": [
    "> Il existe plusieurs définitions de l'erreur machine $\\epsilon_M$ pour une représentation  de la forme (1) (avec $p$ et $E_*$ fixés). On donnera une définition formelle et une pratique. La première définition $\\epsilon_M^f$, formelle, est donnée par le plus petit nombre de la forme (1) plus grand que le sup de l'erreur relative entre $x$ et son approximation $fl(x)$, i.e. \n",
    ">\n",
    "> $$ e_r(x) = \\left|\\frac{x-fl(x)}{x}\\right|, \\qquad{} s = \\sup\\limits_{x \\in [m_{p,E_*}, M_{p,E_*}]} e_r(x), \\qquad\\epsilon_M^f := \\inf_{fl(y) \\ge s} fl(y).$$\n",
    ">\n",
    ">La seconde définition $\\epsilon_M^p$, plus pratique, est le plus petit nombre tel que $1+\\epsilon_M^p$ soit différent de 1 dans la représentation (1), ce qui se réécrit \n",
    ">\n",
    ">$$\\epsilon_M^p := \\inf_{fl(1+x)>1} x.$$"
   ]
  },
  {
   "cell_type": "markdown",
   "metadata": {},
   "source": [
    "### Question 2\n",
    "\n",
    "Évaluer $\\epsilon_M^f$ et $\\epsilon_M^p$ dans le cas de la question précédente et montrer qu'ils ne sont pas égaux. Comparer les."
   ]
  },
  {
   "cell_type": "markdown",
   "metadata": {},
   "source": [
    "<div class=\"alert alert-block alert-info\">\n",
    "    \n",
    "**définition formelle**\n",
    "\n",
    "On admet la répresentation suivante $\\forall x \\in \\mathbb{R}^*$\n",
    "\n",
    "$\\quad x = (-1)^\\sigma \\cdot (1,b_1...b_pb_{p+1}...)_2 \\cdot 2^E$\n",
    "\n",
    "Alors $\\texttt{fl}(x) = (-1)^\\sigma \\cdot (1,b_1...b_p)_2 \\cdot 2^E \\implies x - \\texttt{fl}(x) = (-1)^\\sigma \\cdot (1,0...0b_{p+1}...)_2 \\cdot 2^E$\n",
    "\n",
    "$e_r(x) = \\left| \\frac{x - \\texttt{fl}(x)}{x} \\right| = \\frac{(0,0...0b_{p+1}...)_2}{(1,b_0...b_pb_{p+1}...)_2}$\n",
    "\n",
    "Soit $\\delta = (0,0...0b_{p+1}...)_2$ et $m = (1,b_0...b_p)_2$. On a $e_r(x) = \\frac{\\delta}{m + \\delta} = \\frac{1}{\\frac{m}{\\delta} + 1}$, on remarque que cette fonction est croissante en $\\delta$ et décroissant en $m$.\n",
    "\n",
    "Pour le sup, on a $m = 1$ et $\\delta = (0,0...0\\bar{1})_2 = 2^{-p}$. Alors $s = \\frac{2^{-p}}{1 + 2^{-p}}$.\n",
    "    \n",
    "<b> nombre plus petit répresentable $\\geq s$ </b>\n",
    "\n",
    "$2^{-p} > s$, mais on peut faire mieux. On remarque que $ s < (-1)^0 \\cdot (1,1...1)_2 \\cdot 2^{-(p+1)} = (2 - 2^{-p}) \\cdot 2^{-(p+1)} < 2^{-p}$ \n",
    "\n",
    "Donc $\\epsilon_M^f = (2 - 2^{-p}) \\cdot 2^{-(p+1)}$\n",
    "\n",
    "**définition pratique**\n",
    "\n",
    "$\\epsilon_M^p = m_{p,E_*} = 2^{-p}$\n",
    "\n",
    "On remarque que $\\epsilon_M^f < \\epsilon_M^p$.\n",
    "\n",
    "</div>"
   ]
  },
  {
   "cell_type": "markdown",
   "metadata": {},
   "source": [
    "### Question 3\n",
    "Montrer que pour $p$ et $E_*$ donnés, la représentation (1) d'un nombre $x \\neq 0$ est unique. "
   ]
  },
  {
   "cell_type": "markdown",
   "metadata": {},
   "source": [
    "<div class=\"alert alert-block alert-info\">\n",
    "\n",
    "Supposons que $\\exists x \\in \\mathbb{R}^*$ avec deux répresentations différentes.\n",
    "\n",
    "$\n",
    "\\begin{align}\n",
    " x &= (-1)^\\sigma \\cdot (1,b_1...b_p)_2 \\cdot 2^E \\\\\n",
    "    &= (-1)^\\mu \\cdot (1,c_1...c_p)_2 \\cdot 2^F\n",
    "\\end{align}\n",
    "$\n",
    "    \n",
    "On remarque que $\\sigma = \\mu$.\n",
    "    \n",
    "Si $E > F$, alors $(1,0...0)_2 \\cdot 2^E > (1,1...1)_2 \\cdot 2^F$ car $2^{E - F} > 2^0 = 1 > 1 - 2^{-p}$. Donc, $E=F$.\n",
    "    \n",
    "Donc $\\forall 1 \\leq i \\leq p$, $b_i = c_i$ par l'unicité des entiers en base 2.\n",
    "    \n",
    "</div>"
   ]
  },
  {
   "cell_type": "markdown",
   "metadata": {},
   "source": [
    "### Question 4 \n",
    "Donner un critère pour qu'un nombre $x$ n'ait pas de représentation (1) quelles que soient les tailles $p$ de la mantisse et $E_*$ de l'exposant. \n",
    "  Montrer que le nombre $(0.1)_{10}$ en base 10 n'a pas de représentation exacte en base 2 quelles que soient $p<\\infty$ et $E_*<\\infty$. \n",
    "  "
   ]
  },
  {
   "cell_type": "markdown",
   "metadata": {},
   "source": [
    "<div class=\"alert alert-block alert-info\">\n",
    "Il faut ne pas avoir une infinité de $1$ ni une infinité de $0$ suivit par $1$.\n",
    "\n",
    "La représentation de $(0,1)_{10}$ est cyclique $\\frac{1}{10} = (0,0\\overline{0011})_2$ donc on a une infinité de $1 \\implies$ pas de représentation exacte.\n",
    "    \n",
    "</div>"
   ]
  },
  {
   "cell_type": "markdown",
   "metadata": {},
   "source": [
    "## Exercice 2 : Erreur d'arrondi"
   ]
  },
  {
   "cell_type": "markdown",
   "metadata": {},
   "source": [
    "Dans cet exercice le but est d'observer en théorie et en pratique la possible perte de précision lors de la soustraction de deux nombres proches en machine. "
   ]
  },
  {
   "cell_type": "markdown",
   "metadata": {},
   "source": [
    "**<big> I) PARTIE PRATIQUE </big>**\n",
    "    \n",
    "### Question 1\n",
    "\n",
    "$1$. Utiliser les cellules suivantes pour évaluer la fonction :\n",
    "\n",
    "$$f(x,y) = 9 x^4  - y^4 + 2 y^2$$\n",
    "\n",
    "pour $x=40545$ et $y=70226$ avec différentes précisions."
   ]
  },
  {
   "cell_type": "code",
   "execution_count": 6,
   "metadata": {},
   "outputs": [],
   "source": [
    "def f(x,y):\n",
    "    \"\"\" Definition de la fonction f \"\"\"\n",
    "    return 9*x**4-y**4+2*y**2"
   ]
  },
  {
   "cell_type": "markdown",
   "metadata": {},
   "source": [
    "**Simple précision**"
   ]
  },
  {
   "cell_type": "code",
   "execution_count": 7,
   "metadata": {},
   "outputs": [
    {
     "name": "stdout",
     "output_type": "stream",
     "text": [
      "Evaluation de la fonction pour le type flottant avec une mantisse de 24 bits\n",
      "f(x,y) =  9.86338e+9\n"
     ]
    }
   ],
   "source": [
    "# mp.prec correspond a la taille de la mantisse (en bits) utilisee par les flottants,\n",
    "# incluant le bit de poids fort.\n",
    "\n",
    "# Une mantisee de 24 (23 + 1) bits correspond à la norme ieee 32 (\"single precision\")\n",
    "mp.prec = 24\n",
    "\n",
    "# mp.mpf permet de definir des flottants dont la mantisse est de taille mp.prec bits\n",
    "# (potentiellement differente de celle par defaut)\n",
    "x = mp.mpf('40545')\n",
    "y = mp.mpf('70226')\n",
    "\n",
    "print(f\"Evaluation de la fonction pour le type flottant avec une mantisse de {mp.prec} bits\")\n",
    "print(f\"f(x,y) = \", f(x,y))"
   ]
  },
  {
   "cell_type": "markdown",
   "metadata": {},
   "source": [
    "**Double précision**\n",
    "\n",
    "Il s'agit de la précision par défaut des nombres flottants en Python."
   ]
  },
  {
   "cell_type": "code",
   "execution_count": 8,
   "metadata": {},
   "outputs": [
    {
     "name": "stdout",
     "output_type": "stream",
     "text": [
      "Evaluation de la fonction pour le type float\n",
      "f(x,y) =  1160.0\n"
     ]
    }
   ],
   "source": [
    "# Cette formulation (avec un . a la fin) est celle par défaut pour les réels,\n",
    "# c'est à dire des flottants en norme ieee 64 (\"double precision\")\n",
    "x = 40545.\n",
    "y = 70226.\n",
    "\n",
    "print(f\"Evaluation de la fonction pour le type {type(x).__name__}\")\n",
    "print(f\"f(x,y) = \", f(x,y))"
   ]
  },
  {
   "cell_type": "code",
   "execution_count": 9,
   "metadata": {},
   "outputs": [
    {
     "name": "stdout",
     "output_type": "stream",
     "text": [
      "Evaluation de la fonction pour le type flottant avec une mantisse de 53 bits\n",
      "f(x,y) =  1160.0\n"
     ]
    }
   ],
   "source": [
    "# Une mantisee de 53 (52 + 1) bits correspond à la norme ieee 64 (\"double precision\")\n",
    "mp.prec = 53\n",
    "x = mp.mpf('40545')\n",
    "y = mp.mpf('70226')\n",
    "\n",
    "print(f\"Evaluation de la fonction pour le type flottant avec une mantisse de {mp.prec} bits\")\n",
    "print(f\"f(x,y) = \", f(x,y))"
   ]
  },
  {
   "cell_type": "markdown",
   "metadata": {},
   "source": [
    "**Entier**"
   ]
  },
  {
   "cell_type": "code",
   "execution_count": 10,
   "metadata": {},
   "outputs": [
    {
     "name": "stdout",
     "output_type": "stream",
     "text": [
      "Evaluation de la fonction pour pour le type int\n",
      "f(x,y) =  1\n"
     ]
    }
   ],
   "source": [
    "# Cette formulation (sans . a la fin) est celle par défaut pour les entiers\n",
    "x = 40545\n",
    "y = 70226\n",
    "\n",
    "print(f\"Evaluation de la fonction pour pour le type {type(x).__name__}\")\n",
    "print(f\"f(x,y) = \", f(x,y))"
   ]
  },
  {
   "cell_type": "markdown",
   "metadata": {},
   "source": [
    "**Quadruple précision**"
   ]
  },
  {
   "cell_type": "code",
   "execution_count": 11,
   "metadata": {},
   "outputs": [
    {
     "name": "stdout",
     "output_type": "stream",
     "text": [
      "Evaluation de la fonction pour le type flottant avec une mantisse de 113 bits\n",
      "f(x,y) =  1.0\n"
     ]
    }
   ],
   "source": [
    "# Une mantisee de 113 (112 + 1) bits correspond à la norme ieee 128 (\"quadruple precision\")\n",
    "mp.prec = 113\n",
    "x = mp.mpf('40545')\n",
    "y = mp.mpf('70226')\n",
    "\n",
    "print(f\"Evaluation de la fonction pour le type flottant avec une mantisse de {mp.prec} bits\")\n",
    "print(f\"f(x,y) = \", f(x,y))"
   ]
  },
  {
   "cell_type": "markdown",
   "metadata": {},
   "source": [
    "**Précision arbitraire**"
   ]
  },
  {
   "cell_type": "code",
   "execution_count": 12,
   "metadata": {},
   "outputs": [
    {
     "name": "stdout",
     "output_type": "stream",
     "text": [
      "Evaluation de la fonction pour le type flottant avec une mantisse de 65 bits\n",
      "f(x,y) = 1.0\n"
     ]
    }
   ],
   "source": [
    "# Vous pouvez changer la valeur de mp.prec ci-dessous (et donc la taille de la mantisse)\n",
    "mp.prec = 65\n",
    "x = mp.mpf('40545')\n",
    "y = mp.mpf('70226')\n",
    "\n",
    "print(f\"Evaluation de la fonction pour le type flottant avec une mantisse de {mp.prec} bits\")\n",
    "print(f\"f(x,y) = {f(x,y)}\")"
   ]
  },
  {
   "cell_type": "markdown",
   "metadata": {},
   "source": [
    "$2$. Quelle est la valeur exacte ? Expliquer les différences observées entre les résultats obtenus avec les différents types. Quelle opération est la source des erreurs observées?\n"
   ]
  },
  {
   "cell_type": "markdown",
   "metadata": {},
   "source": [
    "<div class=\"alert alert-block alert-info\">\n",
    "    \n",
    "La valeur exacte c'est $1$. \n",
    "    \n",
    "Le calcul le plus précise c'est avec des entiers (c'est exacte).\n",
    "\n",
    "La source des erreurs c'est la substraction, à cause de la taille finie de la mantisse on perde de la précision.\n",
    "</div>"
   ]
  },
  {
   "cell_type": "markdown",
   "metadata": {},
   "source": [
    "### Question 2\n",
    "\n",
    "Trouvez une écriture équivalente de l'expression $f(x,y)$ pour que son évaluation avec les différents types précédents renvoie des résultats similaires (à une erreur inférieur à $10^{-6}$ près). "
   ]
  },
  {
   "cell_type": "code",
   "execution_count": 26,
   "metadata": {},
   "outputs": [],
   "source": [
    "def f2(x,y):\n",
    "    \"\"\" Definition de la fonction f avec une autre formulation \"\"\"\n",
    "    return (3*x**2 - y**2)*(3*x**2 + y**2) + 2*y**2"
   ]
  },
  {
   "cell_type": "code",
   "execution_count": 27,
   "metadata": {},
   "outputs": [
    {
     "name": "stdout",
     "output_type": "stream",
     "text": [
      "Evaluation de la fonction pour le type flottant avec une mantisse de 24 bits\n",
      "f(x,y) =  5.05992e+12\n",
      "Evaluation de la fonction pour le type flottant avec une mantisse de 53 bits\n",
      "f(x,y) =  1.0\n",
      "Evaluation de la fonction pour le type flottant avec une mantisse de 113 bits\n",
      "f(x,y) =  1.0\n",
      "Evaluation de la fonction pour pour le type int\n",
      "f(x,y) =  1\n"
     ]
    }
   ],
   "source": [
    "# Cette precision mp.prec (taille de la mantisse en bits) correspond à la norme ieee 32\n",
    "mp.prec = 24\n",
    "x = mp.mpf('40545')\n",
    "y = mp.mpf('70226')\n",
    "print(f\"Evaluation de la fonction pour le type flottant avec une mantisse de {mp.prec} bits\")\n",
    "print(f\"f(x,y) = \", f2(x,y))\n",
    "\n",
    "# Cette precision mp.prec (taille de la mantisse en bits) correspond à la norme ieee 64\n",
    "mp.prec = 53\n",
    "x = mp.mpf('40545')\n",
    "y = mp.mpf('70226')\n",
    "print(f\"Evaluation de la fonction pour le type flottant avec une mantisse de {mp.prec} bits\")\n",
    "print(f\"f(x,y) = \", f2(x,y))\n",
    "\n",
    "# Cette precision mp.prec (taille de la mantisse en bits) correspond à la norme ieee 128\n",
    "mp.prec = 113\n",
    "x = mp.mpf('40545')\n",
    "y = mp.mpf('70226')\n",
    "print(f\"Evaluation de la fonction pour le type flottant avec une mantisse de {mp.prec} bits\")\n",
    "print(f\"f(x,y) = \", f2(x,y))\n",
    "\n",
    "# Cette formulation correspond a des entiers\n",
    "x = 40545\n",
    "y = 70226\n",
    "print(f\"Evaluation de la fonction pour pour le type {type(x).__name__}\")\n",
    "print(f\"f(x,y) = \", f2(x,y))"
   ]
  },
  {
   "cell_type": "markdown",
   "metadata": {},
   "source": [
    "<div class=\"alert alert-block alert-info\">\n",
    "Quand on factorise, on fait la substraction avec des nombres moins grands. On remarque qu'on arrive à la bonne réponse avec double précision.\n",
    "</div>"
   ]
  },
  {
   "cell_type": "markdown",
   "metadata": {},
   "source": [
    "### Question 3 \n",
    "\n",
    " De même, proposer et tester sur le notebook une écriture équivalente pour diminuer l'erreur commise pour l'évaluation des expressions ci-dessous :\n",
    "- $g_1(x) = \\sqrt{x^4+4} -2$ autour de $x=0$, \n",
    "- $g_2(x) = \\cos(x)-1$ autour de $x=0$, \n",
    "- les racines du polynôme $x^2 + 10^{8}x + 1$."
   ]
  },
  {
   "cell_type": "code",
   "execution_count": 30,
   "metadata": {},
   "outputs": [
    {
     "name": "stdout",
     "output_type": "stream",
     "text": [
      "Evaluation en 1e-06 de g1 : 4.999999999997498e-25\n",
      "Evaluation en 1e-06 de g2 : -4.999999999999583e-13\n",
      "Evaluation en 1e-06 de g3 : None\n"
     ]
    }
   ],
   "source": [
    "def g1(x):\n",
    "    \"\"\" Definition de la fonction g1 \"\"\"\n",
    "    return (x**4)/(np.sqrt(x**4) + 2)\n",
    "\n",
    "def g2(x):\n",
    "    \"\"\" Definition de la fonction g2 \"\"\"\n",
    "    return -2*np.sin(x/2)**2\n",
    "\n",
    "def g3(x):\n",
    "    \"\"\" Definition de la fonction g3 (valeurs des racines du polynome)s\"\"\"\n",
    "    return \n",
    "\n",
    "x = 1.e-6; f = g1\n",
    "print(f\"Evaluation en {x} de g1 : {f(x)}\")\n",
    "\n",
    "x = 1.e-6; f = g2\n",
    "print(f\"Evaluation en {x} de g2 : {f(x)}\")\n",
    "\n",
    "x = 1.e-6; f = g3\n",
    "print(f\"Evaluation en {x} de g3 : {f(x)}\")"
   ]
  },
  {
   "cell_type": "markdown",
   "metadata": {},
   "source": [
    "<div class=\"alert alert-block alert-info\">\n",
    "$g_1(x) = (\\sqrt{x^4 + 4} - 2) \\cdot \\frac{\\sqrt{x^4 + 4} + 2}{\\sqrt{x^4 + 4} + 2} = \\frac{x^4}{\\sqrt{x^4 + 4} + 2}$\n",
    "\n",
    "$\\cos(\\frac{x}{2} + \\frac{x}{2}) = 1 - 2\\sin^2(\\frac{x}{2}) \\implies g_2(x) = -2\\sin^2(\\frac{x}{2})$\n",
    "\n",
    "Dans les deux cas, on élimine la substraction qui cause des problèmes.\n",
    "</div>"
   ]
  },
  {
   "cell_type": "markdown",
   "metadata": {},
   "source": [
    "**<big> II) PARTIE THÉORIQUE </big>**\n",
    "\n",
    "### Question 4 \n",
    "\n",
    "$1$. Soient $x>y$ deux réels positifs tels que\n",
    "\n",
    "$$ \\frac{fl(x) - fl(y)}{fl(x)} \\le 2^{-m},$$\n",
    "    \n",
    "avec $m \\ge 1$ entier. Montrer que le calcul de la différence $fl(fl(x)-fl(y))$ fait perdre au moins $m$ chiffres significatifs en base $2$: les $m$ dernières valeurs dans la mantisse de $fl(fl(x)-fl(y))$ ne correspondent pas forcément aux valeurs *théoriques* pour $x-y$."
   ]
  },
  {
   "cell_type": "markdown",
   "metadata": {},
   "source": [
    "$2$. De même, si \n",
    "\n",
    "$$ 2^{-n} \\le \\frac{fl(x) - fl(y)}{fl(x)}, $$\n",
    "\n",
    "avec $n \\ge 1$ entier, alors le calcul de la différence $fl(fl(x)-fl(y))$ fait perdre au plus $n$ chiffres significatifs en base $2$.\n",
    "\n",
    "<i>Remarque</i> : Ces résultats se généralisent dans d'autres bases que la base 2."
   ]
  },
  {
   "cell_type": "markdown",
   "metadata": {},
   "source": [
    "### Question 5 \n",
    "\n",
    "Utiliser le point précédent pour donner une borne inférieur sur $|x|$ afin de perdre au plus $m$ chiffres binaires significatifs lors du calcul de $f(x)=\\sqrt{x^2+1}-1$."
   ]
  },
  {
   "cell_type": "markdown",
   "metadata": {},
   "source": [
    "**<big> III) ILLUSTRATION </big>**\n",
    "\n",
    "### Question 6 \n",
    "\n",
    "Définissons la suite : \n",
    "\n",
    "$$\n",
    "\\left\\{\n",
    "\\begin{aligned}\n",
    "u_0 &= \\frac{1}{10} \\\\\n",
    "u_{n+1} &= 11 u_n - 1, \\qquad\\forall~n\\in\\mathbb{N}^*.\n",
    "\\end{aligned}\n",
    "\\right.\n",
    "$$"
   ]
  },
  {
   "cell_type": "markdown",
   "metadata": {},
   "source": [
    "$1$. Donner une formule analytique pour $u_n$ pour tout $n$. "
   ]
  },
  {
   "cell_type": "markdown",
   "metadata": {},
   "source": [
    "$2$. Évaluer les 20 premières valeurs de cette suite en simple (mp.prec=24) et double (mp.prec=53) précision."
   ]
  },
  {
   "cell_type": "code",
   "execution_count": 16,
   "metadata": {},
   "outputs": [
    {
     "name": "stdout",
     "output_type": "stream",
     "text": [
      "en simple précision:\n",
      "   i =  1 --> ui = 0.1\n",
      "   i =  2 --> ui = 0.1\n",
      "   i =  3 --> ui = 0.100003\n",
      "   i =  4 --> ui = 0.100032\n",
      "   i =  5 --> ui = 0.100349\n",
      "   i =  6 --> ui = 0.10384\n",
      "   i =  7 --> ui = 0.142237\n",
      "   i =  8 --> ui = 0.56461\n",
      "   i =  9 --> ui = 5.21071\n",
      "   i = 10 --> ui = 56.3179\n",
      "   i = 11 --> ui = 618.496\n",
      "   i = 12 --> ui = 6802.46\n",
      "   i = 13 --> ui = 74826.1\n",
      "   i = 14 --> ui = 823086.0\n",
      "   i = 15 --> ui = 9.05394e+6\n",
      "   i = 16 --> ui = 9.95934e+7\n",
      "   i = 17 --> ui = 1.09553e+9\n",
      "   i = 18 --> ui = 1.20508e+10\n",
      "   i = 19 --> ui = 1.32559e+11\n",
      "   i = 20 --> ui = 1.45815e+12\n",
      "\n",
      " en double précision:\n",
      "   i =  1 --> ui = 0.1\n",
      "   i =  2 --> ui = 0.100000000000001\n",
      "   i =  3 --> ui = 0.100000000000011\n",
      "   i =  4 --> ui = 0.100000000000118\n",
      "   i =  5 --> ui = 0.1000000000013\n",
      "   i =  6 --> ui = 0.100000000014304\n",
      "   i =  7 --> ui = 0.100000000157346\n",
      "   i =  8 --> ui = 0.100000001730808\n",
      "   i =  9 --> ui = 0.100000019038893\n",
      "   i = 10 --> ui = 0.100000209427825\n",
      "   i = 11 --> ui = 0.100002303706079\n",
      "   i = 12 --> ui = 0.100025340766873\n",
      "   i = 13 --> ui = 0.100278748435598\n",
      "   i = 14 --> ui = 0.103066232791576\n",
      "   i = 15 --> ui = 0.133728560707335\n",
      "   i = 16 --> ui = 0.471014167780683\n",
      "   i = 17 --> ui = 4.18115584558752\n",
      "   i = 18 --> ui = 44.9927143014627\n",
      "   i = 19 --> ui = 493.91985731609\n",
      "   i = 20 --> ui = 5432.11843047698\n"
     ]
    }
   ],
   "source": [
    "# Nombre d'iterations\n",
    "N_loop = 20\n",
    "\n",
    "# On fixe la taille de la mantisse en bits\n",
    "mp.prec = 24\n",
    "# On initialise ui a la valeur 0.1 avec cette precision\n",
    "ui = mp.mpf('0.1')\n",
    "print(\"en simple précision:\")\n",
    "for i in range(1,N_loop+1):\n",
    "    # A chaque iteration, ui est reevalue et sa valeur est donnee a l'ecran\n",
    "    ui = 11.*ui - 1.\n",
    "    print(f\"   i = {i:2d} --> ui = {ui}\")  \n",
    "    \n",
    "    \n",
    "# On fixe la taille de la mantisse en bits\n",
    "mp.prec = 53\n",
    "# On initialise ui a la valeur 0.1 avec cette precision\n",
    "ui = mp.mpf('0.1')\n",
    "print(\"\\n en double précision:\")\n",
    "for i in range(1, N_loop+1):    \n",
    "    # A chaque iteration, ui est reevalue et sa valeur est donnee a l'ecran\n",
    "    ui = 11.*ui - 1.\n",
    "    print(f\"   i = {i:2d} --> ui = {ui}\")  "
   ]
  },
  {
   "cell_type": "markdown",
   "metadata": {},
   "source": [
    "$3$. Expliquer ce phénomène. Quelle précision perd-on à chaque itération?"
   ]
  },
  {
   "cell_type": "markdown",
   "metadata": {},
   "source": [
    "$4$. Il peut paraitre surprenant, voir inquiétant, que quelle que soit la précision le résultat numérique finisse par être radicalement différent de la solution théorique. Etudier le comportement de la suite $(u_n)$ pour $u_0\\neq 1/10$ et tempérer l'observation ci-dessus."
   ]
  },
  {
   "cell_type": "markdown",
   "metadata": {},
   "source": [
    "## Exercice 3 : Stabilité et conditionnement\n",
    "\n",
    "On rappel les définitions suivantes pour l'évaluation du scalaire $\\mathcal{P}(x)$ (a priori non nul).\n",
    "Dans la suite $0<\\epsilon$ est arbitrairement petit.\n",
    "\n",
    "- Le conditionnement du problème d'évaluer $\\mathcal{P}(x)$ est le plus petit scalaire $\\kappa$ d'amplification de l'erreur relative sur le résultat\n",
    "\n",
    "    $$ \\frac{|\\hat{x}_i-x_i|}{|x_i|} \\le \\epsilon \\quad\\text{pour tout $i$} \\quad \\Rightarrow \\quad \\frac{|\\mathcal{P}(\\hat{x})-\\mathcal{P}(x)|}{|\\mathcal{P}(x)|} \\le \\kappa \\epsilon. $$\n",
    "\n",
    "    Un problème est bien conditionné si $\\kappa$ est petit. \n",
    "\n",
    "- Considérant un algorithme $\\hat{\\mathcal{P}}(x)$ qui approche $\\mathcal{P}(x)$, sa constante de stabilité inverse est le plus petit scalaire $C$ d'amplification de l'erreur sur la donnée, i.e.\n",
    "\n",
    "    $$ \\exists \\hat{x}\\quad \\text{satisfaisant} \\quad \\mathcal{P}(\\hat{x}) = \\hat{\\mathcal{P}}(x) \\quad \\text{tel que}\\quad \\frac{|\\hat{x}_i-x_i|}{|x_i|} \\le  C \\epsilon_M \\quad \\text{pour tout $i$}. $$\n",
    "\n",
    "    Un algorithme est stable si $C$ est petit."
   ]
  },
  {
   "cell_type": "markdown",
   "metadata": {},
   "source": [
    "### Question 1\n",
    "\n",
    "Montrer que \n",
    "- $\\hat{f}(x_1,x_2) = fl\\left(fl(x_1) fl(x_2)\\right)$ est stable au sens inverse pour $f(x_1,x_2) = x_1 x_2$\n",
    "- $\\hat{f}(x_1,x_2) = fl\\left(fl(x_1) + fl(x_2)\\right)$ est stable au sens inverse pour $f(x_1,x_2) = x_1 + x_2$\n",
    "- $\\hat{f}(x) = fl\\left(fl(x)+1\\right)$ n'est pas stable au sens inverse pour $f(x)=x+1$\n",
    "- $\\hat{f}(x_1,x_2) = fl\\left(fl(x_1) / fl(x_2)\\right)$ est stable au sens inverse pour $f(x)=x_1/x_2$"
   ]
  },
  {
   "cell_type": "markdown",
   "metadata": {},
   "source": [
    "### Question 2\n",
    "\n",
    "On revient dans cet question sur la fonction $f(x,y) = 9 x^4  - y^4 + 2 y^2$ de l'exercice 2, et en particulier sur son comportement pour $(x,y)=(40545,70226)$."
   ]
  },
  {
   "cell_type": "markdown",
   "metadata": {},
   "source": [
    "$1$. Montrer que $f$ est stable au sens inverse en $(x,y)=(40545,70226)$.\n",
    "\n",
    "*Indications :* on pourra chercher $\\hat{x}$ tel que $f(\\hat{x},y)$ soit égal à la valeur inexacte de $f(x,y)$ obtenue plus haut, et majorer $\\vert \\hat{x} - x\\vert$."
   ]
  },
  {
   "cell_type": "markdown",
   "metadata": {},
   "source": [
    "$2$. Montrer que le conditionnement est très mauvais en $(x,y)=(40545,70226)$, mais qu'il est bon dès qu'on s'éloigne légèrement de ce point. Faire le lien avec les différents comportements des deux formules utilisées pour évaluer $f$ dans l'exercice 2."
   ]
  },
  {
   "cell_type": "markdown",
   "metadata": {},
   "source": [
    "### Question 3 \n",
    "\n",
    "On étudie le problème de calculer $x$ et $y$ tels que \n",
    "\n",
    "$$A \\left(\\begin{array}{c} x \\\\ y \\end{array}\\right) = b$$\n",
    "\n",
    "avec\n",
    "\n",
    "- a) $A = \\left( \\begin{array}{cc} 1+\\alpha & -1 \\\\ 1 & -1 \\end{array}\\right)$ et $b = \\left(\\begin{array}{c} \\alpha \\\\ 0 \\end{array}\\right)$, \n",
    "- b) $A = \\left( \\begin{array}{cc}   \\alpha &  1 \\\\ 1 &  1 \\end{array}\\right)$ et $b = \\left(\\begin{array}{c} 1 \\\\ 2 \\end{array}\\right)$."
   ]
  },
  {
   "cell_type": "markdown",
   "metadata": {},
   "source": [
    "$1$. Calculer les valeurs exactes de $x$ et $y$ en fonction des paramètres dans chaque cas."
   ]
  },
  {
   "cell_type": "markdown",
   "metadata": {},
   "source": [
    "$2$. Proposer une estimation du conditionnement dans le cas a). *On supposera que les nombres $1$, $0$ et $-1$ sont représentables exactement et que les seules erreurs commises sont celles sur $(1+\\alpha)$ dans la matrice et sur $\\alpha$ dans le vecteur, et que ces deux erreurs sont indépendantes.*"
   ]
  },
  {
   "cell_type": "markdown",
   "metadata": {},
   "source": [
    "$3$. Proposer une estimation de conditionnement dans le cas b). *On supposera que les nombres $1$ et $2$ sont représentables exactement et que la seule erreur commise est celle sur $\\alpha$ dans la matrice.*"
   ]
  },
  {
   "cell_type": "markdown",
   "metadata": {},
   "source": [
    "> On verra plus tard une autre notion (beaucoup plus courante) de conditionnement de matrices. Cette notion de conditionnement de matrice est bien obtenue à partir de la notion de conditionnement décrite ici, mais nécessite une étude un peu plus approfondie.  \n",
    "\n",
    "$4$. On utilise désormais l'algorithme d'élimination de Gauss sans pivot pour évaluer la solution $(x,y)$ du problème b). Proposer une estimation de la constante de stabilité inverse. *On remarquera que les nombres $1$ et $2$ sont représentable exactement en machine et seul $\\alpha$ peut être inexacte.*"
   ]
  },
  {
   "cell_type": "markdown",
   "metadata": {},
   "source": [
    "$5$. On utilise désormais l'algorithme d'élimination de Gauss avec pivot (on commence par intervertir les deux lignes) pour évaluer la solution $(x,y)$ du problème b). Proposer une estimation de la constante de stabilité inverse."
   ]
  },
  {
   "cell_type": "markdown",
   "metadata": {},
   "source": [
    "### Question 4 \n",
    "\n",
    "On reviens sur le calcul de $K = \\frac{1}{x(1+x)}$ en $x=10^4$.\n",
    "\n",
    "$1$. Proposer une constante de conditionnement pour ce problème."
   ]
  },
  {
   "cell_type": "markdown",
   "metadata": {},
   "source": [
    "$2$. On évalue $K$ en effectuant les calculs \n",
    "\n",
    "$$ c_1 = 1-x, \\quad c_2 = x \\times c_1, \\quad K = \\frac{1}{c_2}.$$\n",
    "\n",
    "Proposer une constante de stabilité backward pour cet algorithme."
   ]
  },
  {
   "cell_type": "markdown",
   "metadata": {},
   "source": [
    "$3$. On évalue $K$ en effectuant les calculs\n",
    "\n",
    "$$ c_1 = 1-x, \\quad c_2 = \\frac{1}{x}, \\quad c_3 = \\frac{1}{c_1}, \\quad K = c_2-c_3.$$\n",
    "\n",
    "Proposer une constante de stabilité backward pour cet algorithme."
   ]
  },
  {
   "cell_type": "markdown",
   "metadata": {},
   "source": [
    "---"
   ]
  },
  {
   "cell_type": "markdown",
   "metadata": {},
   "source": [
    "## Exercice 4 : Arithmétique d'intervalles"
   ]
  },
  {
   "cell_type": "markdown",
   "metadata": {},
   "source": [
    "L'arithmétique d'intervalles (ou arithmétique par intervalles) est, comme son nom l'indique, une arithmétique sur des intervalles (de flottants) plutôt que sur des flottants.  "
   ]
  },
  {
   "cell_type": "markdown",
   "metadata": {},
   "source": [
    "**Construction de l'arithmétique d'intervalles et premiers exemples**"
   ]
  },
  {
   "cell_type": "markdown",
   "metadata": {},
   "source": [
    "> Habituellement, lorsqu'on fait des calculs sur ordinateur on approche des nombres réels par des nombres flottants, c'est à dire qu'on remplace $x\\in\\mathbb{R}$ par $fl(x)$. Dans cet exercice, les objets de base ne seront pas de simples nombres flottants, mais des intervalles dits *représentables*, c'est à dire de la forme $I = [x^-,x^+]$ où $x^-$ et $x^+$ sont des flottants. Dans ce contexte, on remplace un nombre réel par un intervalle représentable : \n",
    ">\n",
    ">$$ I_x = \\left[\\nabla(x),\\Delta(x)\\right], $$\n",
    ">\n",
    ">qui, par définition des arrondis dirigés vers plus et moins l'infini, contient le nombre réel $x$."
   ]
  },
  {
   "cell_type": "code",
   "execution_count": 17,
   "metadata": {},
   "outputs": [
    {
     "name": "stdout",
     "output_type": "stream",
     "text": [
      "L'intervalle I0x est [0.125, 0.125]\n",
      "L'intervalle I1x est [0.10000000000000000555, 0.10000000000000000555]\n",
      "L'intervalle I2x est [0.099999999999999991673, 0.10000000000000000555]\n",
      "L'intervalle I3x est [0.099999999999999991673, 0.10000000000000000555]\n"
     ]
    }
   ],
   "source": [
    "# Un exemple de définition d'un intervalle représentable, pour approcher 0.1, à l'aide de la commande iv.mpf.\n",
    "# Prendre garde au fait que, si x n'est pas un flottant, iv.mpf(x) construit l'intervalle représentant fl(x). \n",
    "# Afin d'obtenir l'intervalle I_x défini ci-dessus, il faut utiliser iv.mpf('x').\n",
    "\n",
    "I0x = iv.mpf(0.125) # 0.125 = 2^{-4} est exactement représentable en base 2, pas de problème\n",
    "print(\"L'intervalle I0x est\", I0x)\n",
    "\n",
    "I1x = iv.mpf(0.1)   # 0.1 n'est pas exactement représentable en base 2, c'est fl(0.1) qui est utilisé ici\n",
    "print(\"L'intervalle I1x est\", I1x)\n",
    "\n",
    "I2x = iv.mpf(1)/iv.mpf(10) # La bonne manière de définir I_{0.1} pour que l'intervalle contienne bien 0.1\n",
    "print(\"L'intervalle I2x est\", I2x)\n",
    "\n",
    "I3x = iv.mpf('0.1')        # On peut aussi utiliser une chaine de caractères pour obtenir le même résultat\n",
    "print(\"L'intervalle I3x est\", I3x)"
   ]
  },
  {
   "cell_type": "markdown",
   "metadata": {},
   "source": [
    "> Afin de pouvoir faire des calculs avec cette nouvelle représentation, il faut d'abord reconstruire les opérations de bases. On considère deux intervalles représentables $I = [x^-,x^+]$ et $J=[y^-,y^+]$. On définit les opérations $\\oplus$, $\\ominus$, $\\otimes$ et $\\oslash$ entre intervalles représentables de la manière suivante :\n",
    "> - $I \\oplus J$ est le plus petit intervalle représentable tel que, pour tout $x\\in I$ et $y\\in J$, $x+y \\in I \\oplus J$,\n",
    "> - $I \\ominus J$ est le plus petit intervalle représentable tel que, pour tout $x\\in I$ et $y\\in J$, $x-y \\in I \\ominus J$,\n",
    "> - $I \\otimes J$ est le plus petit intervalle représentable tel que, pour tout $x\\in I$ et $y\\in J$, $x\\times y \\in I \\otimes J$, \n",
    "> - $I \\oslash J$ est le plus petit intervalle représentable tel que, pour tout $x\\in I$ et $y\\in J$, $x\\div y \\in I \\oslash J$."
   ]
  },
  {
   "cell_type": "markdown",
   "metadata": {},
   "source": [
    "### Question 1 \n",
    "\n",
    "A l'aide des opérations d'arrondis dirigés vers plus et moins l'infini ($\\Delta$ et $\\nabla$), déterminer les ensembles $I \\oplus J$, $I \\ominus J$, $I \\otimes J$ et $I \\oslash J$ en fonction de $x^-$, $x^+$, $y^-$ et $y^+$. \n",
    "\n",
    "*Indications :* pour la multiplication et la division, on pourra commencer par décomposer tout intervalle comme l'union d'un intervalle positif et d'un négatif (éventuellement vide). \n",
    "\n",
    "*Remarques :* afin de pouvoir gérer les under/overflows et les divisions par $0$, on inclut $\\pm\\infty$ à la listes de valeurs que peuvent prendre les extrémités d'un intervalle représentable. Ainsi, si $x$ et $y$ sont des flottants tels que $x+y$ est plus grand que le plus grand nombre flottant, on défnit $[0,x] \\oplus [0,y] = [0,+\\infty]$. La librairie mpmath permet d'effectuer de telles opérations sur les ensembles représentables."
   ]
  },
  {
   "cell_type": "code",
   "execution_count": 18,
   "metadata": {},
   "outputs": [
    {
     "name": "stdout",
     "output_type": "stream",
     "text": [
      "I   = [-1.0, 1.0]\n",
      "J   = [1.0, 3.0]\n",
      "I+J = [0.0, 4.0]\n",
      "I-J = [-4.0, 0.0]\n",
      "I*J = [-3.0, 3.0]\n",
      "I/J = [-1.0, 1.0]\n"
     ]
    }
   ],
   "source": [
    "# Declaration des intervalles I et J à l'aide de la commande iv.mpf\n",
    "I = iv.mpf([-1, 1])\n",
    "J = iv.mpf([ 1, 3])\n",
    "\n",
    "# Quelques exemples d'opérations élémentaires sur les intervalles\n",
    "print(f\"I   =\", I)\n",
    "print(f\"J   =\", J)\n",
    "print(f\"I+J =\", I+J)\n",
    "print(f\"I-J =\", I-J)\n",
    "print(f\"I*J =\", I*J)\n",
    "print(f\"I/J =\", I/J)"
   ]
  },
  {
   "cell_type": "markdown",
   "metadata": {},
   "source": [
    "### Question 2 \n",
    "\n",
    "- Évaluer avec Python la fonction $h(x) = x^2-x$ en $I = [0,2]$. \n",
    "- Utiliser ensuite les formules équivalentes $h(x) = x(x-1)$, puis $h(x) = \\left(x-\\frac{1}{2}\\right)^2 -\\frac{1}{4}$.\n",
    "- Quelle est l'image de $[0,2]$ par $h$? Commenter par rapport aux intervalles obtenus avec les différentes formules."
   ]
  },
  {
   "cell_type": "code",
   "execution_count": 19,
   "metadata": {},
   "outputs": [
    {
     "name": "stdout",
     "output_type": "stream",
     "text": [
      "I = [0.0, 2.0]\n",
      "1e evaluation de h(I) :  [-2.0, 4.0]\n",
      "2e evaluation de h(I) :  None\n",
      "3e evaluation de h(I) :  None\n"
     ]
    }
   ],
   "source": [
    "I = iv.mpf([0, 2])\n",
    "print(f\"I =\", I)\n",
    "\n",
    "def pol1(x):\n",
    "    \"\"\" 1e definition du polynome \"\"\"\n",
    "    return x**2-x\n",
    "    \n",
    "def pol2(x):\n",
    "    \"\"\" 2e definition du polynome \"\"\"\n",
    "    return \n",
    "    \n",
    "def pol3(x):\n",
    "    \"\"\" 3e definition du polynome \"\"\"\n",
    "    return \n",
    "    \n",
    "print(f\"1e evaluation de h(I) : \", pol1(I))\n",
    "print(f\"2e evaluation de h(I) : \", pol2(I))\n",
    "print(f\"3e evaluation de h(I) : \", pol3(I))"
   ]
  },
  {
   "cell_type": "markdown",
   "metadata": {},
   "source": [
    "> De manière plus générale, étant donnée une fonction $f:\\mathbb{R}\\to\\mathbb{R}$ et un intervalle représentable $I = [x^-,x^+]$, on veut pouvoir calculer un interval représentable, qu'on notera $f(I)$, et qui contient $\\{f(x),\\ x\\in I\\}$. On notera qu'un tel intervalle n'est pas unique, dans la pratique on cherche à ce qu'il soit le plus petit possible."
   ]
  },
  {
   "cell_type": "markdown",
   "metadata": {},
   "source": [
    "### Question 3 \n",
    "\n",
    "Décrire de manière succincte (sans l'implémenter) une procédure permettant de calculer $\\exp(I)$.\n",
    "\n",
    "*Indications :* on pourra commencer par déterminer un encadrement de $\\exp(x)$ pour un flottant négatif $x$, puis pour un flottant $x$ de signe quelconque.\n",
    "\n",
    "*Remarques :* la plupart des librairies dédiées à l'aritmétiques d'intervalles incluent une implémentation de telles procédures pour les fonctions *usuelles* telles que exp, cos, sin, etc. D'autre part, on remarquera que la définition ci-dessus est *compatible* avec la composition : si pour deux fonctions $f$ et $g$ on sait calculer $f(I)$ et $g(I)$ pour tout intervalle représentable $I$, on peut facilement obtenir $(f\\circ g)(I)$ en calculant succesivement $J=g(I)$ qui par définition est un intervalle représentable, puis $(f\\circ g)(I) = f(J)$."
   ]
  },
  {
   "cell_type": "code",
   "execution_count": 20,
   "metadata": {},
   "outputs": [
    {
     "name": "stdout",
     "output_type": "stream",
     "text": [
      "Un interval représentable contenant l'image de [-1,1] par exp : \n",
      " [0.36787944117144227851, 2.7182818284590455349] \n",
      "\n",
      "Un interval représentable contenant l'image de [-1,1] par exp o sin : \n",
      " [0.43107595064559223186, 2.3197768247158534471]\n"
     ]
    }
   ],
   "source": [
    "I = iv.mpf([-1, 1])\n",
    "print(f\"Un interval représentable contenant l'image de [-1,1] par exp : \\n\", iv.exp(I), \"\\n\")\n",
    "print(f\"Un interval représentable contenant l'image de [-1,1] par exp o sin : \\n\", iv.exp(iv.sin(I)))"
   ]
  },
  {
   "cell_type": "markdown",
   "metadata": {},
   "source": [
    "**Application au contrôle de l'erreur du calcul sur flottants**"
   ]
  },
  {
   "cell_type": "markdown",
   "metadata": {},
   "source": [
    "> Des erreurs de troncature sont commises lors de chaque calcul en virgule flottante. Elles sont généralement négligeables, mais pas toujours (voir exercices 2 et 3). L'arithmétique d'intervalles permet d'obtenir des bornes sur ces erreurs. Au lieu de remplacer $x\\in\\mathbb{R}$ par son approximation en virgule flottante $fl(x)$, on le remplace par l'intervalle représentable $I_x = \\left[\\nabla(x),\\Delta(x)\\right]$ qui, par définition des arrondis dirigés vers plus et moins l'infini, contient le nombre réel $x$. Puis, on effectue des opération sur l'intervalle $I$ plutôt que sur $fl(x)$, et les propriétés de l'aritmétique par intervalle nous permettent d'affirmer que l'intervalle final contient la quantité recherchée!"
   ]
  },
  {
   "cell_type": "code",
   "execution_count": 21,
   "metadata": {},
   "outputs": [
    {
     "name": "stdout",
     "output_type": "stream",
     "text": [
      "L'egalite 3*a=0.3 est  False\n",
      "A cause des erreurs d'arrondi, on n'a pas exactement 3a=0.3.\n",
      "\n",
      "L'intervalle 3*Ia =  [0.29999999999999993339, 0.30000000000000004441]\n",
      "Lorsqu'on remplace 0.1 par l'intervalle representable associé Ia et qu'on calcule 3*Ia, \n",
      "on obtient bien un intervalle qui contient 0.3\n"
     ]
    }
   ],
   "source": [
    "# Calcul en flottant : on initialise a \n",
    "a = 0.1\n",
    "# on test si 3*a = 0.3 (ici \"a==b\" renvoie le booleen True si a=b ou False sinon)\n",
    "print(f\"L'egalite 3*a=0.3 est \",3*a==0.3)\n",
    "print(f\"A cause des erreurs d'arrondi, on n'a pas exactement 3a=0.3.\\n\")\n",
    "\n",
    "# Calcul avec des intervalles : on initialise Ia \n",
    "Ia = iv.mpf('0.1')\n",
    "print(f\"L'intervalle 3*Ia = \",3*Ia)\n",
    "print(f\"Lorsqu'on remplace 0.1 par l'intervalle representable associé Ia et qu'on calcule 3*Ia, \\n\\\n",
    "on obtient bien un intervalle qui contient 0.3\")"
   ]
  },
  {
   "cell_type": "markdown",
   "metadata": {},
   "source": [
    "### Question 4 \n",
    "\n",
    "Évaluer avec Python la fonction de l'exercice 2 \n",
    "\n",
    "$$f(x,y) = 9 x^4  - y^4 + 2 y^2$$ \n",
    "\n",
    "toujours pour $x=40545$ et $y=70226$, avec les deux formulations introduites dans l'exercice 2, mais en remplacant $(x,y)$ par $(I_x,I_y)$. Commentez les différents résultats obtenus."
   ]
  },
  {
   "cell_type": "code",
   "execution_count": 22,
   "metadata": {},
   "outputs": [],
   "source": [
    "# initialisation de x, y et des intervalles Ix et Iy associes\n",
    "x = 40545.\n",
    "y = 70226.\n",
    "Ix = iv.mpf(x)\n",
    "Iy = iv.mpf(y)"
   ]
  },
  {
   "cell_type": "markdown",
   "metadata": {},
   "source": [
    "**Un exemple simple de preuve assistée par ordinateur utilisant l'arithmétique d'intervalles**"
   ]
  },
  {
   "cell_type": "markdown",
   "metadata": {},
   "source": [
    "On considère la fonction $g:\\mathbb{R}\\to\\mathbb{R}$ définie par \n",
    "\n",
    "$$ g(x) = \\exp(\\sin(20x)) + x^4 +\\frac{x}{1+x^2} -\\frac{4}{100}. $$\n",
    "\n",
    "On chercher à démontrer l'affirmation suivante : $g(x)>0$ pour tout $x\\in\\mathbb{R}$."
   ]
  },
  {
   "cell_type": "markdown",
   "metadata": {},
   "source": [
    "### Question 5 \n",
    "Tracer $g$ sur $[-2,2]$.\n"
   ]
  },
  {
   "cell_type": "code",
   "execution_count": 23,
   "metadata": {},
   "outputs": [
    {
     "data": {
      "image/png": "[encoded data removed]",
      "text/plain": [
       "<Figure size 432x288 with 1 Axes>"
      ]
     },
     "metadata": {
      "needs_background": "light"
     },
     "output_type": "display_data"
    }
   ],
   "source": [
    "def g(x):\n",
    "    \"\"\" Definition de la fonction g \"\"\"\n",
    "    return np.exp(np.sin(20*x)) + x**4 + x/(1.+x**2) - 4./100.\n",
    "\n",
    "# creation des donnees pour la sortie graphique\n",
    "grid   = np.linspace(-2,2,1000)\n",
    "values = g(grid) \n",
    "\n",
    "# sortie graphique :\n",
    "# creation d'une figure\n",
    "fig = plt.figure()\n",
    "# trace la figure reliant les points dont les abscisses sont stockees dans grid et les ordonnees dans values\n",
    "plt.plot(grid, values)\n",
    "# nom de l'axe des abscisses\n",
    "plt.xlabel('x')\n",
    "# nom de l'axe des ordonnees\n",
    "plt.ylabel('g(x)')\n",
    "# trace une grille reguliere sur la figure\n",
    "plt.grid()\n",
    "# montre a l'ecran cette figure\n",
    "plt.show(fig)"
   ]
  },
  {
   "cell_type": "markdown",
   "metadata": {},
   "source": [
    "### Question 6"
   ]
  },
  {
   "cell_type": "markdown",
   "metadata": {},
   "source": [
    "$1$. Déterminer explicitement un flottant $M>1$ tel que $g(x)>0$ pour tout $\\vert x\\vert >M$.\n",
    "\n",
    "*Indications :* on pourra commencer par minorer $\\exp(\\sin(20x))$ et $\\frac{x}{1+x^2}$."
   ]
  },
  {
   "cell_type": "markdown",
   "metadata": {},
   "source": [
    "$2$. Obtenir un encadrement de $g$ sur $[-M,M]$ en utilisant l'arithmétique d'intervalle. Peut-on directement conclure? "
   ]
  },
  {
   "cell_type": "code",
   "execution_count": 24,
   "metadata": {},
   "outputs": [],
   "source": [
    "def ig(x):\n",
    "    \"\"\" Definition de la fonction g utilisant les fonctions de bases sur les intervalles \"\"\"\n",
    "    return iv.exp(iv.sin(20*x)) + x**4 + x/(1.+x**2) - 4./100."
   ]
  },
  {
   "cell_type": "code",
   "execution_count": 25,
   "metadata": {},
   "outputs": [
    {
     "name": "stdout",
     "output_type": "stream",
     "text": [
      "[0.95999999999999996447, 0.9600000000000000755]\n"
     ]
    }
   ],
   "source": [
    "M = 0 #à modifier\n",
    "I = iv.mpf([-M,M])\n",
    "print(ig(I))"
   ]
  },
  {
   "cell_type": "markdown",
   "metadata": {},
   "source": [
    "$3$. Découper $[-M,M]$ en plusieurs sous-intervalles, et obtenir un encadrement de $g$ sur chacun d'entre eux en utilisant l'arithmétique d'intervalles. Répéter cette procédure jusqu'à obtenir la preuve que $g$ reste strictement positif sur $[-M,M]$."
   ]
  },
  {
   "cell_type": "markdown",
   "metadata": {},
   "source": [
    "## Références "
   ]
  },
  {
   "cell_type": "markdown",
   "metadata": {},
   "source": [
    "[1] IEEE standard for floating-point arithmetic. IEEE Std 754-2008, pages 1–70, Aug 2008.\n",
    "\n",
    "[2] W. Tucker. Validated numerics. Princeton University Press, Princeton, NJ, 2011. A short introduction to rigorous computations.\n",
    "\n",
    "[3] R. Moore. Interval analysis (Vol. 4). Englewood Cliffs: Prentice-Hall, 1966."
   ]
  }
 ],
 "metadata": {
  "@webio": {
   "lastCommId": null,
   "lastKernelId": null
  },
  "kernelspec": {
   "display_name": "Python 3 (ipykernel)",
   "language": "python",
   "name": "python3"
  },
  "language_info": {
   "codemirror_mode": {
    "name": "ipython",
    "version": 3
   },
   "file_extension": ".py",
   "mimetype": "text/x-python",
   "name": "python",
   "nbconvert_exporter": "python",
   "pygments_lexer": "ipython3",
   "version": "3.9.12"
  },
  "latex_envs": {
   "LaTeX_envs_menu_present": true,
   "autoclose": false,
   "autocomplete": false,
   "bibliofile": "biblio.bib",
   "cite_by": "apalike",
   "current_citInitial": 1,
   "eqLabelWithNumbers": true,
   "eqNumInitial": 1,
   "hotkeys": {
    "equation": "Ctrl-E",
    "itemize": "Ctrl-I"
   },
   "labels_anchors": false,
   "latex_user_defs": false,
   "report_style_numbering": false,
   "user_envs_cfg": false
  },
  "toc": {
   "base_numbering": "0",
   "nav_menu": {},
   "number_sections": false,
   "sideBar": true,
   "skip_h1_title": false,
   "title_cell": "Table of Contents",
   "title_sidebar": "Contents",
   "toc_cell": false,
   "toc_position": {
    "height": "calc(100% - 180px)",
    "left": "10px",
    "top": "150px",
    "width": "165px"
   },
   "toc_section_display": true,
   "toc_window_display": false
  }
 },
 "nbformat": 4,
 "nbformat_minor": 4
}
