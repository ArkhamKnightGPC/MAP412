{
 "cells": [
  {
   "cell_type": "markdown",
   "metadata": {},
   "source": [
    "# PC 5 : Méthodes itératives pour la résolution de systèmes linéaires"
   ]
  },
  {
   "cell_type": "markdown",
   "metadata": {},
   "source": [
    "**<big> Préparation avant la PC :</big>**\n",
    "\n",
    "**Les questions 1 et 2 de l'exercice 1 et 1 à 3 de l'exercice 2 sont à préparer** avant la séance de PC du 28/09.\n",
    "\n",
    "**<big><font color=black><span style=\"background-color:deepskyblue\">Bonus</span></font> après la PC :</big>** \n",
    "**Les exercices 2, 3 et 4 contiennent des parties <font color=black><span style=\"background-color:deepskyblue\"> </span></font> à rendre (en option) avant le 02/10 à 20h00.**"
   ]
  },
  {
   "cell_type": "code",
   "execution_count": 1,
   "metadata": {},
   "outputs": [],
   "source": [
    "# Ce package permet de travailler efficacement avec des tableaux\n",
    "import numpy as np\n",
    "# Ce package propose de fonctions d'aglebre lineaire (inverse, determinant...)\n",
    "import numpy.linalg as lin\n",
    "from scipy.linalg import solve_banded\n",
    "# Ce package permet de travailler avec des matrices creuses\n",
    "import scipy.sparse as sparse\n",
    "# Cette fonction calcule les valeurs propres d'une matrice stockée creuse\n",
    "from scipy.sparse.linalg import eigsh as sparse_eigs\n",
    "\n",
    "# Ce package permet de faire des sorties graphiques\n",
    "from matplotlib import pyplot as plt"
   ]
  },
  {
   "cell_type": "markdown",
   "metadata": {},
   "source": [
    ">**Rappels et notations :**\n",
    ">\n",
    ">- Étant donnée une norme $\\left\\Vert \\cdot \\right\\Vert$ sur $\\mathbb K^n$ ($\\mathbb K = \\mathbb R$ ou $\\mathbb C$), on définit la norme subordonnée associée sur $M_n(\\mathbb{K})$ par\n",
    ">\n",
    ">$$\\left\\Vert A \\right\\Vert = \\sup_{\\substack{x\\in\\mathbb{K}^n \\\\ x\\neq 0}} \\frac{\\left\\Vert Ax \\right\\Vert}{\\left\\Vert x \\right\\Vert} = \\max_{\\substack{x\\in\\mathbb{K}^n \\\\ \\left\\Vert x \\right\\Vert= 1}}\\left\\Vert Ax \\right\\Vert.$$\n",
    ">\n",
    ">- Une norme $\\left\\Vert \\cdot \\right\\Vert$ sur $M_n(\\mathbb K)$ est dite matricielle (ou d'algèbre) si \n",
    ">\n",
    ">$$\\forall A,B \\in M_n(\\mathbb K),\\quad{} \\left\\Vert AB\\right\\Vert \\leq \\left\\Vert A\\right\\Vert \\left\\Vert B\\right\\Vert.$$\n",
    ">\n",
    ">- Les normes subordonnées sont des normes matricielles. Il existe des normes matricielles qui ne sont pas des normes subordonnées, par exemple la norme de Frobenius : $\\left\\Vert A\\right\\Vert_F = \\sqrt{\\mathrm{tr}(A^{*}A)}$.\n",
    ">\n",
    ">- Pour tout matrice $A\\in M_n(\\mathbb{K})$ inversible, on définit son conditionnement, associé à une norme subordonnée $\\left\\Vert \\cdot \\right\\Vert$, par\n",
    ">\n",
    ">$$\\kappa(A) = \\Vert A \\Vert \\Vert A^{-1} \\Vert.$$\n",
    ">\n",
    ">- Soit $A\\in M_n(\\mathbb{K})$, on appelle rayon spectral de $A$ la quantité\n",
    ">\n",
    ">$$\\rho(A)=\\max\\limits_{\\lambda\\in \\text{Sp(A)}} \\vert\\lambda\\vert.$$\n",
    ">\n",
    ">- Si $A$ est une matrice normale ($A^*A = AA^*$), $\\left\\Vert A \\right\\Vert_2 = \\rho(A)$."
   ]
  },
  {
   "cell_type": "markdown",
   "metadata": {},
   "source": [
    "> **Remarque sur la performance avant de commencer :** Dans cette PC, nous allons étudier des méthodes itératives et leur convergence. Dans la pratique, ces méthodes sont surtout intéressantes lorsqu'on a affaire à des matrices creuses, parce qu'elles permettent de tirer pleinement profit de cette caractéristique. Dans les parties \"implémentation\", nous insisterons sur la strucutre creuse et sur les performances des algorithmes dans certaines questions, ce sera alors indiqué de manière explicite. Cependant, dans les autres questions on pourra restreindre la performance des codes pour des raisons pédagogiques (notamment en stockant toutes les itérations de l'algorithme, ou sans exploiter la structure des matrices pour simplifier le code). "
   ]
  },
  {
   "cell_type": "markdown",
   "metadata": {},
   "source": [
    "## Exercice 1 : Autour du rayon spectral\n",
    "\n",
    "Dans tout l'exercice, on considère $A\\in M_n(\\mathbb{C})$."
   ]
  },
  {
   "cell_type": "markdown",
   "metadata": {},
   "source": [
    "### Question 1 \n",
    "\n",
    "Montrer que pour toute norme subordonnée, $\\rho(A)\\leq \\left\\Vert A \\right\\Vert$. Montrer que cette propriété reste vraie pour une norme matricielle quelconque. \n",
    "\n",
    "<blockquote style=\"border: 2px solid #666; padding: 10px; background-color: #ccc;\">Pour le cas d'une norme matricielle quelconque, on pourra considérer une matrice de rang 1 construite à l'aide d'un vecteur propre de $A$.</blockquote>"
   ]
  },
  {
   "cell_type": "markdown",
   "metadata": {},
   "source": [
    "<div class=\"alert alert-block alert-info\">\n",
    "    Soit $v \\in \\mathbb{C}_n^*$ tel que $\\|v\\| = 1$ et $Av = \\lambda v$ où $|\\lambda| = \\rho(A)$. On a\n",
    "    $$ |\\lambda| \\|v\\| = \\| Av \\| \\leq \\|A\\| \\|v\\| \\implies \\rho(A) \\leq \\|A\\|.$$\n",
    "    Alors, soit $\\| \\cdot \\|$ une norme matricielle quelconque. Soit $w \\in \\mathbb{C}_n^*$ et $B = vw \\in M_n(\\mathbb{C})$. On a\n",
    "    $$ AB = \\lambda B \\implies \\|\\lambda B\\| = |\\lambda| \\|B\\| = \\|AB\\| \\leq \\|A\\| \\|B\\| $$\n",
    "    $\\implies \\rho(A) \\leq \\|A\\|$.\n",
    "</div>"
   ]
  },
  {
   "cell_type": "markdown",
   "metadata": {},
   "source": [
    "### Question 2 \n",
    "\n",
    "Montrer que pour tout $\\varepsilon>0$ et toute matrice $A\\in M_n(\\mathbb{C})$, il existe une norme subordonnée telle que $\\left\\Vert A \\right\\Vert \\leq \\rho(A)+\\varepsilon$. \n",
    "\n",
    "<blockquote style=\"border: 2px solid #666; padding: 10px; background-color: #ccc;\">On pourra trigonaliser $A$ dans une base bien choisie.</blockquote>"
   ]
  },
  {
   "cell_type": "markdown",
   "metadata": {},
   "source": [
    "<div class=\"alert alert-block alert-info\">\n",
    "    Soit $Q$ inversible tel que $Q^{-1}AQ = T$ soit triangulaire supérieure et $T_{i,i} = \\lambda_i \\forall i$. $\\\\$\n",
    "    Soit $0 < \\delta << 1$, posons $D_\\delta$ une matrice diagonal tel que $D_{i,i} = \\delta^i$.\n",
    "    Alors $(D_\\delta)^{-1} T D_\\delta = \\begin{pmatrix}\n",
    "\\lambda_1 & \\delta T_{1,2} & \\delta^2 T_{1,3} & \\cdots & \\delta^{n-1} T_{1,n} \\\\\n",
    "0 & \\lambda_2 & \\delta T_{2,3} & \\cdots & \\delta^{n-2} T_{2,n} \\\\\n",
    "\\vdots & \\vdots & \\vdots & \\ddots & \\vdots \\\\\n",
    "0 & 0 & 0 & ... & \\lambda_n\n",
    "\\end{pmatrix} = T_\\delta$. $\\\\$\n",
    "    Donc $\\forall \\epsilon > 0, \\exists \\delta > 0$ tel que \n",
    "    $$ \\|T_\\delta\\|_{\\infty} \\leq \\max_{i} |\\lambda_i| + \\epsilon = \\rho(A) + \\epsilon.$$\n",
    "    Alors, montrons que $\\|T_\\delta\\|_{\\infty}$ est une norme subordonée de $A$.\n",
    "    $$ \\begin{align}\n",
    "    \\|T_\\delta\\|_{\\infty} &= \\max_{x \\not= 0} \\frac{\\|T_\\delta x \\|_{\\infty}}{\\|x\\|_{\\infty}} \\\\\n",
    "    &= \\max_{x \\not= 0} \\frac{\\| (QD_\\delta)^{-1} A (QD_\\delta) x \\|_{\\infty}}{\\|x\\|_{\\infty}} \\\\\n",
    "    &= \\max_{y \\not= 0} \\frac{\\| (QD_\\delta)^{-1} A y \\|_{\\infty}}{\\|(QD_\\delta)^{-1} y\\|_{\\infty}} \\\\\n",
    "    &= \\max_{y \\not= 0} \\frac{N(Ay)}{N(y)} \\quad \\text{où $N(u) = \\|(QD_\\delta)^{-1}u \\|_\\infty$ est une norme sur $\\mathbb{R}^n$}\\\\\n",
    "    &= \\|A\\|_N\n",
    "    \\end{align}$$\n",
    "</div>"
   ]
  },
  {
   "cell_type": "markdown",
   "metadata": {},
   "source": [
    "### Question 3 \n",
    "\n",
    "Montrer que les conditions suivantes sont équivalentes :\n",
    "\n",
    "$1$. $\\lim\\limits_{n\\rightarrow \\infty} A^n=0$,\n",
    "\n",
    "$2$. $\\forall x\\in \\mathbb{C}^n,\\ \\lim\\limits_{n\\rightarrow \\infty} A^nx=0$,\n",
    "\n",
    "$3$. $\\rho(A)<1$,\n",
    "\n",
    "$4$. Il existe une norme subordonnée telle que $\\left\\Vert A \\right\\Vert<1$.\n",
    "\n",
    "*On pourra montrer que $1. \\Rightarrow 2. \\Rightarrow 3. \\Rightarrow 4. \\Rightarrow 1.$*"
   ]
  },
  {
   "cell_type": "markdown",
   "metadata": {},
   "source": [
    "<div class=\"alert alert-block alert-info\">\n",
    "    <h3> $1. \\implies 2.$ </h3>\n",
    "    Si $A^n \\to 0 \\implies \\|A^n\\| \\to 0 \\forall \\|\\cdot\\|$.\n",
    "    Pour $\\|\\cdot\\|$ une norme subordonée, on a $\\|A^n x\\| \\leq \\|A^n\\| \\|x\\| \\to 0 \\quad \\forall x$.\n",
    "    <h3> $2. \\implies 3.$ </h3>\n",
    "    Soit $v \\in \\mathbb{R}_n^*$ tel que $Av = \\lambda v$ où $|\\lambda| = \\rho(A)$. Alors,\n",
    "    $$A^n v \\to 0 \\implies \\lambda^n v \\to 0 \\implies |\\lambda| = \\rho(A) < 1.$$\n",
    "    <h3> $3. \\implies 4.$ </h3>\n",
    "    Si $\\rho(A) < 1$, alors $\\exists \\|\\cdot\\|$ subordonée tel que $\\|A\\| < 1$ par la question 2.\n",
    "    <h3> $4. \\implies 1.$ </h3>\n",
    "    Si $\\|A\\| < 1$, alors $\\|A^n\\| \\leq \\|A\\|^n \\to 0$.\n",
    "</div>"
   ]
  },
  {
   "cell_type": "markdown",
   "metadata": {},
   "source": [
    "### Question 4 \n",
    "\n",
    "Soit $B\\in M_n(\\mathbb{K})$ telle que $I-B$ est inversible, et $c\\in \\mathbb{K}^n$. On considère une méthode itérative de la forme\n",
    "\n",
    "$$ \\left\\{ \\begin{aligned} &x_0 \\in \\mathbb{K}^n\\\\ &x_{k+1} = Bx_k + c \\quad \\forall~k\\in\\mathbb{N}. \\end{aligned}\\right. $$\n",
    "\n",
    "Montrer que la suite $\\left(x_k\\right)$ converge pour tout $x_0\\in\\mathbb{K}$ si et seulement si $\\rho(B)<1$. Dans le cas où $B$ est une matrice normale, montrer que l'erreur en norme $\\left\\Vert \\cdot \\right\\Vert_2$ est majorée par une suite géométrique de rayon $\\rho(B)$. Que peut-on dire de l'erreur dans le cas d'une matrice quelconque ? *On pourra utiliser la question 2.*"
   ]
  },
  {
   "cell_type": "markdown",
   "metadata": {},
   "source": [
    "<div class=\"alert alert-block alert-info\">\n",
    "    Supposons que la suite $(x_k)$ converge. $\\\\$\n",
    "    Si $x_k \\to x^*$, alors $x^* = Bx^* + c \\implies x^* = (I - B)^{-1}c \\implies x^*$ est unique. $\\\\$\n",
    "    Soit $e_k = x_k - x^*$, on a $e_{k+1} = Be_k \\implies e_k = B^k e_0$. $\\\\$\n",
    "    Donc $(x_k)$ converge $\\forall x_0 \\iff e_k \\to 0 \\quad \\forall e_0 \\iff \\rho(B) < 1$. $\\\\$\n",
    "    Alors, $\\forall \\|\\cdot\\|$ subordonée on a $\\|e_k\\| \\leq \\|B\\|^k \\|e_0\\|$. Si B est normale $\\implies \\rho(B) = \\|B\\|_2$. Donc $$ \\|e_k\\| \\leq (\\rho(B))^k \\|e_0\\|_2$$ une suite géométrique de rayon $\\rho(B)$.\n",
    "</div>"
   ]
  },
  {
   "cell_type": "markdown",
   "metadata": {},
   "source": [
    "### Question 5 \n",
    "\n",
    "Montrer que pour toute norme matricielle, $\\rho(A)=\\lim\\limits_{n\\rightarrow \\infty} \\left\\Vert A^n \\right\\Vert^{\\frac{1}{n}}$. \n",
    "\n",
    "<blockquote style=\"border: 2px solid #666; padding: 10px; background-color: #ccc;\">On pourra considérer la matrice $\\frac{1}{\\rho(A)+\\varepsilon}A$.</blockquote>"
   ]
  },
  {
   "cell_type": "markdown",
   "metadata": {},
   "source": [
    "<div class=\"alert alert-block alert-info\">\n",
    "    On a $\\rho(A)^n = \\rho(A^n) < \\|A^n\\| \\implies \\rho(A) \\leq \\|A^n\\|^{\\frac{1}{n}}$. $\\\\$\n",
    "    Alors $\\forall \\epsilon > 0, \\rho\\left(\\frac{1}{\\rho(A) + \\epsilon}A\\right) = \\frac{1}{\\rho(A) + \\epsilon} \\rho(A) < 1 \\implies \\left(\\frac{1}{\\rho(A) + \\epsilon}A\\right)^n \\to 0$.\n",
    "    Donc $\\exists n_0$ tel que $\\forall n \\geq n_0$, \n",
    "    $$\\begin{align}\n",
    "    &\\left\\|\\frac{1}{\\rho(A) + \\epsilon}A\\right\\|^n < 1 \\\\\n",
    "    \\iff &\\|A^n\\| < (\\rho(A) + \\epsilon)^n\\\\\n",
    "    \\iff &\\|A^n\\|^{\\frac{1}{n}} \\leq \\rho(A) + \\epsilon\n",
    "    \\end{align}$$\n",
    "    donc $\\rho(A) \\leq \\|A^n\\|^{\\frac{1}{n}} \\leq \\rho(A) + \\epsilon$.\n",
    "    Par le théorème des gendarmes, $\\rho(A) = \\lim_{n \\to +\\infty} \\|A^n\\|^{\\frac{1}{n}}$.\n",
    "</div>"
   ]
  },
  {
   "cell_type": "markdown",
   "metadata": {},
   "source": [
    "## Exercice 2 : Autour des méthodes stationnaires\n",
    "\n",
    ">Soit $A\\in M_n(\\mathbb{R})$ inversible et $b\\in\\mathbb{R}^n$. On rappelle que, de manière générale, pour résoudre le problème $Ax=b$ de manière itérative on introduit une décomposition \n",
    ">\n",
    ">$$ A=M-N $$\n",
    ">\n",
    ">de $A$, avec $M$ \"plus facile à inverser que $A$\", et on considère la suite $x_k$ donnée par\n",
    ">\n",
    ">$$\\label{methode_it} x_{k+1} = M^{-1}\\left(Nx_k + b\\right). \\qquad{} (1) $$\n",
    ">\n",
    ">La méthode de Jacobi correspond à prendre pour $M$ la diagonale de $A$, et la méthode de Gauss-Seidel à prendre pour $M$ la partie triangulaire inférieure de $A$.  "
   ]
  },
  {
   "cell_type": "markdown",
   "metadata": {},
   "source": [
    "### Question 1 \n",
    "\n",
    "1) Donner une condition nécessaire et suffisante sur $M^{-1}N$ pour que la méthode itérative donnée par (1) converge vers $x=A^{-1}b$ pour toute donnée initiale $x_0\\in\\mathbb{R}$.\n",
    "\n",
    "2) En combien d'itérations converge-t-on si on prend $M=A$ dans (1)?\n",
    "\n",
    "3) Soit $A\\in\\mathbb{R}^{N\\times N}$ triangulaire. Montrer que les algorithmes de Jacobi et de Gauss-Seidel convergent exactement en au plus $N$ itérations sur cette matrice. \n",
    "\n",
    "> **Remarque :** Dans un cadre plus général où la matrice $A$ n'a pas ces propriétés, il est très rare que ces méthodes convergent en un nombre fini d'itération. Aussi, dans la suite, on étudie plutôt son taux de convergence relié au rayon spectral de la matrice d'itération."
   ]
  },
  {
   "cell_type": "markdown",
   "metadata": {},
   "source": [
    "<div class=\"alert alert-block alert-info\">\n",
    "    <h3>1.1</h3>\n",
    "    On veut utiliser le résultat obtenue à la Question 4 de l'exercice 1.\n",
    "    Soit $B = M^{-1}N$. Alors, on veut vérifier que $I-B$ est bien inversible $\\iff M^{-1}(M - N) = M^{-1}A$ est inversible ce qui est vrai.\n",
    "    Alors $(x_k)$ converge $\\iff \\rho(B) < 1$.\n",
    "    <h3>1.2</h3>\n",
    "    Il suffit une itération car $x_1 = A^{-1}(0 + b) = A^{-1}b = x$.\n",
    "    <h3>1.3</h3>\n",
    "    Considérons l'algorithme de Jacobi. $\\\\$\n",
    "    Soit $D = \\mathrm{diag}(A)$, posons $N_J = D - A$ strictement triangulaire et $B_J = M_J^{-1}N_J$ aussi strictement triangulaire $\\implies B_J^{N} = 0$. La matrice d'itération est idempotente. $\\\\$\n",
    "    Alors, considérons l'algorithme de Gauss-Seidel. $\\\\$\n",
    "    Soit $M_{GS} = (m_{i,j})$ tel que $m_{i,j} = a_{i,j} \\mathbb{1}_{i \\leq j}$. Si $A$ est triangulaire inferieur $\\implies M_{GS} = A \\implies $ l'algorithme converge en 1 itération. Si $A$ est triangulaire supérieure $\\implies M_{GS} = \\mathrm{diag}(A)$, équivalent au cas de l'algorithme de Jacobi.\n",
    "</div>"
   ]
  },
  {
   "cell_type": "markdown",
   "metadata": {},
   "source": [
    "### Question 2\n",
    "\n",
    ">On note $B_J$ la matrice $M^{-1}N$ correspondant à la méthode de Jacobi, et $B_{GS}$ la matrice $M^{-1}N$ correspondant à la méthode de Gauss-Seidel. L'objectif de cette question est de démontrer que, si $A$ est tridiagonale\n",
    ">\n",
    ">$$ \\label{GSJ}\\rho(B_{GS}) = \\rho(B_J)^2. \\qquad{} (2)$$"
   ]
  },
  {
   "cell_type": "markdown",
   "metadata": {},
   "source": [
    "1) Soit $A$ une matrice tridiagonale\n",
    "\n",
    "$$\n",
    "A = \\left( \\begin{array}{cccccc}\n",
    "    a_1    & b_1    & 0       &\\dots   & 0 \\\\\n",
    "    c_2    & a_2    & b_2     & \\ddots& \\vdots  \\\\\n",
    "    0      & \\ddots & \\ddots &\\ddots  &0\\\\\n",
    "    \\vdots & \\ddots & \\ddots &\\ddots  & b_{N-1}\\\\\n",
    "    0      & \\dots  &  0   &   c_N  & a_N\n",
    "  \\end{array}\\right).\n",
    "$$\n",
    "\n",
    "Montrer que pour tout $\\lambda\\in\\mathbb{C}^*$,\n",
    "\n",
    "$$\n",
    "\\det \\left( \\begin{array}{cccccc}\n",
    "    a_1   &  \\lambda^{-1} b_1    & 0       &\\dots   & 0 \\\\\n",
    "    \\lambda c_2    & a_2    &  \\lambda^{-1} b_2     & \\ddots& \\vdots  \\\\\n",
    "    0      & \\ddots & \\ddots &\\ddots  &0\\\\\n",
    "    \\vdots & \\ddots & \\ddots &\\ddots  &  \\lambda^{-1} b_{N-1}\\\\\n",
    "    0      & \\dots  &  0   &   \\lambda c_N  & a_N\n",
    "  \\end{array}\\right) = \n",
    "  \\det \\left( \\begin{array}{cccccc}\n",
    "    a_1    & b_1    & 0       &\\dots   & 0 \\\\\n",
    "    c_2    & a_2    & b_2     & \\ddots& \\vdots  \\\\\n",
    "    0      & \\ddots & \\ddots &\\ddots  &0\\\\\n",
    "    \\vdots & \\ddots & \\ddots &\\ddots  & b_{N-1}\\\\\n",
    "    0      & \\dots  &  0   &   c_N  & a_N\n",
    "  \\end{array}\\right).\n",
    "$$"
   ]
  },
  {
   "cell_type": "markdown",
   "metadata": {},
   "source": [
    "<div class=\"alert alert-block alert-info\">\n",
    "    On remarque que\n",
    "    $$ \\left( \\begin{array}{cccccc}\n",
    "    a_1   &  \\lambda^{-1} b_1    & 0       &\\dots   & 0 \\\\\n",
    "    \\lambda c_2    & a_2    &  \\lambda^{-1} b_2     & \\ddots& \\vdots  \\\\\n",
    "    0      & \\ddots & \\ddots &\\ddots  &0\\\\\n",
    "    \\vdots & \\ddots & \\ddots &\\ddots  &  \\lambda^{-1} b_{N-1}\\\\\n",
    "    0      & \\dots  &  0   &   \\lambda c_N  & a_N\n",
    "  \\end{array}\\right) = \\left( \\begin{array}{cccccc}\n",
    "    \\lambda   &  0    & 0       &\\dots   & 0 \\\\\n",
    "    0    & \\lambda^2    &  0     & \\ddots& \\vdots  \\\\\n",
    "    0      & \\ddots & \\ddots &\\ddots  &0\\\\\n",
    "    \\vdots & \\ddots & \\ddots &\\ddots  &  0\\\\\n",
    "    0      & \\dots  &  0   &   0  & \\lambda^N\n",
    "  \\end{array}\\right) \\left( \\begin{array}{cccccc}\n",
    "    a_1   &  b_1    & 0       &\\dots   & 0 \\\\\n",
    "    c_2    & a_2    &  b_2     & \\ddots& \\vdots  \\\\\n",
    "    0      & \\ddots & \\ddots &\\ddots  &0\\\\\n",
    "    \\vdots & \\ddots & \\ddots &\\ddots  &  b_{N-1}\\\\\n",
    "    0      & \\dots  &  0   &   c_N  & a_N\n",
    "  \\end{array}\\right) \\left( \\begin{array}{cccccc}\n",
    "    \\lambda^{-1}   &  0    & 0       &\\dots   & 0 \\\\\n",
    "    0    & \\lambda^{-2}    &  0     & \\ddots& \\vdots  \\\\\n",
    "    0      & \\ddots & \\ddots &\\ddots  &0\\\\\n",
    "    \\vdots & \\ddots & \\ddots &\\ddots  &  0\\\\\n",
    "    0      & \\dots  &  0   &   0  & \\lambda^{-N}\n",
    "  \\end{array}\\right)$$\n",
    "    alors, pour $A$ tridiagonale, on a $\\det(A_\\lambda) = \\lambda^{\\frac{N(N+1)}{2}}\\det(A)\\lambda^{-\\frac{N(N+1)}{2}} = \\det(A)$.\n",
    "</div>"
   ]
  },
  {
   "cell_type": "markdown",
   "metadata": {},
   "source": [
    "2) On note $A=L+D+U$, où $L$ est la partie triangulaire inférieure de $A$ (sans la diagonale), $D$ est la diagonale de $A$ et $U$ est la partie triangulaire supérieure de $A$ (sans la diagonale). Montrer que $\\lambda$ est une valeur propre de $B_J$ si et seulement \n",
    "\n",
    "$$P_J(\\lambda) := \\det \\left(\\lambda D + L + U \\right) = 0,$$\n",
    "\n",
    "et que $\\lambda$ est une valeur propre de $B_{GS}$ si et seulement si\n",
    "\n",
    "$$P_{GS}(\\lambda) := \\det \\left(\\lambda D + \\lambda L + U \\right) = 0. $$"
   ]
  },
  {
   "cell_type": "markdown",
   "metadata": {},
   "source": [
    "<div class=\"alert alert-block alert-info\">\n",
    "    Pour l'algorithme de Jacobi, on a $M_J = D$, $N_J = -L-U \\implies B_J = M_J^{-1}N_J = -D^{-1}(L+U)$. Alors\n",
    "    $$\\begin{align}\n",
    "    &\\det(B_J - \\lambda I) = 0\\\\\n",
    "    \\iff &\\det(-D^{-1}(L+U) - \\lambda I) = 0 \\\\\n",
    "    \\iff &\\det(-D^{-1})\\det(L + U + \\lambda D) = 0 \\\\\n",
    "    \\iff &\\det(L + U + \\lambda D) = 0 \\\\\n",
    "    \\iff &P_J(\\lambda) = 0.\n",
    "    \\end{align}$$\n",
    "    Pour l'algorithme de Gauss-Seidel, on a $M_{GS} = D + L$, $N_J = -U \\implies B_{GS} = M_{GS}^{-1}N_{GS} = -(D+L)^{-1}U$. Alors\n",
    "    $$\\begin{align}\n",
    "    &\\det(B_{GS} - \\lambda I) = 0\\\\\n",
    "    \\iff &\\det(-(D+L)^{-1}U - \\lambda I) = 0 \\\\\n",
    "    \\iff &\\det(-(D+L)^{-1})\\det(U + \\lambda D + \\lambda L) = 0 \\\\\n",
    "    \\iff &\\det(\\lambda L + U + \\lambda D) = 0 \\\\\n",
    "    \\iff &P_{GS}(\\lambda) = 0.\n",
    "    \\end{align}$$\n",
    "</div>"
   ]
  },
  {
   "cell_type": "markdown",
   "metadata": {},
   "source": [
    "3) A l'aide de la question 1), en déduire que \n",
    "\n",
    "$$ P_{GS} (\\lambda^2) = \\lambda^n P_J(\\lambda) \\qquad\\forall~\\lambda\\in\\mathbb{C},$$\n",
    "\n",
    "et démontrer (2)."
   ]
  },
  {
   "cell_type": "markdown",
   "metadata": {},
   "source": [
    "<div class=\"alert alert-block alert-info\">\n",
    "    On remarque que\n",
    "    $$\\begin{align}\n",
    "    P_{GS}(\\lambda^2) &= \\det(\\lambda^2D + \\lambda^2L + U)\\\\\n",
    "    &=\\det(\\lambda^2D + \\lambda L + \\lambda U) \\quad \\text{par la question 1}\\\\\n",
    "    &=\\lambda^n \\det(\\lambda D + L + U)\\\\\n",
    "    &=\\lambda^n P_J(\\lambda).\n",
    "    \\end{align}$$\n",
    "    Alors, soit $\\lambda \\in Sp(B_J) \\iff P_J(\\lambda) = 0 \\iff P_{GS}(\\lambda^2) = 0 \\iff \\lambda^2 \\in Sp(B_{GS})$. $\\\\$\n",
    "    On en conclue $\\rho(B_J)^2 = \\rho(B_GS)$.\n",
    "</div>"
   ]
  },
  {
   "cell_type": "markdown",
   "metadata": {},
   "source": [
    "4) Que peut-on en déduire concernant la convergence des méthodes de Jacobi et Gauss-Seidel, dans le cas où $A$ est tridiagonale?"
   ]
  },
  {
   "cell_type": "markdown",
   "metadata": {},
   "source": [
    "<div class=\"alert alert-block alert-info\">\n",
    "    Une fois que $\\rho(B_J)^2 = \\rho(B_{GS})$, on conclue que la méthode de Gauss-Seidel converge plus vite pour $A$ tridiagonale.\n",
    "</div>"
   ]
  },
  {
   "cell_type": "markdown",
   "metadata": {},
   "source": [
    "### Question 3\n",
    "\n",
    "On considère\n",
    "\n",
    "$$\n",
    "A_1=\\begin{pmatrix}\n",
    "2 & -1 & 1 \\\\ \n",
    "2 & 2 & 2 \\\\\n",
    "-1 & -1 & 2\n",
    "\\end{pmatrix}\n",
    "\\quad{} \\text{et}\\quad{}\n",
    "A_2=\\begin{pmatrix}\n",
    "1 & 2 & -2 \\\\ \n",
    "1 & 1 & 1 \\\\\n",
    "2 & 2 & 1\n",
    "\\end{pmatrix}.\n",
    "$$\n",
    "\n",
    "Calculer dans chaque cas $\\rho(B_{GS})$ et $\\rho(B_J)$. Que peut-on en conclure concernant la convergence des méthodes de Jacobi et Gauss-Seidel dans le cas général?"
   ]
  },
  {
   "cell_type": "code",
   "execution_count": 2,
   "metadata": {},
   "outputs": [
    {
     "name": "stdout",
     "output_type": "stream",
     "text": [
      "rho_J =  1.1180339887498947 rho_GS =  0.5\n",
      "rho_J =  1.076068968593797e-05 rho_GS =  2.0\n"
     ]
    }
   ],
   "source": [
    "A1   = np.array([[2,-1,1],[2,2,2],[-1,-1,2]])\n",
    "L1 = np.array([[0,0,0],[2,0,0],[-1,-1,0]])\n",
    "U1 = np.array([[0,-1,1],[0,0,2],[0,0,0]])\n",
    "D1 = np.array([[2,0,0],[0,2,0],[0,0,2]])\n",
    "\n",
    "def rhoJacobi(L, U, D):\n",
    "    MJ = D\n",
    "    NJ = -L - U\n",
    "    BJ = np.matmul(lin.inv(MJ), NJ)\n",
    "    eigenvalues, eigenvectors = lin.eig(BJ)\n",
    "    rhoJ = np.max(abs(eigenvalues))\n",
    "    return rhoJ\n",
    "\n",
    "def rhoGaussSeidel(L, U, D):\n",
    "    MGS = D + L\n",
    "    NGS = -U\n",
    "    BGS = np.matmul(lin.inv(MGS), NGS)\n",
    "    eigenvalues, eigenvectors = lin.eig(BGS)\n",
    "    rhoGS = np.max(abs(eigenvalues))\n",
    "    return rhoGS\n",
    "\n",
    "print(\"rho_J = \", rhoJacobi(L1, U1, D1), \"rho_GS = \", rhoGaussSeidel(L1, U1, D1))\n",
    "\n",
    "A2   = np.array([[1,2,-2],[1,1,1],[2,2,1]])\n",
    "L2   = np.array([[0,0,0],[1,0,0],[2,2,0]])\n",
    "U2   = np.array([[0,2,-2],[0,0,1],[0,0,0]])\n",
    "D2   = np.array([[1,0,0],[0,1,0],[0,0,1]])\n",
    "\n",
    "print(\"rho_J = \", rhoJacobi(L2, U2, D2), \"rho_GS = \", rhoGaussSeidel(L2, U2, D2))"
   ]
  },
  {
   "cell_type": "markdown",
   "metadata": {},
   "source": [
    "**Réponse :** "
   ]
  },
  {
   "cell_type": "markdown",
   "metadata": {},
   "source": [
    "<div class=\"alert alert-block alert-info\">\n",
    "    À partir de ces deux cas, on suppose que dans le cas général il y a pas un méthode qui est le meilleur. Dans le premier cas Gauss-Seidel converge alors que Jacobi non. Et dans le deuxième cas, Jacobi converge alors que Gauss-Seidel non.\n",
    "</div>"
   ]
  },
  {
   "cell_type": "markdown",
   "metadata": {},
   "source": [
    "### Question 4\n",
    " \n",
    "On se contente ici d'étudier un système linéaire $Ax=b$ de taille $3\\times 3$ \n",
    "\n",
    "$$\n",
    "A=\\begin{pmatrix}\n",
    "3 & 1 & 0 \\\\ \n",
    "1 & 3 & 1 \\\\\n",
    "0 & 1 & 3\n",
    "\\end{pmatrix}\n",
    "\\quad{} \\text{et}\\quad{}\n",
    "b=\\begin{pmatrix}\n",
    "4 \\\\ \n",
    "5 \\\\\n",
    "4\n",
    "\\end{pmatrix}. \\quad{} (3)\n",
    "$$"
   ]
  },
  {
   "cell_type": "markdown",
   "metadata": {},
   "source": [
    "$1$. **<font color=black><span style=\"background-color:deepskyblue\">Bonus :</span></font>** Implémenter et afficher les matrices M_Jacobi, N_Jacobi, M_GS, N_GS, pour les méthodes de Jacobi et de Gauss-Seidel pour ce système. "
   ]
  },
  {
   "cell_type": "code",
   "execution_count": 3,
   "metadata": {},
   "outputs": [
    {
     "name": "stdout",
     "output_type": "stream",
     "text": [
      "M_J  :\n",
      " [[3 0 0]\n",
      " [0 3 0]\n",
      " [0 0 3]] \n",
      "N_J  :\n",
      " [[ 0 -1  0]\n",
      " [-1  0 -1]\n",
      " [ 0 -1  0]] \n",
      "\n",
      "M_GS :\n",
      " [[3 0 0]\n",
      " [1 3 0]\n",
      " [0 1 3]] \n",
      "N_GS :\n",
      " [[ 0 -1  0]\n",
      " [ 0  0 -1]\n",
      " [ 0  0  0]]\n"
     ]
    }
   ],
   "source": [
    "A    = np.array([[3, 1, 0], [1, 3, 1], [0, 1, 3]])\n",
    "L = np.array([[0,0,0],[1,0,0],[0,1,0]])\n",
    "U = np.array([[0,1,0],[0,0,1],[0,0,0]])\n",
    "D = np.array([[3,0,0],[0,3,0],[0,0,3]])\n",
    "\n",
    "MJ = D\n",
    "NJ = -L - U\n",
    "BJ = np.matmul(lin.inv(MJ), NJ)\n",
    "\n",
    "MGS = D + L\n",
    "NGS = -U\n",
    "BGS = np.matmul(lin.inv(MGS), NGS)\n",
    "\n",
    "b    = np.array([4, 5, 4])\n",
    "\n",
    "print(\"M_J  :\\n\", MJ , \"\\nN_J  :\\n\", NJ ,\"\\n\") \n",
    "print(\"M_GS :\\n\", MGS , \"\\nN_GS :\\n\",   NGS   )"
   ]
  },
  {
   "cell_type": "markdown",
   "metadata": {},
   "source": [
    "$2$. **<font color=black><span style=\"background-color:deepskyblue\">Bonus :</span></font>** \n",
    "\n",
    "$a$. Implémenter une fonction *methode_iterative* qui calcule l'approximation de la solution au problème $(M-N)x=b$ par la méthode itérative décrite en (1). On utilisera deux critères d'arrêt, un sur le nombre d'itérations $k\\le N_{\\max}$ et un sur l'erreur $\\|Ax-b\\|_2 \\le Tol$.\n",
    "\n",
    "> **Remarque sur la performance :** Pour simplifier l'implémentation et écrire une seule fonction pour les deux algorithmes de Jacobi et de Gauss-Seidel, on pourra se contenter d'utiliser la fonction *numpy.linalg.solve* pour le calcul de $M^{-1}x$. Ceci va bien sûr dégrader la performance de l'algorithme par rapport à une implémentation qui exploiterait le caractère diagonal ou triangulaire de la matrice $M$, même si cette différence de performance est moindre dans le cas de petites matrices.\n",
    "\n",
    "$b$. Tester votre algorithme sur le système (3) avec les matrices $M$ et $N$ pour les algorithmes de Jacobi et de Gauss-Seidel, avec $x_0 = (1,0,0)^T$, $N_{max} = 10^4$ et $Tol=10^{-10}$. Afficher dans chaque cas la solution $x$ obtenue, ainsi que l'erreur relative $\\|Ax-b\\|_2$."
   ]
  },
  {
   "cell_type": "code",
   "execution_count": 4,
   "metadata": {},
   "outputs": [],
   "source": [
    "def methode_iterative(M, N, b, x0, it_max = 10**4, tol = 10**(-10)):\n",
    "    \"\"\"\n",
    "    Calcule les itérés successifs x_k obtenus par la méthode (1)\n",
    "    ----------   \n",
    "    parametres:\n",
    "    M      : matrice de taille nxn telle que A = M-N\n",
    "    N      : matrice de taille nxn telle que A = M-N\n",
    "    b      : vecteur de taille n (le second membre du système Ax=b qui nous intéresse)\n",
    "    x_0    : vecteur de taille n (la donnée initiale pour (1))\n",
    "    it_max : nombre maximal d'itérations\n",
    "    tol    : on utilise || Ax_k - b || < tol comme critère d'arrêt \n",
    "    \n",
    "    valeurs de retour:\n",
    "    x       : valeur x_k à l'itération finale\n",
    "    tab_err : tableau contenant la norme du résidu || Ax_k - b || à chaque itération\n",
    "    \"\"\"\n",
    "    xk = x0\n",
    "    A = M-N\n",
    "    i = 0\n",
    "    tab_err = np.empty(it_max)\n",
    "    while(lin.norm(np.matmul(A, xk) - b) >= tol and i < it_max):\n",
    "        xk = np.matmul(lin.inv(M), np.matmul(N, xk) + b)\n",
    "        tab_err[i] = lin.norm(np.matmul(A, xk) - b)\n",
    "        i += 1\n",
    "    return xk, tab_err[:i]"
   ]
  },
  {
   "cell_type": "code",
   "execution_count": 5,
   "metadata": {},
   "outputs": [
    {
     "name": "stdout",
     "output_type": "stream",
     "text": [
      "solution Jacobi : [1. 1. 1.]\n",
      "solution GS     : [1. 1. 1.]\n"
     ]
    }
   ],
   "source": [
    "A    = np.array([[3, 1, 0], [1, 3, 1], [0, 1, 3]])\n",
    "b    = np.array([4, 5, 4])\n",
    "x0   = np.array([1,0,0])\n",
    "\n",
    "L = np.array([[0,0,0],[1,0,0],[0,1,0]])\n",
    "U = np.array([[0,1,0],[0,0,1],[0,0,0]])\n",
    "D = np.array([[3,0,0],[0,3,0],[0,0,3]])\n",
    "\n",
    "MJ = D\n",
    "NJ = -L - U\n",
    "\n",
    "MGS = D + L\n",
    "NGS = -U\n",
    "\n",
    "x_J, tab_err_J = methode_iterative(MJ, NJ, b, x0)\n",
    "x_GS, tab_err_GS = methode_iterative(MGS, NGS, b, x0)\n",
    "\n",
    "print(\"solution Jacobi :\", x_J)\n",
    "print(\"solution GS     :\", x_GS)"
   ]
  },
  {
   "cell_type": "markdown",
   "metadata": {},
   "source": [
    "$3$. **<font color=black><span style=\"background-color:deepskyblue\">Bonus :</span></font>** Tracer la norme du résidu $\\|Ax_k-b\\|_2$ en fonction de $k$ en échelle semi-log. Afficher sur le même graphique $\\rho(M^{-1} N)^k$ en fonction de $k$, pour les méthodes de Jacobi et de Gauss-Seidel. Commenter."
   ]
  },
  {
   "cell_type": "code",
   "execution_count": 6,
   "metadata": {
    "scrolled": true
   },
   "outputs": [
    {
     "data": {
      "image/png": "[encoded data removed]",
      "text/plain": [
       "<Figure size 432x288 with 1 Axes>"
      ]
     },
     "metadata": {
      "needs_background": "light"
     },
     "output_type": "display_data"
    }
   ],
   "source": [
    "it_J = len(tab_err_J)#nombre d'iterations\n",
    "it_GS = len(tab_err_GS)\n",
    "\n",
    "rho_J = rhoJacobi(L, U, D)\n",
    "powers_rho_J = np.empty(it_J)\n",
    "for i in range(it_J):\n",
    "    powers_rho_J[i] = rho_J**i\n",
    "\n",
    "rho_GS = rhoGaussSeidel(L, U, D)\n",
    "powers_rho_GS = np.empty(it_GS)\n",
    "for i in range(it_GS):\n",
    "    powers_rho_GS[i] = rho_GS**i\n",
    "\n",
    "iterations_J = np.arange(0, it_J)#axe-x pour le graphique\n",
    "iterations_GS = np.arange(0, it_GS)\n",
    "\n",
    "plt.figure()\n",
    "plt.title(\"Norme du résidu\")\n",
    "plt.scatter(iterations_J,  tab_err_J, label=\"résidu Jacobi\")\n",
    "plt.scatter(iterations_GS,  tab_err_GS, label=\"résidu GS\")\n",
    "plt.scatter(iterations_J, powers_rho_J, label=\"rhoJ^k\")\n",
    "plt.scatter(iterations_GS, powers_rho_GS, label=\"rhoGS^k\")\n",
    "plt.legend()\n",
    "plt.show()"
   ]
  },
  {
   "cell_type": "code",
   "execution_count": 7,
   "metadata": {},
   "outputs": [
    {
     "name": "stdout",
     "output_type": "stream",
     "text": [
      "0.4714045207910316\n",
      "0.2222222222222222\n"
     ]
    }
   ],
   "source": [
    "print(rhoJacobi(L, U, D))\n",
    "print(rhoGaussSeidel(L, U, D))"
   ]
  },
  {
   "cell_type": "markdown",
   "metadata": {},
   "source": [
    "**Réponse :** "
   ]
  },
  {
   "cell_type": "markdown",
   "metadata": {},
   "source": [
    "<div class=\"alert alert-block alert-info\">\n",
    "    Dans ce cas, on observe $\\rho(B_{GS}) < \\rho(B_J)$, donc, la convergence par Gauss-Seidel est plus rapide ce qu'on observe dans le graphique. $\\rho(B_{GS})^k$ décroit plus rapidement et le nombre d'itérations pour Gauss-Seidel est plus petit (la courbe de GS est toujours au-dessous et s'arrète plus tôt).\n",
    "</div>"
   ]
  },
  {
   "cell_type": "markdown",
   "metadata": {},
   "source": [
    "## Exercice 3 : Méthode de gradient à pas fixe\n",
    "\n",
    ">On considère ici $A\\in M_n(\\mathbb{R})$ symétrique définie positive et $b\\in\\mathbb{R}^n$. Afin de résoudre numériquement $Ax=b$, on va chercher à approcher le minimum de la fonction $f:\\mathbb{R}^n\\to \\mathbb{R}$ définie par\n",
    ">\n",
    ">$$ f(x) = \\frac{1}{2} \\langle Ax,x\\rangle - \\langle b,x\\rangle. $$\n",
    ">\n",
    ">Pour ce faire, on considère une méthode de gradient à pas fixe, c'est à dire une suite de la forme\n",
    ">\n",
    ">$$ \\left\\{ \\begin{aligned} &x_0 \\in \\mathbb{R}^n\\\\ &x_{k+1} = x_k - \\alpha \\nabla f(x_k) \\quad{} \\forall~k\\in\\mathbb{N}. \\end{aligned}\\right.  \\quad{} (4)$$"
   ]
  },
  {
   "cell_type": "markdown",
   "metadata": {},
   "source": [
    "### Question 1 \n",
    "\n",
    "Calculer $\\nabla f(x)$ et vérifier que $f$ admet bien un unique minimum qui est atteint en $x^* = A^{-1}b$."
   ]
  },
  {
   "cell_type": "markdown",
   "metadata": {},
   "source": [
    "<div class=\"alert alert-block alert-info\">\n",
    "    $\\nabla f(x) = Ax - b$ et $\\nabla^2 f(x) = A \\implies f(x)$ est strictement convexe. Donc, $f$ admet un unique minimum global là où $\\nabla f(x) = 0$.\n",
    "</div>"
   ]
  },
  {
   "cell_type": "markdown",
   "metadata": {},
   "source": [
    "### Question 2 : Étude de convergence\n",
    "\n",
    "On note $0 < \\lambda_1 \\le \\dots \\le \\lambda_N$ les valeurs propres de $A$."
   ]
  },
  {
   "cell_type": "markdown",
   "metadata": {},
   "source": [
    "$1$. Montrer que la suite $(x_k)_{k\\in\\mathbb{N}}$ converge pour tout $x_0$ si et seulement si $0<\\alpha<\\frac{2}{\\rho(A)}$."
   ]
  },
  {
   "cell_type": "markdown",
   "metadata": {},
   "source": [
    "<div class=\"alert alert-block alert-info\">\n",
    "    Soit $B = I - \\alpha A$, on a $x_{k+1} = x_k - \\alpha(Ax_k - b) = Bx_k + \\alpha b$. $\\\\$\n",
    "    Alors, la suite converge $\\iff \\rho(B) < 1 \\iff |1 - \\alpha \\lambda_i| < 1 \\quad \\forall i$. $\\\\$\n",
    "    On remarque que $\\min_i \\frac{2}{\\lambda_i} = \\frac{2}{\\rho(A)}$. Donc $0 < \\alpha < \\frac{2}{\\lambda_i} \\quad \\forall i \\implies 0 < \\alpha < \\frac{2}{\\rho(A)}$.\n",
    "</div>"
   ]
  },
  {
   "cell_type": "markdown",
   "metadata": {},
   "source": [
    "$2$. Déterminer la valeur de $\\alpha$ qui maximise le taux de convergence en norme 2, et montrer qu'on a alors l'estimation d'erreur suivante :\n",
    "\n",
    "$$\\left\\Vert x_k - x\\right\\Vert_2 \\leq \\left(\\frac{\\kappa_2(A)-1}{\\kappa_2(A)+1}\\right)^k \\left\\Vert x_0 - x\\right\\Vert_2.$$"
   ]
  },
  {
   "cell_type": "markdown",
   "metadata": {},
   "source": [
    "<div class=\"alert alert-block alert-info\">\n",
    "    On veut trouver $\\alpha$ qui minimise $\\rho(B) = \\max\\{1 - \\alpha \\lambda_i\\} \\iff 1 - \\alpha \\lambda_1 = 1 - \\alpha \\lambda_n \\iff \\alpha = \\frac{2}{\\lambda_1 + \\lambda_n}$. $\\\\$\n",
    "    Pour cet $\\alpha$, on a $\\rho(B) = \\frac{\\lambda_n - \\lambda_1}{\\lambda_n + \\lambda_1} = \\frac{\\frac{\\lambda_n}{\\lambda_1} - 1}{\\frac{\\lambda_n}{\\lambda_1} + 1} = \\frac{\\kappa_2(A) - 1}{\\kappa_2(A) + 1}$. $\\\\$\n",
    "    Par la question 4 de l'exercice 1, on a\n",
    "    $$\\left\\Vert x_k - x\\right\\Vert_2 \\leq \\rho(B)^k\\left\\Vert x_0 - x\\right\\Vert_2 = \\left(\\frac{\\kappa_2(A)-1}{\\kappa_2(A)+1}\\right)^k \\left\\Vert x_0 - x\\right\\Vert_2.$$\n",
    "</div>"
   ]
  },
  {
   "cell_type": "markdown",
   "metadata": {},
   "source": [
    "### Question 3 : Implémentation\n",
    "\n",
    ">En pratique, on utilise l’algorithme décrit en (4) avec deux critères d’arrêts : un nombre maximum d’itérations, et une tolérance sur l’erreur (par exemple $\\|A x_k -b\\| \\le Tol$)."
   ]
  },
  {
   "cell_type": "markdown",
   "metadata": {},
   "source": [
    "$1$. **<font color=black><span style=\"background-color:deepskyblue\">Bonus :</span></font>** \n",
    "\n",
    "$a$. Implémenter une fonction qui prend en entrée une matrice $A$, un vecteur $b$, un pas $\\alpha$, une donnée initiale $x_0$, un nombre d'itération maximum $N_{max}$ et un critère de tolérance $Tol$ et qui renvoie les itérés $x_k$ obtenus par la méthode du gradient à pas fixe, ainsi que l'erreur résiduelle $\\Vert Ax_k -b\\Vert$ à chaque itération.\n",
    "\n",
    "> **Remarque sur la performance :** Là encore, stocker toutes les itérations a uniquement pour but d'étudier l'algorithme, mais consomme inutilement beaucoup d'espace mémoire.\n",
    "\n",
    "$b$. Tester votre algorithme sur le système $2\\times 2$ suivant :\n",
    "\n",
    "$$\n",
    "    A = \\begin{pmatrix}\n",
    "    1 & 0 \\\\\n",
    "    0 & 7\n",
    "    \\end{pmatrix},\\qquad{} b=\\begin{pmatrix}\n",
    "    2 \\\\ -1\n",
    "    \\end{pmatrix}. \\quad{} (5)\n",
    "$$\n",
    "\n",
    "Tracer les lignes de niveaux de la fonction $f:x\\mapsto \\frac{1}{2} \\langle Ax,x\\rangle - \\langle b,x\\rangle$ associée dans le plan $(x_1,x_2)$, ainsi que les 10 premiers itérés obtenus. *Utiliser la fonction contour de matplotlib.pyplot.* Commenter les résultats obtenus pour $\\alpha = 0.1$,  $\\alpha = 0.25$ et $\\alpha=0.3$. Pour le pas $\\alpha$ optimal, vérifier également qu'on obtient bien la vitesse de convergence prévue. "
   ]
  },
  {
   "cell_type": "code",
   "execution_count": 8,
   "metadata": {},
   "outputs": [],
   "source": [
    "# Fonction f pour tracer ses lignes de niveau\n",
    "def f(A, b, x1, x2):\n",
    "    \"\"\"\n",
    "    Calcule f(x)=1/2*<Ax,x> - <b,x> dans le cas N=2, pour x=(x1,x2).\n",
    "    Cette implementation permet d'avoir en argument des matrices contenant de nombreuses valeurs de x1 et x2 \n",
    "    (compatible avec meshgrid)\n",
    "    \"\"\"\n",
    "    return 1/2*((A[0,0]*x1+A[0,1]*x2)*x1 + (A[1,0]*x1+A[1,1]*x2)*x2) - b[0]*x1 - b[1]*x2"
   ]
  },
  {
   "cell_type": "code",
   "execution_count": 9,
   "metadata": {},
   "outputs": [],
   "source": [
    "def gradient_pas_fixe(A, b, alpha, x0, it_max = 10**4, tol = 10**(-5)):\n",
    "    \"\"\"\n",
    "    Calcule les itérés successifs x_k obtenus par la méthode du gradient à pas fixe\n",
    "    ----------   \n",
    "    parametres:\n",
    "    A      : matrice symétrique de taille nxn \n",
    "    b      : vecteur de taille n (le second membre du système Ax=b qui nous intéresse)\n",
    "    alpha  : un réel (le \"pas\")\n",
    "    x_0    : vecteur de taille n (la donnée initiale)\n",
    "    it_max : nombre maximal d'itérations\n",
    "    tol    : on utilise || Ax_k - b || < tol comme critère d'arrêt \n",
    "    \n",
    "    valeurs de retour:\n",
    "    tab_x   : tableau contenant les itérations successives x_k obtenues\n",
    "    tab_err : tableau contenant la norme du résidu || Ax_k - b || à chaque itération\n",
    "    \"\"\" \n",
    "    xk = x0\n",
    "    i = 0\n",
    "    \n",
    "    tab_err = np.empty(it_max)\n",
    "    tab_x = np.empty((it_max,2))\n",
    "    \n",
    "    grad_f = np.matmul(A, x0) - b\n",
    "    \n",
    "    while(lin.norm(grad_f) > tol and i < it_max):\n",
    "        xk = xk - alpha*grad_f\n",
    "        \n",
    "        grad_f = np.matmul(A, xk) - b\n",
    "        tab_err[i] = lin.norm(grad_f)\n",
    "        tab_x[i] = xk\n",
    "        \n",
    "        i += 1\n",
    "        \n",
    "    return tab_x[:i], tab_err[:i]"
   ]
  },
  {
   "cell_type": "code",
   "execution_count": 10,
   "metadata": {
    "scrolled": false
   },
   "outputs": [],
   "source": [
    "# grille pour tracer les lignes de niveau de la fonction f\n",
    "nx1    = 1000\n",
    "nx2    = 1000\n",
    "x1     = np.linspace(-0.5, 2.5, nx1)\n",
    "x2     = np.linspace(-1.5, 1.5, nx2)\n",
    "x1, x2 = np.meshgrid(x1, x2)\n",
    "\n",
    "A     = np.array([[1,0],[0,7]])\n",
    "b     = np.array([2,-1])\n",
    "x1_th = 2\n",
    "x2_th = -1/7\n",
    "z     = f(A, b, x1, x2)\n",
    "x0    = np.ones(len(b)) \n",
    "\n",
    "alpha = 0.1\n",
    "tab_x_1, tab_err_1 = gradient_pas_fixe(A, b, alpha, x0)\n",
    "\n",
    "alpha = 0.25\n",
    "tab_x_2, tab_err_2 = gradient_pas_fixe(A, b, alpha, x0)\n",
    "\n",
    "alpha = 0.3\n",
    "tab_x_3, tab_err_3 = gradient_pas_fixe(A, b, alpha, x0, 100)"
   ]
  },
  {
   "cell_type": "code",
   "execution_count": 11,
   "metadata": {},
   "outputs": [
    {
     "data": {
      "image/png": "[encoded data removed]",
      "text/plain": [
       "<Figure size 1152x360 with 3 Axes>"
      ]
     },
     "metadata": {
      "needs_background": "light"
     },
     "output_type": "display_data"
    }
   ],
   "source": [
    "# Figure où les lignes de niveaux de f sont tracées\n",
    "# Tracer les valeurs successives de xk\n",
    "plt.figure(figsize=(16,5))\n",
    "\n",
    "plt.subplot(1,3,1)\n",
    "plt.contour(x1, x2, z)\n",
    "dim0, dim1 = np.hsplit(tab_x_1, 2)\n",
    "plt.scatter(dim0, dim1)\n",
    "\n",
    "plt.title('alpha = 0.1')\n",
    "\n",
    "plt.subplot(1,3,2)\n",
    "plt.contour(x1, x2, z)\n",
    "dim0, dim1 = np.hsplit(tab_x_2, 2)\n",
    "plt.scatter(dim0, dim1)\n",
    "\n",
    "plt.title('alpha = 0.25')\n",
    "\n",
    "plt.subplot(1,3,3)\n",
    "plt.contour(x1, x2, z)\n",
    "dim0, dim1 = np.hsplit(tab_x_3, 2)\n",
    "plt.scatter(dim0, dim1)\n",
    "\n",
    "plt.title('alpha = 0.3')\n",
    "\n",
    "plt.show()"
   ]
  },
  {
   "cell_type": "markdown",
   "metadata": {},
   "source": [
    "**Réponse :**"
   ]
  },
  {
   "cell_type": "markdown",
   "metadata": {},
   "source": [
    "<div class=\"alert alert-block alert-info\">\n",
    "    Comme atendu, on remarque que la méthode converge bien pour $\\alpha$ assez petit, mais à partir d'un certain valeur de $\\alpha$ on observe des problèmes de convergence. Dans ce cas, pour $\\alpha = 0,3$ on remarque que $(x_k)$ a explosé dans la coordonée $y$.\n",
    "</div>"
   ]
  },
  {
   "cell_type": "code",
   "execution_count": 12,
   "metadata": {},
   "outputs": [
    {
     "data": {
      "image/png": "[encoded data removed]",
      "text/plain": [
       "<Figure size 432x288 with 1 Axes>"
      ]
     },
     "metadata": {
      "needs_background": "light"
     },
     "output_type": "display_data"
    }
   ],
   "source": [
    "# Tracer l'erreur en fonction de l'itération\n",
    "plt.figure()\n",
    "it_1 = np.arange(0, len(tab_err_1))\n",
    "plt.scatter(it_1, tab_err_1, label=\"err 0.1\")\n",
    "it_2 = np.arange(0, len(tab_err_2))\n",
    "plt.scatter(it_2, tab_err_2, label=\"err 0.25\")\n",
    "\n",
    "plt.xlabel(\"Itérations\")\n",
    "plt.ylabel(\"Erreur\")\n",
    "plt.legend()\n",
    "plt.show()"
   ]
  },
  {
   "cell_type": "markdown",
   "metadata": {},
   "source": [
    "<div class=\"alert alert-block alert-info\">\n",
    "    On plotte $\\alpha=0,1$ et $\\alpha=0,25$ pour comparer les erreurs. On en conclue que $\\alpha=0,25$ est le pas optimale. $\\\\$\n",
    "    Pour le pas optimale $\\alpha = 0,25$, on remarque que la vitesse de convergence est exponentielle, comme attendu pour la suite $$\\left\\Vert x_k - x\\right\\Vert_2 \\leq \\rho(B)^k\\left\\Vert x_0 - x\\right\\Vert_2 = \\left(\\frac{\\kappa_2(A)-1}{\\kappa_2(A)+1}\\right)^k \\left\\Vert x_0 - x\\right\\Vert_2.$$\n",
    "</div>"
   ]
  },
  {
   "cell_type": "markdown",
   "metadata": {},
   "source": [
    "### Question 4 : Retour sur le Laplacien 1D\n",
    "\n",
    ">On revient dans cette question sur le problème \n",
    ">\n",
    ">$$\n",
    "\\left\\{ \n",
    "\\begin{aligned}\n",
    "&-u''(x)   = x^3        \\quad{} x  \\in ]0,1[ \\\\ \n",
    "& u(0) = 0 = u(1)\n",
    "\\end{aligned}\n",
    "\\right. \\quad{} (6)\n",
    "$$\n",
    ">\n",
    ">et sur le problème discrétisé associé déjà étudié dans la PC précédente :\n",
    ">\n",
    ">$$\n",
    "AU =F \\quad{} \\text{où}\\quad{}  A = \n",
    "    \\begin{pmatrix}\n",
    "      2/h^2    & -1/h^2    & 0       &\\dots   & 0 \\\\\n",
    "      -1/h^2    & 2/h^2    & -1/h^2     & \\ddots& \\vdots  \\\\\n",
    "      0      & \\ddots & \\ddots &\\ddots  &0\\\\\n",
    "      \\vdots & \\ddots & \\ddots &\\ddots  & -1/h^2\\\\\n",
    "      0      & \\dots  &  0   &   -1/h^2  & 2/h^2\n",
    "    \\end{pmatrix},\n",
    "    \\quad{} b = \n",
    "    \\renewcommand{\\arraystretch}{1.2}\n",
    "    \\begin{pmatrix}\n",
    "      x_1^3 \\\\ x_2^3 \\\\ \\vdots \\\\ x_{N-1}^3 \\\\ x_N^3\n",
    "    \\end{pmatrix}, \\quad{} h=\\frac{1}{N+1}, \\qquad{} (7)\n",
    "$$\n",
    ">\n",
    ">où les $x_i=ih$, $i=1,\\ldots, N$, correspondent à une discrétisation du segment $[0,1]$, et les coordonnées $u_i$, de $U$ sont censées approcher les valeurs $u(x_i)$ de la solution de (6).\n",
    ">\n",
    "> **Remarque sur la performance :** Pour travailler sur la matrice du Laplacien, de taille plus grande, on va éviter de surcharger l'algorithme avec des calculs et du stockage non-nécessaire et revenir à une implémentation plus performante adaptée à la matrice du Laplacien. \n",
    "\n",
    "$1$. **<font color=black><span style=\"background-color:deepskyblue\">Bonus :</span></font>** Reprogrammer l'algorithme du gradient à pas fixe comme précedemment, mais sans stocker toutes les itérations intermédiaires. On prendra garde à implementer les produits matrice/vecteur de manière compatible avec le stockage creux (utiliser *A.dot(x)* et pas *np.dot(A,x)*).\n",
    "\n",
    "Utiliser maintenant l’algorithme du gradient à pas fixe pour approcher la solution du système (7), avec N = 63, en utilisant un pas $\\alpha$ optimal obtenu à la question 2 (on pourra utiliser les fonctions de la librairie sparse pour cela) et avec $x_0 = (1,0,\\dots,0)^T$, $N_{\\max} = 10^3$ et $Tol = 10^{-5}$.  Afficher le nombre d'itérations effectuées, et l'erreur résiduelle $\\|Ax^k-b\\|$ obtenue à la dernière itération.\n",
    "\n",
    "*On mettra à profit la structure creuse de $A$, et on construira donc $A$ à l'aide de la fonction scipy.sparse.diags. Afin de déterminer le pas optimal, on pourra utiliser les formules théoriques donnant les valeurs propres de $A$ vues en cours, ou calculer numériquement la plus petite et la plus grande valeur propre de $A$ à l'aide de la fonction scipy.sparse.linalg.eigs (renommé sparse_eigs en en-tête).*"
   ]
  },
  {
   "cell_type": "code",
   "execution_count": 13,
   "metadata": {},
   "outputs": [],
   "source": [
    "def gradient_pas_fixe_creux(A, b, alpha, x0, it_max = 10**3, tol = 10**(-5)):\n",
    "    \"\"\"\n",
    "    Calcule les itérés successifs x_k obtenus par la méthode du gradient à pas fixe\n",
    "    ----------   \n",
    "    parametres:\n",
    "    A      : matrice symétrique de taille nxn \n",
    "    b      : vecteur de taille n (le second membre du système Ax=b qui nous intéresse)\n",
    "    alpha  : un réel (le \"pas\")\n",
    "    x_0    : vecteur de taille n (la donnée initiale)\n",
    "    it_max : nombre maximal d'itérations\n",
    "    tol    : on utilise || Ax_k - b || < tol comme critère d'arrêt \n",
    "    \n",
    "    valeurs de retour:\n",
    "    x       : le dernier itéré x_k obtenue\n",
    "    tab_err : tableau contenant la norme du résidu || Ax_k - b || à chaque itération\n",
    "    \"\"\"\n",
    "    xk = x0\n",
    "    i = 0\n",
    "    \n",
    "    tab_err = np.empty(it_max)\n",
    "    grad_f = A.dot(x0) - b\n",
    "    \n",
    "    while(lin.norm(grad_f) > tol and i < it_max):\n",
    "        xk = xk - alpha*grad_f\n",
    "        \n",
    "        grad_f = A.dot(xk) - b\n",
    "        tab_err[i] = lin.norm(grad_f)\n",
    "        \n",
    "        i += 1\n",
    "    return xk, tab_err[:i]"
   ]
  },
  {
   "cell_type": "code",
   "execution_count": 14,
   "metadata": {},
   "outputs": [],
   "source": [
    "#on utilisera des fonctions faites a la PC4 comme auxiliares\n",
    "def moins_Laplacien_1D_tridiag(N):\n",
    "    \"\"\"\n",
    "    crée la matrice 3xN correspondant à la discrétisation de -\\Delta en 1D, en format tridiagonal\n",
    "    ----------   \n",
    "    parametre:\n",
    "    N   : taille de la matrice\n",
    "    \n",
    "    valeur de retour:\n",
    "    matrice de taille 3xN\n",
    "    \"\"\"\n",
    "    C = np.zeros((3, N))\n",
    "    h = 1.0/(N+1)\n",
    "    for i in range(N):\n",
    "        if(i > 0):\n",
    "            C[0][i] = -1/(h*h) #bi\n",
    "        C[1][i] = 2/(h*h)#ai\n",
    "        if(i+1 < N):\n",
    "            C[2][i] = -1/(h*h)#ci\n",
    "    return C\n",
    "\n",
    "def second_membre_1D(N):\n",
    "    \"\"\"\n",
    "    crée le second membre de taille N en 1D, donne par f_i = f(x_i)\n",
    "    ----------   \n",
    "    parametre:\n",
    "    N   : taille du vecteur\n",
    "    \n",
    "    valeur de retour:\n",
    "    veteur de taille N\n",
    "    \"\"\"\n",
    "    f = np.zeros(N)\n",
    "    h = 1.0/(N+1)\n",
    "    for i in range(N):\n",
    "        xi = (i+1)*h\n",
    "        f[i] = (xi**3)\n",
    "    return f"
   ]
  },
  {
   "cell_type": "code",
   "execution_count": 15,
   "metadata": {
    "scrolled": true
   },
   "outputs": [
    {
     "name": "stdout",
     "output_type": "stream",
     "text": [
      "[ 1.99999074 -0.14285714]\n"
     ]
    }
   ],
   "source": [
    "# Cellule de test (on refait l'exercice précedent avec cette nouvelle méthode)\n",
    "A = sparse.diags([[1,7]], [0], shape=(2,2)).toarray()\n",
    "b = [2, -1]\n",
    "\n",
    "u0 = [1, 1]\n",
    "u, tab_err = gradient_pas_fixe_creux(A, b, 0.1, u0)\n",
    "\n",
    "print(u)"
   ]
  },
  {
   "cell_type": "markdown",
   "metadata": {},
   "source": [
    "<div class=\"alert alert-block alert-info\">\n",
    "    Étant donné la tolerance établit, on remarque que le test est réussi.\n",
    "</div>"
   ]
  },
  {
   "cell_type": "code",
   "execution_count": 16,
   "metadata": {},
   "outputs": [
    {
     "data": {
      "image/png": "[encoded data removed]",
      "text/plain": [
       "<Figure size 432x288 with 1 Axes>"
      ]
     },
     "metadata": {
      "needs_background": "light"
     },
     "output_type": "display_data"
    },
    {
     "name": "stdout",
     "output_type": "stream",
     "text": [
      "alpha optimale: 0.010580868560097037\n",
      "nombre d'iterations: 139\n",
      "erreur à la derniere iteration: nan\n"
     ]
    }
   ],
   "source": [
    "# Plot de la solution U du Laplacien en fonction de x\n",
    "N            = 63\n",
    "\n",
    "diags = moins_Laplacien_1D_tridiag(N) #on calcules les 3 diagonales a,b,c avec fonction de la pc4\n",
    "b,a,c = np.vsplit(diags, 3)\n",
    "b = np.delete(b, 0) #pour utiliser sparse.diags on supprime le 0 dans b\n",
    "c = np.delete(c, N-1) #pour utiliser sparse.diags on supprime le 0 dans c\n",
    "diags = [a,b,c]\n",
    "\n",
    "C = sparse.diags(diags, [0, 1, -1], shape=(N,N)).toarray()\n",
    "b = second_membre_1D(N) #on utilise fonction de la pc4 pour construir b\n",
    "\n",
    "vals, vecs = sparse_eigs(C)\n",
    "kappa = np.max(abs(vals))/np.min(abs(vals))#avec les eigenvalues, on calcule le conditionnement\n",
    "alpha_opt = (kappa - 1)/(kappa + 1)\n",
    "\n",
    "u0 = np.ones(N)\n",
    "u, tab_err = gradient_pas_fixe_creux(C, b, alpha_opt, u0)\n",
    "\n",
    "x = np.linspace(0, 1, N)\n",
    "\n",
    "plt.figure()\n",
    "plt.plot(x, u)\n",
    "plt.xlabel(\"x\")\n",
    "plt.ylabel(\"solution u(x)\")\n",
    "plt.show()\n",
    "\n",
    "print(f\"alpha optimale: {alpha_opt}\")\n",
    "print(f\"nombre d'iterations: {len(tab_err)}\")\n",
    "print(f\"erreur à la derniere iteration: {tab_err[-1]}\")"
   ]
  },
  {
   "cell_type": "markdown",
   "metadata": {},
   "source": [
    "$2$. **<font color=black><span style=\"background-color:deepskyblue\">Bonus :</span></font>** Etudier numériquement le taux de convergence obtenu. Tracer l'erreur $\\|Ax^k-b\\|$ en fonction de $k$ en échelle semilog. Comparer avec la majoration théorique."
   ]
  },
  {
   "cell_type": "code",
   "execution_count": 17,
   "metadata": {},
   "outputs": [
    {
     "data": {
      "image/png": "[encoded data removed]",
      "text/plain": [
       "<Figure size 432x288 with 1 Axes>"
      ]
     },
     "metadata": {
      "needs_background": "light"
     },
     "output_type": "display_data"
    }
   ],
   "source": [
    "# Tracer l'erreur en fonction du nombre d'itérations\n",
    "plt.figure()\n",
    "\n",
    "it_cnt = np.arange(0, len(tab_err))\n",
    "plt.scatter(it_cnt, tab_err, label=\"Erreur\")\n",
    "\n",
    "e0 = lin.norm(C.dot(u0) - b)\n",
    "err_theorique = np.zeros(len(tab_err))\n",
    "for i in range(len(tab_err)):\n",
    "    err_theorique[i] = (alpha_opt**i)*e0\n",
    "plt.plot(it_cnt, err_theorique , label=\"Erreur théorique\")\n",
    "\n",
    "plt.yscale(\"log\") #echelle log pour l'axe y\n",
    "plt.xlabel(\"Itérations\")\n",
    "plt.ylabel(\"Erreur\")\n",
    "plt.legend()\n",
    "plt.show()"
   ]
  },
  {
   "cell_type": "markdown",
   "metadata": {},
   "source": [
    "**Réponse :** "
   ]
  },
  {
   "cell_type": "markdown",
   "metadata": {},
   "source": [
    "$3$. **<font color=black><span style=\"background-color:deepskyblue\">Bonus :</span></font>** Afficher la solution discrète $u_i$ obtenue après $10^3$ itérations, ainsi que la solution théorique. Commenter."
   ]
  },
  {
   "cell_type": "code",
   "execution_count": 18,
   "metadata": {},
   "outputs": [
    {
     "data": {
      "image/png": "[encoded data removed]",
      "text/plain": [
       "<Figure size 1280x640 with 1 Axes>"
      ]
     },
     "metadata": {
      "needs_background": "light"
     },
     "output_type": "display_data"
    },
    {
     "name": "stdout",
     "output_type": "stream",
     "text": [
      "Solutions numériques (0.1, 0.25, 0.3) : [            -inf              inf             -inf              inf\n",
      "             -inf              inf             -inf              inf\n",
      "             -inf              inf             -inf              inf\n",
      "             -inf              inf             -inf              inf\n",
      "             -inf              inf             -inf              inf\n",
      "             -inf              inf             -inf              inf\n",
      " -1.34212178e+307  8.17566058e+306 -4.86821888e+306  2.83948466e+306\n",
      " -1.63466209e+306  9.53746382e+305 -6.11315800e+305  5.07614862e+305\n",
      " -6.11296242e+305  9.53700205e+305 -1.63457342e+306  2.83932506e+306\n",
      " -4.86794135e+306  8.17519067e+306 -1.34204415e+307              inf\n",
      "             -inf              inf             -inf              inf\n",
      "             -inf              inf             -inf              inf\n",
      "             -inf              inf             -inf              inf\n",
      "             -inf              inf             -inf              inf\n",
      "             -inf              inf             -inf              inf\n",
      "             -inf              inf             -inf] [ 3.14558394e+307             -inf              inf             -inf\n",
      "              inf             -inf              inf             -inf\n",
      "              inf             -inf              inf             -inf\n",
      "              inf             -inf  3.49710502e+307 -2.59677590e+307\n",
      "  1.87527788e+307 -1.31749471e+307  9.00732877e+306 -5.99363491e+306\n",
      "  3.88231892e+306 -2.44815130e+306  1.50298217e+306 -8.98351366e+305\n",
      "  5.22775101e+305 -2.96187992e+305  1.63414618e+305 -8.78948494e+304\n",
      "  4.63254343e+304 -2.44675076e+304  1.41137569e+304 -1.10864637e+304\n",
      "  1.41132719e+304 -2.44662994e+304  4.63229406e+304 -8.78899940e+304\n",
      "  1.63405481e+305 -2.96171285e+305  5.22745383e+305 -8.98299928e+305\n",
      "  1.50289552e+306 -2.44800923e+306  3.88209223e+306 -5.99328287e+306\n",
      "  9.00679677e+306 -1.31741649e+307  1.87516599e+307 -2.59662024e+307\n",
      "  3.49689449e+307             -inf              inf             -inf\n",
      "              inf             -inf              inf             -inf\n",
      "              inf             -inf              inf             -inf\n",
      "              inf             -inf  3.14538865e+307] [            -inf              inf             -inf              inf\n",
      "             -inf              inf             -inf              inf\n",
      "             -inf              inf             -inf              inf\n",
      "             -inf              inf             -inf              inf\n",
      "             -inf              inf             -inf              inf\n",
      "             -inf              inf             -inf              inf\n",
      "             -inf              inf             -inf              inf\n",
      "             -inf  2.87425922e+307 -1.63946842e+307  1.27986383e+307\n",
      " -1.63941174e+307  2.87411716e+307             -inf              inf\n",
      "             -inf              inf             -inf              inf\n",
      "             -inf              inf             -inf              inf\n",
      "             -inf              inf             -inf              inf\n",
      "             -inf              inf             -inf              inf\n",
      "             -inf              inf             -inf              inf\n",
      "             -inf              inf             -inf              inf\n",
      "             -inf              inf             -inf]\n",
      "Solution théorique : [0.00078093 0.00156186 0.00234279 0.00312369 0.00390452 0.00468525\n",
      " 0.00546577 0.00624597 0.0070257  0.00780474 0.00858286 0.00935973\n",
      " 0.010135   0.01090822 0.01167888 0.0124464  0.01321011 0.01396924\n",
      " 0.01472294 0.01547025 0.01621011 0.01694135 0.01766267 0.01837265\n",
      " 0.01906977 0.01975233 0.02041852 0.02106638 0.0216938  0.0222985\n",
      " 0.02287806 0.02342987 0.02395116 0.02443899 0.02489021 0.0253015\n",
      " 0.02566934 0.02599    0.02625956 0.02647388 0.02662859 0.02671911\n",
      " 0.02674064 0.02668811 0.02655626 0.02633953 0.02603216 0.02562809\n",
      " 0.02512103 0.02450439 0.02377134 0.02291475 0.02192721 0.02080102\n",
      " 0.01952817 0.01810038 0.01650903 0.01474521 0.01279968 0.01066287\n",
      " 0.00832489 0.00577553 0.0030042 ]\n"
     ]
    }
   ],
   "source": [
    "C_banded = moins_Laplacien_1D_tridiag(N)\n",
    "sol_banded = solve_banded((1,1), C_banded, b)\n",
    "\n",
    "u1, tab_err1 = gradient_pas_fixe_creux(C, b, 0.1, u0, 1000)\n",
    "u2, tab_err2 = gradient_pas_fixe_creux(C, b, 0.25, u0, 1000)\n",
    "u3, tab_err3 = gradient_pas_fixe_creux(C, b, 0.3, u0, 1000)\n",
    "\n",
    "x = np.linspace(0, 1, N)\n",
    " \n",
    "plt.figure(figsize=(16, 8), dpi=80)\n",
    "plt.plot(x, sol_banded, label='solution theorique (pc4)')\n",
    "plt.plot(x, u1, label='solution numerique alpha=0,1')\n",
    "plt.plot(x, u2, label='solution numerique alpha=0,25')\n",
    "plt.plot(x, u3, label='solution numerique alpha=0,3')\n",
    "plt.xlabel(\"x\")\n",
    "plt.ylabel(\"solution u(x)\")\n",
    "plt.legend()\n",
    "plt.show()\n",
    "\n",
    "print(\"Solutions numériques (0.1, 0.25, 0.3) :\", u1, u2, u3) \n",
    "print(\"Solution théorique :\", sol_banded) "
   ]
  },
  {
   "cell_type": "markdown",
   "metadata": {},
   "source": [
    "**Réponse :**"
   ]
  },
  {
   "cell_type": "markdown",
   "metadata": {},
   "source": [
    "<div class=\"alert alert-block alert-info\">\n",
    "    On remarque que pour cette problème même si théoriquement la méthode converge, en pratique on rencontre des problèmes de précision qui font la solution exploser. Il s'agit des problèmes de précision machine, une fois qu'on a calcule $\\kappa(A)$ et le problème est bien conditionné.\n",
    "</div>"
   ]
  },
  {
   "cell_type": "markdown",
   "metadata": {},
   "source": [
    "## Exercice 4 : Méthode du gradient conjugué (GC)\n",
    "  \n",
    ">Soit $A$ une matrice réelle de taille $n \\times n$, symétrique définie positive. Une telle matrice peut définir un produit scalaire donné par \n",
    ">\n",
    ">$$ \\langle x,y \\rangle_A = x^TAy.$$\n",
    ">\n",
    ">  Deux vecteurs $d_1$ et $d_2$ sont dits conjugués par rapport à $A$ s'ils sont orthogonaux par rapport au produit scalaire $\\langle \\cdot,\\cdot \\rangle_A$. Dans la suite on notera la norme associée par $\\|\\cdot \\|_A=\\sqrt{\\langle \\cdot,\\cdot \\rangle_A}$.\n",
    ">\n",
    ">On décrit ci-dessous l'algorithme du gradient conjugué :\n",
    ">\n",
    ">**Initialisation :** On donne $A\\in \\Bbb{R}^{n\\times n}$ matrice réelle, symétrique, définie positive, $b\\in \\Bbb{R}^n$, $x_0 \\in \\mathbb{R}^n$ et une tolérance $Tol$.\n",
    ">- $i=0$.\n",
    ">- Calculer le premier résidu $g_0 = (Ax_0-b)$ et la première direction de descente $d_0 = -g_0$.\n",
    ">- Tant que $\\Vert g_i\\Vert  > Tol$ et $i<n$\n",
    ">    - Calculer la nouvelle itération $$ x_{i+1} = x_i-\\gamma_i d_i \\quad{}\\text{avec}\\quad{} \\gamma_i = \\frac{d_i^Tg_i}{d_i^TAd_i} = \\frac{\\langle d_i,g_i\\rangle}{\\langle d_i,d_i\\rangle_A}.$$\n",
    ">    - Calculer le nouveau résidu $g_{i+1} = Ax_{i+1}-b.$\n",
    ">    - Calculer la nouvelle direction de descente $$ d_{i+1} = -g_{i+1}+\\beta_id_i \\quad{}\\text{avec}\\quad{} \\displaystyle \\beta_i = \\frac{g_{i+1}^TAd_i}{d_i^TAd_i} = \\frac{\\langle g_{i+1},d_i\\rangle_A}{\\langle d_i,d_i\\rangle_A}.$$\n",
    ">\n",
    ">On peut montrer que cet algorithme conduit l'estimation d'erreur suivante, qui est meilleure que celle obtenue pour le gradient à pas fixe :\n",
    ">\n",
    ">$$\\left\\Vert x_k - x\\right\\Vert_A \\leq 2\\left(\\frac{\\sqrt{\\kappa_2(A)}-1}{\\sqrt{\\kappa_2(A)}+1}\\right)^k \\left\\Vert x_0 - x\\right\\Vert_A.$$\n",
    ">\n",
    ">Qui plus est, on peut également montrer (voir la Question 4 ce det exercice) que l'algorithme du GC converge en fait en au plus n itérations! Autrement dit, l'erreur est souvent plus faible que celle donnée par l'estimation ci-dessus. En pratique, on n'effectue quasiment jamais les n itérations du GC, mais on s'arrête dès que l'erreur résiduelle passe sous un seuil donné."
   ]
  },
  {
   "cell_type": "markdown",
   "metadata": {},
   "source": [
    "### Question 1 : Implémentation\n",
    "\n",
    "$1$. **<font color=black><span style=\"background-color:deepskyblue\">Bonus :</span></font>** Montrer que dans l'algorithme du GC décrit ci-dessus, $g_{i+1} = g_i - \\gamma_i Ad_i$. Quel est le nombre minimal de multiplications matrice/vecteur nécessaire pour effectuer une itération du GC? Quel(s) produit(s) doit on stocker? \n",
    "\n",
    "$2$. **<font color=black><span style=\"background-color:deepskyblue\">Bonus :</span></font>** Implémenter l'algorithme du gradient conjugué. *On effectuera le moins de multiplications matrice/vecteur possible.*\n",
    "\n",
    ">**Remarque sur la performance :** Dans un premier temps, on stockera toutes les itérations $x^k$ pour étudier la méthode.\n",
    "\n",
    "$3$. **<font color=black><span style=\"background-color:deepskyblue\">Bonus :</span></font>** Tester votre algorithme sur le système $2\\times 2$ donné en (5). Tracer à nouveau les lignes de niveaux de la fonction $f$ associée, ainsi que les différents itérés obtenus. Comparer avec le gradient à pas fixe et commenter les différents comportements."
   ]
  },
  {
   "cell_type": "markdown",
   "metadata": {},
   "source": [
    "**Réponse :** 1)\n",
    "On a $g_{i+1} = Ax_{i+1} - b = A(x_i - \\gamma_i d_i) - b = (Ax_i - b) - \\gamma_i A d_i = g_i - \\gamma_i A d_i$. $\\\\$\n",
    "Si on stocke $Ad_i$ et $d_i^T Ad_i$, on fait $4$ multiplications matrice/vecteur par itération.\n"
   ]
  },
  {
   "cell_type": "code",
   "execution_count": 19,
   "metadata": {},
   "outputs": [],
   "source": [
    "def gradient_conjugué(A, b, x0, it_max = 10**3, tol = 10**-5):\n",
    "    \"\"\"\n",
    "    Calcule les itérés successifs x_k obtenus par la méthode du gradient conjugué\n",
    "    ----------   \n",
    "    parametres:\n",
    "    A      : matrice symétrique de taille nxn \n",
    "    b      : vecteur de taille n (le second membre du système Ax=b qui nous intéresse)\n",
    "    x_0    : vecteur de taille n (la donnée initiale)\n",
    "    it_max : un entier qui fixe le nombre maximal d'itérations\n",
    "    tol    : on utilise || Ax_k - b || < tol comme critère d'arrêt \n",
    "    \n",
    "    valeurs de retour:\n",
    "    tab_x   : un tableau qui contient les itérations successives x_k obtenues\n",
    "    tab_err : tableau contenant la norme du résidu || Ax_k - b || à chaque itération\n",
    "    \"\"\"\n",
    "    i = 0\n",
    "    gi = np.matmul(A, x0) - b\n",
    "    di = -gi\n",
    "    xi = x0\n",
    "    \n",
    "    tab_x = np.empty((it_max, len(x0)))\n",
    "    tab_err = np.empty(it_max)\n",
    "    \n",
    "    while(lin.norm(gi) > tol and i < it_max):\n",
    "        stock1 = np.matmul(A, di) #on stocke pour optimiser nombre de multiplications\n",
    "        stock2 = np.matmul(np.transpose(di), stock1)\n",
    "        \n",
    "        gamma = np.matmul(np.transpose(di), gi)/stock2\n",
    "        xi = xi - gamma*di\n",
    "        tab_x[i] = xi\n",
    "        \n",
    "        gi = np.matmul(A, xi) - b\n",
    "        tab_err[i] = lin.norm(gi)\n",
    "        \n",
    "        beta = np.matmul(np.transpose(gi), stock1)/stock2\n",
    "        di = -gi + beta*di\n",
    "        \n",
    "        i+=1\n",
    "    \n",
    "    return tab_x[:i], tab_err[:i]"
   ]
  },
  {
   "cell_type": "code",
   "execution_count": 20,
   "metadata": {
    "scrolled": false
   },
   "outputs": [],
   "source": [
    "# 2)\n",
    "# grille pour tracer les lignes de niveau de la fonction f\n",
    "nx1    = 1000\n",
    "nx2    = 1000\n",
    "x1     = np.linspace(-0.5, 2.5, nx1)\n",
    "x2     = np.linspace(-1.5, 1.5, nx2)\n",
    "x1, x2 = np.meshgrid(x1, x2)\n",
    "\n",
    "A     = np.array([[1,0],[0,7]])\n",
    "b     = np.array([2,-1])\n",
    "x1_th = 2\n",
    "x2_th = -1/7\n",
    "z     = f(A, b, x1, x2)\n",
    "x0    = np.ones(len(b)) \n",
    "\n",
    "\n",
    "tab_x_GC, tab_err_GC = gradient_conjugué(A, b, x0)\n"
   ]
  },
  {
   "cell_type": "code",
   "execution_count": 21,
   "metadata": {},
   "outputs": [
    {
     "data": {
      "image/png": "[encoded data removed]",
      "text/plain": [
       "<Figure size 1152x360 with 2 Axes>"
      ]
     },
     "metadata": {
      "needs_background": "light"
     },
     "output_type": "display_data"
    }
   ],
   "source": [
    "# Figure où les lignes de niveaux de f sont tracées\n",
    "# Tracer les valeurs successives de xk\n",
    "plt.figure(figsize=(16,5))\n",
    "\n",
    "plt.subplot(1,3,1)\n",
    "plt.contour(x1, x2, z)\n",
    "dim0, dim1 = np.hsplit(tab_x_GC, 2)\n",
    "plt.scatter(dim0 , dim1)\n",
    "\n",
    "plt.title('GC')\n",
    "\n",
    "plt.subplot(1,3,2)\n",
    "plt.contour(x1, x2, z)\n",
    "tab_x_PF, tab_err_PF = gradient_pas_fixe(A, b, 0.25, [1,1])\n",
    "dim0, dim1 = np.hsplit(tab_x_PF, 2)\n",
    "plt.scatter(dim0 , dim1)\n",
    "\n",
    "plt.title(f'alpha = {0.25}')\n",
    "\n",
    "plt.show()"
   ]
  },
  {
   "cell_type": "markdown",
   "metadata": {},
   "source": [
    "<div class=\"alert alert-block alert-info\">\n",
    "    On remarque que la convergence pour la nouvelle méthode est plus rapide, graphiquement elle semble presque immediate.\n",
    "</div>"
   ]
  },
  {
   "cell_type": "code",
   "execution_count": 22,
   "metadata": {},
   "outputs": [
    {
     "name": "stdout",
     "output_type": "stream",
     "text": [
      "Taux de convergence à pas fixe 0.010580868560097037\n",
      "Taux de convergence GC: 0.005290582360688636\n"
     ]
    }
   ],
   "source": [
    "print(f\"Taux de convergence à pas fixe {alpha_opt}\")\n",
    "taux_convergence = (np.sqrt(kappa)-1)/(np.sqrt(kappa)+1)\n",
    "print(f\"Taux de convergence GC: {taux_convergence}\")"
   ]
  },
  {
   "cell_type": "markdown",
   "metadata": {},
   "source": [
    "### Question 2 : Retour sur le Laplacien 1D\n",
    "\n",
    "**<font color=black><span style=\"background-color:deepskyblue\">Bonus :</span></font>** Reprogrammer l'algorithme du gradient conjugué comme précedemment, mais sans stocker toutes les itérations intermédiaires. On prendra garde à implementer les produits matrice/vecteur de manière compatible avec le stockage creux (utiliser *A.dot(x)* et pas *np.dot(A,x)*).\n",
    "\n",
    "Utiliser cet algorithme pour obtenir une solution approchée du problème (7). Vérifier qu'on a bien convergence en au plus $N$ itérations, et afficher la solution obtenue. Pour ce problème, l'algorithme du gradient conjugué peut-il être intéressant par rapport aux méthodes directes basées sur la décomposition LU étudiées dans la PC précédente?"
   ]
  },
  {
   "cell_type": "code",
   "execution_count": 23,
   "metadata": {},
   "outputs": [],
   "source": [
    "def gradient_conjugué_creux(A, b, x0, it_max = 10**3, tol = 10**-10):\n",
    "    \"\"\"\n",
    "    Calcule les itérés successifs x_k obtenus par la méthode du gradient conjugué\n",
    "    ----------   \n",
    "    parametres:\n",
    "    A  : matrice symétrique de taille nxn \n",
    "    b : vecteur de taille n (le second membre du système Ax=b qui nous intéresse)\n",
    "    x_0 : vecteur de taille n (la donnée initiale)\n",
    "    it_max : un entier qui fixe le nombre maximal d'itérations\n",
    "    tol : on utilise || Ax_k - b || < tol comme critère d'arrêt \n",
    "    \n",
    "    valeurs de retour:\n",
    "    x : le dernier itéré x_k obtenu\n",
    "    tab_err : tableau contenant la norme du résidu || Ax_k - b || à chaque itération\n",
    "    \"\"\"    \n",
    "    i = 0\n",
    "    gi = A.dot(x0) - b\n",
    "    di = -gi\n",
    "    xi = x0\n",
    "    \n",
    "    tab_x = np.empty((it_max, len(x0)))\n",
    "    tab_err = np.empty(it_max)\n",
    "    \n",
    "    while(lin.norm(gi) > tol and i < it_max):\n",
    "        stock1 = A.dot(di) #optimisation (cas creux)\n",
    "        stock2 = np.matmul(np.transpose(di), stock1)\n",
    "        \n",
    "        gamma = np.matmul(np.transpose(di), gi)/stock2\n",
    "        xi = xi - gamma*di\n",
    "        \n",
    "        gi = A.dot(xi) - b #optimisation (cas creux)\n",
    "        tab_err[i] = lin.norm(gi)\n",
    "        \n",
    "        beta = np.matmul(np.transpose(gi), stock1)/stock2\n",
    "        di = -gi + beta*di\n",
    "        \n",
    "        i+=1\n",
    "        \n",
    "    return xi, tab_err[:i]"
   ]
  },
  {
   "cell_type": "code",
   "execution_count": 26,
   "metadata": {},
   "outputs": [
    {
     "data": {
      "image/png": "[encoded data removed]",
      "text/plain": [
       "<Figure size 1152x360 with 3 Axes>"
      ]
     },
     "metadata": {
      "needs_background": "light"
     },
     "output_type": "display_data"
    }
   ],
   "source": [
    "N            = 63\n",
    "\n",
    "x0           = np.zeros(N)\n",
    "x0[0] = 1.\n",
    "b = second_membre_1D(N)\n",
    "\n",
    "\n",
    "plt.figure(figsize=(16,5))\n",
    "\n",
    "plt.subplot(1,3,1)\n",
    "x = np.linspace(0, 1, N)\n",
    "u_PF, tab_err_PF = gradient_pas_fixe_creux(C, b, alpha_opt, x0)\n",
    "plt.scatter(x, u, label=\"Pas fixe\")\n",
    "\n",
    "u_GC, tab_err_GC = gradient_conjugué_creux(C, b, x0)\n",
    "plt.scatter(x, u_GC, label=\"GC\")\n",
    "\n",
    "plt.title(\"Pas Fixe et GC\")\n",
    "plt.xlabel(\"x\")\n",
    "plt.ylabel(\"u(x)\")\n",
    "plt.legend()\n",
    "\n",
    "plt.subplot(1,3,2)\n",
    "plt.scatter(x, u_GC, label=\"GC\")\n",
    "plt.plot(x, sol_banded, label='solution theorique (pc4)')\n",
    "\n",
    "plt.xlabel(\"x\")\n",
    "plt.ylabel(\"u(x)\")\n",
    "plt.legend()\n",
    "\n",
    "plt.subplot(1,3,3)\n",
    "it_PF = np.arange(0, len(tab_err_PF))\n",
    "plt.scatter(it_PF, tab_err_PF, label=\"Erreur PF\")\n",
    "it_GC = np.arange(0, len(tab_err_GC))\n",
    "plt.scatter(it_GC, tab_err_GC, label=\"Erreur GC\")\n",
    "plt.yscale(\"log\") #echelle log pour l'axe y\n",
    "plt.xlabel(\"Itérations\")\n",
    "plt.ylabel(\"Erreur\")\n",
    "plt.legend()\n",
    "plt.show()\n",
    "\n",
    "plt.show()"
   ]
  },
  {
   "cell_type": "markdown",
   "metadata": {},
   "source": [
    "**Réponse :** "
   ]
  },
  {
   "cell_type": "code",
   "execution_count": 27,
   "metadata": {},
   "outputs": [
    {
     "name": "stdout",
     "output_type": "stream",
     "text": [
      "21 µs ± 386 ns per loop (mean ± std. dev. of 7 runs, 10,000 loops each)\n",
      "2.1 ms ± 132 µs per loop (mean ± std. dev. of 7 runs, 1,000 loops each)\n"
     ]
    }
   ],
   "source": [
    "%timeit solve_banded((1,1), C_banded, b) #methode de la PC4\n",
    "%timeit gradient_conjugué_creux(C, b, x0) #algorithme GC"
   ]
  },
  {
   "cell_type": "markdown",
   "metadata": {},
   "source": [
    "<div class=\"alert alert-block alert-info\">\n",
    "    Premièrement, il faut remarquer que l'algorithme du gradient conjugué a réussi à obtenir des erreurs beaucoup plus petits que  l'algorithme du gradient à pas fixe. Graphiquement, on observe que la courbe est très proche de la solution obtenue à la PC4.\n",
    "    Par contre, si on analyse le temps d'éxecution, on conclue que la méthode employé à la PC4 est encore la plus performante pour ce problème.\n",
    "</div>"
   ]
  },
  {
   "cell_type": "markdown",
   "metadata": {},
   "source": [
    "### Question 3 : Retour sur le Laplacien 2D\n",
    "\n",
    ">On étudie dans cette question sur le problème \n",
    ">\n",
    ">$$\n",
    "\\left\\{ \n",
    "\\begin{aligned}\n",
    "&-\\Delta u(x,y) = 1       \\quad{} (x,y)  \\in ]0,1[^2 \\\\ \n",
    "& u(0,y) = 0 = u(1,y) = u(x,0) = u(x,1)\n",
    "\\end{aligned}\n",
    "\\right. \\quad{} (8)\n",
    "$$\n",
    ">\n",
    ">et sur le problème discrétisé associé déjà étudié dans la PC précédente :\n",
    ">\n",
    ">$$\n",
    "AU =F \\quad{} \\text{où}\\quad{}  A = \n",
    "\\left( \\begin{array}{c|c|c|c|c}\n",
    "      D    & -I/h^2    &0 &\\dots   & 0 \\\\ \\hline\n",
    "      -I/h^2    & D    & \\ddots&  \\ddots &\\vdots  \\\\ \\hline\n",
    "      0    &  \\ddots   & \\ddots & \\ddots& 0  \\\\ \\hline\n",
    "      \\vdots   & \\ddots &\\ddots & \\ddots &-I/h^2\\\\ \\hline\n",
    "      0      & \\dots & 0 &   -I/h^2  & D\n",
    "    \\end{array}\\right), \\quad{}\n",
    "    D = \\left( \\begin{array}{ccccc}\n",
    "      4/h^2    & -1/h^2  & 0  & \\dots   & 0 \\\\\n",
    "      -1/h^2    & 4/h^2    & \\ddots& \\ddots& \\vdots  \\\\   \n",
    "      0      & \\ddots & \\ddots & \\ddots  & 0\\\\\n",
    "      \\vdots & \\ddots & \\ddots  & \\ddots & -1/h^2\\\\\n",
    "      0      & \\dots  & 0 & -1/h^2  & 4/h^2\n",
    "    \\end{array}\\right) \\in\\mathbb{R}^{N},\n",
    "    \\qquad{} \n",
    "    \\quad{} F = \n",
    "    \\renewcommand{\\arraystretch}{1.2}\n",
    "    \\begin{pmatrix}\n",
    "      1 \\\\ 1 \\\\ \\vdots \\\\ 1 \\\\ 1\n",
    "    \\end{pmatrix}, \\quad{} h=\\frac{1}{N+1}, \\qquad{} (9)\n",
    "$$\n",
    ">\n",
    ">où les $(x_i,y_j)=(ih,jh)$, $i,j=1,\\ldots, N$, correspondent à une discrétisation du carré $[0,1]^2$, et les coordonnées de $U$ sont censées approcher les valeurs $u(x_i,y_j)$ de la solution de (8).\n",
    "\n",
    "$1$. **<font color=black><span style=\"background-color:deepskyblue\">Bonus :</span></font>** Construire la matrice du Laplacien 2D discrétisé, dans un format creux. On pourra utiliser *scipy.sparse.diags*."
   ]
  },
  {
   "cell_type": "code",
   "execution_count": 30,
   "metadata": {
    "scrolled": true
   },
   "outputs": [],
   "source": [
    "def moins_Laplacien_2D_bande(N):\n",
    "    \"\"\"\n",
    "    crée la matrice correspondant à la discrétisation de -\\Delta en 2D sous format bande\n",
    "    ----------   \n",
    "    parametre:\n",
    "    N   : taille de la matrice\n",
    "    \n",
    "    valeur de retour:\n",
    "    matrice de taille N^2xN^2 sous format bande\n",
    "    \"\"\" \n",
    "    h = 1.0/(N+1)\n",
    "    D = np.zeros((N,N)) #dabord, on construit D\n",
    "    for i in range(N):\n",
    "        D[i][i] = 4/(h*h)\n",
    "        if(i > 0):\n",
    "            D[i][i-1] = -1/(h*h)\n",
    "        if(i + 1 < N):\n",
    "            D[i][i+1] = -1/(h*h)\n",
    "    Isq = np.zeros((N,N)) #alors, on construit -I/h**2\n",
    "    for i in range(N):\n",
    "        Isq[i] = -1/(h*h)\n",
    "    Nsq = N*N\n",
    "    C = np.zeros((Nsq, Nsq)) #on est pret pour construir C\n",
    "    for i in range(N):\n",
    "        if(i > 0):\n",
    "            com_x1 = N*(i-1)\n",
    "            com_y1 = N*i\n",
    "            com_x2 = N*i\n",
    "            com_y2 = N*(i-1)\n",
    "            for j in range(N):\n",
    "                for k in range(N):\n",
    "                    C[com_x1 + j][com_y1 + k] = Isq[j][k] #gauche de la diagonale principale\n",
    "                    C[com_x2 + j][com_y2 + k] = Isq[j][k] #en dessus de la diagonale principale\n",
    "        com_x = N*i #on remplit la diagonale principale\n",
    "        com_y = N*i\n",
    "        for j in range(N):\n",
    "            for k in range(N):\n",
    "                C[com_x + j][com_y + k] = D[j][k]\n",
    "    return C"
   ]
  },
  {
   "cell_type": "code",
   "execution_count": 34,
   "metadata": {},
   "outputs": [
    {
     "name": "stdout",
     "output_type": "stream",
     "text": [
      "Laplacien 2D :\n",
      " [[ 64. -16.   0. -16. -16. -16.   0.   0.   0.]\n",
      " [-16.  64. -16. -16. -16. -16.   0.   0.   0.]\n",
      " [  0. -16.  64. -16. -16. -16.   0.   0.   0.]\n",
      " [-16. -16. -16.  64. -16.   0. -16. -16. -16.]\n",
      " [-16. -16. -16. -16.  64. -16. -16. -16. -16.]\n",
      " [-16. -16. -16.   0. -16.  64. -16. -16. -16.]\n",
      " [  0.   0.   0. -16. -16. -16.  64. -16.   0.]\n",
      " [  0.   0.   0. -16. -16. -16. -16.  64. -16.]\n",
      " [  0.   0.   0. -16. -16. -16.   0. -16.  64.]]\n"
     ]
    }
   ],
   "source": [
    "# Cellule de test \n",
    "N = 3\n",
    "\n",
    "print(\"Laplacien 2D :\\n\", moins_Laplacien_2D_bande(N))"
   ]
  },
  {
   "cell_type": "markdown",
   "metadata": {},
   "source": [
    "$2$. **<font color=black><span style=\"background-color:deepskyblue\">Bonus :</span></font>** Utiliser l'algortithme du GC pour obtenir une solution approchée du système (9). Afficher la solution obtenue à l'aide du code ci-dessous. Pour ce problème, l'algorithme du gradient conjugué peut-il être intéressant par rapport aux méthodes directes basées sur la décomposition LU étudiées dans la PC précédente?"
   ]
  },
  {
   "cell_type": "code",
   "execution_count": 36,
   "metadata": {},
   "outputs": [
    {
     "data": {
      "image/png": "[encoded data removed]",
      "text/plain": [
       "<Figure size 432x288 with 2 Axes>"
      ]
     },
     "metadata": {
      "needs_background": "light"
     },
     "output_type": "display_data"
    }
   ],
   "source": [
    "N = 63\n",
    "\n",
    "A = moins_Laplacien_2D_bande(N)\n",
    "b = np.ones(N*N)\n",
    "\n",
    "# grille pour tracer la solution\n",
    "nx     = N\n",
    "ny     = N\n",
    "dx     = 1./(nx+1)\n",
    "dy     = 1./(ny+1)\n",
    "x      = np.linspace(1,nx,nx)*dx\n",
    "y      = np.linspace(1,ny,ny)*dy\n",
    "xx, yy = np.meshgrid(x, y, indexing='xy')\n",
    "\n",
    "\n",
    "# Solution\n",
    "x0               = np.zeros(nx*ny)\n",
    "x0[0] = 1.\n",
    "U_GC, tab_err_GC = gradient_conjugué_creux(A, b, x0, it_max = 10**3, tol = 10**(-5))\n",
    "Uij              = np.reshape(U_GC, (nx,ny))\n",
    "\n",
    "# plot\n",
    "plt.figure()\n",
    "plt.contourf(xx,yy,np.reshape(U_GC,(nx,ny)))\n",
    "plt.colorbar()\n",
    "plt.show()"
   ]
  },
  {
   "cell_type": "markdown",
   "metadata": {},
   "source": [
    "### Question 4 : Etude théorique\n",
    "\n",
    "Dans cette question, on étudie les propriétés de l'algorithme du gradient conjugué décrit en début d'exercice.\n",
    "\n",
    "$1$. En considérant $x$ la solution du système $Ax=b$, montrez que $\\gamma_i$ minimise\n",
    "\n",
    "$$\\gamma \\mapsto \\|x_i-\\gamma d_i -x^*\\|_A^2.$$"
   ]
  },
  {
   "cell_type": "markdown",
   "metadata": {},
   "source": [
    "$2$. Montrer que $\\beta_i$ est défini de telle sorte que $\\langle d_{i+1},d_i\\rangle_A = 0$, i.e. tel que une direction $d_i$ soit A-orthogonale à la suivante $d_{i+1}$.     "
   ]
  },
  {
   "cell_type": "markdown",
   "metadata": {},
   "source": [
    "$3$. Montrer les égalités suivantes\n",
    "\n",
    "$$\\langle g_{i+1}, d_i\\rangle = 0, \\qquad\n",
    "  \\langle d_i, d_i\\rangle_A = -\\langle d_i, g_i\\rangle_A. $$\n",
    "\n",
    "En déduire que $\\langle g_{i+1},g_i\\rangle = 0$, i.e. que le gradient $g_i$ est orthogonal au suivant $g_{i+1}$.\n",
    "\n"
   ]
  },
  {
   "cell_type": "markdown",
   "metadata": {},
   "source": [
    "$4$. Montrer que  \n",
    "\n",
    "$$\\langle g_{i+1},g_j\\rangle=0  \\quad{} \\text{ et } \\quad{} \\langle d_{i+1},d_j\\rangle_A = 0 \\quad \\forall j = 0,...,i.$$\n",
    "\n",
    "Conclure que l'algorithme du gradient conjugué converge en au plus $n$ itérations."
   ]
  },
  {
   "cell_type": "markdown",
   "metadata": {},
   "source": [
    "$5$. On admet que\n",
    "\n",
    "$$\\left\\Vert x_k - x\\right\\Vert_A = \\min_{\\substack{P \\in \\mathbb{R}_k[X] \\\\ P(0)=1}} \\left\\Vert P(A)(x_0 - x)\\right\\Vert_A.$$\n",
    "\n",
    "En déduire que, si le polynôme annulateur de $A$ est de degré $m$, alors l'algorithme du gradient conjugué converge en au plus $m$ itérations."
   ]
  }
 ],
 "metadata": {
  "kernelspec": {
   "display_name": "Python 3 (ipykernel)",
   "language": "python",
   "name": "python3"
  },
  "language_info": {
   "codemirror_mode": {
    "name": "ipython",
    "version": 3
   },
   "file_extension": ".py",
   "mimetype": "text/x-python",
   "name": "python",
   "nbconvert_exporter": "python",
   "pygments_lexer": "ipython3",
   "version": "3.9.12"
  },
  "latex_envs": {
   "LaTeX_envs_menu_present": true,
   "autoclose": false,
   "autocomplete": false,
   "bibliofile": "biblio.bib",
   "cite_by": "apalike",
   "current_citInitial": 1,
   "eqLabelWithNumbers": true,
   "eqNumInitial": 1,
   "hotkeys": {
    "equation": "Ctrl-E",
    "itemize": "Ctrl-I"
   },
   "labels_anchors": false,
   "latex_user_defs": false,
   "report_style_numbering": false,
   "user_envs_cfg": false
  },
  "toc": {
   "base_numbering": 1,
   "nav_menu": {},
   "number_sections": false,
   "sideBar": true,
   "skip_h1_title": false,
   "title_cell": "Table of Contents",
   "title_sidebar": "Contents",
   "toc_cell": false,
   "toc_position": {},
   "toc_section_display": true,
   "toc_window_display": false
  }
 },
 "nbformat": 4,
 "nbformat_minor": 4
}
