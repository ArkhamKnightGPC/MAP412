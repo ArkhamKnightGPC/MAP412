{
 "cells": [
  {
   "cell_type": "markdown",
   "metadata": {},
   "source": [
    "# PC 7 : Résolution numérique d'équations différentielles ordinaires"
   ]
  },
  {
   "cell_type": "markdown",
   "metadata": {},
   "source": [
    "**<big> Préparation avant la PC :</big>**\n",
    "**Les question 1 des exercices 1 et 2 sont à préparer** avant la séance de PC du 19/10.\n",
    "\n",
    "**<big><font color=black><span style=\"background-color:skyblue\">À rendre</span></font> après la PC :</big>**\n",
    "**Les exercices 1, 2 et 3 contiennent des parties <font color=black><span style=\"background-color:skyblue\">à rendre</span></font> avant le 30/10 à 20h00 avec ceux de la PC8. Les questions 2 et 4 de l'exercice 3 sont en <font color=black><span style=\"background-color:deepskyblue\">bonus</span></font>**."
   ]
  },
  {
   "cell_type": "code",
   "execution_count": null,
   "metadata": {},
   "outputs": [],
   "source": [
    "# Ce package permet de travailler efficacement avec des tableaux\n",
    "import numpy as np\n",
    "# Ce package permet de faire des sorties graphiques\n",
    "from matplotlib import pyplot as plt\n",
    "# Cette fonction renvoi le résultat des itérations de Newton\n",
    "from scipy.optimize import newton"
   ]
  },
  {
   "cell_type": "markdown",
   "metadata": {},
   "source": [
    "## Exercice 1 : Autour de Cauchy-Lipschitz"
   ]
  },
  {
   "cell_type": "markdown",
   "metadata": {},
   "source": [
    "### Question 1 : Exemples et contrexemples\n",
    "\n",
    "Pour chacun des systèmes ci-dessous, répondre aux questions suivantes. Existe-t-il une solution? Si oui, est-elle unique, et quel est l'intervalle maximal de définition?\n",
    "\n",
    "$$\\begin{array}{lll}\n",
    "\\left\\{\n",
    "\\begin{array}{ll}\n",
    "y'(t) &= \\text{sign}(y(t)) \\sqrt{\\vert y(t)\\vert}, \\\\\n",
    "y(0) &= 0,\n",
    "\\end{array}\n",
    "\\right.\n",
    "\\qquad{} \n",
    "&(a) \\\\ \\\\  \n",
    "\\left\\{\n",
    "\\begin{array}{ll}\n",
    "y'(t) &= y(t)^2, \\\\\n",
    "y(0) &= 1,\n",
    "\\end{array}\n",
    "\\right.\n",
    "\\qquad{} &(b) \\\\ \\\\\n",
    "\\left\\{\n",
    "\\begin{array}{ll}\n",
    "y'(t) &= y(t)(y(t)-2)(y(t)-t), \\\\\n",
    "y(0) &= 1,\n",
    "\\end{array}\n",
    "\\right.\n",
    "\\qquad{} &(c) \\\\ \\\\ \n",
    "\\left\\{\n",
    "\\begin{array}{ll}\n",
    "y''(t) &= -y(t), \\\\\n",
    "y(0) &= 1, \\\\\n",
    "y'(0) &= -1,\n",
    "\\end{array}\n",
    "\\right.\n",
    "\\qquad{} & (d) \\\\ \\\\\n",
    "\\left\\{\n",
    "\\begin{array}{ll}\n",
    "y''(t) &= -y(t), \\\\\n",
    "y(0) &= 1, \\\\\n",
    "y(\\pi) &= -1.\n",
    "\\end{array}\n",
    "\\right.\n",
    "\\qquad{}& (e)\n",
    "\\end{array}\n",
    "$$"
   ]
  },
  {
   "cell_type": "markdown",
   "metadata": {},
   "source": [
    "<div class=\"alert alert-block alert-info\">\n",
    "    \n",
    "</div>"
   ]
  },
  {
   "cell_type": "markdown",
   "metadata": {},
   "source": [
    "### Question 2 : Tests numériques\n",
    "\n",
    "On considère un problème générale de la forme \n",
    "\n",
    "$$y' = f(t,y) $$\n",
    "\n",
    "sur un intervale $t \\in [0,T[$.\n",
    "\n",
    "1) **<font color=black><span style=\"background-color:skyblue\">À rendre :</span></font>**\n",
    "- Implémenter la méthode d'Euler explicite pour obtenir une solution approchée. On prendra les $t_n$ obtenus avec un pas uniforme $\\Delta t = \\frac{1}{N}$ avec $N=2^5$, puis $N=2^{10}$.\n",
    "- Afficher sur un même graphique les solutions approchées obtenues pour un second membre $f(t,y) = y$, ainsi que la solution thérique.\n",
    "\n",
    "*Indications pour l'implémentation :* \n",
    "- Vérifier que votre dernier temps $t_N$ est bien égal à $1$ et que $t_0$ est bien égale à $0$.\n",
    "- Pour ce choix de fonction $f$, que valent les $y_n$? Vérifier que vous obtenez bien numériquement cette suite."
   ]
  },
  {
   "cell_type": "code",
   "execution_count": null,
   "metadata": {},
   "outputs": [],
   "source": [
    "def f_1(t,x):\n",
    "    return x"
   ]
  },
  {
   "cell_type": "code",
   "execution_count": null,
   "metadata": {},
   "outputs": [],
   "source": [
    "def Euler_explicite(f, y0, t):\n",
    "    \"\"\"\n",
    "    Calcule les itérés successifs y_n obtenus avec le schéma d'Euler explicite\n",
    "    ----------   \n",
    "    parametres:\n",
    "    f   : fonction second membre, dépend de t (en 1e argument) et de x (en 2nd argument)\n",
    "    y_0 : valeur au temps t_0\n",
    "    t   : tableau contenant les temps t_0 = 0, t_1, ..., t_N = T\n",
    "    \n",
    "    valeurs de retour:\n",
    "    tab_y : tableau contenant les valeurs y_n à chaque itération\n",
    "    \"\"\"\n",
    " \n",
    "    return "
   ]
  },
  {
   "cell_type": "code",
   "execution_count": null,
   "metadata": {},
   "outputs": [],
   "source": [
    "# Tests unitaire : \n",
    "# -construire les tn et vérifier que tN=1\n",
    "# -vérifier la valeurs numérique des yn\n",
    "\n"
   ]
  },
  {
   "cell_type": "code",
   "execution_count": null,
   "metadata": {},
   "outputs": [],
   "source": [
    "# Tracer la solution numérique avec les paramètres donnés et la solution théorique \n",
    "\n"
   ]
  },
  {
   "cell_type": "markdown",
   "metadata": {},
   "source": [
    "2) **<font color=black><span style=\"background-color:skyblue\">À rendre :</span></font>**\n",
    "Utiliser maintenant le schéma d'Euler explicite et le tester sur les cas (a) et (b) avec $\\Delta t = 2^{-10}$ et $T_f = 1$. Tracer les solutions obtenues, et commenter."
   ]
  },
  {
   "cell_type": "code",
   "execution_count": null,
   "metadata": {},
   "outputs": [],
   "source": [
    "def f_a(t,x):\n",
    "    # fonction second membre dans (a)\n",
    "    return np.sign(x)*np.sqrt(np.abs(x))\n",
    "\n",
    "def f_b(t,x):\n",
    "    # fonction second membre dans (b)\n",
    "    return "
   ]
  },
  {
   "cell_type": "code",
   "execution_count": null,
   "metadata": {
    "scrolled": false
   },
   "outputs": [],
   "source": [
    "# Tracer la solution numérique avec les paramètres donnés dans la cas a\n",
    "\n"
   ]
  },
  {
   "cell_type": "markdown",
   "metadata": {},
   "source": [
    "**Réponse :**\n",
    "\n"
   ]
  },
  {
   "cell_type": "markdown",
   "metadata": {},
   "source": [
    "<div class=\"alert alert-block alert-info\">\n",
    "    \n",
    "</div>"
   ]
  },
  {
   "cell_type": "code",
   "execution_count": null,
   "metadata": {},
   "outputs": [],
   "source": [
    "# Tracer la solution numérique avec les paramètres donnés dans la cas b\n",
    "\n"
   ]
  },
  {
   "cell_type": "markdown",
   "metadata": {},
   "source": [
    "**Réponse :** "
   ]
  },
  {
   "cell_type": "markdown",
   "metadata": {},
   "source": [
    "<div class=\"alert alert-block alert-info\">\n",
    "    \n",
    "</div>"
   ]
  },
  {
   "cell_type": "markdown",
   "metadata": {},
   "source": [
    "## Exercice 2 : Consistance + stabilité $\\Rightarrow$ convergence"
   ]
  },
  {
   "cell_type": "markdown",
   "metadata": {},
   "source": [
    ">On considère $f\\in\\mathcal{C}^0(\\mathbb{R}^2,\\mathbb{R})$ localement lipschitzienne en la deuxième variable, et le problème de Cauchy\n",
    ">\n",
    ">$$ \\left\\{\\begin{array}{l} \n",
    "y'(t) = f(t,y(t)) \\\\\n",
    "y(t_0)=y_0, \n",
    "\\end{array}\\right. \\qquad{} (1) $$\n",
    ">\n",
    ">qu'on cherche à résoudre numériquement. Dans tout cet exercice, on considère uniquement la méthode d'Euler explicite, donnée par\n",
    ">\n",
    "> $$ y_{n+1} = y_n + (t_{n+1} - t_n)f(t_n,y_n). $$\n",
    ">\n",
    ">Les différentes notions et résultats qui vont être établis se généralisent à d'autres méthodes vues en cours.\n",
    ">On démontrera en particulier une partie du *théorème de Lax*, qui affirme que si un schéma est consistant, sa stabilité est une condition nécessaire et suffisante pour qu'il soit convergent.\n",
    ">\n",
    ">Étant donnée une subdivision $t_0<t_1<\\ldots<t_{N}$, on note $\\Delta t_n=t_{n+1}-t_n$.\n",
    ">\n",
    ">*Pour simplifier certaines questions, on pourra supposer que $f$ est de classe $\\mathcal{C}^1$.*"
   ]
  },
  {
   "cell_type": "markdown",
   "metadata": {},
   "source": [
    "### Question 1 : Consistance\n",
    "\n",
    ">**Définitions :** Étant donnée une solution $y$ de (1) définie sur $[t_0,t_0+T]$, et une subdivision $t_0<t_1<\\ldots<t_{N}=t_0+T$, on note pour tout $0\\leq n< N$\n",
    ">\n",
    "> $$ \\varepsilon_n = y(t_{n+1})-y(t_n)-\\Delta t_n f(t_n,y(t_n)), $$\n",
    ">\n",
    ">c'est-à-dire l'erreur obtenue lorsqu'on applique le schéma numérique à la solution exacte $y$ aux points $t_n$, et on définit l'**erreur de consistance** $E$ comme\n",
    ">\n",
    "> $$ E = \\sum_{n=0}^{N-1}\\left\\vert \\varepsilon_n\\right\\vert. $$\n",
    ">\n",
    ">On dit que la méthode d'Euler explicite est **consistante** si $E\\underset{\\Delta t\\to 0}{\\longrightarrow} 0$ où $\\Delta t=\\max\\limits_{0\\leq n\\leq N} \\Delta t_n$. \n",
    " \n",
    "1) Dans le cas où $f$ est de classe $\\mathcal{C}^1$, montrer que l'erreur de consistance est en $O(\\Delta  t)$, et donc que la méthode d'Euler explicite est consistante.\n",
    "\n",
    "2) Montrer qu'elle demeure consistante si $f$ satisfait seulement les conditions de Cauchy (continuité et Lipschité-continuité par rapport à $y$)."
   ]
  },
  {
   "cell_type": "markdown",
   "metadata": {},
   "source": [
    "<div class=\"alert alert-block alert-info\">\n",
    "    \n",
    "</div>"
   ]
  },
  {
   "cell_type": "markdown",
   "metadata": {},
   "source": [
    "<div class=\"alert alert-block alert-info\">\n",
    "    \n",
    "</div>"
   ]
  },
  {
   "cell_type": "markdown",
   "metadata": {},
   "source": [
    "### Question 2 : Stabilité\n",
    "\n",
    ">**Définition :** On dit que le schéma d'Euler explicite est **stable** s'il existe une constante $C>0$ qui reste bornée quand $\\Delta t$ tend vers $0$, telle que, pour toute suite $\\left(z_i\\right)_{1\\leq i\\leq N}$ vérifiant\n",
    ">\n",
    "> $$ z_{n+1}=z_n+\\Delta t_n f(t_n,z_n)+\\delta_n, \\qquad{} \\forall~0\\leq n<N, $$\n",
    ">\n",
    ">on ait\n",
    ">\n",
    "> $$ \\max\\limits_{0\\leq n\\leq N}\\left\\vert y_n-z_n\\right\\vert \\leq C\\left(\\left\\vert y_0-z_0\\right\\vert + \\sum_{n=0}^{N-1}\\left\\vert \\delta_n\\right\\vert\\right), $$\n",
    ">\n",
    "\n",
    "1) **Lemme de Gronwall discret :** Soit $\\left(\\theta_n\\right)$ une suite de nombre réels positifs et $L>0$ tels que\n",
    "\n",
    "$$ \\theta_{n+1}\\leq (1+L\\Delta t_n)\\theta_n+\\left\\vert \\delta_n\\right\\vert,\\qquad\\forall n\\geq 0. $$\n",
    "\n",
    "Montrer que\n",
    "\n",
    "$$ \\theta_n\\leq e^{L(t_n-t_0)}\\theta_0 + \\sum_{i=0}^{n-1}e^{L(t_n-t_{i+1})}\\left\\vert \\delta_i\\right\\vert. $$\n",
    "\n",
    "2) En déduire que, si $f$ est globalement lipschitzienne en la deuxième variable, la méthode d'Euler explicite est stable."
   ]
  },
  {
   "cell_type": "markdown",
   "metadata": {},
   "source": [
    "<div class=\"alert alert-block alert-info\">\n",
    "    \n",
    "</div>"
   ]
  },
  {
   "cell_type": "markdown",
   "metadata": {},
   "source": [
    "<div class=\"alert alert-block alert-info\">\n",
    "    \n",
    "</div>"
   ]
  },
  {
   "cell_type": "markdown",
   "metadata": {},
   "source": [
    "### Question 3 : Convergence \n",
    "\n",
    "On dit que le schéma d'Euler explicite est convergent si l'erreur globale\n",
    "\n",
    "$$e_n := \\max\\limits_{0\\leq n\\leq N}\\left\\vert y(t_n)-y_n \\right\\vert \\underset{\\Delta t\\to 0}{\\longrightarrow} 0.$$\n",
    "\n",
    "En supposant $f$ globalement lipschitzienne en la deuxième variable, utiliser les deux questions précédentes pour montrer que la méthode d'Euler explicite converge. Dans le cas où $f$ est de classe $\\mathcal{C}^1$, montrer que  $e_n = O(\\Delta t)$.\n"
   ]
  },
  {
   "cell_type": "markdown",
   "metadata": {},
   "source": [
    "<div class=\"alert alert-block alert-info\">\n",
    "    \n",
    "</div>"
   ]
  },
  {
   "cell_type": "markdown",
   "metadata": {},
   "source": [
    "### Question 4 :\n",
    "\n",
    "On revient sur le problème de la forme (1) avec $f(t,y) = y$, $t_0=0$, $y_0=1$ et $T=1$.\n",
    "\n",
    "**<font color=black><span style=\"background-color:skyblue\">À rendre :</span></font>** \n",
    "Connaissant la solution exacte $y(t)$, calculer l'erreur globale $e_n = \\max\\limits_{0\\leq n\\leq N}\\left\\vert y(t_n)-y_n \\right\\vert$ pour $N=2^i$ avec $i$ entier allant de 5 à 10, et vérifier numériquement que cette erreur est proportionelle à $\\Delta t = \\frac{1}{N}$."
   ]
  },
  {
   "cell_type": "code",
   "execution_count": 1,
   "metadata": {},
   "outputs": [],
   "source": [
    "# Tracer la courbe d'erreur global en fonction de N en échelle log-log\n",
    "\n"
   ]
  },
  {
   "cell_type": "markdown",
   "metadata": {},
   "source": [
    "## Exercice 3 : Euler implicite et différentes notions de stabilité\n",
    "\n",
    "On s'intéresse dans un premier temps au comportement du schéma d'Euler implicite, puis on compare son comportement à celui du schéma d'Euler explicite."
   ]
  },
  {
   "cell_type": "markdown",
   "metadata": {},
   "source": [
    "**<big> Partie 1 : Euler implicite</big>**\n",
    "\n",
    "### Question 1\n",
    "\n",
    "$1$. **<font color=black><span style=\"background-color:skyblue\">À rendre :</span></font>** Implémenter le schéma d'Euler implicite pour le problème \n",
    "\n",
    "$$ \\left\\{ \\begin{array}{rl} y'(t) &= f\\left(t, y(t)\\right),\\\\ y(0) &= y_0. \\qquad{}\\end{array}\\right. $$\n",
    "\n",
    "*Indication pour l'implémentation :* On utilisera un algorithme de Newton pour la résolution de l'équation non-linéaire scalaire satisfaite par les $y_{n+1}$. On fixera par défaut une tolérance $TOL=10^{-12}$ sur le résidu $|f(x)|$ et un nombre maximal $N_{\\max}=100$ d'itérations dans cet algorithme. \n",
    "\n",
    "**Attention :** *Si la tolérance n'est pas atteinte à la dernière itération, votre algorithme devra renvoyer un message d'avertissement.*\n",
    "\n",
    "Pour ce faire, on pourra pour cela \n",
    "- soit implémenter (exploiter l'implémentation de la PC5) un algorithme de Newton scalaire en implémentant le message en cas de non-convergence, \n",
    "- soit utiliser la fonction *newton* de scipy.optimize (https://docs.scipy.org/doc/scipy/reference/generated/scipy.optimize.newton.html) avec les options \n",
    "    - *tol* qui fixe la tolérance\n",
    "    - *maxiter* qui fixe le nombre maximum d'itérations\n",
    "    - *fprime* qui donne la fonction dérivé à l'algorithme,\n",
    "    - *full_output=True* qui impose à l'algorithme de renvoyer (x, r) où x est le zéro approché à la dernière itération et r est un objet contenant les informations de convergence. En particulier r.converged est True si l'algorithme a atteint la convergence et False sinon\n",
    "    - disp=False qui empêche l'algorithme de s'arrêter en cas de non-convergence.\n",
    "    \n",
    "$2$. **<font color=black><span style=\"background-color:skyblue\">À rendre :</span></font>** Tester cet algorithme sur la fonction de l'exercice 1, $f(t,y) = y$ avec $t_0=0$, $y_0=1$ et $T=1$ et $N=2^{5}$ pas de temps et comparer avec la solution exacte. \n",
    "\n",
    "$3$. **<font color=black><span style=\"background-color:skyblue\">À rendre :</span></font>** Comme pour le schéma explicite, la solution numérique $y_n$ donnée par le schéma implicite avec ce second membre a une forme simple. Que valent les $y_n$ ? Vérifier que votre solution numérique est bien identique à celle-ci."
   ]
  },
  {
   "cell_type": "code",
   "execution_count": null,
   "metadata": {},
   "outputs": [],
   "source": [
    "def Newton_scalaire(f, df, x0, tol=1.e-12, N_max=100):\n",
    "    \"\"\"\n",
    "    Calcule une solution approchée du problème f(x)=0 par la méthode de Newton\n",
    "    ----------   \n",
    "    parametres:\n",
    "    f      : fonction dont on cherche le zero\n",
    "    df     : fonction dérivée de f\n",
    "    x_0    : valeur initiale de la suite\n",
    "    tol    : on utilise | f(x_n) | < tol comme critère d'arrêt \n",
    "    N_max : nombre maximal d'itérations\n",
    "    \n",
    "    valeurs de retour:\n",
    "    x  : x_n à la dernière itération\n",
    "    \n",
    "    !!! afficher un message d'avertissement si on n'a pas convergé (si on n'a pas | g(x) | < tol) !!!\n",
    "    \"\"\"  \n",
    "\n",
    "    return "
   ]
  },
  {
   "cell_type": "code",
   "execution_count": null,
   "metadata": {},
   "outputs": [],
   "source": [
    "# Cellule de test pour valider votre fonction Newton_scalaire (voir tests unitaires de la PC5)\n",
    "# ou pour tester scipy.optimize.newton\n",
    "\n"
   ]
  },
  {
   "cell_type": "code",
   "execution_count": null,
   "metadata": {},
   "outputs": [],
   "source": [
    "def Euler_implicite(f, df, y0, t):\n",
    "    \"\"\"\n",
    "    Calcule les itérés successifs y_n obtenus avec le schéma d'Euler implicite\n",
    "    ----------   \n",
    "    parametres:\n",
    "    f       : fonction second membre (dépend de y et de t)\n",
    "    df      : fonction dérivée de f (dépend de y et de t)\n",
    "    y_0     : valeur au temps t_0\n",
    "    t       : tableau contenant les temps t_0, t_1, ..., t_N\n",
    "    \n",
    "    valeurs de retour:\n",
    "    tab_y  : tableau contenant les valeurs y_n à chaque itération\n",
    "    \"\"\" \n",
    "    \n",
    "    \n",
    "    # --- Bloc à modifier et à placer dans votre fonction ---\n",
    "    # construire la fonction satisfaite par y_n+1 et sa dérivée à partir de f et df\n",
    "    def g(x):\n",
    "        # fonction dont on cherche le zéro \n",
    "        return\n",
    "    def dg(x):\n",
    "        # dérivée de la fonction dont on cherche le zéro \n",
    "        return \n",
    "    # --- Fin du bloc ---\n",
    "    \n",
    "    \n",
    "    return "
   ]
  },
  {
   "cell_type": "code",
   "execution_count": null,
   "metadata": {},
   "outputs": [],
   "source": [
    "def f_1(t, y):\n",
    "    # fonction second membre\n",
    "    return y\n",
    "\n",
    "def df_1(t, y):\n",
    "    # fonction dérivée de f_1 en fonction de y\n",
    "    return "
   ]
  },
  {
   "cell_type": "code",
   "execution_count": null,
   "metadata": {},
   "outputs": [],
   "source": [
    "# Tracer la solution numérique obtenu avec le schéma d'Euler implicite\n",
    "# Comparer à la solution exacte \n",
    "# Comparer à la reformulation simple dans le cas de la fonction f1  \n",
    "\n"
   ]
  },
  {
   "cell_type": "markdown",
   "metadata": {},
   "source": [
    "**<big> Partie 2 : A-stabilité</big>**\n",
    "\n",
    "### Question 2 : Équation logistique\n",
    "\n",
    "On va maintenant tester cet algorithme sur l'équation logistique\n",
    "\n",
    "$$\\left\\{\n",
    "    \\begin{aligned}\n",
    "        y'(t) &= ky(t)(1-y(t)) \\\\\n",
    "        y(0) &= y_0,\n",
    "    \\end{aligned}\n",
    "\\right. \\qquad{} (3)$$\n",
    "\n",
    "où $k$ est une constante positive.\n",
    "\n",
    "$1$. Vérifier que la solution est bien donnée par\n",
    "\n",
    "$$ y(t) =  \\frac{y_0 e^{kt}}{y_0 \\left(e^{kt}-1\\right) +1}. $$\n",
    "\n",
    "$2$. **<font color=black><span style=\"background-color:deepskyblue\">Bonus :</span></font>** Tester votre algorithme d'Euler implicite sur l'exemple (3), avec $k=30$, $t_0=0$, $y_0=2$, $T=2$ et $\\Delta t = 2^{-5}$, et afficher le résultat obtenu, ainsi que la solution théorique. Comparer avec le résultat donné par la méthode d'Euler explicite.\n"
   ]
  },
  {
   "cell_type": "markdown",
   "metadata": {},
   "source": [
    "<div class=\"alert alert-block alert-info\">\n",
    "    \n",
    "</div>"
   ]
  },
  {
   "cell_type": "code",
   "execution_count": null,
   "metadata": {},
   "outputs": [],
   "source": [
    "def f_2(t, y):\n",
    "    # fonction second membre\n",
    "    return k*y*(1-y)\n",
    "\n",
    "def df_2(t, y):\n",
    "    # fonction dérivée de f_2 en fonction de y\n",
    "    return "
   ]
  },
  {
   "cell_type": "code",
   "execution_count": null,
   "metadata": {
    "scrolled": false
   },
   "outputs": [],
   "source": [
    "# Tracer la solution numérique donnée par les schémas d'Euler implicite et explicite\n",
    "# avec les paramètres donnés pour la fonction \n",
    "# Comparer avec la solution exacte\n",
    "\n"
   ]
  },
  {
   "cell_type": "markdown",
   "metadata": {},
   "source": [
    "### Question 3 : A-stabilité\n",
    ">Un schéma numérique est dit *A-stable*, si lorsqu'on l'applique à l'équation\n",
    ">\n",
    ">$$  \\left\\{  \\begin{aligned}\n",
    "      y'&=\\lambda y, \\\\\n",
    "      y(0)&=1,\n",
    "    \\end{aligned} \\right. \n",
    "\\qquad{} (2)\n",
    "$$\n",
    ">\n",
    ">avec $\\Re(\\lambda)<0$, alors la suite $\\vert y_n\\vert $ décroit vers $0$.\n",
    ">\n",
    ">Ce critère de A-stabilité a donc un sens uniquement pour les systèmes dissipatifs. Lors de la simulation de problèmes physiques, il arrive souvent que le système soit dissipatif seulement dans un certain régime. C'est également le cas à la question suivante.\n",
    "\n",
    "1) Ecrire explicitement les suites données par les méthodes d'Euler explicite et implicite appliquées à (2).\n",
    "\n",
    "2) **Euler implicite :** \n",
    "\n",
    "a) *$\\lambda \\in \\mathbb{R}_{-}^{*}$ réel et strictement négatif* : \n",
    "Montrer que le schéma d'Euler implicite est A-stable (sans condition sur $\\Delta t$).\n",
    "\n",
    "b) *$\\lambda \\in \\mathbb{R}_{+}^{*}$ réel et strictement positif* : \n",
    "Distinguer différents régimes en fonction de $\\Delta t$ et $\\lambda$, pour lesquels la méthode d'Euler implicite donne des résultats qualitativement différents (croissance, décroissance, limite, oscillations...) en comparaison de la solution exacte.\n",
    "\n",
    "3) **Euler explicite :**\n",
    "\n",
    "a) *$\\lambda \\in \\mathbb{R}_{-}^{*}$ réel et strictement négatif* : \n",
    "Montrer que la méthode d'Euler explicite est seulement *conditionnellement* A-stable, c'est-à-dire qu'elle est A-stable seulement si le pas $\\Delta t$ respecte une certaine condition liée à $\\lambda$.\n",
    "Distinguer différents régimes en fonction de $\\Delta t$ et $\\lambda$, pour lesquels la méthode d'Euler explicite donne des résultats qualitativement différents (croissance, décroissance, limite, oscillations...) en comparaison de la solution exacte.\n",
    "\n",
    "b) *$\\lambda \\in \\mathbb{R}_{+}^{*}$ réel et strictement positif* : \n",
    "Montrer que la suite des $y_n$ donnée schéma d'Euler explicite est strictement croissante (sans condition sur $\\Delta t$)."
   ]
  },
  {
   "cell_type": "markdown",
   "metadata": {},
   "source": [
    "<div class=\"alert alert-block alert-info\">\n",
    "    \n",
    "</div>"
   ]
  },
  {
   "cell_type": "markdown",
   "metadata": {},
   "source": [
    "<div class=\"alert alert-block alert-info\">\n",
    "    <h3>Euler implicite</h3>\n",
    "</div>"
   ]
  },
  {
   "cell_type": "markdown",
   "metadata": {},
   "source": [
    "<div class=\"alert alert-block alert-info\">\n",
    "    <h3>Euler explicite</h3>\n",
    "</div>"
   ]
  },
  {
   "cell_type": "markdown",
   "metadata": {},
   "source": [
    "### Question 4 : Une illustration sur un modèle jouet\n",
    "\n",
    "On considère toujours l'équation logistique (3), cette fois-ci avec $y_0=0.0001$ (et toujours $t_0=0$, $T=2$ et $\\Delta t = 2^{-5}$). \n",
    "\n",
    "$1$. **<font color=black><span style=\"background-color:deepskyblue\">Bonus :</span></font>** Utiliser les algorithmes d'Euler explicite et implicite, d'abord pour $k=30$, puis pour $k=50$, et enfin pour $k=70$. Afficher les solutions obtenues (et la solutions théorique correspondante).\n",
    "\n",
    "$2$. **<font color=black><span style=\"background-color:deepskyblue\">Bonus :</span></font>**  Commenter les résultats obtenus. *On pourra faire le parallèle avec le comportement des méthodes d'Euler explicites et implicites pour les équations $y'=ky$ et $y'=-ky$ comme étudié à la question 2.* "
   ]
  },
  {
   "cell_type": "code",
   "execution_count": null,
   "metadata": {
    "scrolled": true
   },
   "outputs": [],
   "source": [
    "# Tracer les solutions numériques donnée par les schémas d'Euler implicite et explicite pour k=30\n",
    "# Comparer avec la solution exacte\n",
    "\n"
   ]
  },
  {
   "cell_type": "markdown",
   "metadata": {},
   "source": [
    "**Réponse :** "
   ]
  },
  {
   "cell_type": "markdown",
   "metadata": {},
   "source": [
    "<div class=\"alert alert-block alert-info\">\n",
    "    \n",
    "</div>"
   ]
  },
  {
   "cell_type": "code",
   "execution_count": null,
   "metadata": {},
   "outputs": [],
   "source": [
    "# Tracer les solutions numériques donnée par les schémas d'Euler implicite et explicite pour k=50\n",
    "# Comparer avec la solution exacte\n",
    "\n"
   ]
  },
  {
   "cell_type": "markdown",
   "metadata": {},
   "source": [
    "**Réponse :** "
   ]
  },
  {
   "cell_type": "markdown",
   "metadata": {},
   "source": [
    "<div class=\"alert alert-block alert-info\">\n",
    "    \n",
    "</div>"
   ]
  },
  {
   "cell_type": "code",
   "execution_count": null,
   "metadata": {
    "scrolled": true
   },
   "outputs": [],
   "source": [
    "# Tracer les solutions numériques donnée par les schémas d'Euler implicite et explicite pour k=70\n",
    "# Comparer avec la solution exacte\n"
   ]
  },
  {
   "cell_type": "markdown",
   "metadata": {},
   "source": [
    "**Réponse :**"
   ]
  },
  {
   "cell_type": "markdown",
   "metadata": {},
   "source": [
    "<div class=\"alert alert-block alert-info\">\n",
    "    \n",
    "</div>"
   ]
  }
 ],
 "metadata": {
  "kernelspec": {
   "display_name": "Python 3 (ipykernel)",
   "language": "python",
   "name": "python3"
  },
  "language_info": {
   "codemirror_mode": {
    "name": "ipython",
    "version": 3
   },
   "file_extension": ".py",
   "mimetype": "text/x-python",
   "name": "python",
   "nbconvert_exporter": "python",
   "pygments_lexer": "ipython3",
   "version": "3.9.12"
  },
  "latex_envs": {
   "LaTeX_envs_menu_present": true,
   "autoclose": false,
   "autocomplete": false,
   "bibliofile": "biblio.bib",
   "cite_by": "apalike",
   "current_citInitial": 1,
   "eqLabelWithNumbers": true,
   "eqNumInitial": 1,
   "hotkeys": {
    "equation": "Ctrl-E",
    "itemize": "Ctrl-I"
   },
   "labels_anchors": false,
   "latex_user_defs": false,
   "report_style_numbering": false,
   "user_envs_cfg": false
  },
  "toc": {
   "base_numbering": 1,
   "nav_menu": {},
   "number_sections": false,
   "sideBar": true,
   "skip_h1_title": false,
   "title_cell": "Table of Contents",
   "title_sidebar": "Contents",
   "toc_cell": false,
   "toc_position": {},
   "toc_section_display": true,
   "toc_window_display": false
  }
 },
 "nbformat": 4,
 "nbformat_minor": 4
}
