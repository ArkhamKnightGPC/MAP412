{
 "cells": [
  {
   "cell_type": "markdown",
   "metadata": {},
   "source": [
    "# PC 6 : Résolution numérique de problèmes non-linéaires"
   ]
  },
  {
   "cell_type": "markdown",
   "metadata": {},
   "source": [
    "**<big> Préparation avant la PC :</big>** \n",
    "**La question 1 des exercices 1 et 2 sont à préparer** avant la séance de PC du 05/10.\n",
    "\n",
    "**<big><font color=black><span style=\"background-color:skyblue\">À rendre</span></font> après la PC :</big>**\n",
    "**Les exercices 1, 2 et 3  contiennent des parties <font color=black><span style=\"background-color:skyblue\">à rendre</span></font> avant le 09/10 à 20h00. La question 3 de l'exercice 2 et la question 2 de l'exercice 3 sont en <font color=black><span style=\"background-color:deepskyblue\">bonus</span></font>.**"
   ]
  },
  {
   "cell_type": "code",
   "execution_count": 4,
   "metadata": {},
   "outputs": [],
   "source": [
    "# Ce package permet de travailler efficacement avec des tableaux\n",
    "import numpy as np\n",
    "# Ce package propose des fonctions classiques d'algebre lineaire\n",
    "import numpy.linalg as lin\n",
    "# On pourra se servir des fonctions lu_factor et lu_solve pour construire la méthode de Newton pour les systèmes \n",
    "from scipy.linalg import lu_factor, lu_solve\n",
    "\n",
    "# Ce package permet de faire des sorties graphiques\n",
    "from matplotlib import pyplot as plt\n",
    "\n",
    "# Ce package permet de travailler avec une arithmetique d'intervalle\n",
    "# utilise a l'exercice 4\n",
    "from mpmath import iv, mpf"
   ]
  },
  {
   "cell_type": "markdown",
   "metadata": {},
   "source": [
    "## Exercice 1 : Méthode de Newton"
   ]
  },
  {
   "cell_type": "markdown",
   "metadata": {},
   "source": [
    "### Question 1 : Quelques exemples\n",
    "\n",
    "Dans cet exercice, on considère les fonctions suivantes \n",
    "\n",
    "$$f_1(x) = e^x - 2, \\qquad{} f_2(x) = \\displaystyle \\frac{x}{\\sqrt{1+x^2}}, \\qquad{} f_3(x) = x^3.  \\qquad{} (1)$$"
   ]
  },
  {
   "cell_type": "markdown",
   "metadata": {},
   "source": [
    "$1$. Pour chacune de ces fonctions, écrire explicitement la suite récurrente donnée par l'algorithme de Newton. "
   ]
  },
  {
   "cell_type": "markdown",
   "metadata": {},
   "source": [
    "<div class=\"alert alert-block alert-info\">\n",
    "    Pour $f_1$ on a $x_{n+1} = x_n - 1 + 2e^{-x_n}$. $\\\\$\n",
    "    Pour $f_2$ on a $x_{n+1} = -x_n^2$. $\\\\$\n",
    "    Pour $f_3$ on a $x_{n+1} = \\frac{2}{3}x_n$.\n",
    "</div>"
   ]
  },
  {
   "cell_type": "markdown",
   "metadata": {},
   "source": [
    "$2$. En général, sous quelle condition formelle sur $x_0\\in\\mathbb{R}$ l'algorithme de Newton converge t-il? Déterminer, pour chacune des fonctions, pour quelles valeurs de $x_0$ l'algorithme va converger ou diverger."
   ]
  },
  {
   "cell_type": "markdown",
   "metadata": {},
   "source": [
    "<div class=\"alert alert-block alert-info\">\n",
    "    Soit $g(x) = x - 1 + 2e^{-x}$. On remarque que $g(x)$ est convexe et admet le minimum global $g(\\ln 2) = \\ln 2$. $\\\\$\n",
    "    On remarque aussi que $g'(x) = 1 - 2e^{-x} < 1 \\implies g(x) < x \\quad \\forall x \\in [\\ln 2, +\\infty] $ $\\\\$\n",
    "    Alors pour $f_1$ on calcule $L = \\lim_{n \\to +\\infty} \\left| \\frac{x_{n+1}}{x_n} \\right| = \\left| \\frac{g(x_n)}{x_n} \\right| < 1$. $\\\\$\n",
    "    Donc, par le ratio test on conclue que la suite converge et la seule limite possible est $\\ln 2$. $\\\\$\n",
    "    Pour $f_2$, la suite $(x_n)$ converge $\\iff |x_0| < 1$. $\\\\$\n",
    "    Pour $f_3$, la suite $(x_n)$ converge $\\forall x_0 \\in \\mathbb{R}$.\n",
    "</div>"
   ]
  },
  {
   "cell_type": "markdown",
   "metadata": {},
   "source": [
    "### Question 2 : Ordre de convergence\n",
    "\n",
    "> On note $x^*$ le zéro qu'on cherche à approcher, et $\\epsilon_n = |x_n-x^*|$ l'erreur à l'itération $n$. Si $(x_n)$ converge vers $x^*$, on rappelle que l'ordre de convergence de la suite $(x_n)$ est la plus grande constante $\\tau\\geq 1$ telle qu'il existe une constant $C>0$ ($C<1$ si $\\tau=1$) satisfaisant \n",
    ">\n",
    ">$$\\epsilon_{n+1} \\le C \\epsilon_n^\\tau \\qquad{}\\forall~n\\geq 0.$$\n",
    ">\n",
    "> On parle de convergence linéaire si $\\tau=1$, de convergence quadratique si $\\tau=2$, etc."
   ]
  },
  {
   "cell_type": "markdown",
   "metadata": {},
   "source": [
    "$1$. Déterminer l'ordre de convergence de la méthode de Newton pour les fonctions $f_2$ et $f_3$ définies en (1)."
   ]
  },
  {
   "cell_type": "markdown",
   "metadata": {},
   "source": [
    "<div class=\"alert alert-block alert-info\">\n",
    "    Pour $f_2$ on a $e_{n+1} = e_n^3 \\implies \\tau = 3$ (ordre 3).\n",
    "    Pour $f_3$ on a $e_{n+1} = \\frac{2}{3}e_n \\implies \\tau = 1$ (ordre 1). \n",
    "</div>"
   ]
  },
  {
   "cell_type": "markdown",
   "metadata": {},
   "source": [
    "$2$. Comme on ne peut effectuer qu'un nombre fini d'opérations, on introduit généralement un, ou plusieurs, critère d'arrêt dans l'algorithme de Newton. L'algorithme s'arrête à l'itération $n$ si ce, ou l'un de ces, critère est vérifié. On propose les trois critères d'arrêt suivants \n",
    "\n",
    "$$n>N, \\qquad{} \\epsilon_n < TOL, \\qquad{} |x_{n+1}-x_n| < TOL,$$\n",
    "\n",
    "où $N$ est un entier qui fixe le nombre maximal d'itérations (e.g $N=100$), et $TOL$ est un réel qui fixe la tolérance visée (e.g $TOL=10^{-7}$). Expliquer l'utilité de ces trois critères d'arrêt. "
   ]
  },
  {
   "cell_type": "markdown",
   "metadata": {},
   "source": [
    "<div class=\"alert alert-block alert-info\">\n",
    "    Le premier critère $n > N$ existe par sécurité pour éviter une boucle infinie dans les cas où la méthode ne converge pas. $\\\\$\n",
    "    Le deuxième critère $\\epsilon_n < \\mathrm{TOL}$ est le critère théorique que nous aimerions utiliser pour assurer précision $\\mathrm{TOL}$, mais comme nous ne connaissons pas $x^*$, ce n'est pas possible. $\\\\$\n",
    "    Le troisième critère $|x_{n+1} - x_n| < \\mathrm{TOL}$ est la solution adoptée dans la pratique. Il convient de souligner qu'il ne garantit pas la convergence en $x^*$.\n",
    "</div>"
   ]
  },
  {
   "cell_type": "markdown",
   "metadata": {},
   "source": [
    "$3$. En pratique, il est souvent impossible d'évaluer $\\epsilon_n$ puisqu'on ne connait pas le zéro $x^*$ a priori. On peut alors considérer *l'erreur résiduelle* $\\delta_n=\\vert f(x_n)\\vert$. Montrer que, si $f'(x^*)\\neq 0$, on obtient le même ordre de convergence pour l'erreur résiduelle que pour $\\epsilon_n$."
   ]
  },
  {
   "cell_type": "markdown",
   "metadata": {},
   "source": [
    "<div class=\"alert alert-block alert-info\">\n",
    "    Par développement limité, on a $$ f(x_n) = f(x^*) + f'(x^*)(x_n - x^*) + o(x_n - x^*).$$\n",
    "    Alors $\\delta_n = |f'(x^*)|e_n + o(x_n - x^*) = (|f'(x^*)| + o(1))e_n = Ce_n$. $\\\\$\n",
    "    On en conclue que l'ordre de convergence est la même, on a juste une constante différente.\n",
    "</div>"
   ]
  },
  {
   "cell_type": "markdown",
   "metadata": {},
   "source": [
    "$4$. **<font color=black><span style=\"background-color:skyblue\">À rendre</span></font> :**\n",
    "\n",
    "$a$. Implémenter la méthode de Newton et tester la avec les trois fonctions introduites en (1) avec une initialisation $x_0 = 0.5$ une tolérance $TOL = 10^{-12}$ sur l'erreur résiduelle $|f(x)|$ et un nombre maximum d'itération $N_{\\max} = 50$.\n",
    "\n",
    "$b$. Calculer dans chaque cas l'erreur $\\epsilon_n$ et afficher $\\epsilon_{n+1}$ en fonction de $\\epsilon_{n}$ en échelle log-log. Comparer avec des fonctions linéaire, quadratique et cubiques. Vérifier les ordres de convergence calculés à la question précédente. Observer également l'erreur résiduelle, commenter."
   ]
  },
  {
   "cell_type": "code",
   "execution_count": 30,
   "metadata": {},
   "outputs": [],
   "source": [
    "def Newton_scalaire(f, df, x0, tol=1.e-12, N_max=50):\n",
    "    \"\"\"\n",
    "    Calcule les itérés successifs x_n obtenus par la méthode de Newton\n",
    "    ----------   \n",
    "    parametres:\n",
    "    f      : fonction dont on cherche le zero\n",
    "    df     : fonction dérivée de f\n",
    "    x_0    : valeur initiale de la suite\n",
    "    tol    : on utilise | f(x_n) | < tol comme critère d'arrêt \n",
    "    N_max : nombre maximal d'itérations\n",
    "    \n",
    "    valeurs de retour:\n",
    "    tab_x  : tableau contenant les valeurs x_n à chaque itération\n",
    "    \"\"\"\n",
    "    tab_x = np.zeros(N_max) #array pour garder x_n\n",
    "    x_n = x0\n",
    "    tab_x[0] = x0\n",
    "    eps_n = 1\n",
    "    \n",
    "    n = 1\n",
    "    while (n < N_max and eps_n >= tol):\n",
    "        y = x_n - f(x_n)/df(x_n) #on calcule x_{n+1}\n",
    "        \n",
    "        eps_n = abs(y - x_n)\n",
    "        x_n = y\n",
    "        tab_x[n] = x_n\n",
    "        n += 1\n",
    "        \n",
    "    return tab_x[:n]"
   ]
  },
  {
   "cell_type": "code",
   "execution_count": 42,
   "metadata": {},
   "outputs": [],
   "source": [
    "def f1(x):\n",
    "    # définition de f1\n",
    "    return np.exp(x) - 2\n",
    "\n",
    "def df1(x):\n",
    "    # définition de la dérivée de f1\n",
    "    return np.exp(x)"
   ]
  },
  {
   "cell_type": "code",
   "execution_count": 50,
   "metadata": {},
   "outputs": [
    {
     "name": "stdout",
     "output_type": "stream",
     "text": [
      "0.6931471805599454\n",
      "f1(resultat) = 0.0\n"
     ]
    }
   ],
   "source": [
    "# Test sur f1\n",
    "tab_x_1 = Newton_scalaire(f1, df1, 0.5)\n",
    "print(tab_x_1[-1])\n",
    "print(f\"f1(resultat) = {f1(tab_x_1[-1])}\")"
   ]
  },
  {
   "cell_type": "code",
   "execution_count": 47,
   "metadata": {},
   "outputs": [
    {
     "data": {
      "image/png": "[encoded data removed]",
      "text/plain": [
       "<Figure size 432x288 with 1 Axes>"
      ]
     },
     "metadata": {
      "needs_background": "light"
     },
     "output_type": "display_data"
    }
   ],
   "source": [
    "# 1. Tracer la courbe de convergence eps_n+1 en fonction de eps_n en échelle log-log\n",
    "# Comparer avec des fonctions linéaires, quadratiques et cubiques \n",
    "### Vous pouvez copier-coller les cellules des PC précédentes pour tracer les figures\n",
    "### Attention à l'erreur considérée à tracer (et ne pas oublier la légende, les échelles, les noms des axes...) \n",
    "n = len(tab_x_1)\n",
    "eps_n_1 = np.zeros(n - 2) #eps_n\n",
    "eps_np1_1 = np.zeros(n - 2) #eps_{n+1}\n",
    "for i in range(n-2):\n",
    "    eps_n_1[i] = abs(tab_x_1[i+1] - tab_x_1[i])\n",
    "    eps_np1_1[i] = abs(tab_x_1[i+2] - tab_x_1[i+1])\n",
    "    \n",
    "plt.figure()\n",
    "plt.title(\"Analyse ordre de convergence pour f1\")\n",
    "plt.plot(eps_n_1, eps_np1_1, label='Erreur residuelle f1')\n",
    "plt.plot(eps_n_1, eps_n_1, label='courbe ordre 1')\n",
    "plt.plot(eps_n_1, eps_n_1**2, label='courbe ordre 2')\n",
    "plt.plot(eps_n_1, eps_n_1**3, label='courbe ordre 3')\n",
    "plt.xlabel('eps_n')\n",
    "plt.ylabel('eps_{n+1}')\n",
    "plt.xscale('log')\n",
    "plt.yscale('log')\n",
    "plt.legend()\n",
    "plt.show()"
   ]
  },
  {
   "cell_type": "code",
   "execution_count": 48,
   "metadata": {},
   "outputs": [],
   "source": [
    "def f2(x):\n",
    "    # définition de f2\n",
    "    return x/np.sqrt(1+x**2)\n",
    "\n",
    "def df2(x):\n",
    "    # définition de la dérivée de f2\n",
    "    return 1/((1 + x**2)**1.5)"
   ]
  },
  {
   "cell_type": "code",
   "execution_count": 49,
   "metadata": {},
   "outputs": [
    {
     "name": "stdout",
     "output_type": "stream",
     "text": [
      "0.0\n",
      "f2(resultat) = 0.0\n"
     ]
    }
   ],
   "source": [
    "# Test sur f2\n",
    "tab_x_2 = Newton_scalaire(f2, df2, 0.5)\n",
    "print(tab_x_2[-1])\n",
    "print(f\"f2(resultat) = {f2(tab_x_2[-1])}\")"
   ]
  },
  {
   "cell_type": "code",
   "execution_count": 51,
   "metadata": {},
   "outputs": [
    {
     "data": {
      "image/png": "[encoded data removed]",
      "text/plain": [
       "<Figure size 432x288 with 1 Axes>"
      ]
     },
     "metadata": {
      "needs_background": "light"
     },
     "output_type": "display_data"
    }
   ],
   "source": [
    "# 2. Tracer la courbe de convergence eps_n+1 en fonction de eps_n en échelle log-log\n",
    "# Comparer avec des fonctions linéaires, quadratiques et cubiques \n",
    "### Vous pouvez copier-coller les cellules des PC précédentes pour tracer les figures\n",
    "### Attention à l'erreur considérée à tracer (et ne pas oublier la légende, les échelles, les noms des axes...) \n",
    "n = len(tab_x_2)\n",
    "eps_n_2 = np.zeros(n - 2) #eps_n\n",
    "eps_np1_2 = np.zeros(n - 2) #eps_{n+1}\n",
    "for i in range(n-2):\n",
    "    eps_n_2[i] = abs(tab_x_2[i+1] - tab_x_2[i])\n",
    "    eps_np1_2[i] = abs(tab_x_2[i+2] - tab_x_2[i+1])\n",
    "    \n",
    "plt.figure()\n",
    "plt.title(\"Analyse ordre de convergence pour f2\")\n",
    "plt.plot(eps_n_2, eps_np1_2, label='Erreur residuelle f2')\n",
    "plt.plot(eps_n_2, eps_n_2, label='courbe ordre 1')\n",
    "plt.plot(eps_n_2, eps_n_2**2, label='courbe ordre 2')\n",
    "plt.plot(eps_n_2, eps_n_2**3, label='courbe ordre 3')\n",
    "plt.xlabel('eps_n')\n",
    "plt.ylabel('eps_{n+1}')\n",
    "plt.xscale('log')\n",
    "plt.yscale('log')\n",
    "plt.legend()\n",
    "plt.show()"
   ]
  },
  {
   "cell_type": "code",
   "execution_count": 52,
   "metadata": {},
   "outputs": [],
   "source": [
    "def f3(x):\n",
    "    # définition de f3\n",
    "    return x**3\n",
    "\n",
    "def df3(x):\n",
    "    # définition de la dérivée de f3\n",
    "    return 3*(x**2)"
   ]
  },
  {
   "cell_type": "code",
   "execution_count": 53,
   "metadata": {},
   "outputs": [
    {
     "name": "stdout",
     "output_type": "stream",
     "text": [
      "1.1762464091129686e-09\n",
      "f3(resultat) = 1.627402323894379e-27\n"
     ]
    }
   ],
   "source": [
    "# Test sur f3\n",
    "tab_x_3 = Newton_scalaire(f3Print, df3, 0.5)\n",
    "print(tab_x_3[-1])\n",
    "print(f\"f3(resultat) = {f3(tab_x_3[-1])}\")"
   ]
  },
  {
   "cell_type": "code",
   "execution_count": 54,
   "metadata": {},
   "outputs": [
    {
     "data": {
      "image/png": "[encoded data removed]",
      "text/plain": [
       "<Figure size 432x288 with 1 Axes>"
      ]
     },
     "metadata": {
      "needs_background": "light"
     },
     "output_type": "display_data"
    }
   ],
   "source": [
    "# 3. Tracer la courbe de convergence eps_n+1 en fonction de eps_n en échelle log-log\n",
    "# Comparer avec des fonctions linéaires, quadratiques et cubiques \n",
    "### Vous pouvez copier-coller les cellules des PC précédentes pour tracer les figures\n",
    "### Attention à l'erreur considérée à tracer (et ne pas oublier la légende, les échelles, les noms des axes...) \n",
    "n = len(tab_x_3)\n",
    "eps_n_3 = np.zeros(n - 2) #eps_n\n",
    "eps_np1_3 = np.zeros(n - 2) #eps_{n+1}\n",
    "for i in range(n-2):\n",
    "    eps_n_3[i] = abs(tab_x_3[i+1] - tab_x_3[i])\n",
    "    eps_np1_3[i] = abs(tab_x_3[i+2] - tab_x_3[i+1])\n",
    "    \n",
    "plt.figure()\n",
    "plt.title(\"Analyse ordre de convergence pour f3\")\n",
    "plt.plot(eps_n_3, eps_np1_3, label='Erreur residuelle f3')\n",
    "plt.plot(eps_n_3, eps_n_3, label='courbe ordre 1')\n",
    "plt.plot(eps_n_3, eps_n_3**2, label='courbe ordre 2')\n",
    "plt.plot(eps_n_3, eps_n_3**3, label='courbe ordre 3')\n",
    "plt.xlabel('eps_n')\n",
    "plt.ylabel('eps_{n+1}')\n",
    "plt.xscale('log')\n",
    "plt.yscale('log')\n",
    "plt.legend()\n",
    "plt.show()"
   ]
  },
  {
   "cell_type": "markdown",
   "metadata": {},
   "source": [
    "**Réponse :** \n",
    "\n"
   ]
  },
  {
   "cell_type": "markdown",
   "metadata": {},
   "source": [
    "<div class=\"alert alert-block alert-info\">\n",
    "    Comme atendu, on observe convergence d'ordre $2$ pour $f_1$, d'ordre $3$ pour $f_2$ et d'ordre $1$ pour $f_3$.\n",
    "</div>"
   ]
  },
  {
   "cell_type": "markdown",
   "metadata": {},
   "source": [
    "### Question 3 : Cas dégénérés\n",
    "\n",
    ">Dans cette question, on considère une fonction $f:\\mathbb{R}\\to\\mathbb{R}$ de classe $C^\\infty$. On dit qu'un zéro $x^*$ de $f$ est de multiplicité $m$ si \n",
    ">\n",
    "> $$f^{(i)}(x^*) = 0 \\quad{} \\forall~i\\in\\{0,\\dots,m-1\\} \\qquad{} \\text{et}\\qquad{} f^{(m)}(x^*)\\neq 0.$$\n",
    ">\n",
    ">Il est dégénéré s'il est de multiplicité $m>1$."
   ]
  },
  {
   "cell_type": "markdown",
   "metadata": {},
   "source": [
    "$1$. Montrer que si l'algorithme de Newton converge vers un zéro $x^*$ dégénéré alors la convergence est seulement linéaire.\n",
    "  De même, montrer que si le zéro n'est pas dégénéré, la convergence est au moins quadratique. Expliquer les différences observées à la question 2."
   ]
  },
  {
   "cell_type": "markdown",
   "metadata": {},
   "source": [
    "<div class=\"alert alert-block alert-info\">\n",
    "    Par développement limité, on a \n",
    "    $$\\begin{align}\n",
    "    f(x_n) &= \\sum_{i=0}^m \\frac{f^{(i)}(x^*)}{i!} (x_n - x^*)^i + O\\left((x_n - x^*)^{m+1}\\right)\\\\\n",
    "    &= \\frac{f^{(m)}(x^*)}{m!} (x_n - x^*)^m + O\\left((x_n - x^*)^{m+1}\\right).\n",
    "    \\end{align}$$\n",
    "    Analogiquement, on a $$f'(x_n) = \\frac{f^{(m)}(x^*)}{(m-1)!} (x_n - x^*)^{m-1} + O\\left((x_n - x^*)^m\\right).$$\n",
    "    Alors $$\\begin{align}\n",
    "    x_{n+1} - x^* &= (x_n - x^*) - \\frac{f(x_n)}{f'(x_n)}\\\\\n",
    "    &= (x_n - x^*) - \\frac{(m-1)!}{m!}\\frac{x_n - x^* + O((x_n - x^*)^2)}{1 + O(x_n - x^*)}\\\\\n",
    "    &= (x_n - x^*) - \\frac{1}{m}((x_n - x^*) + O((x_n - x^*)^2))\\\\\n",
    "    &= \\left(1 - \\frac{1}{m}\\right)(x_n - x^*) + O((x_n - x^*)^2).\n",
    "    \\end{align}$$\n",
    "    D'où $\\epsilon_{n+1} = \\left(1 - \\frac{1}{m}\\right)\\epsilon_n + O(\\epsilon_n^2)$. $\\\\$\n",
    "    On en conclue que si le zéro est non dégénéré $\\implies \\epsilon_{n+1} = O(\\epsilon_n^2) \\implies$ ordre $\\geq 2$. Par contre, si le zéro est dégénéré, on a ordre $1$. \n",
    "</div>"
   ]
  },
  {
   "cell_type": "markdown",
   "metadata": {},
   "source": [
    "$2$. Soit $x^*$ un zéro de multiplicité $m>1$. Montrer qu'en modifiant l'algorithme de Newton sous la forme\n",
    "    \n",
    "$$x_{n+1} = x_n-m\\frac{f(x_n)}{f'(x_n)},$$\n",
    "\n",
    "alors il converge à nouveau quadratiquement. "
   ]
  },
  {
   "cell_type": "markdown",
   "metadata": {},
   "source": [
    "<div class=\"alert alert-block alert-info\">\n",
    "    Analogiquement À la question précédente, on a $$\\begin{align}\n",
    "    x_{n+1} - x^* &= (x_n - x^*) - m\\frac{f(x_n)}{f'(x_n)}\\\\\n",
    "    &= (x_n - x^*) - \\frac{m(m-1)!}{m!}\\frac{x_n - x^* + O((x_n - x^*)^2)}{1 + O(x_n - x^*)}\\\\\n",
    "    &= (x_n - x^*) - ((x_n - x^*) + O((x_n - x^*)^2))\\\\\n",
    "    &= O((x_n - x^*)^2).\n",
    "    \\end{align}$$\n",
    "    En effet, on a convergence d'ordre $2$.\n",
    "</div>"
   ]
  },
  {
   "cell_type": "markdown",
   "metadata": {},
   "source": [
    "$3$. **<font color=black><span style=\"background-color:skyblue\">À rendre</span></font> :**\n",
    "a) Implémenter l'algorithme de Newton modifié introduit ci-dessus.\n",
    "\n",
    "b) Tester le pour la fonction $x\\mapsto x^2(x^2+2)$. On utilisera un coeficient $m$ adapté et $x_0 = 0.5$.\n",
    "\n",
    "c) Étudier la convergence de la méthode et commenter. "
   ]
  },
  {
   "cell_type": "code",
   "execution_count": 55,
   "metadata": {},
   "outputs": [],
   "source": [
    "# a)\n",
    "def Newton_scalaire_modif(f, df, m, x0, tol=1.e-12, N_max=50):\n",
    "    \"\"\"\n",
    "    Calcule les itérés successifs x_n obtenus par la méthode de Newton modifiée\n",
    "    ----------   \n",
    "    parametres:\n",
    "    f     : fonction dont on cherche le zero\n",
    "    df    : fonction dérivée de f\n",
    "    m     : entier qui correspond à l'ordre du zéro\n",
    "    x_0   : valeur initiale de la suite\n",
    "    tol   : on utilise | f(x_n) | < tol comme critère d'arrêt \n",
    "    N_max : nombre maximal d'itérations\n",
    "    \n",
    "    valeurs de retour:\n",
    "    tab_x  : tableau contenant les valeurs x_n à chaque itération\n",
    "    \"\"\" \n",
    "    tab_x = np.zeros(N_max) #array pour garder x_n\n",
    "    x_n = x0\n",
    "    tab_x[0] = x0\n",
    "    eps_n = 1\n",
    "    \n",
    "    n = 1\n",
    "    while (n < N_max and eps_n >= tol):\n",
    "        y = x_n - (m*f(x_n))/df(x_n) #on calcule x_{n+1}\n",
    "        \n",
    "        eps_n = abs(y - x_n)\n",
    "        x_n = y\n",
    "        tab_x[n] = x_n\n",
    "        n += 1\n",
    "        \n",
    "    return tab_x[:n]"
   ]
  },
  {
   "cell_type": "code",
   "execution_count": 62,
   "metadata": {},
   "outputs": [],
   "source": [
    "# b)\n",
    "def f4(x):\n",
    "    #définition de la fonction f4\n",
    "    return x*x*(x*x+2)\n",
    "\n",
    "def df4(x):\n",
    "    #définition de la fonction défivée de f4\n",
    "    return 4*x*(x**2 + 1)"
   ]
  },
  {
   "cell_type": "code",
   "execution_count": 64,
   "metadata": {},
   "outputs": [
    {
     "name": "stdout",
     "output_type": "stream",
     "text": [
      "0.0\n",
      "f4(resultat) = 0.0\n"
     ]
    }
   ],
   "source": [
    "# Test sur f4\n",
    "tab_x_4 = Newton_scalaire_modif(f4, df4, 2, 0.5)\n",
    "print(tab_x_4[-1])\n",
    "print(f\"f4(resultat) = {f4(tab_x_4[-1])}\")"
   ]
  },
  {
   "cell_type": "code",
   "execution_count": 65,
   "metadata": {},
   "outputs": [
    {
     "data": {
      "image/png": "[encoded data removed]",
      "text/plain": [
       "<Figure size 432x288 with 1 Axes>"
      ]
     },
     "metadata": {
      "needs_background": "light"
     },
     "output_type": "display_data"
    }
   ],
   "source": [
    "# c)\n",
    "# 4. Tracer la courbe de convergence eps_n+1 en fonction de eps_n en échelle log-log\n",
    "# Comparer avec des fonctions linéaires, quadratiques et cubiques \n",
    "### Vous pouvez copier-coller les cellules des PC précédentes pour tracer les figures\n",
    "### Attention à l'erreur considérée à tracer (et ne pas oublier la légende, les échelles, les noms des axes...) \n",
    "n = len(tab_x_4)\n",
    "eps_n_4 = np.zeros(n - 2) #eps_n\n",
    "eps_np1_4 = np.zeros(n - 2) #eps_{n+1}\n",
    "for i in range(n-2):\n",
    "    eps_n_4[i] = abs(tab_x_4[i+1] - tab_x_4[i])\n",
    "    eps_np1_4[i] = abs(tab_x_4[i+2] - tab_x_4[i+1])\n",
    "    \n",
    "plt.figure()\n",
    "plt.title(\"Analyse ordre de convergence pour f4\")\n",
    "plt.plot(eps_n_4, eps_np1_4, label='Erreur residuelle f4')\n",
    "plt.plot(eps_n_4, eps_n_4, label='courbe ordre 1')\n",
    "plt.plot(eps_n_4, eps_n_4**2, label='courbe ordre 2')\n",
    "plt.plot(eps_n_4, eps_n_4**3, label='courbe ordre 3')\n",
    "plt.xlabel('eps_n')\n",
    "plt.ylabel('eps_{n+1}')\n",
    "plt.xscale('log')\n",
    "plt.yscale('log')\n",
    "plt.legend()\n",
    "plt.show()"
   ]
  },
  {
   "cell_type": "markdown",
   "metadata": {},
   "source": [
    "**Réponse :** "
   ]
  },
  {
   "cell_type": "markdown",
   "metadata": {},
   "source": [
    "<div class=\"alert alert-block alert-info\">\n",
    "    Avec l'algorithme classique, on a ordre de convergence $1$. Avec l'algorithme modifié, on s'attendait à une ordre de convergence $\\geq 2$ et, en effet, on observe ordre de convergence $3$.\n",
    "</div>"
   ]
  },
  {
   "cell_type": "markdown",
   "metadata": {},
   "source": [
    "## Exercice 2 : Bissection, trissection et algorithme hybride \n",
    "\n",
    "> Dans tout cet exercice, on considère une fonction continue $f:[a,b] \\to \\Bbb{R}$ avec $f(a)f(b) \\leq 0$. "
   ]
  },
  {
   "cell_type": "markdown",
   "metadata": {},
   "source": [
    "### Question 1\n",
    "\n",
    ">On considère $k\\geq 2$ fixé et on suppose maintenant qu'à chaque itération, on découpe l'intervalle en $k\\geq 2$ sous-intervalles de même longueurs, et qu'on garde un intervalle sur lequel $f$ change de signe pour l'itération suivante ($k=2$ correspond à la bissection, $k=3$ à la trissection, etc). \n",
    "\n",
    "$1$. Montrer que l'erreur (c'est à dire la longueur de l'intervalle dans lequel on est sûr qu'il existe un zéro), en fonction de $b-a$, de $k$, et du nombre $n$ d'évaluations de $f$ qu'on a effectué, peut s'écrire\n",
    "\n",
    "$$err_{k,n} = \\frac{b-a}{k^{\\left\\lfloor \\frac{n}{k-1}\\right\\rfloor}},$$\n",
    "\n",
    "où $\\left\\lfloor \\cdot\\right\\rfloor$ est la partie entière. *On supposera que $f(a)$ et $f(b)$ ont été évalués, et on ne les comptera donc pas dans le nombre d'évaluations de $f$*.\n",
    "\n",
    "$2$. Trouver l'entier $k\\geq 2$ qui donne asymptotiquement (pour un grand nombre d'évaluations $n$ de $f$) la plus petite erreur."
   ]
  },
  {
   "cell_type": "markdown",
   "metadata": {},
   "source": [
    "<div class=\"alert alert-block alert-info\">\n",
    "    <h3>Question 1.1</h3>\n",
    "    On note que après une itération, on a fait $(k-1)$ evals de f et on a une erreur $\\frac{b-a}{k}$.\n",
    "    Par récurrence, on montre que $j$ itérations, on a fait $n = j(k-1)$ evals de f et on a une erreur $\\frac{b-a}{k^j}$. $\\\\$ \n",
    "    Alors, soit $n = m(k-1) + r \\quad m,r \\in \\mathbb{N} \\quad r < k-1$. On a une erreur $\\frac{b-a}{k^m}$ avec $m = \\lfloor \\frac{n}{k-1} \\rfloor$.\n",
    "    <h3>Question 1.2</h3>\n",
    "    Lorsque $n \\to +\\infty$, on a $$ \\mathrm{err}_{k,n} = \\frac{b-a}{k^{\\frac{n}{k-1}}} = \\frac{b-a}{e^{n\\frac{\\ln k}{k-1}}}.$$\n",
    "    Pour minimiser l'erreur on cherche à maximiser $\\frac{\\ln k}{k-1}$ avec $2 \\leq k \\in \\mathbb{N}$. $\\\\$\n",
    "    Soit $f(x) = \\frac{\\ln x}{x - 1} \\implies f'(x) = \\frac{x - 1 - x \\ln x}{x(x-1)^2} \\implies f'(x) < 0 \\quad \\forall x \\geq 2$. $\\\\$\n",
    "    Donc, l'erreur est minimisé pour $k=2$.\n",
    "</div>"
   ]
  },
  {
   "cell_type": "markdown",
   "metadata": {},
   "source": [
    "### Question 2\n",
    "\n",
    "**<font color=black><span style=\"background-color:skyblue\">À rendre</span></font> :**\n",
    "\n",
    "a) Implémenter une fonction qui applique la méthode de la bissection et renvoye le tableaux des points milieux $x_n$ des intervales à chaque itération. *Penser à vérifier dès le début de l'algorithme qu'on a bien $f(a)$ et $f(b)$ de signe différent.* \n",
    "\n",
    "b)Tester votre algorithme sur la fonction $g(x) = \\ln(x)+2$, avec $a=0.1$ et $b=1$.\n",
    "\n",
    "c) Tracer une courbe d'erreur $\\epsilon_n = |x_n-x_*|$ en fonction de $n$. À partir de l'étude de convergence à la question précédente, proposer une courbe de référence à laquelle comparer cette courbe d'erreur et tracer les deux courbes sur le même graphe et avec une échelle adaptée. "
   ]
  },
  {
   "cell_type": "code",
   "execution_count": null,
   "metadata": {},
   "outputs": [],
   "source": [
    "# a)\n",
    "def bissection(f, a, b, tol=1.e-12, N_max=500):\n",
    "    \"\"\"\n",
    "    Calcule les itérés successifs x_n obtenus par la méthode de la bissection sur [a,b]\n",
    "    ----------   \n",
    "    parametres:\n",
    "    f     : fonction dont on cherche le zero\n",
    "    a,b   : bornes de l'intervalle dans lequel on cherche un zéro\n",
    "    tol   : on utilise | a - b | < tol comme critère d'arrêt \n",
    "    N_max : nombre maximal d'itérations\n",
    "    \n",
    "    valeurs de retour:\n",
    "    tab_x : tableau contenant les valeurs x_n à chaque itération\n",
    "    \"\"\"  \n",
    "                \n",
    "    return "
   ]
  },
  {
   "cell_type": "code",
   "execution_count": null,
   "metadata": {},
   "outputs": [],
   "source": [
    "# Cellule de test\n",
    "# par exemple : vérifier que les premières itérations correspondent à des intervalles sur lesquels la fonction change de signe\n",
    "\n"
   ]
  },
  {
   "cell_type": "code",
   "execution_count": null,
   "metadata": {},
   "outputs": [],
   "source": [
    "#b) \n",
    "def g(x):\n",
    "    # définition de la fonction f\n",
    "    return np.log(x) + 2"
   ]
  },
  {
   "cell_type": "code",
   "execution_count": null,
   "metadata": {},
   "outputs": [],
   "source": [
    "# Test sur f\n",
    "\n"
   ]
  },
  {
   "cell_type": "code",
   "execution_count": null,
   "metadata": {},
   "outputs": [],
   "source": [
    "#c)\n",
    "# Tracer la courbe de convergence\n",
    "# Comparer avec une fonction de référence \n",
    "### Attention à l'erreur que vous cherchez à tracer (et ne pas oublier la légende, les échelles, les noms des axes...) \n",
    "\n",
    "\n"
   ]
  },
  {
   "cell_type": "markdown",
   "metadata": {},
   "source": [
    "### Question 3 \n",
    "\n",
    ">On considère maintenant une fonction $f:[a,b] \\to \\Bbb{R}$ de classe $\\mathcal{C}^2$, toujours avec $f(a)f(b) \\leq 0$. On va chercher à combiner les avantages des méthodes étudiées jusqu'ici pour obtenir un algorithme hybride Bissection-Newton, qui converge à chaque fois comme la bissection, mais avec une vitesse de convergence qui soit asymptotiquement quadratique si le zéro est non-dégénéré, comme pour la méthode de Newton. "
   ]
  },
  {
   "cell_type": "markdown",
   "metadata": {},
   "source": [
    "Pour l'exemple, considérons la fonction $h(x) = x^5-x+1$ sur l'intervalle $[-2.5,2.5]$.\n",
    "\n",
    "$1$. **<font color=black><span style=\"background-color:deepskyblue\">Bonus</span></font> :** Tester la méthode de Newton pour cette fonction avec $x_0=-1$, puis avec $x_0=1$. En cas de non-convergence, expliquer le comportement observé."
   ]
  },
  {
   "cell_type": "code",
   "execution_count": null,
   "metadata": {},
   "outputs": [],
   "source": [
    "def h(x):\n",
    "    # définition de la fonction h\n",
    "    return x**5 - x + 1.\n",
    "\n",
    "def dh(x):\n",
    "    # définition de la fonction dérivée de h\n",
    "    return "
   ]
  },
  {
   "cell_type": "code",
   "execution_count": null,
   "metadata": {},
   "outputs": [],
   "source": [
    "# Test sur g\n",
    "\n"
   ]
  },
  {
   "cell_type": "code",
   "execution_count": null,
   "metadata": {},
   "outputs": [],
   "source": [
    "# Tracer la courbe de convergence\n",
    "# Comparer avec des fonctions linéaires, quadratiques et cubiques \n",
    "\n"
   ]
  },
  {
   "cell_type": "markdown",
   "metadata": {},
   "source": [
    "**Réponse :**"
   ]
  },
  {
   "cell_type": "markdown",
   "metadata": {},
   "source": [
    "$2$. On considère l'algorithme hybride Bissection-Newton suivant : à chaque itération $n$, \n",
    "- calculer le point milieu $x_{n+1}^{bis} := \\frac{a_n + b_n}{2}$\n",
    "- calculer le point donnée par l'itération de Newton $x_{n+1}^{Newt} := x_n - \\frac{f(x_n)}{f'(x_n)}$\n",
    "- chosir $x_{n+1}$ parmi $x_{n+1}^{bis}$ et $x_{n+1}^{Newt}$ celui qui minimise $f$\n",
    "- mettre à jour l'intervalle $[a_{n+1},b_{n+1}]$ comme dans la méthode de la bissection. \n",
    "\n",
    "L'algorithme s'arrête si $b_n-a_n < tol$, si $|f(x_n)|<tol$ ou si $n>N_{\\max}$.\n",
    "\n",
    "Implémenter cet algorithme. Tester votre algorithme sur la fonction $h$ définie ci-dessus avec $a_0 = -2.5$ et $b_0 = 2.5$. Représenter graphiquement la courbe de convergence et commenter le comportement de votre algorithme. "
   ]
  },
  {
   "cell_type": "code",
   "execution_count": null,
   "metadata": {},
   "outputs": [],
   "source": [
    "def hybride(f, df, a, b, tol=1.e-12, N_max=50):\n",
    "    \"\"\"\n",
    "    Calcule les itérés successifs x_n obtenus par la méthode hybride bissection-Newton sur [a,b]\n",
    "    ----------   \n",
    "    parametres:\n",
    "    f     : fonction dont on cherche le zero\n",
    "    df    : fonction dérivée de f\n",
    "    a,b   : bornes de l'intervalle dans lequel on cherche un zéro\n",
    "    tol   : on utilise | a-b | < tol comme critère d'arrêt \n",
    "    N_max : nombre maximal d'itérations\n",
    "    \n",
    "    valeurs de retour:\n",
    "    tab_x : tableau contenant les valeurs x_n à chaque itération\n",
    "    \"\"\"        \n",
    " \n",
    "    return "
   ]
  },
  {
   "cell_type": "code",
   "execution_count": null,
   "metadata": {},
   "outputs": [],
   "source": [
    "# Test sur h\n",
    "\n"
   ]
  },
  {
   "cell_type": "code",
   "execution_count": null,
   "metadata": {},
   "outputs": [],
   "source": [
    "# Tracer la courbe de convergence\n",
    "# Comparer avec les erreurs calculées au 1.\n",
    "\n"
   ]
  },
  {
   "cell_type": "markdown",
   "metadata": {},
   "source": [
    "**Réponse :**"
   ]
  },
  {
   "cell_type": "markdown",
   "metadata": {},
   "source": [
    "## Exercice 3 : Un système non-linéaire\n",
    "\n",
    "On étudie ici la méthode de Newton et de quasi-Newton pour la résolution du système suivant, inspiré de [[1](#Wos),[2](#High)]\n",
    "\n",
    "$$ \\left\\{\\begin{array}{rl} x_1 - x_2 &= 0, \\\\ x_1^3 + \\mu x_2^3 - \\mu &=0, \\end{array} \\right. \\qquad{} (2) $$\n",
    "\n",
    "où $\\mu\\in\\mathbb{R}$ est un paramètre du problème."
   ]
  },
  {
   "cell_type": "markdown",
   "metadata": {},
   "source": [
    "### Question 1 : Méthode de Newton\n",
    "\n",
    "$1$. Mettre le système (2) sous la forme $F(x) = 0$ avec $x=(x_1,x_2)^T$ et calculer explicitement la Jacobienne $J_F(x)$ et son déterminant. "
   ]
  },
  {
   "cell_type": "markdown",
   "metadata": {},
   "source": [
    "<div class=\"alert alert-block alert-info\">\n",
    "    \n",
    "</div>"
   ]
  },
  {
   "cell_type": "markdown",
   "metadata": {},
   "source": [
    "$2$. **<font color=black><span style=\"background-color:skyblue\">À rendre</span></font> :** Implémenter l'algorithme de Newton pour ce problème et le tester avec $\\mu = 1$, $x_0=(1,2)^T$ un nombre d'itération maximum $N_{\\max} = 10^3$ et une tolérance $TOL=10^{-15}$ sur l'erreur résiduelle $\\|F(x)\\|$. Calculer la solution exacte $x_*$ du système et comparer avec votre solution approchée.\n",
    "\n",
    "*On pourra utiliser la fonction numpy.linalg.solve pour la résolution du système linéaire à chaque itération de Newton et la fonction numpy.linalg.norm pour le calcul de $\\|F(x)\\|$.*"
   ]
  },
  {
   "cell_type": "code",
   "execution_count": null,
   "metadata": {},
   "outputs": [],
   "source": [
    "def F(x, mu): \n",
    "    \"\"\"\n",
    "    Calcule F(x)\n",
    "    ----------   \n",
    "    parametres:\n",
    "    x     : point où F est évalué (np.array de taille 2) \n",
    "    mu    : paramètre de la fonction F\n",
    "    \n",
    "    valeurs de retour:\n",
    "    F(x)  : valeur de F au point x (np.array de taille 2) \n",
    "    \"\"\"\n",
    "    return np.array([x[0]-x[1], x[0]**3 + mu*x[1]**3 - mu])\n",
    "    \n",
    "def JF(x,mu):   \n",
    "    \"\"\"\n",
    "    Calcule la jacobienne de F au point x\n",
    "    ----------   \n",
    "    parametres:\n",
    "    x     : point où JF est évalué (np.array de taille 2) \n",
    "    mu    : paramètre de la fonction F\n",
    "    \n",
    "    valeurs de retour:\n",
    "    JF(x) : valeur de la jacobienne de F au point x (np.array de taille 2x2) \n",
    "    \"\"\"\n",
    "    return "
   ]
  },
  {
   "cell_type": "code",
   "execution_count": null,
   "metadata": {},
   "outputs": [],
   "source": [
    "def Newton_system(mu, x0, tol=1.e-15, N_max=1000):\n",
    "    \"\"\"\n",
    "    Calcule les itérés successifs x_n obtenus par la méthode de Newton sur le système (2)\n",
    "    ----------   \n",
    "    parametres:\n",
    "    mu    : parametre de la fonction F\n",
    "    x_0   : valeur initiale de la suite\n",
    "    tol   : on utilise || F(x_n) || < tol comme critère d'arrêt \n",
    "    N_max : nombre maximal d'itérations\n",
    "    \n",
    "    valeurs de retour:\n",
    "    tab_x  : tableau contenant les valeurs x_n à chaque itération\n",
    "    \"\"\"\n",
    "        \n",
    "    return "
   ]
  },
  {
   "cell_type": "code",
   "execution_count": null,
   "metadata": {},
   "outputs": [],
   "source": [
    "# Test sur F\n",
    "\n"
   ]
  },
  {
   "cell_type": "code",
   "execution_count": null,
   "metadata": {},
   "outputs": [],
   "source": [
    "# Test unitaire :\n",
    "# calculer la (unique) solution exacte (x1, x2) du problème F(x) = 0\n",
    "# vérifier que le résultat numérique obtenu est proche de cette solution exacte \n",
    "\n",
    "print(\"Solution exacte    =\", )\n",
    "print(\"Solution numérique =\", )"
   ]
  },
  {
   "cell_type": "markdown",
   "metadata": {},
   "source": [
    "$3$. **<font color=black><span style=\"background-color:skyblue\">À rendre</span></font> :** Calculer l'erreur $\\epsilon_n = \\|x^n-x_*\\|$ et afficher $\\epsilon_{n+1}$ en fonction de $\\epsilon_{n}$ en échelle log-log. Comparer avec des fonctions linéaire, quadratique et cubiques. L'ordre de convergence observé correspond-t-il à celui prédit par la théorie? Observer également l'erreur résiduelle $\\|F(x^n)\\|$, commenter."
   ]
  },
  {
   "cell_type": "code",
   "execution_count": null,
   "metadata": {},
   "outputs": [],
   "source": [
    "# Tracer la courbe de convergence\n",
    "# Comparer avec des fonctions linéaires, quadratiques et cubiques \n",
    "\n"
   ]
  },
  {
   "cell_type": "markdown",
   "metadata": {},
   "source": [
    "**Réponse :**\n",
    "\n"
   ]
  },
  {
   "cell_type": "markdown",
   "metadata": {},
   "source": [
    "### Question 2 : Méthode de quasi-Newton\n",
    "\n",
    "On fixe désormais, pour toutes les itérations, la Jacobienne à sa valeur initiale $J = J_F(x^0)$ dans la méthode de Newton. On écrit donc\n",
    "\n",
    "$$ x^{k+1} = x^k - J^{-1} F(x^k). $$"
   ]
  },
  {
   "cell_type": "markdown",
   "metadata": {},
   "source": [
    "$1$. **<font color=black><span style=\"background-color:deepskyblue\">Bonus</span></font> :** Implémenter cet algorithme de quasi-Newton pour le problème (2) et le tester avec $\\mu = 1$, $x_0=(1,2)^T$, un nombre d'itération maximum $N_{\\max} = 10^3$ et une tolérance $TOL=10^{-15}$ sur l'erreur $\\|F(x)\\|_2$.\n",
    "\n",
    "*On pourra utiliser les fonction scipy.linalg.lu_factor pour la décomposition LU et scipy.linalg.lu_solve pour la résolution du système linéaire à chaque itération.*"
   ]
  },
  {
   "cell_type": "code",
   "execution_count": null,
   "metadata": {},
   "outputs": [],
   "source": [
    "def quasi_Newton_system(mu, x0, tol=1.e-15, N_max=1000):\n",
    "    \"\"\"\n",
    "    Calcule les itérés successifs x_n obtenus par la méthode de Newton\n",
    "    ----------   \n",
    "    parametres:\n",
    "    mu    : parametre de la fonction F\n",
    "    x_0   : valeur initiale de la suite\n",
    "    tol   : on utilise || F(x_n) || < tol comme critère d'arrêt \n",
    "    N_max : nombre maximal d'itérations\n",
    "    \n",
    "    valeurs de retour:\n",
    "    tab_x  : tableau contenant les valeurs x_n à chaque itération\n",
    "    \"\"\"   \n",
    "        \n",
    "    return "
   ]
  },
  {
   "cell_type": "code",
   "execution_count": null,
   "metadata": {},
   "outputs": [],
   "source": [
    "# Test sur F\n",
    "\n"
   ]
  },
  {
   "cell_type": "code",
   "execution_count": null,
   "metadata": {},
   "outputs": [],
   "source": [
    "# Test unitaire :\n",
    "# vérifier que le résultat numérique obtenu est proche de cette solution exacte \n"
   ]
  },
  {
   "cell_type": "markdown",
   "metadata": {},
   "source": [
    "$2$. **<font color=black><span style=\"background-color:deepskyblue\">Bonus</span></font> :** Tracer les courbes de convergence pour la méthode de quasi-Newton et donner son taux de convergence. Comparer avec la méthode de Newton. Quelle méthode vous parait la plus avantageuse ici? Dans quelles circonstances la méthode de quasi-Newton peut-elle avoir un intérêt?"
   ]
  },
  {
   "cell_type": "code",
   "execution_count": null,
   "metadata": {},
   "outputs": [],
   "source": [
    "# Tracer la courbe de convergence\n",
    "# Comparer avec des fonctions linéaires, quadratiques et cubiques \n",
    "\n"
   ]
  },
  {
   "cell_type": "markdown",
   "metadata": {},
   "source": [
    "**Réponse :** \n",
    "\n"
   ]
  },
  {
   "cell_type": "markdown",
   "metadata": {},
   "source": [
    "$3$. **<font color=black><span style=\"background-color:deepskyblue\">Bonus</span></font> :** Étudier maintenant les taux de convergence des méthodes de Newton et de quasi-Newton pour $\\mu = 0$. Interpréter ce changement."
   ]
  },
  {
   "cell_type": "code",
   "execution_count": null,
   "metadata": {},
   "outputs": [],
   "source": [
    "# Tracer la courbe de convergence\n",
    "# Comparer avec des fonctions linéaires, quadratiques et cubiques \n",
    "\n"
   ]
  },
  {
   "cell_type": "markdown",
   "metadata": {},
   "source": [
    "**Réponse :** \n",
    "\n"
   ]
  },
  {
   "cell_type": "markdown",
   "metadata": {},
   "source": [
    "## Références\n",
    "\n",
    "\n",
    "<a id=\"Wos\">[1] H. Wozniakowski. Numerical stability for solving nonlinear equations. Numer. Math., 27:373-390, 1977.</a>\n",
    "\n",
    "<a id=\"High\">[2] N. J. Higham. Accuracy and stability of numerical algorithms. Second edition. SIAM. </a>\n",
    "\n",
    "<a id=\"CiaMar12\">[3] Philippe G. Ciarlet and Cristinel Mardare. On the Newton-Kantorovich theorem.\n",
    "*Analysis and Applications*, 10(03):249--269, 2012.</a>\n",
    "\n",
    "<a id=\"Kan48\">[4] Leonid Vital'evich Kantorovich. Functional analysis and applied mathematics.\n",
    "*Uspekhi Matematicheskikh Nauk*, 3(6):89--185, 1948.</a>"
   ]
  }
 ],
 "metadata": {
  "kernelspec": {
   "display_name": "Python 3 (ipykernel)",
   "language": "python",
   "name": "python3"
  },
  "language_info": {
   "codemirror_mode": {
    "name": "ipython",
    "version": 3
   },
   "file_extension": ".py",
   "mimetype": "text/x-python",
   "name": "python",
   "nbconvert_exporter": "python",
   "pygments_lexer": "ipython3",
   "version": "3.9.12"
  },
  "latex_envs": {
   "LaTeX_envs_menu_present": true,
   "autoclose": false,
   "autocomplete": false,
   "bibliofile": "biblio.bib",
   "cite_by": "apalike",
   "current_citInitial": 1,
   "eqLabelWithNumbers": true,
   "eqNumInitial": 1,
   "hotkeys": {
    "equation": "Ctrl-E",
    "itemize": "Ctrl-I"
   },
   "labels_anchors": false,
   "latex_user_defs": false,
   "report_style_numbering": false,
   "user_envs_cfg": false
  },
  "toc": {
   "base_numbering": 1,
   "nav_menu": {},
   "number_sections": false,
   "sideBar": true,
   "skip_h1_title": false,
   "title_cell": "Table of Contents",
   "title_sidebar": "Contents",
   "toc_cell": false,
   "toc_position": {},
   "toc_section_display": true,
   "toc_window_display": false
  }
 },
 "nbformat": 4,
 "nbformat_minor": 4
}
