{
 "cells": [
  {
   "cell_type": "markdown",
   "metadata": {},
   "source": [
    "# PC 9 : Résolution numérique d'EDP paraboliques"
   ]
  },
  {
   "cell_type": "markdown",
   "metadata": {},
   "source": [
    "**<big> Préparation avant la PC :</big>**\n",
    "**Les question 1 des exercices 1 et 2 sont à préparer** avant la séance de PC du 09/11.\n",
    "\n",
    "**<big><font color=black><span style=\"background-color:deepskyblue\">Bonus</span></font> après la PC :</big>** \n",
    "\n",
    "**Les exercices 1 et 2 contiennent des questions d'implémentation (en bleu) qui peuvent être rendues avant le 13/11 à 20h pour obtenir un <font color=black><span style=\"background-color:deepskyblue\">bonus</span></font> sur la note finale**."
   ]
  },
  {
   "cell_type": "code",
   "execution_count": 1,
   "metadata": {},
   "outputs": [],
   "source": [
    "# Ce package permet de travailler efficacement avec des tableaux\n",
    "import numpy as np\n",
    "\n",
    "# Ce package permet de travailler avec des matrices creuses\n",
    "import scipy.sparse as sparse\n",
    "# On pourra utiliser la décomposition LU pour les matrices creuses\n",
    "from scipy.sparse.linalg import splu, spsolve\n",
    "# On pourra utiliser la fonction norme\n",
    "from numpy.linalg import norm\n",
    "\n",
    "# Ce package permet de faire des sorties graphiques\n",
    "from matplotlib import pyplot as plt"
   ]
  },
  {
   "cell_type": "markdown",
   "metadata": {},
   "source": [
    "## Exercice 1 : Équation de la chaleur\n",
    "\n",
    ">Soient $\\nu>0$ un coefficient de diffusion, un intervalle $\\Omega=]0,L[$, $L>0$, et $u^0\\in C^0(\\Omega)$ une donnée initiale. On considère l'équation de la chaleur :\n",
    ">\n",
    ">$$ \\left\\{ \\begin{aligned}\n",
    "      &\\displaystyle\\frac{\\partial u}{\\partial t}(t,x) - \\nu\\frac{\\partial^2 u}{\\partial x^2}(t,x) = 0, \\quad &\\forall (t,x) \\in\\mathbb{R}_+^*\\times\\Omega, \\\\ \n",
    "      &\\frac{\\partial u}{\\partial x}(t,0) = 0 = \\frac{\\partial u}{\\partial x}(t,L) \\quad &\\forall t\\in\\mathbb{R}_+^*, \\\\ \n",
    "      &u(x,0) = u^0(x), \\quad &\\forall x\\in\\Omega.\n",
    "    \\end{aligned}\n",
    "    \\right. \\qquad{} (1) $$\n",
    ">\n",
    ">  On admettra les résultats suivants concernant l'EDP (1) et on essaiera de démontrer leurs équivalents discrets :\n",
    ">- L'équation de la chaleur (1) admet une unique solution.\n",
    ">- **Principe du maximum :**\n",
    ">\n",
    ">$$  \\forall~0\\leq s<t<\\infty,\\ \\forall x\\in\\Omega, \\quad{} \\min_{y\\in\\Omega} u(s,y) \\leq u(t,x) \\leq \\max_{y\\in\\Omega} u(s,y).  $$\n",
    ">\n",
    ">- **Conservation de la masse :**\n",
    ">\n",
    ">  $$ \\forall~0\\leq t<\\infty, \\quad{} \\int_\\Omega u(t,x) dx = \\int_\\Omega u^0(x) dx.  $$\n",
    ">\n",
    ">- **Décroissance de l'énergie :**\n",
    ">\n",
    ">  $$ \\forall~0\\leq s<t<\\infty, \\quad{} \\int_\\Omega \\vert u(t,x)\\vert^2 dx \\leq \\int_\\Omega \\vert u(s,x)\\vert^2 dx. $$\n",
    ">\n",
    "> Afin d'étudier numériquement l'équation de la chaleur (1), on va considérer différentes méthodes numériques et étudier leurs propriétés.\n",
    ">- Pour la discrétisation en temps, on fixe un temps final $T>0$, puis on considère \n",
    ">\n",
    "> $$ N\\in\\mathbb{N}^*, \\qquad{} \\Delta t = \\frac{T}{N} \\quad{} \\text{et} \\quad{} t^n = n\\Delta t,\\ n = 0, \\dots, N. $$\n",
    ">\n",
    ">- Pour la discrétisation en espace, on considère\n",
    ">\n",
    "> $$ J\\in\\mathbb{N}^*, \\qquad{} \\Delta x = \\frac{L}{J} \\quad{} \\text{et}\\quad{} x_j = j\\Delta x,\\ j = -1, \\dots, J+1. $$\n",
    ">\n",
    ">- On note \n",
    ">\n",
    "> $$ U^0_j = u^0(x_j),\\quad{} j = 0, \\dots, J, $$\n",
    ">\n",
    ">  et on va chercher à construire de manière itérative une suite $U^n = \\left(U^n_j\\right)_{0\\leq j \\leq J}$ telle que $U^n_j$ approche $u(t^n,x_j)$.\n",
    ">\n",
    ">Pour les questions d'implémentation, dans cet exercice on prendra \n",
    ">\n",
    "> $$  \\nu = 1,\\quad{} L=10,\\quad{} J=100, \\quad{} u^0(x) = 2 - \\cos \\frac{2\\pi x}{L},  $$\n",
    ">\n",
    ">et différentes valeurs de $T$ et de $\\Delta t$ données plus loin."
   ]
  },
  {
   "cell_type": "markdown",
   "metadata": {},
   "source": [
    "### Question 1 : Solution théorique\n",
    "\n",
    "Vérifier que la solution de (1) avec la condition initiale donnée ci-dessus est\n",
    "\n",
    "$$ u(t,x) = 2 - e^{-\\nu\\frac{4\\pi^2}{L^2}t}\\cos\\left(\\frac{2\\pi x}{L}\\right). $$"
   ]
  },
  {
   "cell_type": "markdown",
   "metadata": {},
   "source": [
    "<div class=\"alert alert-block alert-info\">\n",
    "    On calcule\n",
    "    $$\\begin{align}\n",
    "    \\begin{cases}\n",
    "        \\frac{\\partial}{\\partial t} u(t,x) - \\nu \\frac{\\partial^2}{\\partial x^2} u(t,x) = \\left( \\frac{\\nu 4\\pi^2}{L^2} - \\nu\\frac{4\\pi^2}{L^2} \\right)e^{-\\nu\\frac{4\\pi^2}{L^2}t}\\cos\\left(\\frac{2\\pi x}{L}\\right) = 0\\\\\n",
    "        \\frac{\\partial}{\\partial x}u(t,0) = 0 = \\frac{\\partial}{\\partial x}u(t,L) \\\\\n",
    "        u(0, x) = 2 - \\cos\\left(\\frac{2\\pi x}{L}\\right) = u^0(x)\n",
    "    \\end{cases}\n",
    "    \\end{align}$$\n",
    "    d'où $u(t,x)$ est solution.\n",
    "</div>"
   ]
  },
  {
   "cell_type": "markdown",
   "metadata": {},
   "source": [
    "### Question 2 : Schéma \"différences finies\" explicite en temps\n",
    "\n",
    ">On considère le schéma donné par\n",
    ">\n",
    "> $$ \\frac{U^{n+1}_j - U^n_j}{\\Delta t} - \\nu \\frac{U^n_{j-1}-2U^n_j+U^n_{j+1}}{(\\Delta x)^2} = 0 \\qquad{} \\forall~n\\geq 0,\\quad{} \\forall~0 \\leq j\\leq J.\\qquad{} (2) $$\n",
    ">\n",
    ">Pour $j=0$ (resp. $j=J$), ce schéma fait apparaitre $U^n_{-1}$ (resp. $U^n_{J+1}$). Ces deux quantités seront determinées par les conditions bords. En discrétisant les conditions de Neumann de manière décentrée ou centrée, on obtient\n",
    ">\n",
    "> $$ \\frac{U_0^n - U^n_{-1}}{\\Delta x} = 0 \\quad{}\\text{et}\\quad{} \\frac{U^n_{J+1} - U^n_{J}}{\\Delta x} = 0, \\qquad{}(3a) $$\n",
    ">\n",
    ">ou\n",
    ">\n",
    "> $$ \\frac{U_1^n - U^n_{-1}}{2\\Delta x} = 0 \\quad{}\\text{et}\\quad{} \\frac{U^n_{J+1} - U^n_{J-1}}{2\\Delta x} = 0. \\qquad{} (3b) $$\n",
    ">\n",
    ">Les avantages et inconvénients de chacunes de ces deux discrétisations seront étudiés à travers les différentes questions."
   ]
  },
  {
   "cell_type": "markdown",
   "metadata": {},
   "source": [
    "$1$. **Réécriture matricielle du schéma :**\n",
    "\n",
    "Donner les matrices $A^{expl}_1$ et $A^{expl}_2$ de taille $(J+1) \\times (J+1)$ permettant d'écrire le schéma (2) sous la forme $U^{n+1}=A^{expl}_1 U^n$ pour la convention (3a) et $U^{n+1}=A^{expl}_2 U^n$ pour la convention (3b). \n",
    "\n",
    "*Indication : On pourra faire apparaitre le nombre sans dimension $\\alpha = \\frac{\\nu \\Delta t}{\\Delta x^2}$.*"
   ]
  },
  {
   "cell_type": "markdown",
   "metadata": {},
   "source": [
    "<div class=\"alert alert-block alert-info\">\n",
    "    On a la récurrence\n",
    "    $$\\begin{align}\n",
    "    U_j^{n+1} &= U_j^{n} + \\nu\\frac{\\Delta t}{\\Delta x^2}\\left(U_{j+1}^n - 2U_j^n + U_{j-1}^n\\right)\\\\\n",
    "    &= \\alpha U_{j+1}^n + (1 - 2\\alpha)U_j^n + \\alpha U_{j-1}^n\n",
    "    \\end{align}$$\n",
    "    Avec les condition aux bords, on a\n",
    "    $$A_1^{expl} = \\begin{pmatrix}\n",
    "1-\\alpha & \\alpha & 0 & \\cdots & 0 & 0 & 0 \\\\\n",
    "\\alpha & 1-2\\alpha & \\alpha & \\cdots & 0 & 0 & 0 \\\\\n",
    "\\vdots & \\vdots & \\vdots & \\ddots & \\vdots & \\vdots & \\vdots \\\\\n",
    "0 & 0 & 0 & ... & \\alpha & 1-2\\alpha & \\alpha \\\\\n",
    "0 & 0 & 0 & ... & 0 & \\alpha & 1-\\alpha\n",
    "\\end{pmatrix}$$\n",
    "    et\n",
    "    $$A_2^{expl} = \\begin{pmatrix}\n",
    "1-2\\alpha & 2\\alpha & 0 & \\cdots & 0 & 0 & 0 \\\\\n",
    "\\alpha & 1-2\\alpha & \\alpha & \\cdots & 0 & 0 & 0 \\\\\n",
    "\\vdots & \\vdots & \\vdots & \\ddots & \\vdots & \\vdots & \\vdots \\\\\n",
    "0 & 0 & 0 & ... & \\alpha & 1-2\\alpha & \\alpha \\\\\n",
    "0 & 0 & 0 & ... & 0 & 2\\alpha & 1-2\\alpha\n",
    "\\end{pmatrix}$$\n",
    "</div>"
   ]
  },
  {
   "cell_type": "markdown",
   "metadata": {},
   "source": [
    "$2$. **Propriétés numériques :**\n",
    "\n",
    "$a$. **Consistance** \n",
    "\n",
    ">On définit l'erreur locale de troncature $\\varepsilon^n=\\left(\\varepsilon_j^n\\right)_{0\\leq j\\leq J}$ du schéma (2) par \n",
    ">\n",
    "> $$ \\varepsilon_j^n = \\frac{u(t^{n+1},x_j) - u(t^n,x_j)}{\\Delta t} - \\nu \\frac{u(t^n,x_{j-1}) - 2u(t^n,x_j) + u(t^n,x_{j+1})}{(\\Delta x)^2}, $$\n",
    ">\n",
    ">pour tout $1\\le j \\le J-1$ et\n",
    ">\n",
    ">$$\\begin{aligned}\n",
    "  \\varepsilon_0^n   &= \\frac{u(t^{n+1},x_0   ) - u(t^n,x_0   )}{\\Delta t} - \\nu \\frac{-2u(t^n,x_0)+2u(t^n,x_{1})}{(\\Delta x)^2}, \\\\\n",
    "  \\varepsilon_{J}^n &= \\frac{u(t^{n+1},x_{J}) - u(t^n,x_{J})}{\\Delta t} - \\nu \\frac{2u(t^n,x_{J-1})-2u(t^n,x_{J})}{(\\Delta x)^2},\n",
    "\\end{aligned}$$ \n",
    ">  \n",
    ">lorsqu'on considère les conditions de bord (3b). \n",
    ">On dit que le schéma est d'ordre $p$ en temps et $q$ en espace s'il existe $C\\in\\mathbb{R}^+$ telle que $\\max\\limits_{j,n} |\\varepsilon_j^n| \\le C (\\Delta t^p + \\Delta x^q)$.\n",
    "\n",
    "Montrer que le schéma (2) avec les conditions de bord (3b) est consistant. \n",
    "\n",
    "$b$. Donner son ordre. *On pourra supposer la solution aussi régulière que nécessaire.* \n",
    "  \n",
    "$c$. **Stabilité en norme $\\ell_{\\Delta x}^2$** \n",
    "\n",
    ">On dit que le schéma (2) muni des conditions de bord (3a) ou  (3b) est stable pour la norme $\\| . \\|$ s'il existe $C\\in\\mathbb{R}^+$ indépendante de $\\Delta x$ et de $\\Delta t$ (mais pouvant dépendre de $T$) telle que, pour toute donnée initiale $U^0$,\n",
    ">\n",
    "> $$ \\|U^n\\| \\le C(T) \\|U^0\\| \\quad{}\\forall~n\\ge 0. $$\n",
    ">\n",
    ">On définit la norme $\\ell^2_{\\Delta x}$ de $U^n$ par\n",
    ">\n",
    "> $$\\begin{aligned} \\left\\Vert U^n \\right\\Vert_{\\ell^2_{\\Delta x}} := \\sqrt{\\Delta x \\sum_{j=0}^{J+1} \\left(U^n_j\\right)^2} = \\sqrt{\\Delta x} \\left\\Vert U^n \\right\\Vert_{2}.\\end{aligned}$$\n",
    ">\n",
    ">**Remarque :** si $U^n_j$ approche bien $u(t^n,x_j)$, alors cette norme approche la norme $L^2$ de la fonction $x\\mapsto u(t^n,x)$, quand $\\Delta x\\to 0$.\n",
    "\n",
    "Donner une condition nécessaire sur $\\alpha$ pour que le schéma (2-3a) soit stable en norme $\\ell^2_{\\Delta x}$.\n",
    "\n",
    "*Indication : on pourra étudier le spectre de $A_1^{expl}$ à l'aide du théorème de Gerschgorin .*\n",
    "\n",
    "On supposera dans la suite que le schéma (2-3b) est également stable pour cette norme.\n",
    "\n",
    "$d$. **Convergence en norme $\\ell_{\\Delta x}^2$** \n",
    "\n",
    ">Un schéma est dit convergent en norme $\\| . \\|$ si \n",
    ">\n",
    ">$$ \\lim\\limits_{\\Delta t, \\Delta x \\rightarrow 0}\\sup\\limits_{t^n \\le T} \\|e^n\\| \\rightarrow 0 $$\n",
    ">\n",
    ">où $e^n$ est le vecteur d'erreur donnée par $e_j^n = U_j^n - u(t^n,x_j)$, $j=0,\\ldots,J$.\n",
    "\n",
    "Montrer la convergence en norme $\\ell_{\\Delta x}^2$ du schéma (2-3b) sous la condition stabilité trouvée à la question précédente.\n",
    "\n",
    "*Indication : de manière analogue à ce qu'on a fait pour les EDO, on pourra réécire $\\left(u(t^{n+1},x_j)\\right)_{0\\leq j \\leq J}$ en fonction de $\\left(u(t^n,x_j)\\right)_{0\\leq j \\leq J}$, $A^{expl}$, et $\\varepsilon^n$.* "
   ]
  },
  {
   "cell_type": "markdown",
   "metadata": {},
   "source": [
    "<div class=\"alert alert-block alert-info\">\n",
    "    Par Taylor, on a\n",
    "    $$ \\frac{u(t_{n+1}, x_j) - u(t_n, x_j)}{\\Delta t} = \\frac{\\partial}{\\partial t} u(t_n, x_j) + O(\\Delta t).$$\n",
    "    D'autre part\n",
    "    $$\\begin{align}\n",
    "    \\begin{cases}\n",
    "    u(t_n, x_{j+1}) = u(t_n, x_j) + \\Delta x \\frac{\\partial}{\\partial x} u(t_n, x_j) + \\frac{\\Delta x^2}{2} \\frac{\\partial^2}{\\partial x^2} u(t_n, x_j) + \\frac{\\Delta x^3}{6} \\frac{\\partial^3}{\\partial x^3} u(t_n, x_j) + O(\\Delta x^4) \\\\\n",
    "    u(t_n, x_{j-1}) = u(t_n, x_j) - \\Delta x \\frac{\\partial}{\\partial x} u(t_n, x_j) + \\frac{\\Delta x^2}{2} \\frac{\\partial^2}{\\partial x^2} u(t_n, x_j) - \\frac{\\Delta x^3}{6} \\frac{\\partial^3}{\\partial x^3} u(t_n, x_j) + O(\\Delta x^4)\n",
    "    \\end{cases}\n",
    "    \\end{align}$$\n",
    "    ce qui donne\n",
    "    $$ \\frac{u(t_n, x_{j+1}) - 2u(t_n, x_j) + u(t_n, x_{j-1})}{\\Delta x^2} = \\frac{\\partial^2}{\\partial x^2} + O(\\Delta x^2).$$\n",
    "    Alors, on calcule l'erreur de troncature\n",
    "    $$ \\epsilon_j^n = \\frac{\\partial}{\\partial t} u(t_n, x_j) - \\nu \\frac{\\partial^2}{\\partial x^2} u(t_n, x_j) + O(\\Delta t) + O(\\Delta x^2) =  O(\\Delta t + \\Delta x^2). $$\n",
    "    Alors, pour le schéma b, on a\n",
    "    $$ \\frac{-2u(t_n, x_0) + 2u(t_n, x_1)}{\\Delta x^2} = \\frac{2}{\\Delta x} \\frac{\\partial}{\\partial x} u(t_n, x_0 + \\frac{\\partial^2}{\\partial t^2} u(t_n, x_0) + O(\\Delta x)$$\n",
    "    ce qui donne $\\epsilon_0^n = O(\\Delta t + \\Delta x)$.\n",
    "    On en conclue $\\forall j, \\epsilon_j^n \\to 0$. Donc, le schéma est consistant. $\\\\$\n",
    "    On peut montrer qu'on a ordre 1 en temps et 2 en espace.\n",
    "</div>"
   ]
  },
  {
   "cell_type": "markdown",
   "metadata": {},
   "source": [
    "<div class=\"alert alert-block alert-info\">\n",
    "    On remarque qu'on peut travailler avec la norme 2 lorsque les deux sont équivalentes. $\\\\$\n",
    "    On a $U^n = A^n U^0 \\implies \\|U^n\\|_2 \\leq \\|A^n\\|_2 \\|U^0\\|_2$. $\\\\$\n",
    "    On applique le théorème de Gerschgorin,\n",
    "    $$\\begin{align}\n",
    "    \\begin{cases}\n",
    "        D_0 = D_J = \\{ z \\in \\mathbb{C}, |z - (1 - \\alpha)| \\leq \\alpha \\}\\\\\n",
    "        D_1 = ... = D_{J-1} = \\{ z \\in \\mathbb{C}, |z - (1 - 2\\alpha)| \\leq 2\\alpha \\}\n",
    "    \\end{cases}\n",
    "    \\end{align}$$\n",
    "    d'où $\\rho(A) \\leq 1 \\iff \\alpha \\leq \\frac{1}{2}$(condition pour la stabilité).\n",
    "</div>"
   ]
  },
  {
   "cell_type": "markdown",
   "metadata": {},
   "source": [
    "<div class=\"alert alert-block alert-info\">\n",
    "    Supposons $\\alpha \\leq \\frac{1}{2}$. $\\\\$\n",
    "    Soit $U(t_n) = \\begin{pmatrix} u(t_n, x_0) \\\\ \\vdots \\\\ u(t_n, x_J) \\end{pmatrix}$. On a l'erreur locale à $(t_n, x_j)$,\n",
    "    $$ e_j^n = U_j^n - u(t_n, x_j). $$\n",
    "    Alors\n",
    "    $$\\begin{align} \n",
    "    e^{n+1} &= Ae^n - \\Delta t \\epsilon^n \\\\\n",
    "    \\implies \\|e^{n+1}\\| &\\leq \\|A\\| \\|e^{n}\\| + \\Delta t \\|\\epsilon^n\\| \\\\\n",
    "    &\\leq \\|e^{0}\\| + n \\Delta t C(\\Delta t + \\Delta x^2) \\leq \\|e^{0}\\| + TC(\\Delta t + \\Delta x^2).\n",
    "    \\end{align}$$\n",
    "    On en conclue $\\forall n \\in \\mathbb{N}, \\|e^n\\| = O(\\Delta t + \\Delta x^2) \\to 0$. Donc, on a bien convergence.\n",
    "</div>"
   ]
  },
  {
   "cell_type": "markdown",
   "metadata": {},
   "source": [
    "$3$. **Propriétés physiques :**\n",
    "\n",
    "$a$. **Principe du maximum discret :** Montrer, sous la condition de stabilité sur $\\alpha$ trouvée au 2.b, que le schéma (2) vérifie\n",
    "\n",
    "$$\\begin{aligned} \\forall~n\\geq 0,\\ \\forall~0\\leq j\\leq J, \\quad{} \\min_i U^n_i \\leq U^{n+1}_j \\leq \\max_i U^n_i, \\end{aligned}$$  \n",
    "\n",
    "que ce soit pour le choix (3a) ou (3b) de discrétisation au bord. \n",
    "\n",
    ">**Remarque :** On vient de montrer que le schéma est aussi stable pour le norme infinie.\n",
    "\n",
    "$b$. **Conservation de la masse :** Étudier, en fonction du choix entre (3a) et (3b), si le schéma préserve ou non la masse, c'est à dire si\n",
    "\n",
    "$$\\begin{aligned} \\forall~n\\geq 0, \\quad{} \\sum_{j=0}^{J} U^{n+1}_j \\Delta x = \\sum_{j=0}^{J} U^{n}_j \\Delta x. \\end{aligned}$$  \n",
    "\n",
    "*Indication : on pourra considérer le vecteur $e = \\begin{pmatrix} 1 \\\\ \\vdots \\\\ 1 \\end{pmatrix} \\in \\mathbb{R}^{J+1}$ et remarquer que la masse s'écrit $e^T\\, U^n\\Delta x$.*\n",
    "\n",
    ">**Remarque : Décroissance de l'énergie.** La condition de stabilité $\\ell_{\\Delta x}^2$ de la question précédente mène à l'inégalité $\\|U^{n+1}\\|_{\\ell_{\\Delta x}^2} \\le \\|U^n\\|_{\\ell_{\\Delta x}^2}$ qui est la version discrète de la décroissance de l'énergie donnée en rappel pour la solution continue.   "
   ]
  },
  {
   "cell_type": "markdown",
   "metadata": {},
   "source": [
    "<div class=\"alert alert-block alert-info\">\n",
    "    $$ U_j^{n+1} = \\alpha U_{j+1}^n + (1 - 2\\alpha) U_j^n + \\alpha U_{j-1}^n $$\n",
    "    si $\\alpha \\leq \\frac{1}{2}$, alors les coefficient sont positifs et de somme $1$. Donc on a bien\n",
    "    $$ \\min_j U_j^n \\leq U_j^{n+1} \\leq \\max_j U_j^n. $$\n",
    "    Pour les deux matrices $A_1^{expl}$ et $A_2^{expl}$ tout les lignes ont somme égal à 1. On en conclue que les deux schémas préservent la masse.\n",
    "</div>"
   ]
  },
  {
   "cell_type": "markdown",
   "metadata": {},
   "source": [
    "$4$. **<font color=black><span style=\"background-color:deepskyblue\">Bonus :</span></font>**  **Implémentation :** On rappelle les paramètres numériques :\n",
    "\n",
    "$$  \\Delta x = \\frac{L}{J}, \\quad{} N \\Delta t = T, \\quad{} \\alpha = \\frac{\\nu \\Delta t}{\\Delta x^2} $$\n",
    "\n",
    "et l'on fixera \n",
    "\n",
    "$$ \\nu = 1, \\quad{} L=10,\\quad{} J=100, \\quad{} u^0(x) = 2 - \\cos \\frac{2\\pi x}{L},  $$\n",
    "\n",
    "$a$. Implémenter les schémas (2-3a) et (2-3b). \n",
    "\n",
    "**On définira les schémas numériques à partir des matrices $A_{expl}$ calculées au $1$., que l'on implémentera en format creux. On utilisera pour cela la fonction *sparse.diags* de scipy. De même, on utilisera la fonction *A.dot* pour les produits matrice-vecteur (il est adapté au format creux).**\n",
    "\n",
    "$b$. Pour chaque schéma, utiliser $\\Delta t= 0.004$ et afficher la solution obtenue pour $T=5$, ainsi que la donnée initiale et la solution théorique au temps $T$.\n",
    "\n",
    "$c$. Sur un autre graphique, afficher la masse $\\sum_{j=0}^{J} U^{n}_j\\Delta x $ en fonction de $n$ pour les deux schémas. Sur un autre graphique, afficher l'énergie $\\left\\Vert U^n \\right\\Vert_{\\ell_{\\Delta x}^2}$ en fonction de $n$  pour les deux schémas. \n",
    "\n",
    "$d$. Pour chaque schéma, utiliser ensuite $\\Delta t= 0.0051$ et afficher à nouveau la solution obtenue pour $T=5.1$ (tel que $T=N\\Delta t$ avec $N$ entier), ainsi que la donnée initiale et la solution théorique au temps $T$. Calculer $\\alpha=\\frac{\\nu \\Delta t}{\\Delta x^2}$ pour les deux pas de temps utilisés, et commenter les différents résultats obtenus."
   ]
  },
  {
   "cell_type": "code",
   "execution_count": null,
   "metadata": {},
   "outputs": [],
   "source": [
    "def A_explicite1(alpha, J):\n",
    "    \"\"\"\n",
    "    Calcule la matrice A_{expl} correspondant au schéma (2-3a) en format sparse\n",
    "    ----------   \n",
    "    parametres:\n",
    "    alpha : valeur de alpha = nu*dt/dx**2\n",
    "    J     : nombre de points de discrétisation (A_{expl} est de taille J+1xJ+1)\n",
    "    \n",
    "    valeurs de retour:\n",
    "    A     : matrice A_{expl} correspondant au schéma (2-3a) en format sparse\n",
    "    \"\"\"\n",
    "    \n",
    "    return \n",
    "\n",
    "def A_explicite2(alpha, J):\n",
    "    \"\"\"\n",
    "    Calcule la matrice A_{expl} correspondant au schéma (2-3b) en format sparse\n",
    "    ----------   \n",
    "    parametres:\n",
    "    alpha : valeur de alpha = nu*dt/dx**2\n",
    "    J     : nombre de points de discrétisation (A_{expl} est de taille J+1xJ+1)\n",
    "    \n",
    "    valeurs de retour:\n",
    "    A     : matrice A_{expl} correspondant au schéma (2-3b) en format sparse\n",
    "    \"\"\"\n",
    "\n",
    "    return "
   ]
  },
  {
   "cell_type": "code",
   "execution_count": null,
   "metadata": {},
   "outputs": [],
   "source": [
    "# Cellule de test pour vérifier les valeurs de ces matrices\n"
   ]
  },
  {
   "cell_type": "code",
   "execution_count": null,
   "metadata": {},
   "outputs": [],
   "source": [
    "def schema_explicite_chaleur(U0, A, N, dx):\n",
    "    \"\"\"\n",
    "    Calcule itérativement les U_i^n obtenus avec le schéma (2-3a) ou (2-3b) \n",
    "    ----------   \n",
    "    parametres:\n",
    "    U_0 : vecteur contenant les valeurs de U au temps 0\n",
    "    A   : matrice A_{expl} correspondant au schéma (2-3a) ou (2-3b)\n",
    "    N   : nombre de pas de temps (N * dt = T)\n",
    "    dx  : pas d'espace\n",
    "    \n",
    "    valeurs de retour:\n",
    "    U       : vecteur des U_i^n au temps final t^n = T = N * dt \n",
    "    masse   : vecteur contenant la masse (sum U_j^n dx) à tous les temps n\n",
    "    energie : vecteur contenant la masse (||U^n||_l2dx) à tous les temps n\n",
    "    \"\"\"\n",
    "        \n",
    "    return "
   ]
  },
  {
   "cell_type": "code",
   "execution_count": null,
   "metadata": {},
   "outputs": [],
   "source": [
    "def u0_1(x):\n",
    "    #définition de la 1e condition initiale\n",
    "    return 2 - np.cos(2*np.pi*x/L)\n",
    "\n",
    "def u_th(t, x):\n",
    "    #définition de la solution théorique\n",
    "    return 2 - np.exp(-nu*4*np.pi**2/L**2*t)*np.cos(2*np.pi*x/L)"
   ]
  },
  {
   "cell_type": "code",
   "execution_count": null,
   "metadata": {
    "scrolled": true
   },
   "outputs": [],
   "source": [
    "# Tracer les solutions numériques obtenues avec les différents schémas\n",
    "# Comparer à la solution exacte\n"
   ]
  },
  {
   "cell_type": "code",
   "execution_count": null,
   "metadata": {},
   "outputs": [],
   "source": [
    "# Tracer la masse des solutions numériques obtenues avec les différents schémas en fonction du temps\n",
    " "
   ]
  },
  {
   "cell_type": "code",
   "execution_count": null,
   "metadata": {},
   "outputs": [],
   "source": [
    "# Tracer l'énergie des solutions numériques obtenues avec les différents schémas en fonction du temps\n",
    " "
   ]
  },
  {
   "cell_type": "code",
   "execution_count": null,
   "metadata": {},
   "outputs": [],
   "source": [
    "# Tracer les solutions numériques obtenues avec les différents schémas avec les nouveaux paramètres\n"
   ]
  },
  {
   "cell_type": "markdown",
   "metadata": {},
   "source": [
    "**Réponse :**"
   ]
  },
  {
   "cell_type": "markdown",
   "metadata": {},
   "source": [
    "### Question 3 : Schéma \"différences finies\" implicite en temps\n",
    "\n",
    ">On considère le schéma donné par\n",
    ">\n",
    ">$$ \\frac{U^{n+1}_j - U^n_j}{\\Delta t} - \\nu \\frac{U^{n+1}_{j-1}-2U^{n+1}_j+U^{n+1}_{j+1}}{(\\Delta x)^2} = 0 \\qquad{} \\forall~n\\geq 1,\\quad{} \\forall~ 0\\leq j\\leq J+1. \\qquad{} (4) $$\n",
    ">\n",
    ">Afin d'approcher les conditions aux bords, on utilisera à nouveau les équations (3a) ou (3b) en remplaçant $n$ par $n+1$."
   ]
  },
  {
   "cell_type": "markdown",
   "metadata": {},
   "source": [
    "$1$. Donner les matrices $A^{impl}_1$ et $A^{impl}_2$ de taille $(J+1)\\times(J+1)$ permettant d'écrire ce schéma sous la forme $A^{impl}_1 U^{n+1}=U^n$ pour la convention (3a) et $A^{impl}_2 U^{n+1}= U^n$ pour la convention (3b). Montrer que ces deux matrices sont inversibles. *Faire à nouveau apparaitre le nombre sans dimension $\\alpha = \\frac{\\nu \\Delta t}{\\Delta x^2}$.*"
   ]
  },
  {
   "cell_type": "markdown",
   "metadata": {},
   "source": [
    "<div class=\"alert alert-block alert-info\">\n",
    "    \n",
    "</div>"
   ]
  },
  {
   "cell_type": "markdown",
   "metadata": {},
   "source": [
    "$2$. **Propriétés numériques :**\n",
    "\n",
    ">**Remarque :** On peut montrer comme dans la partie précédente que le schéma est consistant (remplacer les $n$ par des $n+1$ dans la définition de l'erreur de troncature) avec les mêmes ordres. \n",
    "\n",
    "**Stabilité en norme $\\ell_{\\Delta x}^2$ :** Montrer que le schéma (4) muni des conditions de bord (3a) est inconditionnellement stable en norme $\\ell_{\\Delta x}^2$. \n",
    "\n",
    ">**Remarque :** On peut ensuite montrer comme dans la partie précédente que le schéma est convergent."
   ]
  },
  {
   "cell_type": "markdown",
   "metadata": {},
   "source": [
    "<div class=\"alert alert-block alert-info\">\n",
    "    \n",
    "</div>"
   ]
  },
  {
   "cell_type": "markdown",
   "metadata": {},
   "source": [
    "$3$. **Propriétés Physiques :**\n",
    "\n",
    "$a$. **Principe du maximum discret :** Soient $i\\in{1,2}$ et $X,Y\\in\\mathbb{R}^{J+1}$ tels que $A^{impl}_i X = Y$. Montrer que si $Y\\geq 0$ (au sens où $Y_j\\geq 0$ pour tout $j$), alors $X\\geq 0$. En déduire que, sans condition sur $\\alpha$, le schéma vérifie\n",
    "\n",
    "$$ \\forall~n\\geq 0,\\ \\forall~0\\leq j\\leq J, \\quad{} \\min_i U^n_i \\leq U^{n+1}_j \\leq \\max_i U^n_i. $$\n",
    "\n",
    "*Indication : on pourra montrer que $U^{n+1}-\\left(\\min_{i} U^n_i\\right) e \\geq 0$ et $\\left(\\max_{i}U^n_i\\right) e -U^{n+1} \\geq 0$, où $e\\in\\mathbb{R}^{J+1}$ est défini comme à la question 1.c).*\n",
    "\n",
    "$b$. **Conservation de la masse :** Étudier, en fonction du choix entre (3a) et (3b), si le schéma préserve ou pas la masse, c'est à dire si\n",
    "\n",
    "$$ \\forall n\\geq 0, \\quad{} \\sum_{j=0}^{J} U^{n+1}_j \\Delta x = \\sum_{j=0}^{J} U^{n}_j\\Delta x. $$\n",
    "\n",
    "*On pourra à nouveau considérer le vecteur $e\\in \\mathbb{R}^{J+1}$ et remarquer que la masse s'écrit $e^T\\, U^n \\Delta x$.*"
   ]
  },
  {
   "cell_type": "markdown",
   "metadata": {},
   "source": [
    "<div class=\"alert alert-block alert-info\">\n",
    "    \n",
    "</div>"
   ]
  },
  {
   "cell_type": "markdown",
   "metadata": {},
   "source": [
    "$4$.  **<font color=black><span style=\"background-color:deepskyblue\">Bonus :</span></font>**  **Implémentation :**\n",
    "\n",
    "$a$. Implémenter les schémas (4-3a) et (4-3b). \n",
    "\n",
    "**Comme au point précédent, on définira les schémas numériques à partir des matrices $A_{impl}$ calculées au 1), que l'on implémentera en format creux. On utilisera pour cela la fonction *sparse.diags* de scipy. Pour la résolution d'un problème linéaire *AU=b*, on utilsera *splu*, la décomposition LU adaptée au format creux, et sa résolution *A.solve()*. *Il est bien entendu recommandé de lire la documentation de ces fonctions.***\n",
    "\n",
    "$b$. Pour chaque schéma, utiliser $\\Delta t= 0.1$ et afficher la solution obtenue pour $T=5$, ainsi que la donnée initiale et la solution théorique au temps $T$. \n",
    "\n",
    "$c$. Sur un autre graphique, afficher la masse $\\sum_{j=0}^{J} U^{n}_j\\Delta x $ en fonction de $n$ pour les deux schémas. Sur un autre graphique, afficher l'énergie $\\left\\Vert U^n \\right\\Vert_{\\ell_{\\Delta x}^2}$ en fonction de $n$  pour les deux schémas. \n",
    "\n",
    "$d$. Commenter les différents résultats obtenus et discuter des avantages et des inconvénients des schémas explicites et implicites pour ce problème."
   ]
  },
  {
   "cell_type": "code",
   "execution_count": null,
   "metadata": {},
   "outputs": [],
   "source": [
    "def A_implicite1(alpha,J):\n",
    "    \"\"\"\n",
    "    Calcule la matrice A_{impl} correspondant au schéma (4-3a) en format sparse\n",
    "    ----------   \n",
    "    parametres:\n",
    "    alpha : valeur de alpha = nu*dt/dx**2\n",
    "    J     : nombre de points de discrétisation (A_{impl} est de taille J+1xJ+1)\n",
    "    \n",
    "    valeurs de retour:\n",
    "    A     : matrice A_{impl} correspondant au schéma (4-3a) en format sparse\n",
    "    \"\"\"\n",
    "    \n",
    "    return \n",
    "\n",
    "def A_implicite2(alpha,J):    \n",
    "    \"\"\"\n",
    "    Calcule la matrice A_{impl} correspondant au schéma (4-3b) en format sparse\n",
    "    ----------   \n",
    "    parametres:\n",
    "    alpha : valeur de alpha = nu*dt/dx**2\n",
    "    J     : nombre de points de discrétisation (A_{impl} est de taille J+1xJ+1)\n",
    "    \n",
    "    valeurs de retour:\n",
    "    A     : matrice A_{impl} correspondant au schéma (4-3b) en format sparse\n",
    "    \"\"\"\n",
    "    \n",
    "    return "
   ]
  },
  {
   "cell_type": "code",
   "execution_count": null,
   "metadata": {},
   "outputs": [],
   "source": [
    "# Cellule de test pour vérifier les valeurs de ces matrices\n"
   ]
  },
  {
   "cell_type": "code",
   "execution_count": null,
   "metadata": {},
   "outputs": [],
   "source": [
    "def schema_implicite_chaleur(U0, A, N, dx):\n",
    "    \"\"\"\n",
    "    Calcule itérativement les U_i^n obtenus avec le schéma (4-3a) ou (4-3b) \n",
    "    ----------   \n",
    "    parametres:\n",
    "    U_0 : vecteur contenant les valeurs de U au temps 0\n",
    "    A   : matrice A_{impl} correspondant au schéma (4-3a) ou (4-3b)\n",
    "    N   : nombre de pas de temps (N * dt = T)\n",
    "    dx  : pas d'espace\n",
    "    \n",
    "    valeurs de retour:\n",
    "    U       : vecteur des U_i^n au temps final t^n = T = N * dt \n",
    "    masse   : vecteur contenant la masse (sum U_j^n dx) à tous les temps n\n",
    "    energie : vecteur contenant la masse (||U^n||_l2dx) à tous les temps n\n",
    "    \"\"\"\n",
    "       \n",
    "    return "
   ]
  },
  {
   "cell_type": "code",
   "execution_count": null,
   "metadata": {
    "scrolled": true
   },
   "outputs": [],
   "source": [
    "# Tracer les solutions numériques obtenues avec les différents schémas\n",
    "# Comparer à la solution exacte\n"
   ]
  },
  {
   "cell_type": "code",
   "execution_count": null,
   "metadata": {},
   "outputs": [],
   "source": [
    "# Tracer la masse des solutions numériques obtenues avec les différents schémas en fonction du temps\n",
    " "
   ]
  },
  {
   "cell_type": "code",
   "execution_count": null,
   "metadata": {},
   "outputs": [],
   "source": [
    "# Tracer l'énergie des solutions numériques obtenues avec les différents schémas en fonction du temps\n",
    " "
   ]
  },
  {
   "cell_type": "markdown",
   "metadata": {},
   "source": [
    "**Réponse :**"
   ]
  },
  {
   "cell_type": "markdown",
   "metadata": {},
   "source": [
    "## Exercice 2  : Étude d'une onde progressive\n",
    "  \n",
    "> On se donne toujours $\\nu>0$ un coefficient de diffusion, et $u^0\\in C^0(\\mathbb{R})$ une donnée initiale, et on considère désormais une équation de réaction-diffusion de la forme :\n",
    ">\n",
    "> $$ \n",
    "  \\left\\{\n",
    "  \\begin{aligned}\n",
    "  &\\displaystyle\\frac{\\partial u}{\\partial t}(t,x)-\\nu\\frac{\\partial^2 u}{\\partial x^2}(t,x) = g(u(t,x)), \\quad &\\forall (t,x) \\in\\mathbb{R}_+^*\\times\\mathbb{R}, \\\\  \n",
    "  &u(x,0) = u^0(x), \\quad &\\forall x\\in\\mathbb{R},\n",
    "  \\end{aligned}\n",
    "  \\right. \\qquad{} (5)\n",
    "$$\n",
    ">\n",
    ">où $g:\\mathbb{R}\\to\\mathbb{R}$ est donnée par\n",
    ">\n",
    ">$$ g(u) = ku^2(1-u). \\qquad{} (6) $$\n",
    ">\n",
    ">Cette équation, parfois appelée équation de Nagumo, permet de décrire des phénomènes de propagation. En effet, pour certaines conditions initiales, on peut montrer que la solution se rapproche d'une *onde progressive*, c'est à dire d'une solution de la forme\n",
    ">\n",
    "> $$ u(t,x) = \\beta(x-ct) \\qquad{} (7a) $$\n",
    ">\n",
    ">où\n",
    ">\n",
    ">$$ c= \\sqrt{\\frac{k\\nu}{2}},\\qquad{} \\beta(\\xi) = \\frac{e^{-c(\\xi-\\xi_0)}}{1+e^{-c(\\xi-\\xi_0)}}, \\qquad{} (7b)$$\n",
    ">\n",
    ">et $\\xi_0\\in\\mathbb{R}$ dépend de la donnée initiale.\n",
    ">\n",
    ">\n",
    ">On va essayer d'observer numériquement ce phénomène, à l'aide de différents schémas. Pour ce faire, on se place en domaine borné, et on considère donc à nouveau $\\Omega=]0,L[$ (dans la pratique on prendra $L\\gg 1$), et l'équation\n",
    ">\n",
    ">$$  \\left\\{\n",
    "  \\begin{aligned}\n",
    "  &\\displaystyle\\frac{\\partial u}{\\partial t}(t,x)-\\nu\\frac{\\partial^2 u}{\\partial x^2}(t,x) = g(u(t,x)), \\quad &\\forall~(t,x) \\in\\mathbb{R}_+^*\\times\\Omega,  \\\\ \n",
    "  &\\frac{\\partial u}{\\partial x}(t,0) = 0 = \\frac{\\partial u}{\\partial x}(t,L )\\quad &\\forall~t\\in\\mathbb{R}_+^*, \\\\ \n",
    "  &u(x,0) = u^0(x), \\quad &\\forall x\\in\\Omega,\n",
    "  \\end{aligned}\n",
    "  \\right. \\qquad{} (8)\n",
    "$$\n",
    ">\n",
    ">toujours avec $g$ donnée par (6). Pour les simulations, on prendra dans cet exercice\n",
    ">\n",
    ">$$ \\nu=0.1,\\quad{} L=100,\\quad{} k=10,\\quad{} \\text{et}\\quad{} u^0(x) =\n",
    "\\left\\{\n",
    "\\begin{aligned}\n",
    "& 1,\\quad & x\\leq \\frac{L}{10} \\\\\n",
    "& 0,\\quad & x >\\frac{L}{10}.\n",
    "\\end{aligned}\n",
    "\\right.$$\n",
    ">\n",
    ">On utilisera les mêmes types de discrétisations spatiales et temporelles que dans l'exercice précédent, avec $J=1000$ ($\\Delta x = \\frac{L}{J}$), et différentes valeurs de $T$ et de $\\Delta t$ données plus loin."
   ]
  },
  {
   "cell_type": "markdown",
   "metadata": {},
   "source": [
    "### Question 1 : Solution théorique\n",
    "\n",
    "Vérifiez que l'onde progressive $u$ définie en (7) est bien solution de l'équation de Nagumo (6) sur $\\mathbb{R}$, avec $u^0(x) = \\beta(x)$."
   ]
  },
  {
   "cell_type": "markdown",
   "metadata": {},
   "source": [
    "<div class=\"alert alert-block alert-info\">\n",
    "    \n",
    "</div>"
   ]
  },
  {
   "cell_type": "markdown",
   "metadata": {},
   "source": [
    "### Question 2 : Schéma totalement explicite\n",
    "\n",
    ">On considère le schéma donné par\n",
    ">\n",
    ">$$ \\frac{U^{n+1}_j - U^n_j}{\\Delta t} - \\nu \\frac{U^n_{j-1}-2U^n_j+U^n_{j+1}}{(\\Delta x)^2} = g(U^n_j) \\qquad{} \\forall~n\\geq 1,\\ \\forall~ 0\\leq j\\leq J, $$\n",
    ">\n",
    ">avec les conventions (3b), qu'on peut réécrire\n",
    ">\n",
    ">$$ U^{n+1} = A^{expl}_2 U^n + \\Delta t\\, g(U^n), \\qquad{} (9) $$\n",
    ">\n",
    ">avec les notations de l'Exercice 1, $g(U^n)$ désignant le vecteur $\\left(g(U^n_j)\\right)_{0\\leq j\\leq J}$.\n",
    "\n",
    "$a$.  **<font color=black><span style=\"background-color:deepskyblue\">Bonus :</span></font>**  Implémenter ce schéma et afficher les solutions obtenues à $T=0$, $T=20$, $T=40$ et $T=60$, avec $\\Delta t = 0.025$ (sur un même graphique, avec différentes couleurs). \n",
    "\n",
    "$b$.  **<font color=black><span style=\"background-color:deepskyblue\">Bonus :</span></font>**  Répeter ces expériences avec $\\Delta t =0.045$. Commenter les résultats obtenus (calculer dans les deux cas $\\alpha = \\frac{\\nu\\Delta t}{\\Delta x^2}$)."
   ]
  },
  {
   "cell_type": "code",
   "execution_count": null,
   "metadata": {},
   "outputs": [],
   "source": [
    "def g(x, k):\n",
    "    # definition de la fonction g\n",
    "    # x : position\n",
    "    # k : paramètre d'amplitude du terme source\n",
    "    return k * x**2 * (1-x)\n",
    "\n",
    "def u0_2(x, L):\n",
    "    # definition de la condition initiale\n",
    "    # x  : position\n",
    "    # L : taille du domaine\n",
    "    return 1. * (x <= L/10)"
   ]
  },
  {
   "cell_type": "code",
   "execution_count": null,
   "metadata": {},
   "outputs": [],
   "source": [
    "def schema_explicite_reaction_diffusion(U0, A, N, g, k, dt):  \n",
    "    \"\"\"\n",
    "    Calcule itérativement les U_i^n obtenus avec le schéma (9) \n",
    "    ----------   \n",
    "    parametres:\n",
    "    U_0 : vecteur contenant les valeurs de U au temps 0\n",
    "    A   : matrice A_{expl} correspondant au schéma (9)\n",
    "    N   : nombre de pas de temps (N * dt = T)\n",
    "    g   : fonction du terme source\n",
    "    k   : parametre d'amplitude du terme source \n",
    "    dt  : pas de temps\n",
    "    \n",
    "    valeurs de retour:\n",
    "    U   : vecteur des U_i^n au temps final t^n = T = N * dt \n",
    "    \"\"\"\n",
    "    \n",
    "    return "
   ]
  },
  {
   "cell_type": "code",
   "execution_count": null,
   "metadata": {
    "scrolled": true
   },
   "outputs": [],
   "source": [
    "# Tracer la solution numérique obtenue aux différents temps\n",
    "# Comparer à la solution exacte\n"
   ]
  },
  {
   "cell_type": "code",
   "execution_count": null,
   "metadata": {
    "scrolled": true
   },
   "outputs": [],
   "source": [
    "# Tracer la solution numérique obtenue aux différents temps avec le nouveau pas de temps\n",
    "# Comparer à la solution exacte\n"
   ]
  },
  {
   "cell_type": "markdown",
   "metadata": {},
   "source": [
    "**Réponse :**"
   ]
  },
  {
   "cell_type": "markdown",
   "metadata": {},
   "source": [
    "### Question 3 : Schéma semi-implicite :\n",
    "\n",
    ">On considère le schéma donné par\n",
    ">\n",
    ">$$ \\frac{U^{n+1}_j - U^n_j}{\\Delta t} - \\nu \\frac{U^{n+1}_{j-1}-2U^{n+1}_j+U^{n+1}_{j+1}}{(\\Delta x)^2} = g(U^n_j) \\qquad{} \\forall~n\\geq 1,\\ \\forall~ 0\\leq j\\leq J+1, $$\n",
    ">\n",
    ">avec les conventions (3b), qu'on peut réécrire\n",
    ">\n",
    ">$$ A^{impl}_2 U^{n+1} = U^n + \\Delta t\\, g(U^n). \\qquad{} (10) $$\n",
    "\n",
    "$a$. **<font color=black><span style=\"background-color:deepskyblue\">Bonus :</span></font>**  Implémenter ce schéma et afficher les solutions obtenues à $T=0$, $T=20$, $T=40$ et $T=60$, avec $\\Delta t = 0.045$ (sur un même graphique, avec différentes couleurs).\n",
    "\n",
    "$b$. **<font color=black><span style=\"background-color:deepskyblue\">Bonus :</span></font>**  Répeter ces expériences avec $\\Delta t = 0.4$. Commenter."
   ]
  },
  {
   "cell_type": "code",
   "execution_count": null,
   "metadata": {},
   "outputs": [],
   "source": [
    "def schema_semi_implicite_reaction_diffusion(U0, A, N, g, k, dt):   \n",
    "    \"\"\"\n",
    "    Calcule itérativement les U_i^n obtenus avec le schéma (10) \n",
    "    ----------   \n",
    "    parametres:\n",
    "    U_0 : vecteur contenant les valeurs de U au temps 0\n",
    "    A   : matrice A_{impl} correspondant au schéma (10)\n",
    "    N   : nombre de pas de temps (N * dt = T)\n",
    "    g   : fonction du terme source\n",
    "    k   : parametre d'amplitude du terme source \n",
    "    dt  : pas de temps\n",
    "    \n",
    "    valeurs de retour:\n",
    "    U   : vecteur des U_i^n au temps final t^n = T = N * dt \n",
    "    \"\"\"\n",
    "    \n",
    "    return "
   ]
  },
  {
   "cell_type": "code",
   "execution_count": null,
   "metadata": {
    "scrolled": true
   },
   "outputs": [],
   "source": [
    "# Tracer la solution numérique obtenue aux différents temps\n",
    "# Comparer à la solution exacte\n"
   ]
  },
  {
   "cell_type": "code",
   "execution_count": null,
   "metadata": {
    "scrolled": true
   },
   "outputs": [],
   "source": [
    "# Tracer la solution numérique obtenue aux différents temps avec le nouveau pas de temps\n",
    "# Comparer à la solution exacte\n"
   ]
  },
  {
   "cell_type": "markdown",
   "metadata": {},
   "source": [
    "**Réponse :**"
   ]
  },
  {
   "cell_type": "markdown",
   "metadata": {},
   "source": [
    "### Question 4 : Schéma totalement implicite :\n",
    "\n",
    ">On considère le schéma donné par\n",
    ">\n",
    ">$$ \\frac{U^{n+1}_j - U^n_j}{\\Delta t} - \\nu \\frac{U^{n+1}_{j-1}-2U^{n+1}_j+U^{n+1}_{j+1}}{(\\Delta x)^2} = g(U^{n+1}_j) \\qquad{} \\forall~n\\geq 1,\\ \\forall~0\\leq j\\leq J, $$\n",
    ">\n",
    ">avec les conventions (3b), qu'on peut réécrire\n",
    ">\n",
    ">$$ A^{impl}_2 U^{n+1} = U^n + \\Delta t\\, g(U^{n+1}). \\qquad{}(11) $$\n",
    ">\n",
    ">Étant donné $U^n$, on doit donc résoudre un système non-linéaire pour trouver $U^{n+1}$. On peut reformuler ce problème en disant qu'on cherche un zéro de la fonction $F^n : \\mathbb{R}^{J+1}\\to\\mathbb{R}^{J+1}$ définie par\n",
    ">\n",
    ">$$ F^n (V) = A^{impl}_2 V - \\Delta t\\, g(V) - U^n. $$\n",
    ">\n",
    ">On rappelle qu'on peut utiliser la méthode de Newton pour trouver un zéro approché :\n",
    ">\n",
    ">$$ \\left\\{\\begin{aligned}\n",
    "&V_0 = U^n \\\\\n",
    "&V_{k+1} = V_k - \\left(DF^n(V_k)\\right)^{-1} F^n (V_k).\n",
    "\\end{aligned}\\right. $$\n",
    ">\n",
    ">Une fois que la méthode de Newton a convergé, on peut prendre pour $U^{n+1}$ le dernier itéré $V_k$ obtenu.\n",
    "\n",
    "$a$. **<font color=black><span style=\"background-color:deepskyblue\">Bonus :</span></font>**  Implémenter ce schéma et afficher les solutions obtenues à $T=0$, $T=20$, $T=40$ et $T=60$, avec $\\Delta t = 0.4$ (sur un même graphique, avec différentes couleurs).\n",
    "\n",
    "**On exploitera à nouveau le stockage creux, et notamment la fonction *spsolve* pour la résolution d'un problème linéaire creux (dans l'algorithme de Newton).**\n",
    "\n",
    "$b$. **<font color=black><span style=\"background-color:deepskyblue\">Bonus :</span></font>**  Répéter ces éxpériences avec $\\Delta t = 0.045$. Commenter."
   ]
  },
  {
   "cell_type": "code",
   "execution_count": null,
   "metadata": {},
   "outputs": [],
   "source": [
    "def dg(x,k):\n",
    "    # dérivée du terme source\n",
    "    return k*x*(2-3*x)\n",
    "\n",
    "def schema_implicite_reaction_diffusion(U, A, N, g, dg, k, dt, itmax=20, tol=1.e-10):\n",
    "    \"\"\"\n",
    "    Calcule itérativement les U_i^n obtenus avec le schéma (11) \n",
    "    ----------   \n",
    "    parametres:\n",
    "    U_0 : vecteur contenant les valeurs de U au temps 0\n",
    "    A   : matrice A_{impl} correspondant au schéma (11)\n",
    "    N   : nombre de pas de temps (N * dt = T)\n",
    "    g   : fonction du terme source\n",
    "    dg  : dérivée de la fonction du terme source\n",
    "    k   : parametre d'amplitude du terme source \n",
    "    dt  : pas de temps\n",
    "    \n",
    "    valeurs de retour:\n",
    "    U   : vecteur des U_i^n au temps final t^n = T = N * dt \n",
    "    \"\"\"\n",
    "    \n",
    "    return "
   ]
  },
  {
   "cell_type": "code",
   "execution_count": null,
   "metadata": {
    "scrolled": true
   },
   "outputs": [],
   "source": [
    "# Tracer la solution numérique obtenue aux différents temps\n",
    "# Comparer à la solution exacte\n"
   ]
  },
  {
   "cell_type": "code",
   "execution_count": null,
   "metadata": {
    "scrolled": true
   },
   "outputs": [],
   "source": [
    "# Tracer la solution numérique obtenue aux différents temps avec le nouveau pas de temps\n",
    "# Comparer à la solution exacte\n"
   ]
  },
  {
   "cell_type": "markdown",
   "metadata": {},
   "source": [
    "**Réponse :**"
   ]
  }
 ],
 "metadata": {
  "kernelspec": {
   "display_name": "Python 3 (ipykernel)",
   "language": "python",
   "name": "python3"
  },
  "language_info": {
   "codemirror_mode": {
    "name": "ipython",
    "version": 3
   },
   "file_extension": ".py",
   "mimetype": "text/x-python",
   "name": "python",
   "nbconvert_exporter": "python",
   "pygments_lexer": "ipython3",
   "version": "3.9.12"
  },
  "latex_envs": {
   "LaTeX_envs_menu_present": true,
   "autoclose": false,
   "autocomplete": false,
   "bibliofile": "biblio.bib",
   "cite_by": "apalike",
   "current_citInitial": 1,
   "eqLabelWithNumbers": true,
   "eqNumInitial": 1,
   "hotkeys": {
    "equation": "Ctrl-E",
    "itemize": "Ctrl-I"
   },
   "labels_anchors": false,
   "latex_user_defs": false,
   "report_style_numbering": false,
   "user_envs_cfg": false
  },
  "toc": {
   "base_numbering": 1,
   "nav_menu": {},
   "number_sections": false,
   "sideBar": true,
   "skip_h1_title": false,
   "title_cell": "Table of Contents",
   "title_sidebar": "Contents",
   "toc_cell": false,
   "toc_position": {},
   "toc_section_display": true,
   "toc_window_display": false
  }
 },
 "nbformat": 4,
 "nbformat_minor": 4
}
