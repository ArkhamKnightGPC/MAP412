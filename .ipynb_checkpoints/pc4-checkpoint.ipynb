{
 "cells": [
  {
   "cell_type": "markdown",
   "metadata": {},
   "source": [
    "# PC 4 : Méthodes directes pour la résolution de systèmes linéaires"
   ]
  },
  {
   "cell_type": "markdown",
   "metadata": {},
   "source": [
    "**<big> Préparation avant la PC :</big>** \n",
    "**Les questions 1 et 2 de l'exercice 1 sont à préparer** avant la séance de PC du 21/09. \n",
    "\n",
    "**<big><font color=black><span style=\"background-color:skyblue\">À rendre</span></font> après la PC :</big>**\n",
    "**Les exercices 1, 2 et 3 contiennent des parties <font color=black><span style=\"background-color:skyblue\">à rendre</span></font> avant le 25/09 à 20h00. La question 5.4) l'exercice 1 et les questions 2.6), 2.7) et 3) de l'exercice 3 sont en <font color=black><span style=\"background-color:deepskyblue\">bonus</span></font>**."
   ]
  },
  {
   "cell_type": "code",
   "execution_count": 1,
   "metadata": {},
   "outputs": [],
   "source": [
    "# Ce package permet de travailler efficacement avec des tableaux\n",
    "import numpy as np\n",
    "# Ce package propose de fonctions d'aglebre lineaire (inverse, determinant...)\n",
    "import numpy.linalg as lin\n",
    "# Ces fonctions sont utilisees comme reference pour la decomposition LU\n",
    "from scipy.linalg import lu_factor, lu_solve, solve_banded\n",
    "\n",
    "# Ce package permet de faire des sorties graphiques\n",
    "from matplotlib import pyplot as plt\n",
    "\n",
    "# Cette fonction permet de comparer des temps d'execution\n",
    "from time import time\n",
    "import random"
   ]
  },
  {
   "cell_type": "markdown",
   "metadata": {},
   "source": [
    ">**Rappels et notations :**\n",
    ">\n",
    ">- Étant donnée une norme $\\left\\Vert \\cdot \\right\\Vert$ sur $\\mathbb K^n$ ($\\mathbb{K}=\\mathbb{R}$ ou $\\mathbb{C}$), on définit la norme subordonnée associée sur $M_n(\\mathbb{K})$ par\n",
    ">\n",
    ">$$\\left\\Vert A \\right\\Vert = \\sup_{\\substack{x\\in\\mathbb{K}^n \\\\ x\\neq 0}} \\frac{\\left\\Vert Ax \\right\\Vert}{\\left\\Vert x \\right\\Vert} = \\max_{\\substack{x\\in\\mathbb{K}^n \\\\ \\left\\Vert x \\right\\Vert= 1}}\\left\\Vert Ax \\right\\Vert.$$\n",
    ">\n",
    ">- Une norme $\\left\\Vert \\cdot \\right\\Vert$ sur $M_n(\\mathbb K)$ ($\\mathbb K = \\mathbb R$ ou $\\mathbb C$) est dite matricielle (ou d'algèbre) si \n",
    ">\n",
    ">$$\\forall A,B \\in M_n(\\mathbb K),\\quad{} \\left\\Vert AB\\right\\Vert \\leq \\left\\Vert A\\right\\Vert \\left\\Vert B\\right\\Vert.$$\n",
    ">\n",
    ">- Les normes subordonnées sont des normes matricielles. Il existe des normes matricielles qui ne sont pas des normes subordonnées, par exemple la norme de Frobenius : $\\left\\Vert A\\right\\Vert_F = \\sqrt{\\mathrm{tr}(A^{*}A)}$.\n",
    ">\n",
    ">- Pour tout matrice $A\\in M_n(\\mathbb{K})$ inversible, on définit son conditionnement, associé à une norme subordonnée $\\left\\Vert \\cdot \\right\\Vert$, par\n",
    ">\n",
    ">$$\\kappa(A) = \\Vert A \\Vert \\Vert A^{-1} \\Vert.$$\n",
    ">\n",
    ">- Soit $A\\in M_n(\\mathbb{K})$, on appelle rayon spectral de $A$ la quantité\n",
    ">\n",
    ">$$\\rho(A)=\\max\\limits_{\\lambda\\in \\mathrm{Sp}(A)} \\vert\\lambda\\vert.$$\n",
    ">\n",
    ">- Si $A$ est une matrice normale (c'est à dire telle que $A^*A=AA^*$), $\\left\\Vert A \\right\\Vert_2 = \\rho(A)$."
   ]
  },
  {
   "cell_type": "markdown",
   "metadata": {},
   "source": [
    "---"
   ]
  },
  {
   "cell_type": "markdown",
   "metadata": {},
   "source": [
    "## Exercice 1 : Conditionnement"
   ]
  },
  {
   "cell_type": "markdown",
   "metadata": {},
   "source": [
    "### Question 1 : Conditionnement local par rapport au scond membre\n",
    "\n",
    ">Soit $A$ est une matrice réelle inversible de taille $n \\times n$. Pour un vecteur $b \\in \\mathbb{R}^n$ on cherche à résoudre le système\n",
    ">\n",
    ">$$ Ax=b, $$\n",
    ">\n",
    ">et on note $\\mathcal{P}(b)=A^{-1}b$ avec $A$ fixée. On étudie la variabilité de la solution $x$ par rapport aux erreurs sur le terme $b$ à droite du système. Pour cela, on définit le *conditionnement local* associé au problème $\\mathcal{P}$ pour tout $b \\in \\mathbb{R}^n\\setminus\\{0\\}$ par\n",
    ">\n",
    ">$$\\kappa_b(A) = \\frac{1}{\\varepsilon} \\sup_{\\frac{\\left\\Vert \\delta b \\right\\Vert}{\\left\\Vert b \\right\\Vert}\\leq \\varepsilon} \\frac{\\left\\Vert \\mathcal{P}(b+\\delta b) - \\mathcal{P}(b) \\right\\Vert}{\\left\\Vert \\mathcal{P}(b) \\right\\Vert}.$$\n",
    "\n",
    "$1$. Comparer $\\kappa_b(A)$ et $\\kappa(A)$."
   ]
  },
  {
   "cell_type": "markdown",
   "metadata": {},
   "source": [
    "<div class=\"alert alert-block alert-info\">\n",
    "    $$\\begin{align}\n",
    "        \\kappa_b(A) &= \\frac{1}{\\epsilon} \\sup_{\\frac{||\\delta b||}{||b||} \\leq \\epsilon} \\left( \\frac{||A^{-1} \\delta b||}{||A^{-1} b||} \\right) \\\\\n",
    "        &\\leq \\frac{1}{\\epsilon} \\sup_{\\frac{||\\delta b||}{||b||} \\leq \\epsilon} \\left( \\frac{||A^{-1}|| \\cdot ||\\delta b||}{||A^{-1} b||} \\right) \\\\\n",
    "        &= \\frac{||A^{-1}|| \\cdot ||b||}{||A^{-1} b||}\\\\\n",
    "        &\\leq \\frac{||A^{-1}|| \\cdot ||A|| \\cdot ||A^{-1}{b}||}{||A^{-1} b||}\\\\\n",
    "        &= ||A|| \\cdot ||A^{-1}|| = \\kappa(A).\n",
    "    \\end{align}$$\n",
    "    On en conclue $\\kappa_b(A) \\leq \\kappa(A)$.\n",
    "</div>"
   ]
  },
  {
   "cell_type": "markdown",
   "metadata": {},
   "source": [
    "$2$.  Montrer qu'il existe $b_1 \\in \\mathbb{R}^n\\setminus\\{0\\}$ tel que $\\kappa_{b_1}(A) = \\kappa(A)$, et $b_2 \\in \\mathbb{R}^n\\setminus\\{0\\}$ tel que $\\kappa_{b_2}(A) = 1$."
   ]
  },
  {
   "cell_type": "markdown",
   "metadata": {},
   "source": [
    "<div class=\"alert alert-block alert-info\">\n",
    "    Soit $x \\in \\mathbb{R}^n \\setminus  \\{0\\}$ tel que $||Ax|| = ||A|| \\cdot ||x||$.\n",
    "    On note que cet $x$ existe, une fois que $||A|| = \\sup_{||x|| = 1} ||Ax||$. $\\\\$\n",
    "    Alors, on pose $b_1 \\in \\mathbb{R}^n \\setminus \\{0\\}$ tel que $A^{-1} b_1 = x \\implies b_1 = Ax$.\n",
    "    On pose $\\delta b_1$ tel que $||A^{-1} \\delta b_1|| = ||A^{-1}|| ||\\delta b_1||$ et $\\frac{||\\delta b_1||}{||b_1||} = \\epsilon$.\n",
    "    Donc, on a $\\kappa_{b_1}(A) = \\kappa(A)$. $\\\\$\n",
    "    On pose $b_2$ tel que $||A^{-1} b_2|| = ||A^{-1}|| \\cdot ||b_2|| \\implies \\kappa_{b_2}(A) = 1$.\n",
    "</div>"
   ]
  },
  {
   "cell_type": "markdown",
   "metadata": {},
   "source": [
    "$3$. Montrer que, pour tout $b \\in \\mathbb{R}^n\\setminus\\{0\\}$ et tout $\\delta b \\in \\mathbb{R}^n\\setminus\\{0\\}$, si\n",
    "\n",
    "$$ Ax=b \\qquad{}\\text{et}\\qquad{} A(x+\\delta x)=b+\\delta b, $$\n",
    "\n",
    "alors\n",
    "\n",
    "$$ \\frac{\\left\\Vert \\delta x \\right\\Vert}{\\left\\Vert x \\right\\Vert} \\leq \\kappa_b(A) \\frac{\\left\\Vert \\delta b \\right\\Vert}{\\left\\Vert b \\right\\Vert} \\leq \\kappa(A) \\frac{\\left\\Vert \\delta b \\right\\Vert}{\\left\\Vert b \\right\\Vert}. $$"
   ]
  },
  {
   "cell_type": "markdown",
   "metadata": {},
   "source": [
    "<div class=\"alert alert-block alert-info\">\n",
    "    On a le système\n",
    "    $$\\begin{align}\n",
    "    \\begin{cases}\n",
    "    Ax &= b \\\\\n",
    "    A\\delta x &= \\delta b\n",
    "    \\end{cases}\n",
    "    \\end{align}$$\n",
    "    Alors, on a\n",
    "    $$ \\frac{||\\delta x||}{||x||} = \\frac{||A^{-1} \\delta b||}{||A^{-1} b||} \\leq \\epsilon \\kappa_b(A) = \\kappa_b(A) \\frac{||\\delta b||}{||b||} \\leq \\kappa(A)\\frac{||\\delta b||}{||b||}.$$\n",
    "</div>"
   ]
  },
  {
   "cell_type": "markdown",
   "metadata": {},
   "source": [
    "### Question 2 : Conditionnement par rapport à la matrice et au second membre\n",
    "\n",
    ">On étudie dans un premier temps la variabilité de la solution $x$ par rapport aux erreurs sur la matrice $A$ seule. "
   ]
  },
  {
   "cell_type": "markdown",
   "metadata": {},
   "source": [
    "$1$. Montrer que pour tout $\\delta A$ telle que $\\|\\delta A\\| < \\frac{1}{\\|A^{-1}\\|}$ alors $A+\\delta A$ est inversible. Et montrer que \n",
    "\n",
    "$$\\|(A+\\delta A)^{-1}\\| \\le \\frac{\\|A^{-1}\\|}{1-\\|A^{-1}\\|\\|\\delta A\\|}.$$"
   ]
  },
  {
   "cell_type": "markdown",
   "metadata": {},
   "source": [
    "<div class=\"alert alert-block alert-info\">\n",
    "    On a $A + \\delta A = A(I + A^{-1}\\delta A)$. Alors,\n",
    "    $$\\begin{align}\n",
    "        (A + \\delta A)^{-1} &= (I + A^{-1}\\delta A)^{-1} A^{-1}\\\\\n",
    "        &= \\left(\\sum_{k=0}^{+\\infty} (-1)^k (A \\delta A)^k \\right) A^{-1}\n",
    "    \\end{align}$$\n",
    "    Donc \n",
    "    $$\\begin{align}\n",
    "        \\|(A + \\delta A)^{-1}\\| &\\leq \\left(\\sum_{k=0}^{+\\infty} \\|A \\delta A\\|^k \\right) \\|A^{-1}\\|\\\\\n",
    "        &= \\frac{\\|A^{-1}\\|}{1 - \\|A^{-1} \\delta A\\|}\\\\\n",
    "        &\\leq \\frac{\\|A^{-1}\\|}{1 - \\|A^{-1}\\| \\|\\delta A \\|}\n",
    "    \\end{align}$$\n",
    "</div>"
   ]
  },
  {
   "cell_type": "markdown",
   "metadata": {},
   "source": [
    "$2$. Montrer que pour tout $\\delta A$ et $\\delta x$ satisfaisant\n",
    "\n",
    "$$ (A+\\delta A) (x+\\delta x) = b,$$\n",
    "\n",
    "alors on a l'estimation \n",
    "\n",
    "$$ \\frac{\\|\\delta x\\|}{\\|x + \\delta x\\|} \\le \\kappa \\frac{\\|\\delta A\\|}{\\|A\\|}. $$"
   ]
  },
  {
   "cell_type": "markdown",
   "metadata": {},
   "source": [
    "<div class=\"alert alert-block alert-info\">\n",
    "    On a\n",
    "    $$\\begin{align}\n",
    "    \\begin{cases}\n",
    "    Ax = b\\\\\n",
    "    (A + \\delta A)(x + \\delta x) = b\n",
    "    \\end{cases}\n",
    "    \\end{align}$$\n",
    "    alors\n",
    "    $$ A \\delta x + \\delta A(x + \\delta x) = 0 \\iff \\delta x = A^{-1}\\delta A(x + \\delta x).$$\n",
    "    Donc $ \\| \\delta x \\| \\leq \\|A^{-1}\\| \\|\\delta A \\| \\|x + \\delta x \\| $ ce qui donne\n",
    "    $$ \\frac{\\| \\delta x \\|}{\\| x + \\delta x \\|} \\leq \\|A^{-1}\\| \\|\\delta A \\| = \\kappa(A) \\frac{\\|\\delta A \\|}{\\|A\\|}.$$\n",
    "</div>"
   ]
  },
  {
   "cell_type": "markdown",
   "metadata": {},
   "source": [
    "> On étudie finalement la variabilité de la solution $x$ par rapport aux erreurs sur la matrice $A$ et sur le second membre $b$ ensemble. "
   ]
  },
  {
   "cell_type": "markdown",
   "metadata": {},
   "source": [
    "$3$. On écrit désormais \n",
    "\n",
    "$$ (A+\\delta A) (x+\\delta x) = b+\\delta b.$$ \n",
    "\n",
    "Montrer que pour tout $\\delta A$ telle que $\\|\\delta A\\| < \\frac{1}{\\|A^{-1}\\|}$, on a \n",
    "\n",
    "$$\\frac{\\|\\delta x\\|}{\\| x \\|} \\le \\frac{\\kappa}{1-\\|A^{-1}\\|\\|\\delta A\\|} \\left(\\frac{\\|\\delta A\\|}{\\|A\\|} + \\frac{\\|\\delta b\\|}{\\|b\\|}\\right).$$"
   ]
  },
  {
   "cell_type": "markdown",
   "metadata": {},
   "source": [
    "<div class=\"alert alert-block alert-info\">\n",
    "    On a\n",
    "    $$\\begin{align}\n",
    "    \\begin{cases}\n",
    "    Ax = b\\\\\n",
    "    (A + \\delta A)(x + \\delta x) = b + \\delta b\n",
    "    \\end{cases}\n",
    "    \\end{align}$$\n",
    "    alors\n",
    "    $$ A \\delta x + \\delta A(x + \\delta x) = \\delta b \\iff \\delta x = (A + \\delta A)^{-1}\\delta A(\\delta b - \\delta A x).$$\n",
    "    Donc $ \\| \\delta x \\| \\leq \\frac{\\|A^{-1}\\|}{1 - \\|A^{-1}\\| \\| \\delta A \\|}\\left(\\|\\delta b\\| + \\|\\delta A\\| \\|x\\| \\right) $ on multiplie cette inégalité par $ \\frac{\\|A\\|}{\\|A\\| \\|x \\|} $ ce qui donne\n",
    "    $$\\frac{\\|\\delta x\\|}{\\| x \\|} \\le \\frac{\\kappa(A)}{1-\\|A^{-1}\\|\\|\\delta A\\|} \\left(\\frac{\\|\\delta A\\|}{\\|A\\|} + \\frac{\\|\\delta b\\|}{\\|b\\|}\\right).$$\n",
    "</div>"
   ]
  },
  {
   "cell_type": "markdown",
   "metadata": {},
   "source": [
    "$4$. On revient sur les systèmes $Ax = b$ de la PC1 avec\n",
    "\n",
    "- a) $A = \\left( \\begin{array}{cc} 1+\\alpha & -1 \\\\ 1 & -1 \\end{array}\\right)$ et $b = \\left(\\begin{array}{c} \\alpha \\\\ 0 \\end{array}\\right)$, \n",
    "- b) $A = \\left( \\begin{array}{cc}   \\alpha &  1 \\\\ 1 &  1 \\end{array}\\right)$ et $b = \\left(\\begin{array}{c} 1 \\\\ 2 \\end{array}\\right)$.\n",
    "\n",
    "Donner une estimation de $\\frac{\\|\\delta x\\|_\\infty}{\\|x\\|_\\infty}$ dans chaque cas en fonction de $\\alpha$ et évaluer pour $\\alpha = 2^{-52}$. "
   ]
  },
  {
   "cell_type": "markdown",
   "metadata": {},
   "source": [
    "<div class=\"alert alert-block alert-info\">\n",
    "    <h3>4a</h3>\n",
    "    On a $\\|A\\|_{\\infty} = \\max(1 + |1+\\alpha|, 2) \\implies \\|A^{-1}\\|_{\\infty} = \\frac{1}{|\\alpha|}\\max(1 + |1+\\alpha|, 2).$ $\\\\$\n",
    "    Donc $\\kappa_{\\infty}(A) = \\frac{\\max(1 + |1+\\alpha|, 2)^2}{|\\alpha|}.$ $\\\\$\n",
    "    <h3>4b</h3>\n",
    "    Analogiquement, on a $\\kappa_{\\infty}(A) = \\frac{\\max(1 + |1+\\alpha|, 2)^2}{|1 - \\alpha|}.$\n",
    "</div>"
   ]
  },
  {
   "cell_type": "markdown",
   "metadata": {},
   "source": [
    "### Question 3\n",
    "\n",
    "Montrez que si $A$ est une matrice symétrique réelle alors\n",
    "  \n",
    "$$ \\kappa_2(A) = \\frac{\\max\\limits_{\\lambda\\in Sp(A)} \\vert\\lambda\\vert}{\\min\\limits_{\\lambda\\in Sp(A)} \\vert\\lambda\\vert}, $$\n",
    "\n",
    "où $\\kappa_2$ désigne le conditionnement pour la norme $\\left\\Vert \\cdot \\right\\Vert_2$.\n",
    "\n",
    "*Indication :* On pourra utiliser le fait que $A$ est diagonalisable dans une base orthonormée. "
   ]
  },
  {
   "cell_type": "markdown",
   "metadata": {},
   "source": [
    "<div class=\"alert alert-block alert-info\">\n",
    "    Soit $P$ orthogonale tel que $A = P^{-1} \\Lambda P$.\n",
    "    Alors $$\\begin{align}\n",
    "    \\| A \\|_2^2 &= \\max_{\\|x\\|_2^2 = 1} \\|Ax\\|_2^2 \\\\\n",
    "    &= \\max_{\\|x\\|_2^2 = 1} \\langle Ax, Ax \\rangle \\\\\n",
    "    &= \\max_{\\|x\\|_2^2 = 1} \\langle P^{-1} \\Lambda Px, P^{-1} \\Lambda Px \\rangle \\\\\n",
    "    &= \\max_{\\|x\\|_2^2 = 1} \\langle \\Lambda Px, \\Lambda Px \\rangle \\\\\n",
    "    &= \\max_{\\|y\\|_2^2 = 1} \\langle \\Lambda y, \\Lambda y \\rangle \\\\\n",
    "    &= \\max_{\\sum_{i=1}^n y_i^2 = 1} \\sum_{i=1}^n \\lambda_i^2 y_i^2 \\\\\n",
    "    &= \\max_{i \\in \\{1,...,n\\}} \\lambda_i^2.\n",
    "    \\end{align}$$\n",
    "    On en conclue $$\\begin{align}\n",
    "    \\begin{cases}\n",
    "    \\|A\\|_2 &= \\max_{i \\in \\{1,...,n\\}} |\\lambda_i|\\\\\n",
    "    \\|A^{-1}\\|_2 &= \\max_{i \\in \\{1,...,n\\}} \\frac{1}{|\\lambda_i|} = \\frac{1}{\\min_{i \\in \\{1,...,n\\}} |\\lambda_i|}.\n",
    "    \\end{cases}\n",
    "    \\end{align}$$\n",
    "    Donc $\\kappa_2 (A) = \\|A\\|_2\\|A^{-1}\\|_2 = \\frac{\\max_{i \\in \\{1,...,n\\}} |\\lambda_i|}{\\min_{i \\in \\{1,...,n\\}} |\\lambda_i|}$\n",
    "</div>"
   ]
  },
  {
   "cell_type": "markdown",
   "metadata": {},
   "source": [
    "### Question 4\n",
    "\n",
    "Considérons l'exemple suivant (attribué à H. Rutishauser [1]) : \n",
    "    \n",
    "$$\n",
    "    A=\\begin{pmatrix}\n",
    "      10 & 1 & 4 & 0 \\\\\n",
    "      1  & 10& 5 & -1\\\\\n",
    "      4 & 5 & 10 & 7 \\\\\n",
    "      0 & -1 & 7 & 9\n",
    "    \\end{pmatrix}\n",
    "    \\text{ avec } \n",
    "    b_1 = \\begin{pmatrix}\n",
    "    15\\\\15\\\\26\\\\15\n",
    "    \\end{pmatrix}\n",
    "    \\text{ et }\n",
    "    b_2 = \\begin{pmatrix}\n",
    "    16\\\\16\\\\25\\\\16\n",
    "    \\end{pmatrix}\n",
    "$$"
   ]
  },
  {
   "cell_type": "code",
   "execution_count": 2,
   "metadata": {},
   "outputs": [],
   "source": [
    "# definition de la matrice\n",
    "A = np.array([[10.,  1.,  4.,  0.],\n",
    "              [ 1., 10.,  5., -1.],\n",
    "              [ 4.,  5., 10.,  7.],\n",
    "              [ 0., -1.,  7.,  9.]])\n",
    "\n",
    "# defition des vecteurs\n",
    "b1 = np.array([15.,  15.,  26.,  15.])\n",
    "b2 = np.array([16.,  16.,  25.,  16.])"
   ]
  },
  {
   "cell_type": "markdown",
   "metadata": {},
   "source": [
    "$1$. **<font color=black><span style=\"background-color:skyblue\"> À rendre :</span></font>** Calculer le déterminant de $A$ et l'inverse de $A$ avec les fonctions *numpy.linalg.det* et *numpy.linalg.inv*."
   ]
  },
  {
   "cell_type": "code",
   "execution_count": 3,
   "metadata": {},
   "outputs": [
    {
     "name": "stdout",
     "output_type": "stream",
     "text": [
      "Déterminant via det : 1.0000000000003961\n",
      "Inverse     via inv :\n",
      " [[ 105.  167. -304.  255.]\n",
      " [ 167.  266. -484.  406.]\n",
      " [-304. -484.  881. -739.]\n",
      " [ 255.  406. -739.  620.]]\n"
     ]
    }
   ],
   "source": [
    "detA = lin.det(A)\n",
    "invA = lin.inv(A)\n",
    "\n",
    "print(\"Déterminant via det :\", detA)\n",
    "print(\"Inverse     via inv :\\n\", invA)"
   ]
  },
  {
   "cell_type": "markdown",
   "metadata": {},
   "source": [
    "$2$. **<font color=black><span style=\"background-color:skyblue\"> À rendre :</span></font>** Résoudre les systèmes $Ax_1=b_1$ et $Ax_2 = b_2$ en utilisant soit l'inverse trouvée ci-dessus, soit *numpy.linalg.solve*. Calculer l'erreur relative $\\frac{\\|x_1-x_2\\|}{\\|x_1\\|}$ et commenter cette valeur. En déduire une borne inférieure sur le conditionnement (en norme 2)."
   ]
  },
  {
   "cell_type": "markdown",
   "metadata": {},
   "source": [
    "<div class=\"alert alert-block alert-info\">\n",
    "On utilise $$\\frac{\\|\\delta x\\|}{\\| x \\|} \\leq \\frac{\\kappa}{1-\\|A^{-1}\\|\\|\\delta A\\|} \\left(\\frac{\\|\\delta A\\|}{\\|A\\|} + \\frac{\\|\\delta b\\|}{\\|b\\|}\\right) \\iff \\kappa \\geq \\frac{\\|\\delta x\\|}{\\| x \\|} \\frac{1-\\|A^{-1}\\|\\|\\delta A\\|}{\\left(\\frac{\\|\\delta A\\|}{\\|A\\|} + \\frac{\\|\\delta b\\|}{\\|b\\|}\\right)} .$$\n",
    "    Dans ce cas $\\delta A = 0 \\implies \\kappa \\geq \\frac{\\|\\delta x\\| \\|b\\|}{\\| x \\| \\|\\delta b\\|}$.\n",
    "</div>"
   ]
  },
  {
   "cell_type": "code",
   "execution_count": 4,
   "metadata": {},
   "outputs": [
    {
     "name": "stdout",
     "output_type": "stream",
     "text": [
      "Erreur relative sur x :  1754.9753559523897\n",
      "borne inf du conditionnement :  32252.8948836391\n"
     ]
    }
   ],
   "source": [
    "x1 = lin.solve(A, b1)\n",
    "x2 = lin.solve(A, b2)\n",
    "erreur_relative = lin.norm(x1 - x2)/lin.norm(x1)\n",
    "borne_inferieure = erreur_relative*(lin.norm(b1)/(lin.norm(b1 - b2)))\n",
    "\n",
    "print(\"Erreur relative sur x : \", erreur_relative)\n",
    "print(\"borne inf du conditionnement : \", borne_inferieure)"
   ]
  },
  {
   "cell_type": "markdown",
   "metadata": {},
   "source": [
    "**Réponse :** "
   ]
  },
  {
   "cell_type": "markdown",
   "metadata": {},
   "source": [
    "$3$. **<font color=black><span style=\"background-color:skyblue\"> À rendre :</span></font>** Calculer le conditionnement (en norme 2) de $A$ **par les deux** méthodes suivantes :\n",
    "- calculer les valeurs propres de $A$ avec *numpy.linalg.eig* et en utilisant la question 2,\n",
    "- utiliser *numpy.linalg.cond*."
   ]
  },
  {
   "cell_type": "code",
   "execution_count": 5,
   "metadata": {},
   "outputs": [
    {
     "name": "stdout",
     "output_type": "stream",
     "text": [
      "Conditionnement via eig  :  35792.39762915797\n",
      "Conditionnement via cond :  35792.39762890253\n"
     ]
    }
   ],
   "source": [
    "eigenvalues, eigenvectors = lin.eig(A)\n",
    "cond_eigen = np.max(eigenvalues)/np.min(eigenvalues)\n",
    "cond_np = lin.cond(A)\n",
    "\n",
    "print(\"Conditionnement via eig  : \", cond_eigen)\n",
    "print(\"Conditionnement via cond : \", cond_np)"
   ]
  },
  {
   "cell_type": "markdown",
   "metadata": {},
   "source": [
    "<div class=\"alert alert-block alert-info\">\n",
    "Comme attendu, l'expression obtenue à la Question 2 donne la valeur exacte.\n",
    "</div>"
   ]
  },
  {
   "cell_type": "markdown",
   "metadata": {},
   "source": [
    "$4$. **<font color=black><span style=\"background-color:deepskyblue\"> Bonus :</span></font>** Trouver un vecteur $b$ tel que, pour toute perturbation $\\delta b$, on ait \n",
    "\n",
    "$$\\frac{\\left\\Vert \\delta x \\right\\Vert_2}{\\left\\Vert x \\right\\Vert_2} \\leq  \\frac{\\left\\Vert \\delta b \\right\\Vert_2}{\\left\\Vert b \\right\\Vert_2}.$$\n",
    "\n",
    "*Justifiez votre réponse de manière théorique. On vérifiera ensuite numériquement que l'inégalité est vérifiée au moins pour 4 vecteurs de perturbation $\\delta b$ linéairement indépendant.*"
   ]
  },
  {
   "cell_type": "markdown",
   "metadata": {},
   "source": [
    "<div class=\"alert alert-block alert-info\">\n",
    "    On a montré que $$ \\frac{\\left\\Vert \\delta x \\right\\Vert}{\\left\\Vert x \\right\\Vert} \\leq \\kappa_b(A) \\frac{\\left\\Vert \\delta b \\right\\Vert}{\\left\\Vert b \\right\\Vert}.$$\n",
    "    Donc, il suffit de prendre $b$ tel que $\\kappa_b(A) \\leq 1 \\iff ||A^{-1} b|| = ||A^{-1}|| \\cdot ||b||$.\n",
    "</div>"
   ]
  },
  {
   "cell_type": "markdown",
   "metadata": {},
   "source": [
    "**Réponse :** "
   ]
  },
  {
   "cell_type": "code",
   "execution_count": 6,
   "metadata": {
    "scrolled": false
   },
   "outputs": [
    {
     "name": "stdout",
     "output_type": "stream",
     "text": [
      "kappa_b(A) = 1.030497166514059\n",
      "\n",
      "vecteur considéré : [ 1.   1.  -1.8  1. ]\n",
      "Erreur relative sur x : 0.010956843676304619\n",
      "Erreur relative sur b : 0.044912194856031325 \n",
      "\n",
      "vecteur considéré : [ 1.   1.  -1.8  1. ]\n",
      "Erreur relative sur x : 0.059721683129754524\n",
      "Erreur relative sur b : 0.15375592923326148 \n",
      "\n",
      "vecteur considéré : [ 1.   1.  -1.8  1. ]\n",
      "Erreur relative sur x : 0.1652159256045544\n",
      "Erreur relative sur b : 0.23369393095079166 \n",
      "\n",
      "vecteur considéré : [ 1.   1.  -1.8  1. ]\n",
      "Erreur relative sur x : 0.10623235142309437\n",
      "Erreur relative sur b : 0.17912495703286166 \n",
      "\n"
     ]
    }
   ],
   "source": [
    "test_b = np.array([1, 1, -1.8, 1])\n",
    "kappa_testb = (lin.norm(invA)*lin.norm(test_b))/(lin.norm(np.matmul(invA, test_b)))\n",
    "print(f\"kappa_b(A) = {kappa_testb}\\n\")\n",
    "test_x = lin.solve(A, test_b)\n",
    "\n",
    "test_delb1 = np.array([1,  0,  0,  0])*np.random.rand(1)\n",
    "test_delx1 = lin.solve(A, test_b + test_delb1) - test_x\n",
    "erreur_relative_x1 = lin.norm(test_delx1)/lin.norm(test_x)\n",
    "erreur_relative_b1 = lin.norm(test_delb1)/lin.norm(test_b)\n",
    "print(\"vecteur considéré :\", test_b)\n",
    "print(\"Erreur relative sur x :\", erreur_relative_x1)\n",
    "print(\"Erreur relative sur b :\", erreur_relative_b1 ,\"\\n\")\n",
    "\n",
    "test_delb2 = np.array([0,  1,  0,  0])*np.random.rand(1)\n",
    "test_delx2 = lin.solve(A, test_b + test_delb2) - test_x\n",
    "erreur_relative_x2 = lin.norm(test_delx2)/lin.norm(test_x)\n",
    "erreur_relative_b2 = lin.norm(test_delb2)/lin.norm(test_b)\n",
    "print(\"vecteur considéré :\", test_b)\n",
    "print(\"Erreur relative sur x :\", erreur_relative_x2)\n",
    "print(\"Erreur relative sur b :\", erreur_relative_b2 ,\"\\n\")\n",
    "\n",
    "test_delb3 = np.array([0,  0,  1,  0])*np.random.rand(1)\n",
    "test_delx3 = lin.solve(A, test_b + test_delb3) - test_x\n",
    "erreur_relative_x3 = lin.norm(test_delx3)/lin.norm(test_x)\n",
    "erreur_relative_b3 = lin.norm(test_delb3)/lin.norm(test_b)\n",
    "print(\"vecteur considéré :\", test_b)\n",
    "print(\"Erreur relative sur x :\", erreur_relative_x3)\n",
    "print(\"Erreur relative sur b :\", erreur_relative_b3 ,\"\\n\")\n",
    "\n",
    "test_delb4 = np.array([0,  0,  0,  1])*np.random.rand(1)\n",
    "test_delx4 = lin.solve(A, test_b + test_delb4) - test_x\n",
    "erreur_relative_x4 = lin.norm(test_delx4)/lin.norm(test_x)\n",
    "erreur_relative_b4 = lin.norm(test_delb4)/lin.norm(test_b)\n",
    "print(\"vecteur considéré :\", test_b)\n",
    "print(\"Erreur relative sur x :\", erreur_relative_x4)\n",
    "print(\"Erreur relative sur b :\", erreur_relative_b4 ,\"\\n\")\n"
   ]
  },
  {
   "cell_type": "markdown",
   "metadata": {},
   "source": [
    "### Question 5 :\n",
    "\n",
    "1) On rappelle que le polynôme d'interpolation aux points de Tchebychev dans la base polynomiale de Tchebychev s'écrit \n",
    "\n",
    "$$ p_n(f) = \\sum\\limits_{i=0}^n c_i T_i, \\qquad{} \\text{avec}\\qquad{} c_0 = \\frac{1}{n+1}\\sum_{i=0}^n T_0(x_i) y_i, \\qquad{} c_j = \\frac{2}{n+1}\\sum_{i=0}^n T_j(x_i) y_i \\quad{}\\forall j= 1, \\dots, n. $$\n",
    "\n",
    "En écrivant $M$ la matrice telle que $M c = y$ où $c$ est le vecteur de coefficient dans la base de Tchebychev et $y$ est le vecteur des ordonnées telles que $p_n(f)(x_i) = y_i$, montrer que le conditionnement en norme 2 de $M$ vaut  $\\sqrt{2}$."
   ]
  },
  {
   "cell_type": "markdown",
   "metadata": {},
   "source": [
    "2) a) Calculer numériquement le conditionnement en norme 2 de cette matrice $M$ pour un nombre de points $n = 2^1, 2^2, \\dots, 2^8$. \n",
    "\n",
    "*Indication :* On pourra utiliser la fonction numpy.linalg.cond de numpy.\n",
    "\n",
    "b) On cherche maintenant les coefficients du polynôme d'interpolation aux points équidistants dans la base des polynômes de Tchebychev. On écrit donc \n",
    "\n",
    "$$ p_n(f) = \\sum\\limits_{i=0}^n c_i T_i, $$\n",
    "\n",
    "tel que $p_n(f)(x_i) = y_i = \\sum\\limits_{j=1}^n L_{i,j} c_j$.\n",
    "\n",
    "- Calculer numériquement le conditionnement de la matrice $L$ pour un nombre de points $n = 2^1, 2^2, \\dots, 2^8$. \n",
    "- Tracer ce conditionnement $cond(L)$ en fonction du nombre de points $n$ en échelle log-log.\n",
    "- Comparer les conditionnements de ces deux méthodes et interpréter en lien avec le chapitre 2.\n",
    "\n",
    "*Indication :* On pourra utiliser les fonctions cos et arccos de numpy pour calculer les $L_{i,j}$ et la fonction cond pour le conditionnement."
   ]
  },
  {
   "cell_type": "code",
   "execution_count": 7,
   "metadata": {},
   "outputs": [],
   "source": [
    "# a)\n",
    "N      = 8\n",
    "\n",
    "\n",
    "#print(\"Conditionnement des matrices M :\\n\", cond_M)"
   ]
  },
  {
   "cell_type": "code",
   "execution_count": 8,
   "metadata": {},
   "outputs": [],
   "source": [
    "# b)\n",
    "N      = 8\n",
    "\n",
    "#print(\"Conditionnement des matrices L :\\n\", cond_L)"
   ]
  },
  {
   "cell_type": "code",
   "execution_count": 9,
   "metadata": {},
   "outputs": [],
   "source": [
    "#plt.figure()\n",
    "#plt.scatter(list_n, cond_L, label=\"cond\")\n",
    "#plt.yscale(\"log\")\n",
    "#plt.xscale(\"log\")\n",
    "#plt.legend()\n",
    "#plt.show()"
   ]
  },
  {
   "cell_type": "markdown",
   "metadata": {},
   "source": [
    "---"
   ]
  },
  {
   "cell_type": "markdown",
   "metadata": {},
   "source": [
    "## Exercice 2 : Décomposition $QR$ et résolution de systèmes surdimensionnés\n",
    ">On considère dans cet exercice une matrice réelle $A$ de taille $m\\times n$, $m>n$, un vecteur $b\\in\\mathbb{R}^m$, et on cherche à \"résoudre\" le système\n",
    ">\n",
    ">$$ Ax=b,\\quad{} x\\in\\mathbb{R}^n. $$\n",
    ">\n",
    ">En pratique, un tel système n'a souvent pas de solution, et on cherche donc plutôt un $x$ qui minimise l'erreur :\n",
    ">\n",
    ">$$ \\left\\Vert Ax-b \\right\\Vert_2 = \\min_{y\\in\\mathbb{R}^n} \\left\\Vert Ay-b \\right\\Vert_2. \\qquad{} (1)$$\n",
    ">\n",
    ">On va pour cela utiliser une décomposition $QR$ de $A$, c'est à dire deux matrices $Q$ et $R$, respectivement orthogonale de taille $m\\times m$ et triangulaire de taille $m\\times n$, telles que $A=QR$."
   ]
  },
  {
   "cell_type": "markdown",
   "metadata": {},
   "source": [
    "### Question 1 \n",
    "\n",
    "On rappelle que si $Q$ est une matrice orthogonale, $Q^T Q=I$ et $\\left\\Vert Qy \\right\\Vert_2 = \\left\\Vert y \\right\\Vert_2$ pour tout vecteur $y$. En déduire une manière de trouver un vecteur $x$ satisfaisant (1) à l'aide de la factorisation $QR$ et la résolution d'un système triangulaire."
   ]
  },
  {
   "cell_type": "markdown",
   "metadata": {},
   "source": [
    "<div class=\"alert alert-block alert-info\">\n",
    "    $$\\begin{align}\n",
    "    \\left\\Vert Ax-b \\right\\Vert_2 &= \\min_{y\\in\\mathbb{R}^n} \\left\\Vert Ay-b \\right\\Vert_2\\\\\n",
    "    &= \\min_{y\\in\\mathbb{R}^n} \\left\\Vert QRy - b\\right\\Vert_2\\\\\n",
    "    &= \\min_{y\\in\\mathbb{R}^n} \\left\\Vert Ry - Q^Tb \\right\\Vert_2.\n",
    "    \\end{align}$$\n",
    "    Alors, on a $R = \\begin{pmatrix} \\tilde{R}\\\\0 \\end{pmatrix}$ et $\\tilde{R}y = PQ^Tb$ est un système triangulaire qu'on peut résoudre à $n$ variables.\n",
    "</div>"
   ]
  },
  {
   "cell_type": "markdown",
   "metadata": {},
   "source": [
    "### Question 2 \n",
    "\n",
    "**<font color=black><span style=\"background-color:skyblue\"> À rendre :</span></font>** Utiliser cette méthode pour résoudre le système surdimensionné $Bx=b$, avec \n",
    "\n",
    "$$\n",
    "    B=\\begin{pmatrix}\n",
    "      10 & 1 & 4  \\\\\n",
    "      1  & 3 & 5 \\\\\n",
    "      4 & 5  & 10 \\\\\n",
    "      2 & 5  & 6 \\\\\n",
    "      1 & 8  & 6 \\\\\n",
    "      5 & 9  & -4 \\\\\n",
    "      0 & -1 & 7 \n",
    "    \\end{pmatrix}\\quad{} \n",
    "    \\text{ et }\\quad{}\n",
    "    b = \\begin{pmatrix}\n",
    "    14\\\\15\\\\26\\\\28\\\\47\\\\70 \\\\-15\n",
    "    \\end{pmatrix}\n",
    "$$\n",
    "et vérifier la valeur de la norme $\\|A y - b\\|$ pour $y = x + e_i$ où $e_i = (1,0,0)^T$, $(0,1,0)^T$ et $(0,0,1)^T$.    \n",
    "\n",
    "*Indication :* Utiliser la fonction *numpy.linalg.qr.*"
   ]
  },
  {
   "cell_type": "code",
   "execution_count": 10,
   "metadata": {},
   "outputs": [
    {
     "name": "stdout",
     "output_type": "stream",
     "text": [
      "Solution :  [ 1.210814    6.58773664 -1.18569127]\n",
      "B x = [ 13.95311155  15.04556758  25.92502652  28.24616359  46.79855952\n",
      "  70.08646483 -14.88757552] norme Bx-b 0.36219631156771515\n",
      "B y = [ 23.95311155  16.04556758  29.92502652  30.24616359  47.79855952\n",
      "  75.08646483 -14.88757552] norme By-b 12.129764472903538\n",
      "B y = [ 14.95311155  18.04556758  30.92502652  33.24616359  54.79855952\n",
      "  79.08646483 -15.88757552] norme By-b 14.357269453768462\n",
      "B y = [17.95311155 20.04556758 35.92502652 34.24616359 52.79855952 66.08646483\n",
      " -7.88757552] norme By-b 16.67726554828798\n"
     ]
    }
   ],
   "source": [
    "B = np.array([[10,1,4],[1,3,5],[4,5,10],[2,5,6],[1,8,6],[5,9,-4],[0,-1,7]])\n",
    "b = np.array([14,15,26,28,47,70,-15])\n",
    "\n",
    "Q, R = lin.qr(B)\n",
    "QTb = np.matmul(np.transpose(Q),b)\n",
    "x = lin.solve(R, QTb)\n",
    "\n",
    "print(\"Solution : \", x)\n",
    "Bx = np.matmul(B, x)\n",
    "print(\"B x =\", Bx , \"norme Bx-b\", lin.norm(Bx - b))\n",
    "\n",
    "e1 = np.array([1, 0, 0])\n",
    "y1 = x + e1\n",
    "By1 = np.matmul(B, y1)\n",
    "print(\"B y =\", By1 , \"norme By-b\", lin.norm(By1 - b))\n",
    "\n",
    "e2 = np.array([0, 1, 0])\n",
    "y2 = x + e2\n",
    "By2 = np.matmul(B, y2)\n",
    "print(\"B y =\", By2 , \"norme By-b\", lin.norm(By2 - b))\n",
    "\n",
    "e3 = np.array([0, 0, 1])\n",
    "y3 = x + e3\n",
    "By3 = np.matmul(B, y3)\n",
    "print(\"B y =\", By3 , \"norme By-b\", lin.norm(By3 - b))"
   ]
  },
  {
   "cell_type": "markdown",
   "metadata": {},
   "source": [
    "---"
   ]
  },
  {
   "cell_type": "markdown",
   "metadata": {},
   "source": [
    "## Exercice 3 : Stockage de matrice et Laplacien\n",
    "\n",
    ">L'objectif de cet exercice est d'adapter, dans le cas des matrices creuses (c'est à dire qui contiennent une majorité de zéros), les algorithmes de résolution de systèmes linéaires. On applique ici ces différentes méthodes pour la résolution des problèmes suivants\n",
    ">\n",
    ">$$\\begin{aligned} \\text{1D : }& \\left\\{ \\begin{array}{l} -\\Delta u(x)   = x^3        \\quad{} \\text{ si } x  \\in[0,1] \\\\ u(0  ) = 0 = u(1  ), \\end{array}\\right. \\qquad{} &(2)\\\\\n",
    "   \\text{2D : }& \\left\\{ \\begin{array}{l} -\\Delta u(x,y) = 5\\pi^2 \\sin(\\pi x)\\sin(2\\pi y)  \\quad{} \\text{ si } x,y\\in[0,1] \\\\ u(0,y) = 0 = u(1,y) = u(x,0) = u(x,1). \\end{array}\\right.\\qquad{} &(3) \\end{aligned}$$"
   ]
  },
  {
   "cell_type": "markdown",
   "metadata": {},
   "source": [
    "**<big> Cas 1D :</big>**\n",
    "\n",
    ">On considère une matrice $C$ tridiagonale, i.e. dont les seuls coefficients $C_{i,j}$ éventuellement non-nuls sont ceux tels que $|i-j| \\le 1$.\n",
    ">On écrit cette matrice $C$ sous la forme\n",
    ">\n",
    ">$$ C = \\left( \\begin{array}{cccccc}\n",
    "    a_1    & b_2    & 0       &\\dots   & 0 \\\\\n",
    "    c_1    & a_2    & b_3     & \\ddots& \\vdots  \\\\\n",
    "    0      & \\ddots & \\ddots &\\ddots  &0\\\\\n",
    "    \\vdots & \\ddots & \\ddots &\\ddots  & b_{N}\\\\\n",
    "    0      & \\dots  &  0   &   c_{N-1}  & a_N\n",
    "  \\end{array}\\right). $$\n",
    "> \n",
    ">Pour les applications numériques, on fixera \n",
    ">\n",
    ">$$ a_i = \\frac{2}{h^2}, \\quad{} b_i = -\\frac{1}{h^2} \\quad{} \\text{et} \\quad{} c_i = -\\frac{1}{h^2} \\quad{} \\text{avec} \\quad{} h = \\frac{1}{N+1}, \\quad{} N = 2048. \\qquad{}(4)$$\n",
    ">\n",
    ">Ici $h$ est un pas d'espace. Cette matrice correspond à une discrétisation de l'opérateur $-\\Delta$, dont la construction est donnée dans le cours et sera reprise plus tard en PC."
   ]
  },
  {
   "cell_type": "markdown",
   "metadata": {},
   "source": [
    "### Question 1 : Matrices pleines \n",
    "\n",
    "$1$. **<font color=black><span style=\"background-color:skyblue\"> À rendre :</span></font>** Implémenter une fonction qui renvoie la matrice $C$ de la discrétisation de $-\\Delta$ décrite en (4), pour un $N$ donné. Afficher le résultat obtenu pour $N=3$."
   ]
  },
  {
   "cell_type": "code",
   "execution_count": 11,
   "metadata": {},
   "outputs": [],
   "source": [
    "def moins_Laplacien_1D_plein(N):\n",
    "    \"\"\"\n",
    "    crée la matrice NxN correspondant à la discrétisation de -\\Delta en 1D\n",
    "    ----------   \n",
    "    parametre:\n",
    "    N   : taille de la matrice\n",
    "    \n",
    "    valeur de retour:\n",
    "    matrice de taille NxN\n",
    "    \"\"\"\n",
    "    C = np.zeros((N,N))\n",
    "    h = 1.0/(N+1)\n",
    "    for i in range(N):\n",
    "        C[i][i] = 2/(h*h)\n",
    "        if(i - 1 >= 0):\n",
    "            C[i][i-1] = -1/(h*h)\n",
    "        if(i + 1 < N):\n",
    "            C[i][i+1] = -1/(h*h)\n",
    "    return C"
   ]
  },
  {
   "cell_type": "code",
   "execution_count": 12,
   "metadata": {},
   "outputs": [
    {
     "name": "stdout",
     "output_type": "stream",
     "text": [
      "Matrice du Laplacien :\n",
      " [[ 32. -16.   0.]\n",
      " [-16.  32. -16.]\n",
      " [  0. -16.  32.]]\n"
     ]
    }
   ],
   "source": [
    "# Tester votre fonction avec N = 3 \n",
    "\n",
    "print(\"Matrice du Laplacien :\\n\", moins_Laplacien_1D_plein(3))"
   ]
  },
  {
   "cell_type": "markdown",
   "metadata": {},
   "source": [
    "$2$. **<font color=black><span style=\"background-color:skyblue\"> À rendre :</span></font>** On utilisera ici les valeurs numériques données dans (4) :\n",
    "- Utiliser la fonction *lu_factor* de *scipy.linalg* pour construire deux matrices $L$ et $U$ respectivement triangulaire inférieure et supérieure telles que $C=LU$. \n",
    "- Afficher la valeur $\\max_{i,j}\\left|(C - L U)\\right|_{i,j}$ pour vérifier que les deux matrices sont bien identiques. \n",
    "\n",
    "*Indication :* On vérifiera dans la documentation ce que renvoie cette fonction."
   ]
  },
  {
   "cell_type": "code",
   "execution_count": 13,
   "metadata": {},
   "outputs": [
    {
     "name": "stdout",
     "output_type": "stream",
     "text": [
      "Valeur max : 0.0\n"
     ]
    }
   ],
   "source": [
    "N       = 2048\n",
    "\n",
    "C = moins_Laplacien_1D_plein(N)\n",
    "LU, piv = lu_factor(C)\n",
    "L, U = np.tril(LU, k=-1) + np.eye(N), np.triu(LU)\n",
    "\n",
    "print(\"Valeur max :\", np.max(C - np.matmul(L, U)))"
   ]
  },
  {
   "cell_type": "markdown",
   "metadata": {},
   "source": [
    "$3$. **<font color=black><span style=\"background-color:skyblue\"> À rendre :</span></font>** Résoudre $Cu=f$ avec $f_i = x_i^3$ où $x_i = ih$ pour $i=1,\\dots,N$ en utilisant la factorisation LU précédente et la fonction *lu\\_solve*.\n",
    "    Calculer la solution analytique $x\\mapsto u(x)$ du problème (2) et tracer les courbes $u(x_i)$ et $u_i$ en fonction de $x_i$. "
   ]
  },
  {
   "cell_type": "code",
   "execution_count": 14,
   "metadata": {},
   "outputs": [],
   "source": [
    "def second_membre_1D(N):\n",
    "    \"\"\"\n",
    "    crée le second membre de taille N en 1D, donne par f_i = f(x_i)\n",
    "    ----------   \n",
    "    parametre:\n",
    "    N   : taille du vecteur\n",
    "    \n",
    "    valeur de retour:\n",
    "    veteur de taille N\n",
    "    \"\"\"\n",
    "    f = np.zeros(N)\n",
    "    h = 1.0/(N+1)\n",
    "    for i in range(N):\n",
    "        xi = (i+1)*h\n",
    "        f[i] = (xi**3)\n",
    "    return f"
   ]
  },
  {
   "cell_type": "code",
   "execution_count": 15,
   "metadata": {},
   "outputs": [
    {
     "data": {
      "image/png": "[encoded data removed]",
      "text/plain": [
       "<Figure size 432x288 with 1 Axes>"
      ]
     },
     "metadata": {
      "needs_background": "light"
     },
     "output_type": "display_data"
    },
    {
     "data": {
      "image/png": "[encoded data removed]",
      "text/plain": [
       "<Figure size 432x288 with 1 Axes>"
      ]
     },
     "metadata": {
      "needs_background": "light"
     },
     "output_type": "display_data"
    }
   ],
   "source": [
    "N = 2048\n",
    "\n",
    "C = moins_Laplacien_1D_plein(N)\n",
    "f = second_membre_1D(N)\n",
    "LU, piv = lu_factor(C)\n",
    "u = lu_solve((LU, piv), f)\n",
    "\n",
    "x = np.linspace(0, 1, N)\n",
    "\n",
    "y = f\n",
    "plt.figure()\n",
    "plt.plot(x, y)\n",
    "plt.xlabel(\"x\")\n",
    "plt.ylabel(\"second membre f(x)\")\n",
    "plt.show()\n",
    "\n",
    "sol = u\n",
    "plt.figure()\n",
    "plt.plot(x, sol)\n",
    "plt.xlabel(\"x\")\n",
    "plt.ylabel(\"solution u(x)\")\n",
    "plt.show()"
   ]
  },
  {
   "cell_type": "markdown",
   "metadata": {},
   "source": [
    "### Question 2 : Stockage tridiagonal \n",
    "    \n",
    "1) Supposons $L$ et $U$ tridiagonales et respectivement triangulaire inférieure et supérieure de la forme\n",
    "  \n",
    "$$ L = \\left( \\begin{array}{cccccc}\n",
    "    1       & 0     & \\dots  & \\dots    & 0 \\\\\n",
    "    \\gamma_1& 1     & \\ddots &          & \\vdots  \\\\\n",
    "    0       & \\ddots& \\ddots &\\ddots    & \\vdots \\\\\n",
    "    \\vdots  & \\ddots& \\ddots &\\ddots    & 0\\\\\n",
    "    0       & \\dots &  0     & \\gamma_{N-1} & 1\n",
    "  \\end{array}\\right), \\qquad{}\n",
    "  U = \\left( \\begin{array}{cccccc}\n",
    "    \\alpha_1&\\beta_2 &       0 & \\dots  & 0 \\\\\n",
    "    0       &\\alpha_2& \\beta_3 &\\ddots & \\vdots  \\\\\n",
    "    \\vdots  & \\ddots& \\ddots &\\ddots    & 0\\\\\n",
    "    \\vdots &       & \\ddots &\\ddots    & \\beta_{N}\\\\\n",
    "    0       & \\dots & \\dots  & 0 & \\alpha_N\n",
    "  \\end{array}\\right).$$\n",
    "  \n",
    "   Calculer les coefficients de la matrice produit $LU$ et en déduire la décomposition $LU$ d'une matrice tridiagonale $C$. \n",
    "  \n",
    "2) Combien d'opérations sont nécessaires pour calculer les coefficients de cette décomposition? Combien de coefficients sont stockés? \n",
    "\n",
    "3) De quel coefficients des matrices $C$, $L$ et $U$ a-t'on besoin pour calculer les $i$-emes coefficients $\\alpha_i$, $\\beta_i$ et $\\gamma_i$ des matrices $L$ et $U$? Proposer un ordre dans lequel faire les calculs pour que chaque coefficient $\\alpha_i$, $\\beta_i$ et $\\gamma_i$ ne dépendent que de coefficients connus, c'est-à-dire uniquement de la matrice $C$ et de coefficients de $L$ et $U$ déjà calculés."
   ]
  },
  {
   "cell_type": "markdown",
   "metadata": {},
   "source": [
    "<div class=\"alert alert-block alert-info\">\n",
    "    Posons $\\beta_1 = \\gamma_0 = 0$, on a\n",
    "    $$\\begin{align}\n",
    "    \\begin{cases}\n",
    "    a_i &= \\alpha_i + \\beta_i \\cdot \\gamma_{i-1}  \\qquad &\\forall 1\\leq i \\leq N\\\\\n",
    "    b_i &= \\beta_i \\qquad &\\forall 2\\leq i \\leq N \\\\\n",
    "    c_i &= \\alpha_i \\cdot \\gamma_i \\qquad &\\forall 1\\leq i \\leq N-1\n",
    "    \\end{cases}\n",
    "    \\end{align}$$\n",
    "    Alors, on a\n",
    "    $$\\begin{align}\n",
    "    \\begin{cases}\n",
    "    \\alpha_i &= a_i - b_i \\cdot \\gamma_{i-1} \\qquad &\\forall 1\\leq i \\leq N\\\\\n",
    "    \\beta_i &= b_i \\qquad &\\forall 2\\leq i \\leq N \\\\\n",
    "    \\gamma_i &= \\frac{c_i}{\\alpha_i} \\qquad &\\forall 1\\leq i \\leq N-1\n",
    "    \\end{cases}\n",
    "    \\end{align}$$\n",
    "    Alors, on a besoin de $\\mathcal{O}(N)$ opérations pour calculer les coefficients $(\\alpha_i, \\beta_i, \\gamma_i)$ et on stocke $3N$ chiffres.\n",
    "</div>"
   ]
  },
  {
   "cell_type": "markdown",
   "metadata": {},
   "source": [
    "4) **<font color=black><span style=\"background-color:skyblue\"> À rendre :</span></font>** Implémenter une fonction qui renvoie la discrétisation de $-\\Delta$ décrite en (4) en utilisant un stockage sous forme tridiagonale ou bande\n",
    " pour un $N$ donné, c'est à dire de la forme\n",
    " \n",
    "$$\\tilde{C} = \\left( \\begin{array}{c|c|c|c|c} 0 & b_{2} & \\dots & b_{N-1} & b_{N}\\\\ \\hline  a_{1} & a_{2} & \\dots & a_{N-1} & a_{N} \\\\ \\hline c_{1} & c_{2} & \\dots & c_{N-1} & 0 \\end{array} \\right) = \\left( \\begin{array}{l} b \\\\ a \\\\ c \\end{array}\\right) \\in \\mathbb{R}^{3,N},$$\n",
    " \n",
    "tel qu'on ne stocke que les composantes non-triviales de $C$.  Afficher le résultat obtenu pour $N=3$."
   ]
  },
  {
   "cell_type": "code",
   "execution_count": 16,
   "metadata": {},
   "outputs": [],
   "source": [
    "def moins_Laplacien_1D_tridiag(N):\n",
    "    \"\"\"\n",
    "    crée la matrice 3xN correspondant à la discrétisation de -\\Delta en 1D, en format tridiagonal\n",
    "    ----------   \n",
    "    parametre:\n",
    "    N   : taille de la matrice\n",
    "    \n",
    "    valeur de retour:\n",
    "    matrice de taille 3xN\n",
    "    \"\"\"\n",
    "    C = np.zeros((3, N))\n",
    "    h = 1.0/(N+1)\n",
    "    for i in range(N):\n",
    "        if(i > 0):\n",
    "            C[0][i] = -1/(h*h) #bi\n",
    "        C[1][i] = 2/(h*h)#ai\n",
    "        if(i+1 < N):\n",
    "            C[2][i] = -1/(h*h)#ci\n",
    "    return C"
   ]
  },
  {
   "cell_type": "code",
   "execution_count": 17,
   "metadata": {},
   "outputs": [
    {
     "name": "stdout",
     "output_type": "stream",
     "text": [
      "Laplacien au format bande :\n",
      " [[  0. -16. -16.]\n",
      " [ 32.  32.  32.]\n",
      " [-16. -16.   0.]]\n"
     ]
    }
   ],
   "source": [
    "# Test avec N=3\n",
    "C = moins_Laplacien_1D_tridiag(3)\n",
    "print(\"Laplacien au format bande :\\n\", C)"
   ]
  },
  {
   "cell_type": "markdown",
   "metadata": {},
   "source": [
    "5) **<font color=black><span style=\"background-color:skyblue\"> À rendre :</span></font>** Résoudre le système $Cu = f$ avec les valeurs numériques (4) en utilisant la fonction *solve_banded* (https://docs.scipy.org/doc/scipy/reference/generated/scipy.linalg.solve_banded.html) de *scipy.linalg* qui résoud un système au format bande. \n",
    "\n",
    "Comparer la précision des résultats et les temps d'execution (en utilisant *%timeit*, un exemple vous est donné dans la cellule suivante) avec ceux obtenus avec la matrice pleine à la question 1. Commenter les avantages de ce stockage. "
   ]
  },
  {
   "cell_type": "code",
   "execution_count": 18,
   "metadata": {},
   "outputs": [
    {
     "name": "stdout",
     "output_type": "stream",
     "text": [
      "22.8 µs ± 960 ns per loop (mean ± std. dev. of 7 runs, 10,000 loops each)\n",
      "49.7 µs ± 2.5 µs per loop (mean ± std. dev. of 7 runs, 10,000 loops each)\n"
     ]
    }
   ],
   "source": [
    "N = 2**6\n",
    "A = np.array([[i**j for j in range(N)] for i in range(N)],dtype=float) + N * np.eye(N)\n",
    "b = np.ones(N)\n",
    "\n",
    "C = moins_Laplacien_1D_tridiag(N)\n",
    "f = second_membre_1D(N)\n",
    "\n",
    "%timeit solve_banded((1, 1), C, f)\n",
    "%timeit lin.solve(A,b)"
   ]
  },
  {
   "cell_type": "code",
   "execution_count": 19,
   "metadata": {},
   "outputs": [
    {
     "data": {
      "image/png": "[encoded data removed]",
      "text/plain": [
       "<Figure size 1280x640 with 1 Axes>"
      ]
     },
     "metadata": {
      "needs_background": "light"
     },
     "output_type": "display_data"
    }
   ],
   "source": [
    "N = 2048\n",
    "\n",
    "C = moins_Laplacien_1D_plein(N)\n",
    "f = second_membre_1D(N)\n",
    "LU, piv = lu_factor(C)\n",
    "sol_plein = lu_solve((LU, piv), f)\n",
    "\n",
    "C_banded = moins_Laplacien_1D_tridiag(N)\n",
    "sol_banded = solve_banded((1,1), C_banded, f)\n",
    "\n",
    "x = np.linspace(0, 1, N)\n",
    " \n",
    "plt.figure(figsize=(16, 8), dpi=80)\n",
    "plt.plot(x, sol_plein, label='solution matrices pleines')\n",
    "plt.plot(x, sol_banded, label='solution stockage tridiagonal')\n",
    "plt.xlabel(\"x\")\n",
    "plt.ylabel(\"solution u(x)\")\n",
    "plt.legend()\n",
    "plt.show()"
   ]
  },
  {
   "cell_type": "markdown",
   "metadata": {},
   "source": [
    "**Réponse :**"
   ]
  },
  {
   "cell_type": "markdown",
   "metadata": {},
   "source": [
    "<div class=\"alert alert-block alert-info\">\n",
    "    On remarque que la méthode $\\textbf{solve_banded}$ a pris $46,3\\%$ du temps pris par $\\textbf{lin.solve}$. $\\\\$\n",
    "    En effet, la méthode $\\textbf{lin.solve}$ fait $\\mathcal{O}(N^2)$ calculs, alors que $\\textbf{solve_banded}$ ne fait que $\\mathcal{O}(N)$ calculs. $\\\\$\n",
    "    En observant les courbes, on se rend compte que les résultats obtenus dans les deux cas sont identiques. En effet, le gain de performance n'implique aucune perte de précision.\n",
    "</div>"
   ]
  },
  {
   "cell_type": "markdown",
   "metadata": {},
   "source": [
    "6) **<font color=black><span style=\"background-color:deepskyblue\"> Bonus :</span></font>** On va maintenant implémenter l'algorithme de décomposition LU basé sur un stockage tridiagonal de la matrice, c'est-à-dire qu'on ne stocke que les composantes non-triviales des matrices $C$, $L$ et $U$. On écrira pour cela\n",
    "\n",
    "$$\\tilde{L} = \\left( \\gamma_{1}, \\gamma_{2}, \\dots, \\gamma_{N-1}, 0 \\right) \\in\\mathbb{R}^{1,N}, \\qquad{}\n",
    "      \\tilde{U} = \\left( \\begin{array}{c|c|c|c|c} 0 & \\beta_2 &  \\dots & \\beta_{N-1}& \\beta_{N} \\\\ \\hline \\alpha_{1} & \\alpha_{2} & \\dots & \\alpha_{N-1} & \\alpha_{N} \\end{array} \\right) \\in\\mathbb{R}^{2,N}. \\qquad{} (5)$$\n",
    "      \n",
    "Tester votre algorithme sur la matrice \n",
    "  \n",
    "$$C = \\left(\\begin{array}{ccc} 2 & 1 & 0 \\\\ -1 & 3 & 1 \\\\ 0 & 1 & 4 \\end{array}\\right). \\qquad{}(6) $$\n",
    "\n",
    "*Afin de valider le résultat, on pourra rentransformer les matrices $\\tilde{L}$ et $\\tilde{U}$ obtenues en matrices pleines, et vérifier que leur produit redonne bien C.*"
   ]
  },
  {
   "cell_type": "code",
   "execution_count": 20,
   "metadata": {},
   "outputs": [],
   "source": [
    "def tridiag_factorize_lu(C):\n",
    "    \"\"\"\"\n",
    "    calcule la factorisation LU d'une matrice stockée en format tridiagonal\n",
    "    ----------   \n",
    "    parametres:\n",
    "    C   : matrice de taille 3xN, correspondant au stockage tridiagonal d'une matrice NxN\n",
    "    \n",
    "    valeur de retour:\n",
    "    les matrices L et U, de taille 1xN et 2xN respectivement\n",
    "    \"\"\"\n",
    "    N = C.shape[1]\n",
    "    L = np.zeros(N)\n",
    "    U = np.zeros((2, N))\n",
    "    for i in range(N):\n",
    "        U[0][i] = 0 if(i==0) else C[i-1][i] #beta_i\n",
    "        U[1][i] = C[i][i] if (i==0) else C[i][i] - C[i-1][i]*L[i-1] #alpha_i\n",
    "        L[i] = 0 if (i==N-1) else C[i+1][i]/U[1][i] #gamma_i\n",
    "    return L, U"
   ]
  },
  {
   "cell_type": "code",
   "execution_count": 21,
   "metadata": {},
   "outputs": [
    {
     "name": "stdout",
     "output_type": "stream",
     "text": [
      "L calculé :\n",
      "  [[ 1.          0.          0.        ]\n",
      " [-0.5         1.          0.        ]\n",
      " [ 0.          0.28571429  1.        ]]\n",
      "L scipy: \n",
      " [[ 1.          0.          0.        ]\n",
      " [-0.5         1.          0.        ]\n",
      " [ 0.          0.28571429  1.        ]]\n",
      "U calculé :\n",
      "  [[2.         1.         0.        ]\n",
      " [0.         3.5        1.        ]\n",
      " [0.         0.         3.71428571]] \n",
      "\n",
      "U scipy: \n",
      " [[2.         1.         0.        ]\n",
      " [0.         3.5        1.        ]\n",
      " [0.         0.         3.71428571]]\n",
      "LU calculé = \n",
      " [[ 2.  1.  0.]\n",
      " [-1.  3.  1.]\n",
      " [ 0.  1.  4.]] \n",
      "\n",
      "C donné :\n",
      "  [[ 2  1  0]\n",
      " [-1  3  1]\n",
      " [ 0  1  4]]\n"
     ]
    }
   ],
   "source": [
    "N = 3\n",
    "C = np.array([[2,1,0], [-1,3,1], [0,1,4]])\n",
    "L_calc, U_calc = tridiag_factorize_lu(C)\n",
    "\n",
    "L_pleine = np.zeros((N,N))\n",
    "U_pleine = np.zeros((N,N))\n",
    "\n",
    "for i in range(N):\n",
    "    L_pleine[i][i] = 1\n",
    "    if(i > 0):\n",
    "        L_pleine[i][i-1] = L_calc[i-1] #gamma_i\n",
    "    U_pleine[i][i] = U_calc[1][i] #alpha_i\n",
    "    if(i + 1 < N):\n",
    "        U_pleine[i][i+1] = U_calc[0][i+1]#beta_i\n",
    "C_test = np.matmul(L_pleine, U_pleine)\n",
    "\n",
    "LU, piv = lu_factor(C)\n",
    "L, U = np.tril(LU, k=-1) + np.eye(N), np.triu(LU)\n",
    "        \n",
    "print(\"L calculé :\\n \", L_pleine)\n",
    "print(\"L scipy: \\n\" , L)\n",
    "print(\"U calculé :\\n \", U_pleine ,\"\\n\")\n",
    "print(\"U scipy: \\n\", U)\n",
    "print(\"LU calculé = \\n\", C_test, \"\\n\")\n",
    "print(\"C donné :\\n \", C)"
   ]
  },
  {
   "cell_type": "markdown",
   "metadata": {},
   "source": [
    "7) **<font color=black><span style=\"background-color:deepskyblue\"> Bonus :</span></font>** Adapter et implémenter les algorithmes de remontée et de descente adaptés aux matrices triangulaires stockées sous forme (5). Tester votre algorithme pour la résolution de $C u = f$ avec $C$ donnée en (6) et $f = (1,\\ 1,\\ 1)^T$, en utilisant la décomposition $LU$ de $C$ obtenue à la question précédente."
   ]
  },
  {
   "cell_type": "code",
   "execution_count": 22,
   "metadata": {},
   "outputs": [],
   "source": [
    "def descente(L, b):\n",
    "    \"\"\"\n",
    "    résout le système linéaire Ly=b, L provenant de la factorisation LU d'une matrice au format tridiagonal\n",
    "    ----------   \n",
    "    parametre:\n",
    "    L   : matrice de taille 1xN\n",
    "    b   : vecteur de taille N\n",
    "    \n",
    "    valeur de retour:\n",
    "    y   : vecteur de taille N\n",
    "    \"\"\" \n",
    "    N = len(L)\n",
    "    y = np.zeros(N)\n",
    "    for i in range(N):\n",
    "        y[i] = b[i] if (i==0) else b[i] - L[i-1]*y[i-1]\n",
    "    return y\n",
    "\n",
    "\n",
    "def remontee(U, y):\n",
    "    \"\"\"\n",
    "    résout le système linéaire Ux=y, U provenant de la factorisation LU d'une matrice au format tridiagonal\n",
    "    ----------   \n",
    "    parametre:\n",
    "    U   : matrice de taille 2xN\n",
    "    y   : vecteur de taille N\n",
    "    \n",
    "    valeur de retour:\n",
    "    x   : vecteur de taille N\n",
    "    \"\"\"\n",
    "    N = U.shape[1]\n",
    "    x = np.zeros(N)\n",
    "    for j in range(N):\n",
    "        i = N - j - 1\n",
    "        x[i] = y[i]/U[1][i] if (j==0) else (y[i] - U[0][i+1]*x[i+1])/U[1][i]\n",
    "    return x"
   ]
  },
  {
   "cell_type": "code",
   "execution_count": 23,
   "metadata": {},
   "outputs": [
    {
     "name": "stdout",
     "output_type": "stream",
     "text": [
      "solution de L y = b [1.         1.5        0.57142857]\n",
      "produit L y :  [1. 1. 1.]\n",
      "RHS [1. 1. 1.] \n",
      "\n",
      "solution U x = y:  [0.30769231 0.38461538 0.15384615]\n",
      "produit U x :  [1.         1.5        0.57142857]\n",
      "RHS [1.         1.5        0.57142857] \n",
      "\n"
     ]
    }
   ],
   "source": [
    "b    = np.ones(3)\n",
    "C = np.array([[2,1,0], [-1,3,1], [0,1,4]])\n",
    "L, U = tridiag_factorize_lu(C)\n",
    "\n",
    "L_pleine = np.zeros((N,N))\n",
    "U_pleine = np.zeros((N,N))\n",
    "\n",
    "for i in range(N):\n",
    "    L_pleine[i][i] = 1\n",
    "    if(i > 0):\n",
    "        L_pleine[i][i-1] = L_calc[i-1] #gamma_i\n",
    "    U_pleine[i][i] = U_calc[1][i] #alpha_i\n",
    "    if(i + 1 < N):\n",
    "        U_pleine[i][i+1] = U_calc[0][i+1]#beta_i\n",
    "\n",
    "y = descente(L, b)\n",
    "print(\"solution de L y = b\", y)\n",
    "print(\"produit L y : \", np.matmul(L_pleine, y))\n",
    "print(\"RHS\", b,\"\\n\")\n",
    "\n",
    "x = remontee(U, y)\n",
    "print(\"solution U x = y: \", x)\n",
    "print(\"produit U x : \", np.matmul(U_pleine, x))\n",
    "print(\"RHS\", y ,\"\\n\")"
   ]
  },
  {
   "cell_type": "markdown",
   "metadata": {},
   "source": [
    "**<big>Cas 2D :</big>**\n",
    "\n",
    ">On considère maintenant une matrice bande, i.e. dont les seuls coefficients $C_{i,j}$ éventuellement non-nuls sont ceux tels que $|i-j| \\le K$, où $K>0$ est appelée la largeur de bande.\n",
    ">\n",
    ">On utilisera pour les applications numériques la matrice $C \\in \\mathbb{R}^{N^2\\times N^2}$ définie par\n",
    ">\n",
    ">$$\n",
    "    C = \\left( \\begin{array}{c|c|c|c|c}\n",
    "      D    & -I/h^2    &0 &\\dots   & 0 \\\\ \\hline\n",
    "      -I/h^2    & D    & \\ddots&  \\ddots &\\vdots  \\\\ \\hline\n",
    "      0    &  \\ddots   & \\ddots & \\ddots& 0  \\\\ \\hline\n",
    "      \\vdots   & \\ddots &\\ddots & \\ddots &-I/h^2\\\\ \\hline\n",
    "      0      & \\dots & 0 &   -I/h^2  & D\n",
    "    \\end{array}\\right), \\quad{}\n",
    "    D = \\left( \\begin{array}{ccccc}\n",
    "      4/h^2    & -1/h^2  & 0  & \\dots   & 0 \\\\\n",
    "      -1/h^2    & 4/h^2    & \\ddots& \\ddots& \\vdots  \\\\   \n",
    "      0      & \\ddots & \\ddots & \\ddots  & 0\\\\\n",
    "      \\vdots & \\ddots & \\ddots  & \\ddots & -1/h^2\\\\\n",
    "      0      & \\dots  & 0 & -1/h^2  & 4/h^2\n",
    "    \\end{array}\\right) \\in\\mathbb{R}^{N\\times N},\n",
    "    \\qquad{} (7)\n",
    "$$\n",
    ">\n",
    ">où $I$ est la matrice identité de taille $N$ et $h = \\frac{1}{N+1}$. Cette matrice correspond à une discrétisation de l'opérateur $-\\Delta$ en 2D. Pour les applications, on prendra $N=64$."
   ]
  },
  {
   "cell_type": "markdown",
   "metadata": {},
   "source": [
    "### Question 3 : Matrices pleines \n",
    "\n",
    "$1$. **<font color=black><span style=\"background-color:deepskyblue\"> Bonus :</span></font>** Implémenter une fonction qui renvoie la discrétisation de $-\\Delta$ en dimension 2 décrite en (7), pour un $N$ donné. Afficher le résultat obtenu pour $N=3$. "
   ]
  },
  {
   "cell_type": "code",
   "execution_count": 33,
   "metadata": {},
   "outputs": [],
   "source": [
    "def moins_Laplacien_2D_plein(N):\n",
    "    \"\"\"\n",
    "    crée la matrice N^2xN^2 correspondant à la discrétisation de -\\Delta en 2D\n",
    "    ----------   \n",
    "    parametre:\n",
    "    N   : taille de la matrice\n",
    "    \n",
    "    valeur de retour:\n",
    "    matrice de taille N^2xN^2\n",
    "    \"\"\"\n",
    "    h = 1.0/(N+1)\n",
    "    D = np.zeros((N,N)) #dabord, on construit\n",
    "    for i in range(N):\n",
    "        D[i][i] = 4/(h*h)\n",
    "        if(i > 0):\n",
    "            D[i][i-1] = -1/(h*h)\n",
    "        if(i + 1 < N):\n",
    "            D[i][i+1] = -1/(h*h)\n",
    "    Isq = np.zeros((N,N)) #alors, on construit -I/h**2\n",
    "    for i in range(N):\n",
    "        Isq[i] = -1/(h*h)\n",
    "    Nsq = N*N\n",
    "    C = np.zeros((Nsq, Nsq)) #on est pret pour construir C\n",
    "    for i in range(N):\n",
    "        if(i > 0):\n",
    "            com_x1 = N*(i-1)\n",
    "            com_y1 = N*i\n",
    "            com_x2 = N*i\n",
    "            com_y2 = N*(i-1)\n",
    "            for j in range(N):\n",
    "                for k in range(N):\n",
    "                    C[com_x1 + j][com_y1 + k] = Isq[j][k] #gauche de la diagonale principale\n",
    "                    C[com_x2 + j][com_y2 + k] = Isq[j][k] #en dessus de la diagonale principale\n",
    "        com_x = N*i #on remplit la diagonale principale\n",
    "        com_y = N*i\n",
    "        for j in range(N):\n",
    "            for k in range(N):\n",
    "                C[com_x + j][com_y + k] = D[j][k]\n",
    "    return C"
   ]
  },
  {
   "cell_type": "code",
   "execution_count": 34,
   "metadata": {},
   "outputs": [
    {
     "name": "stdout",
     "output_type": "stream",
     "text": [
      "Laplacien 2D :\n",
      " [[ 64. -16.   0. -16. -16. -16.   0.   0.   0.]\n",
      " [-16.  64. -16. -16. -16. -16.   0.   0.   0.]\n",
      " [  0. -16.  64. -16. -16. -16.   0.   0.   0.]\n",
      " [-16. -16. -16.  64. -16.   0. -16. -16. -16.]\n",
      " [-16. -16. -16. -16.  64. -16. -16. -16. -16.]\n",
      " [-16. -16. -16.   0. -16.  64. -16. -16. -16.]\n",
      " [  0.   0.   0. -16. -16. -16.  64. -16.   0.]\n",
      " [  0.   0.   0. -16. -16. -16. -16.  64. -16.]\n",
      " [  0.   0.   0. -16. -16. -16.   0. -16.  64.]]\n"
     ]
    }
   ],
   "source": [
    "N = 3\n",
    "\n",
    "print(\"Laplacien 2D :\\n\", moins_Laplacien_2D_plein(N))"
   ]
  },
  {
   "cell_type": "markdown",
   "metadata": {},
   "source": [
    "$2$. **<font color=black><span style=\"background-color:deepskyblue\"> Bonus :</span></font>** \n",
    "- En utilisant la fonction *solve* de *numpy.linalg*, résoudre le système $Cu = f$ avec $f_{(i-1)N+j} = f(x_i,y_j) = 5\\pi^2 \\sin(\\pi x_i)\\sin(2\\pi y_j)$ où $x_i = ih$ et $y_j = jh$ pour $i,j=1,\\dots,N$. \n",
    "- Vérifier que $u(x,y) = \\sin(\\pi x)\\sin(2\\pi y)$ est solution du problème (3).\n",
    "- Tracer les fonctions $u$ théorique et numérique avec la fonction *contourf*.\n",
    "- Calculer l'erreur avec le vecteur obtenu. \n",
    "- Commenter la taille de la matrice $A$ stockée (**sauvegarder avant d'executer**). "
   ]
  },
  {
   "cell_type": "markdown",
   "metadata": {},
   "source": [
    "<div class=\"alert alert-block alert-info\">\n",
    "    Soit $u(x,y) = \\sin(\\pi x)\\sin(2\\pi y)$. On remarque que\n",
    "    $$ -\\frac{\\partial^2 u}{\\partial x^2} - \\frac{\\partial^2 u}{\\partial y^2} = \\pi^2 \\sin(\\pi x)\\sin(2\\pi y)+ 4\\pi^2 \\sin(\\pi x)\\sin(2\\pi y) = 5\\pi^2 \\sin(\\pi x)\\sin(2\\pi y) $$\n",
    "    on en conclue que $u(x,y)$ est solution du problème (3).\n",
    "</div>"
   ]
  },
  {
   "cell_type": "code",
   "execution_count": 46,
   "metadata": {},
   "outputs": [],
   "source": [
    "def second_membre_2D(N):\n",
    "    \"\"\"\n",
    "    crée le second membre de taille N^2 en 2D, donne par f_i = f(x_i)\n",
    "    les coposantes sont stockées sous la forme \n",
    "    f(x_0,y_0), ..., f(x_{N-1},y_0), f(x_0, y_1), ..., f(x_{N-1},y_1)...\n",
    "    ----------   \n",
    "    parametre:\n",
    "    N   : taille du vecteur \n",
    "    \n",
    "    valeur de retour:\n",
    "    veteur de taille N^2\n",
    "    \"\"\"\n",
    "    h = 1.0/(N+1)\n",
    "    Nsq = N*N\n",
    "    f = np.zeros(Nsq)\n",
    "    for i in range(N):\n",
    "        xi = (i+1)*h\n",
    "        for j in range(N):\n",
    "            yj = (j+1)*j\n",
    "            idx = i + N*j\n",
    "            f[idx] = 5*np.pi*np.pi*np.sin(np.pi*xi)*np.sin(2*np.pi*yj)\n",
    "    return f"
   ]
  },
  {
   "cell_type": "code",
   "execution_count": 54,
   "metadata": {},
   "outputs": [
    {
     "name": "stdout",
     "output_type": "stream",
     "text": [
      "2nd membre :\n",
      " [ 0.00000000e+00  0.00000000e+00  0.00000000e+00 -1.70932874e-14\n",
      " -2.41735589e-14 -1.70932874e-14 -5.12798622e-14 -7.25206766e-14\n",
      " -5.12798622e-14]\n"
     ]
    }
   ],
   "source": [
    "N = 3\n",
    "\n",
    "print(\"2nd membre :\\n\", second_membre_2D(N))"
   ]
  },
  {
   "cell_type": "code",
   "execution_count": 56,
   "metadata": {},
   "outputs": [
    {
     "data": {
      "image/png": "[encoded data removed]",
      "text/plain": [
       "<Figure size 432x288 with 2 Axes>"
      ]
     },
     "metadata": {
      "needs_background": "light"
     },
     "output_type": "display_data"
    },
    {
     "data": {
      "image/png": "[encoded data removed]",
      "text/plain": [
       "<Figure size 432x288 with 2 Axes>"
      ]
     },
     "metadata": {
      "needs_background": "light"
     },
     "output_type": "display_data"
    },
    {
     "name": "stdout",
     "output_type": "stream",
     "text": [
      "[[0.00466291 0.00931494 0.0139452  ... 0.0139452  0.00931494 0.00466291]\n",
      " [0.00928229 0.0185429  0.02776021 ... 0.02776021 0.0185429  0.00928229]\n",
      " [0.013815   0.02759774 0.04131602 ... 0.04131602 0.02759774 0.013815  ]\n",
      " ...\n",
      " [0.013815   0.02759774 0.04131602 ... 0.04131602 0.02759774 0.013815  ]\n",
      " [0.00928229 0.0185429  0.02776021 ... 0.02776021 0.0185429  0.00928229]\n",
      " [0.00466291 0.00931494 0.0139452  ... 0.0139452  0.00931494 0.00466291]]\n"
     ]
    }
   ],
   "source": [
    "N          = 64\n",
    "\n",
    "def u(x, y):\n",
    "    \"\"\"\n",
    "    solution theorique du probleme\n",
    "    \"\"\"\n",
    "    return np.sin(np.pi*x)*np.sin(2*np.pi*y)\n",
    "\n",
    "C = moins_Laplacien_2D_plein(N)\n",
    "f = second_membre_2D(N)\n",
    "u_numerique = lin.solve(C, f)\n",
    "sol_numerique = np.zeros((N, N))\n",
    "for i in range(N):\n",
    "    for j in range(N):\n",
    "        idx = j + N*i\n",
    "        sol_numerique[i][j] = u_numerique[idx]\n",
    "\n",
    "nx     = N\n",
    "ny     = N\n",
    "dx     = 1./(nx+1)\n",
    "dy     = 1./(ny+1)\n",
    "x      = np.linspace(1,nx,nx)*dx\n",
    "y      = np.linspace(1,ny,ny)*dy\n",
    "xx, yy = np.meshgrid(x, y, indexing='xy')\n",
    "\n",
    "sol_theorique = u(xx, yy)\n",
    "\n",
    "erreur =  abs(sol_theorique - sol_numerique)\n",
    "\n",
    "plt.figure()\n",
    "plt.title(\"Solution théorique\")\n",
    "plt.contourf(xx,yy, sol_theorique)\n",
    "plt.colorbar()\n",
    "plt.show()\n",
    "\n",
    "plt.figure()\n",
    "plt.title(\"Solution numérique\")\n",
    "plt.contourf(xx,yy, sol_numerique)\n",
    "plt.colorbar()\n",
    "plt.show()\n",
    "\n",
    "print(erreur)"
   ]
  },
  {
   "cell_type": "markdown",
   "metadata": {},
   "source": [
    "**Réponse :**"
   ]
  },
  {
   "cell_type": "markdown",
   "metadata": {},
   "source": [
    "<div class=\"alert alert-block alert-info\">\n",
    "    On remarque que la matrice $A$ stocké a $N^2 \\cdot N^2 = 64^4 = 16777216 \\approx 10^7$ eléments. En effet, c'est necessaire de réaliser une très grand quantité de calculs pour obtenir la solution numérique. En essayant $N = 128$, on remarque que le noyau commence a présenter des difficultés.\n",
    "</div>"
   ]
  },
  {
   "cell_type": "markdown",
   "metadata": {},
   "source": [
    "### Question 4 : Matrices bandes\n",
    "\n",
    "On stocke désormais la matrice sous forme bande, c'est-à-dire qu'on écrit \n",
    "\n",
    "$$\\tilde{C} = \\left(\n",
    "      \\begin{array}{c|c|c|c|c|c}\n",
    "        0             & \\dots & 0        & C_{1,K+1} & \\dots   & C_{N-K,N}\\\\\n",
    "        \\hline \\vdots & \\ddots & \\ddots & C_{2,K+1} &\\dots   & C_{N-K+1,N}\\\\\n",
    "        \\hline 0      & C_{1,2} &          &          &         & \\vdots    \\\\\n",
    "        \\hline C_{1,1} & C_{2,2} & \\dots  & \\dots     & \\dots   & C_{N,N} \\\\\n",
    "        \\hline C_{2,1} & C_{3,2} & \\dots   & \\dots    & C_{N,N-1} & 0 \\\\\n",
    "        \\hline \\vdots &        &         &          &         & \\vdots \\\\\n",
    "        \\hline C_{K+1,1} & \\dots & C_{N,N-K} & 0       & \\dots   &  0\n",
    "      \\end{array} \\right) \\in \\mathbb{R}^{2K+1,N}.$$\n",
    "      \n",
    "Utiliser la fonction *solve\\_banded* de *scipy* exploitant cette structure bande pour résoudre le problème $Au = f$. Comparer la vitesse d'execution (avec %timeit) et la taille de la matrice utilisée avec la question précédente."
   ]
  },
  {
   "cell_type": "code",
   "execution_count": null,
   "metadata": {},
   "outputs": [],
   "source": [
    "def moins_Laplacien_2D_bande(N):\n",
    "    \"\"\"\n",
    "    crée la matrice correspondant à la discrétisation de -\\Delta en 2D sous format bande\n",
    "    ----------   \n",
    "    parametre:\n",
    "    N   : taille de la matrice\n",
    "    \n",
    "    valeur de retour:\n",
    "    matrice de taille N^2xN^2 sous format bande\n",
    "    \"\"\" \n",
    "  \n",
    "    return "
   ]
  },
  {
   "cell_type": "code",
   "execution_count": null,
   "metadata": {},
   "outputs": [],
   "source": [
    "N               = 64\n",
    "\n",
    "\n",
    "\n",
    "\n",
    "nx     = N\n",
    "ny     = N\n",
    "dx     = 1./(nx+1)\n",
    "dy     = 1./(ny+1)\n",
    "x      = np.linspace(1,nx,nx)*dx\n",
    "y      = np.linspace(1,ny,ny)*dy\n",
    "xx, yy = np.meshgrid(x, y, indexing='xy')\n",
    "\n",
    "plt.figure()\n",
    "plt.contourf(xx,yy, )\n",
    "plt.colorbar()\n",
    "plt.show()\n",
    "\n",
    "plt.figure()\n",
    "plt.contourf(xx,yy, )\n",
    "plt.colorbar()\n",
    "plt.show()"
   ]
  },
  {
   "cell_type": "code",
   "execution_count": null,
   "metadata": {},
   "outputs": [],
   "source": []
  }
 ],
 "metadata": {
  "@webio": {
   "lastCommId": null,
   "lastKernelId": null
  },
  "kernelspec": {
   "display_name": "Python 3 (ipykernel)",
   "language": "python",
   "name": "python3"
  },
  "language_info": {
   "codemirror_mode": {
    "name": "ipython",
    "version": 3
   },
   "file_extension": ".py",
   "mimetype": "text/x-python",
   "name": "python",
   "nbconvert_exporter": "python",
   "pygments_lexer": "ipython3",
   "version": "3.9.12"
  },
  "latex_envs": {
   "LaTeX_envs_menu_present": true,
   "autoclose": false,
   "autocomplete": true,
   "bibliofile": "biblio.bib",
   "cite_by": "apalike",
   "current_citInitial": 1,
   "eqLabelWithNumbers": true,
   "eqNumInitial": 1,
   "hotkeys": {
    "equation": "Ctrl-E",
    "itemize": "Ctrl-I"
   },
   "labels_anchors": false,
   "latex_user_defs": false,
   "report_style_numbering": false,
   "user_envs_cfg": false
  },
  "toc": {
   "base_numbering": 1,
   "nav_menu": {},
   "number_sections": false,
   "sideBar": true,
   "skip_h1_title": false,
   "title_cell": "Table of Contents",
   "title_sidebar": "Contents",
   "toc_cell": false,
   "toc_position": {},
   "toc_section_display": true,
   "toc_window_display": false
  }
 },
 "nbformat": 4,
 "nbformat_minor": 2
}
