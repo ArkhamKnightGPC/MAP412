{
 "cells": [
  {
   "cell_type": "markdown",
   "metadata": {},
   "source": [
    "# PC 2 : Interpolation polynomiale\n",
    "\n",
    "**<big>Éléments de correction</big>**"
   ]
  },
  {
   "cell_type": "markdown",
   "metadata": {},
   "source": [
    "**<big> Préparation avant la PC :</big>**\n",
    "\n",
    "**Les questions 1 à 3 de l'exercice 1 et les questions 1 et 2 de l'exercice 2 sont à préparer** avant la séance de PC du 07/09.\n",
    "\n",
    "**<big><font color=black><span style=\"background-color:skyblue\">À rendre</span></font> après la PC :</big>** \n",
    "\n",
    "**L'exercice 1 et les parties I et II de l'exercice 2 (en bleu) présentent des questions <font color=black><span style=\"background-color:skyblue\">à rendre</span></font> avant le 11/09 à 20h00. La partie II de l'exercice 2 est <font color=black><span style=\"background:deepskyblue\">bonus</span></font>**. "
   ]
  },
  {
   "cell_type": "markdown",
   "metadata": {},
   "source": [
    "**<big> Packages </big>**"
   ]
  },
  {
   "cell_type": "code",
   "execution_count": null,
   "metadata": {},
   "outputs": [],
   "source": [
    "# Ce package permet de travailler efficacement avec des tableaux\n",
    "import numpy as np\n",
    "\n",
    "# Ce package permet de faire des sorties graphiques\n",
    "from matplotlib import pyplot as plt"
   ]
  },
  {
   "cell_type": "markdown",
   "metadata": {},
   "source": [
    "**<big> Notations</big>**\n",
    ">Dans toute cette PC, on considère\n",
    ">- $f$ : $[a, b] \\rightarrow \\mathbb{R}$ une fonction continue,\n",
    ">- $\\|f\\|_{\\infty} = \\max\\limits_{x\\in[a,b]} |f (x)|$,\n",
    ">- $x_0$, ..., $x_n$ des points deux à deux distincts de $[a, b]$,\n",
    ">- la base de Newton formée des polynômes $\\Pi_{k}(X) = \\prod\\limits_{j=0}^{k-1} (X - x_j)$  (avec $\\Pi_0 = 1$),\n",
    ">- la base de Lagrange formée des polynômes $l_k(X)=\\underset{j\\neq k}{\\prod\\limits_{j=0}^{n}}\\frac{X-x_j}{x_k-x_j}$,\n",
    ">- $p_n(f) = \\sum\\limits_{k=0}^n f(x_k) l_k$ le polynôme d’interpolation de Lagrange de $f$ aux points $x_k$."
   ]
  },
  {
   "cell_type": "markdown",
   "metadata": {},
   "source": [
    "---"
   ]
  },
  {
   "cell_type": "markdown",
   "metadata": {},
   "source": [
    "## Exercice 1 : Estimations d'erreur et phénomène de Runge"
   ]
  },
  {
   "cell_type": "markdown",
   "metadata": {},
   "source": [
    ">On appelle <i>constante de Lebesgue</i>, et on note $\\Lambda_n$, la norme de l'opérateur d'interpolation de Lagrange :\n",
    ">\n",
    ">$$\n",
    "\\mathcal{L}_n : \\left\\{\n",
    "\\begin{aligned}\n",
    "\\mathcal{C}^0\\left([a,b]\\right) &\\to \\mathcal{C}^0\\left([a,b]\\right) \\\\\n",
    "f &\\mapsto p_n(f).\n",
    "\\end{aligned}\n",
    "\\right.\n",
    "$$\n",
    ">\n",
    ">Autrement dit, pour tout $f,g\\in\\mathcal{C}^0\\left([a,b]\\right)$, on a\n",
    ">\n",
    ">$$\\left\\Vert p_n(f) - p_n(g) \\right\\Vert_\\infty \\leq \\Lambda_n \\left\\Vert f - g \\right\\Vert_\\infty.$$\n",
    ">\n",
    ">On admettra que, \n",
    ">- si les points $x_i$ sont équidistant, $\\Lambda_n\\sim \\frac{2^{n+1}}{en\\ln n}$,\n",
    ">- si les points $x_i$ sont les points de Tchebyshev, $\\Lambda_n \\sim \\frac{2}{\\pi}\\ln n$.\n",
    ">\n",
    ">Pour plus de détails, voir ([1,4]) et l'exercice 5."
   ]
  },
  {
   "cell_type": "markdown",
   "metadata": {},
   "source": [
    "---\n",
    "**<big> I) Première estimation d'erreur</big>**\n",
    "\n",
    "### Question 1 : \n",
    "Démontrer l'estimation (1.4) du cours : Pour une fonction $f\\in C^{n+1}(\\mathbb{R})$, alors\n",
    "\n",
    "$$ \\|f - p_n(f)\\|_\\infty \\le \\frac{\\|\\Pi_{n+1}\\|_\\infty}{(n+1)!} \\| f^{(n+1)}\\|_\\infty.$$\n",
    "\n",
    "*Indication :* \n",
    "- Dans un premier temps, en tout point $x\\in[a,b]$, on pourra écrire $f(x) = p_{n+1,x}(f)(x)$ comme un polynôme d'interpolation de degrés $n+1$ pour faire apparaitre $\\Pi_n$.   \n",
    "- Dans un second temps, on exploitera la fonction $\\phi_x(y) = f(y)-p_n(f)(y) - c(x) \\Pi_n(y)$ pour une fonction $c$ appropriée."
   ]
  },
  {
   "cell_type": "markdown",
   "metadata": {},
   "source": [
    "### Question 2 :\n",
    "On admet ici la formule de Cauchy : Si $f$ est développable en série entière sur un ouvert contenant le disque fermé de centre $x$ et de rayon $r$ alors \n",
    "\n",
    "$$\\frac{f^{(n)}(x)}{n!} = \\frac{1}{2i\\pi} \\int_0^{2\\pi} \\frac{f(x+re^{i\\theta})e^{-i(n+1)\\theta}}{r^{(n+1)}}d\\theta. $$\n",
    "\n",
    "Démontrer que si $f$ est développable en série entière en $\\frac{a+b}{2}$ avec un rayon de convergence $R>3\\frac{b-a}{2}$, alors $\\|f-p_n(f)\\|_\\infty \\underset{n\\rightarrow +\\infty}{\\rightarrow} 0$."
   ]
  },
  {
   "cell_type": "markdown",
   "metadata": {},
   "source": [
    "### Question 3 :\n",
    "En déduire que l'erreur d'interpolation à points équidistant de la fonction sinus sur $[-\\pi,\\pi]$ tend vers zéro plus rapidement que $\\rho^n$ pour tout $\\rho \\in ]0,1[$. "
   ]
  },
  {
   "cell_type": "markdown",
   "metadata": {},
   "source": [
    ">Dans toute la suite, on utilisera la fonction donnée dans la cellule suivante. Elle construit le polynôme d'interpolation dans la base de Lagrange \n",
    ">\n",
    ">$$p_n(f) = \\sum\\limits_{k=1}^n y_k l_k$$\n",
    ">\n",
    ">où on doit fixer les $y_k = f(x_k)$ et les polynômes de Lagrange sont définis en en-tête."
   ]
  },
  {
   "cell_type": "code",
   "execution_count": null,
   "metadata": {},
   "outputs": [],
   "source": [
    "def Lagrange(x_i, y_i, x):\n",
    "    \"\"\"\n",
    "    calcule le polynome d'interpolation passant par les points (x_i,y_i) aux points x\n",
    "    ----------\n",
    "    parametres:\n",
    "    x_i : points d'interpolation (np.array de taille N)\n",
    "    y_i : valeurs atteintes aux points d'interpolation (np.array de taille N)\n",
    "    x   : points où le polynome est évalués (np.array de taille Nx)\n",
    "    \n",
    "    valeur de retour:\n",
    "    valeurs du polynome d'interpolation pn(f) aux points x (np.array de taille Nx)\n",
    "    \"\"\"\n",
    "    N  = len(x_i)\n",
    "    Nx = len(x)\n",
    "    \n",
    "    #Ici x_m_xi  est un tableau (N , Nx) contenant les x   - x_i pour tout i et tout x  \n",
    "    #et  xi_m_xi est un tableau (N , N ) contenant les x_i - x_j pour tout i et j\n",
    "    x_m_xi  = x[  :, np.newaxis] - x_i\n",
    "    xi_m_xi = x_i - x_i[:, np.newaxis]\n",
    "\n",
    "    li = np.zeros((Nx,N))\n",
    "    for i in range(N):\n",
    "        #Ici li est un  est un tableau (N , Nx) contenant les l_i(x) pour tout i et tout x  \n",
    "        li[:,i] = np.prod(np.divide(x_m_xi[:,:i],xi_m_xi[np.newaxis,:i,i]),axis=1) * np.prod(np.divide(x_m_xi[:,i+1:],xi_m_xi[np.newaxis,i+1:,i]),axis=1) \n",
    "    \n",
    "    return np.dot(li,y_i)"
   ]
  },
  {
   "cell_type": "code",
   "execution_count": null,
   "metadata": {},
   "outputs": [],
   "source": [
    "### Exemple d'utilisation de la fonction Lagrange avec la fonction sinus sur [-pi,pi]\n",
    "N   = 50\n",
    "Nx  = 2000 \n",
    "xi  = np.linspace(-np.pi, np.pi, N +1) \n",
    "yi  = np.sin(xi)\n",
    "x   = np.linspace(-np.pi, np.pi, Nx+1)\n",
    "\n",
    "val = Lagrange(xi,yi,x)\n",
    "\n",
    "plt.figure()\n",
    "plt.plot(   x,  val, color=\"blue\", label=\"Polynome d'interpolation\")\n",
    "plt.scatter(xi, yi , color=\"red\" , label=\"Points d'interpolation\")\n",
    "plt.legend()\n",
    "plt.show()"
   ]
  },
  {
   "cell_type": "markdown",
   "metadata": {},
   "source": [
    "### Question 4 :  \n",
    "**<font color=black><span style=\"background-color:skyblue\">À rendre</span></font> :**\n",
    "On va maintenant vérifier ce comportement numériquement. On approchera $\\|f-p_n(f)\\|_\\infty$ par $\\max_i |f(y_i)-p_n(f)(y_i)|$ où les $y_i$ sont 2000 points équirépartis sur $[-1,1]$. \n",
    "\n",
    "\n",
    "a) Tracer $\\max_i |f(y_i)-p_n(f)(y_i)|$ en fonction de $n$ (pour des points d'interpolation équirépartis) pour $n$ allant de 2 jusqu'à 50 en utilisant les fonctions suivantes. \n",
    "\n",
    "b) Expliquer le comportement avant $n<20$ et proposer une interprétation à partir de $n \\approx 20$."
   ]
  },
  {
   "cell_type": "code",
   "execution_count": null,
   "metadata": {},
   "outputs": [],
   "source": [
    "#a)\n",
    "# Calculer l'erreur l_infini entre p_n(f) et f en fonction du nombre de points n d'interpolation\n",
    "N       = 30\n",
    "Nx      = 2000\n",
    "x       = np.linspace(-np.pi, np.pi, Nx+1)\n",
    "\n",
    "nb_pts  = np.arange(N)+2\n",
    "err_inf = np.zeros(N)\n",
    "\n",
    "# Construire le tableau err_inf des erreurs l_infini err_inf\n",
    "\n"
   ]
  },
  {
   "cell_type": "code",
   "execution_count": null,
   "metadata": {},
   "outputs": [],
   "source": [
    "# Tracer l'erreur l_infini entre p_n(f) et f en fonction du nombre de points n d'interpolation\n",
    "plt.figure()\n",
    "plt.scatter(nb_pts,err_inf ,color=\"red\",label=\"Erreur l_infini\")\n",
    "plt.yscale(\"log\")\n",
    "plt.legend()\n",
    "plt.show() "
   ]
  },
  {
   "cell_type": "markdown",
   "metadata": {},
   "source": [
    "**Réponse :**\n",
    "\n",
    "b) "
   ]
  },
  {
   "cell_type": "markdown",
   "metadata": {},
   "source": [
    "---\n",
    "**<big> II) Estimation d'erreur plus fine via la constante de Lebesgue</big>**\n",
    "\n",
    "### Question 5 :\n",
    "\n",
    "Démontrer que\n",
    "\n",
    "$$ \\left\\Vert f- p_n(f)\\right\\Vert_{\\infty} \\leq \\left(1+\\Lambda_n\\right) \\inf\\limits_{Q\\in\\mathbb{R}_n[X]} \\left\\Vert f-Q\\right\\Vert_{\\infty}. $$"
   ]
  },
  {
   "cell_type": "markdown",
   "metadata": {},
   "source": [
    "### Question 6 :\n",
    "\n",
    "On admet que si $f$ est lipschitzienne alors\n",
    "\n",
    "$$\\inf\\limits_{Q\\in\\mathbb{R}_n[X]} \\left\\Vert f-Q\\right\\Vert_{\\infty} \\leq \\frac{C_f}{\\sqrt{n}}.$$\n",
    "\n",
    "Que peut-on en déduire concernant la convergence du polynôme d'interpolation $p_n(f)$ vers $f$, selon que les points d'interpolations $x_k$ sont équidistants ou les points de Tchebychev?"
   ]
  },
  {
   "cell_type": "markdown",
   "metadata": {},
   "source": [
    "---\n",
    "**<big> III) Phénomène de Runge </big>**\n",
    "\n",
    "### Question 7 :\n",
    "\n",
    "**<font color=black><span style=\"background-color:skyblue\">À rendre :</span></font>**\n",
    "On considère la fonction \n",
    "\n",
    "$$f(x) =\\frac{1}{1 + 25x^2}$$\n",
    "\n",
    "sur l'intervalle $[-1,1]$. Tracer le polynôme d'interpolation $p_n(f)$ pour différentes valeurs de $n$ (n=10, 20, 50), ainsi que l'erreur entre $f$ et $p_n(f)$, en prenant des points d'interpolations équidistants, puis les points de Tchebychef. Commenter. \n",
    "\n",
    "*Indication :* Pour les points de Tchebychef, on commencera par compléter la fonction *cheb_points* ci-dessous, et on testera qu'elle renvoie bien les bonnes valeurs pour l'intervalle $[-1,1]$ et de petites valeurs de n (n=2 et 3)."
   ]
  },
  {
   "cell_type": "code",
   "execution_count": null,
   "metadata": {},
   "outputs": [],
   "source": [
    "def f(x):\n",
    "    \"\"\"\n",
    "    calcule la valeur de f(x)\n",
    "    ----------   \n",
    "    parametre:\n",
    "    x : point ou on evalue f\n",
    "    \n",
    "    valeur de retour:\n",
    "    valeur de f(x)\n",
    "    \"\"\"\n",
    "    return 1/(1+25*x*x)"
   ]
  },
  {
   "cell_type": "code",
   "execution_count": null,
   "metadata": {},
   "outputs": [],
   "source": [
    "def cheb_points(xmin, xmax, n):\n",
    "    \"\"\"\n",
    "    calcule la valeur des points de Tchebychev dans l'intervalle [xmin, xmax]\n",
    "    ----------\n",
    "    parametres:\n",
    "    xmin : valeur minimale de l'intervalle\n",
    "    xmax : valeur maximale de l'intervalle\n",
    "    n : nb de points recquis sur l'intervalle\n",
    "    \n",
    "    valeur de retour:\n",
    "    valeur des points de Tchebychev\n",
    "    \"\"\"\n",
    "        \n",
    "    return"
   ]
  },
  {
   "cell_type": "code",
   "execution_count": null,
   "metadata": {},
   "outputs": [],
   "source": [
    "# Tester la fonction cheb_points sur les cas a 2 et 3 points\n",
    "n=2\n",
    "print(f\"Les points de Tchebychev pour {n} noeuds :\",cheb_points(-1,1,n))\n",
    "n=3\n",
    "print(f\"Les points de Tchebychev pour {n} noeuds :\",cheb_points(-1,1,n))"
   ]
  },
  {
   "cell_type": "code",
   "execution_count": null,
   "metadata": {
    "scrolled": true
   },
   "outputs": [],
   "source": [
    "# Tracer le polynome d'interpolation pour la fonction f\n",
    "xmin = -1\n",
    "xmax =  1\n",
    "x = np.linspace(xmin, xmax, 2000)\n",
    "\n",
    "# degre du polynome \n",
    "n = 20\n",
    "\n",
    "# Construire les abscisses xk, les ordonnées yk et le polynome d'interpolation p \n",
    "# pour les différentes familles de points\n",
    "\n",
    "# points equidistants\n",
    "xk_equi = \n",
    "yk_equi = \n",
    "p_equi  = \n",
    "\n",
    "\n",
    "# points de Tchebychef\n",
    "xk_cheb = \n",
    "yk_cheb = \n",
    "p_cheb  = \n",
    "\n",
    "\n",
    "# Calculer le tableaux des erreurs entre p_n(f) et f aux points x\n",
    "err_equi = \n",
    "err_cheb =     "
   ]
  },
  {
   "cell_type": "code",
   "execution_count": null,
   "metadata": {
    "jupyter": {
     "source_hidden": true
    },
    "tags": []
   },
   "outputs": [],
   "source": [
    "# Affichage avec le module matplotlib\n",
    "fig_equi=plt.figure()\n",
    "plt.scatter(xk_equi, yk_equi, color=\"red\",   label=\"yk\")\n",
    "plt.plot(   x,       p_equi,  color=\"green\", label=\"Pn(x)  équidistant\")\n",
    "plt.xlabel(\"x\")\n",
    "plt.ylabel(\"f(x)\")\n",
    "plt.legend()\n",
    "plt.show()"
   ]
  },
  {
   "cell_type": "code",
   "execution_count": null,
   "metadata": {},
   "outputs": [],
   "source": [
    "fig_cheb=plt.figure()\n",
    "plt.scatter(xk_cheb, yk_cheb, color=\"red\",   label=\"yk\")\n",
    "plt.plot(   x,       p_cheb,  color=\"green\", label=\"Pn(x)  Tchebychev\")\n",
    "plt.xlabel(\"x\")\n",
    "plt.ylabel(\"f(x)\")\n",
    "plt.legend()\n",
    "plt.show()"
   ]
  },
  {
   "cell_type": "code",
   "execution_count": null,
   "metadata": {},
   "outputs": [],
   "source": [
    "fig_err = plt.figure()\n",
    "plt.plot(x, err_equi, color=\"green\",  label=\"erreur avec points équidistants\")\n",
    "plt.plot(x, err_cheb, color=\"purple\", label=\"erreur avec points de Tchebychev\")\n",
    "plt.xlabel(\"x\")\n",
    "plt.ylabel(\"err(x)\")\n",
    "plt.legend()\n",
    "plt.show()"
   ]
  },
  {
   "cell_type": "markdown",
   "metadata": {},
   "source": [
    "**Réponse :** \n",
    "\n"
   ]
  },
  {
   "cell_type": "markdown",
   "metadata": {},
   "source": [
    "---"
   ]
  },
  {
   "cell_type": "markdown",
   "metadata": {},
   "source": [
    "## Exercice 2 : Conditionnement et stabilité du polynome d'interpolation ([5,4])"
   ]
  },
  {
   "cell_type": "markdown",
   "metadata": {},
   "source": [
    ">Pour toute fonction continue $f$, on définit le conditionnement du polynôme d'interpolation $p_n(f)$ par\n",
    ">\n",
    ">$$\\kappa_n(f) = \\frac{1}{\\varepsilon} \\sup_{\\frac{\\left\\Vert \\Delta f\\right\\Vert_{\\infty}}{\\left\\Vert f\\right\\Vert_{\\infty}}\\leq \\varepsilon} \\frac{\\left\\Vert p_n(f+\\Delta f) - p_n(f)\\right\\Vert_{\\infty}}{\\left\\Vert p_n(f)\\right\\Vert_{\\infty}}.$$"
   ]
  },
  {
   "cell_type": "markdown",
   "metadata": {},
   "source": [
    "---\n",
    "**<big> I) Conditionnement du polynome d'interpolation et stabilité de la formule de Lagrange </big>**\n",
    "\n",
    "### Question 1 :\n",
    "\n",
    "Montrer que le conditionnement du polynôme d'interpolation peut être majoré de la manière suivante \n",
    "\n",
    "$$\\kappa_n(f) \\leq \\frac{\\left\\Vert f\\right\\Vert_{\\infty}}{\\left\\Vert p_n(f)\\right\\Vert_{\\infty}} \\Lambda_n.$$\n",
    "\n",
    "Que peut-on en déduire concernant le conditionnement du polynôme d'interpolation, en fonction du choix des points d'interpolation?"
   ]
  },
  {
   "cell_type": "markdown",
   "metadata": {},
   "source": [
    "### Question 2 :\n",
    "\n",
    "Donner une borne supérieur du conditionnement $\\kappa_n$ du polynôme d'interpolation de la fonction de Runge avec les points de Tchebychev en fonction de $n$. On pourra notamment majorer ou minorer les normes infinies.   "
   ]
  },
  {
   "cell_type": "markdown",
   "metadata": {},
   "source": [
    "### Question 3 :\n",
    "\n",
    "**<font color=black><span style=\"background-color:skyblue\">À rendre :</span></font>**\n",
    "\n",
    "1) Nous utilisons ici l'algorithme de l'exercice précédent sur la fonction de Runge \n",
    "\n",
    "$$ f(x) = \\frac{1}{1+25x^2}. $$\n",
    " \n",
    "- Tester cet algorithme sur cette fonction avec 32 points d'interpolation (a) équidistribués et (b) de Tchebychev. \n",
    "- Ajouter une petite perturbation aléatoire aux ordonnées, c'est-à-dire fixer\n",
    "\n",
    "$$(f+\\Delta f)(x_i) = \\frac{1}{1+25x_i^2}+\\epsilon_i$$\n",
    "\n",
    "avec une perturbation $\\epsilon_i$ aléatoire (on pourra utiliser la fonction rand ; https://numpy.org/doc/1.16/reference/generated/numpy.random.rand.html#numpy.random.rand) telle que $|\\epsilon_i| < 2^{-10}$. \n",
    "- Tracer pour chaque famille de points les deux polynômes $p_n(f)$ et $p_n(f+\\Delta f)$ sur le même graphe.\n",
    "- Expliquer les différences et similarités entre ces courbes lorsqu'on utilise les points equidistribués et les points de Tchebychev. \n",
    "\n",
    "2) Calculer la distance relative \n",
    "\n",
    "$$\\frac{\\left\\Vert p_n(f+\\Delta f) - p_n(f)\\right\\Vert_{\\infty}}{\\left\\Vert p_n(f)\\right\\Vert_{\\infty}}$$\n",
    "\n",
    "pour 32 points d'interpolation de Tchebychev (b). En déduire une estimation (numérique) par en dessous du conditionnement et comparer à l'estimation par au dessus de la question précédente. \n",
    "\n",
    "3) Sans perturbation $\\epsilon_i = 0$, augmenter maintenant le nombre de points de Tchebychev (b) jusqu'à environ $n=660$. \n",
    "- Tracer à nouveau le polynôme d'interpolation dans ce cas.\n",
    "- Calculer à nouveau l'estimation par au-dessus pour cette valeur de $n$. \n",
    "- Si le conditionnement est bas, d'où peuvent venir ces erreurs? Expliquer d'éventuels messages d'erreur ou de danger. "
   ]
  },
  {
   "cell_type": "code",
   "execution_count": null,
   "metadata": {},
   "outputs": [],
   "source": [
    "#1)\n",
    "xmin = -1\n",
    "xmax =  1\n",
    "x    = np.linspace(xmin, xmax, 2000)\n",
    "epsilon = 2.**(-10)\n",
    "\n",
    "# degre du polynome \n",
    "n = 32\n",
    "\n",
    "# Construire les abscisses xk, les ordonnées yk et les polynomes d'interpolation p associés \n",
    "\n",
    "# points équidistribués (a)\n",
    "xk_eq   = \n",
    "yk_eq   =  \n",
    "p_eq    = \n",
    "\n",
    "\n",
    "# points de Tchebychef (b)\n",
    "xk_cheb = \n",
    "yk_cheb =  \n",
    "p_cheb  = \n",
    "\n",
    "\n",
    "# perturbation\n",
    "yk_eq_pert   = \n",
    "p_eq_pert    = Lagrange(xk_eq, yk_eq_pert, x) \n",
    "\n",
    "yk_cheb_pert = \n",
    "p_cheb_pert  = Lagrange(xk_cheb, yk_cheb_pert, x) "
   ]
  },
  {
   "cell_type": "code",
   "execution_count": null,
   "metadata": {},
   "outputs": [],
   "source": [
    "# Affichage avec le module matplotlib\n",
    "fig_eq=plt.figure()\n",
    "plt.scatter(xk_eq, yk_eq     , color=\"red\",    label=\"yk\")\n",
    "plt.scatter(xk_eq, yk_eq_pert, color=\"blue\",   label=\"yk+epsilon\")\n",
    "plt.plot(   x,     p_eq      , color=\"green\",  label=\"Pn(x)  equidistribue\")\n",
    "plt.plot(   x,     p_eq_pert , color=\"purple\", label=\"Pn(x) perturbé equidistribue\")\n",
    "plt.xlabel(\"x\")\n",
    "plt.ylabel(\"f(x)\")\n",
    "plt.legend()\n",
    "plt.show()\n",
    "\n",
    "fig_cheb=plt.figure()\n",
    "plt.scatter(xk_cheb, yk_cheb     , color=\"red\",    label=\"yk\")\n",
    "plt.scatter(xk_cheb, yk_cheb_pert, color=\"blue\",   label=\"yk+epsilon\")\n",
    "plt.plot(   x,       p_cheb      , color=\"green\",  label=\"Pn(x)  Tchebychev\")\n",
    "plt.plot(   x,       p_cheb_pert , color=\"purple\", label=\"Pn(x) perturbé Tchebychev\")\n",
    "plt.xlabel(\"x\")\n",
    "plt.ylabel(\"f(x)\")\n",
    "plt.legend()\n",
    "plt.show()"
   ]
  },
  {
   "cell_type": "code",
   "execution_count": null,
   "metadata": {},
   "outputs": [],
   "source": [
    "#2)\n",
    "# estimation par en dessous de kappa\n",
    "estim_basse = \n",
    "\n",
    "\n",
    "# estimation par au dessus de kappa\n",
    "estim_haute  = \n",
    "\n",
    "\n",
    "print(estim_basse, \"<= kappa <= \", estim_haute) "
   ]
  },
  {
   "cell_type": "code",
   "execution_count": null,
   "metadata": {},
   "outputs": [],
   "source": [
    "#3)\n",
    "xmin = -1\n",
    "xmax =  1\n",
    "x = np.linspace(xmin, xmax, 2000)\n",
    "\n",
    "# degre du polynome \n",
    "n = 660\n",
    "\n",
    "# Construire les abscisses xk, les ordonnées yk et le polynomes d'interpolation p associés \n",
    "\n",
    "# points de Tchebychef\n",
    "xk_cheb = \n",
    "yk_cheb =  \n",
    "\n",
    "# polynome \n",
    "p_cheb = \n",
    "\n",
    "# estimation haute\n",
    "estim_haute = \n",
    "print(\"kappa <= \", estim_haute)"
   ]
  },
  {
   "cell_type": "code",
   "execution_count": null,
   "metadata": {},
   "outputs": [],
   "source": [
    "# Affichage avec le module matplotlib\n",
    "fig_cheb=plt.figure()\n",
    "plt.scatter(xk_cheb, yk_cheb, color=\"red\",   label=\"yk\")\n",
    "plt.plot(   x,       p_cheb , color=\"green\", label=\"Pn(x)  Tchebychev\")\n",
    "plt.xlabel(\"x\")\n",
    "plt.ylabel(\"f(x)\")\n",
    "plt.legend()\n",
    "plt.show()"
   ]
  },
  {
   "cell_type": "markdown",
   "metadata": {},
   "source": [
    "**Réponse :** \n",
    "\n"
   ]
  },
  {
   "cell_type": "markdown",
   "metadata": {},
   "source": [
    "---\n",
    "**<big>II) Polynôme d'interpolation de Tchebychev</big>**\n",
    "\n",
    "> Les points de Tchebychev sont définis comme les zéros du polynôme $T_n$ de Tchebychev. Ces polynômes satisfont la propriété suivante \n",
    ">\n",
    "> $$T_n(\\cos\\theta) = \\cos(n\\theta). \\qquad{} (3)$$\n",
    ">\n",
    "\n",
    "### Question 4 :\n",
    "\n",
    "On cherche à décomposer dans la base des polynômes de Tchebychev le polynôme d'interpolation passant par les points $(x_k,y_k)_{k=0,\\dots,n}$ où les $x_k$ sont les points de Tchebychev  \n",
    "\n",
    "$$ p_n(f) = \\sum\\limits_{k=0}^{n} c_k T_k.$$ \n",
    "\n",
    "Écrire le système linéaire satisfait par les coefficients $c_k$. "
   ]
  },
  {
   "cell_type": "markdown",
   "metadata": {},
   "source": [
    "### Question 5 :\n",
    "\n",
    "En utilisant la propriété (3), montrer que les coefficients $c_k$ du polynômes d'interpolation dans la base de Tchebychev sont donnés par \n",
    "\n",
    "$$ c_0 = \\frac{1}{n+1}\\sum_{i=0}^n T_0(x_i) y_i, \\qquad{} c_j = \\frac{2}{n+1}\\sum_{i=0}^n T_j(x_i) y_i \\quad{}\\forall j= 1, \\dots, n. $$"
   ]
  },
  {
   "cell_type": "markdown",
   "metadata": {},
   "source": [
    "### Question 6 :\n",
    "\n",
    "a) **<font color=black><span style=\"background-color:skyblue\">À rendre :</span></font>** Implémenter une fonction qui calcule les coefficients $c_k$. *Tester votre algorithme sur des cas simples, on prendra par exemple le cas $n=2$ et où les $y_j$ sont données par $y_j = T_0(x_j)$, $y_j = T_1(x_j)$ et $y_j = T_2(x_j)$.*"
   ]
  },
  {
   "cell_type": "code",
   "execution_count": null,
   "metadata": {},
   "outputs": [],
   "source": [
    "def compute_Tchebychev_coef(xmin, xmax, yk):\n",
    "    \"\"\"\n",
    "    calcule le tableau des coefficients c_k^n dans la base de Tchebychev\n",
    "    ----------  \n",
    "    parametres :\n",
    "    xmin, xmax : bornes de l'intervale de calcul\n",
    "    yk         : tableau des f(xk) où les xk sont les points de Tchebychev\n",
    "    \n",
    "    valeur de retour :\n",
    "    tableau des coefficients c_k^n\n",
    "    \"\"\"    \n",
    "\n",
    "    \n",
    "    return "
   ]
  },
  {
   "cell_type": "code",
   "execution_count": null,
   "metadata": {},
   "outputs": [],
   "source": [
    "# Tester votre algorithme sur le cas N=2 avec y_k = T_0(xk)\n",
    "xk = \n",
    "yk = \n",
    "\n",
    "print(\"le résultat est 1 = [1,0,0]\")\n",
    "print(\"calcul :\", compute_Tchebychev_coef(-1, 1, yk), \"\\n\")\n",
    "\n",
    "val_x = \n",
    "yk    = \n",
    "print(\"le résultat est 1 = [0,1,0]\")\n",
    "print(\"calcul :\", compute_Tchebychev_coef(-1, 1, yk), \"\\n\")\n",
    "\n",
    "val_x = \n",
    "yk    = \n",
    "print(\"le résultat est 1 = [0,0,1]\")\n",
    "print(\"calcul :\", compute_Tchebychev_coef(-1, 1, yk))"
   ]
  },
  {
   "cell_type": "markdown",
   "metadata": {},
   "source": [
    "b) **<font color=black><span style=\"background-color:skyblue\">À rendre :</span></font>** Implémenter une fonction qui prend en entrée les $c_k$ et $x$ et renvoie $p_n(x)$. *On pourra utiliser la fonction arccos de numpy.*\n",
    "\n",
    "c) **<font color=black><span style=\"background-color:skyblue\">À rendre :</span></font>** Tester ces fonctions pour tracer le polynome d'interpolation des polynômes $1$, $x$ et $x^2$ pour $n = 2, 3, 5$ et $10$."
   ]
  },
  {
   "cell_type": "code",
   "execution_count": null,
   "metadata": {},
   "outputs": [],
   "source": [
    "def poly_interp_Tchebychev(coef, x):\n",
    "    \"\"\"\n",
    "    calcule les valeurs en x du polynome dont les coefficients dans la base de Tchebychev sont coef \n",
    "    ---------- \n",
    "    parametres:\n",
    "    coef : tableau des coefficients dans la base de Newton\n",
    "    x    : points où on evalue le polynome\n",
    "    \n",
    "    valeur de retour:\n",
    "    tableau des valeurs du polynome en x\n",
    "    \"\"\"\n",
    "\n",
    "    \n",
    "    return"
   ]
  },
  {
   "cell_type": "code",
   "execution_count": null,
   "metadata": {},
   "outputs": [],
   "source": [
    "# Tester votre algorithme avec la fonction f\n",
    "xk = \n",
    "yk = \n",
    "\n",
    "coef = \n",
    "\n",
    "N    = 5\n",
    "x    = np.linspace(-1,1,N)\n",
    "print(\"coefficient :\", coef)\n",
    "print(\"valeur en quelques points :\", poly_interp_Tchebychev(coef, x))"
   ]
  },
  {
   "cell_type": "code",
   "execution_count": null,
   "metadata": {},
   "outputs": [],
   "source": [
    "# Tracer la courbe associée\n",
    "N = 100\n",
    "x = np.linspace(-1,1,N)\n",
    "\n",
    "# Tester avec la fonction f(x) = 1\n",
    "xk   = \n",
    "yk   = \n",
    "coef = \n",
    "\n",
    "fig_equi=plt.figure()\n",
    "plt.scatter(xk, yk                             , color=\"red\"  , label=\"yk\")\n",
    "plt.plot(   x,  poly_interp_Tchebychev(coef, x), color=\"green\", label=\"Pn(x)\")\n",
    "plt.xlabel(\"x\")\n",
    "plt.ylabel(\"f(x)\")\n",
    "plt.legend()\n",
    "plt.show()\n",
    "\n",
    "\n",
    "# Tester avec la fonction f(x) = x\n",
    "val_x = \n",
    "yk    = \n",
    "coef  = \n",
    "\n",
    "fig_equi=plt.figure()\n",
    "plt.scatter(xk, yk                             , color=\"red\"  , label=\"yk\")\n",
    "plt.plot(   x,  poly_interp_Tchebychev(coef, x), color=\"green\", label=\"Pn(x)\")\n",
    "plt.xlabel(\"x\")\n",
    "plt.ylabel(\"f(x)\")\n",
    "plt.legend()\n",
    "plt.show()\n",
    "\n",
    "# Tester avec la fonction f(x) = 2x^2-1\n",
    "val_x = \n",
    "yk    = \n",
    "coef  =\n",
    "\n",
    "fig_equi=plt.figure()\n",
    "plt.scatter(xk, yk                             , color=\"red\"  , label=\"yk\")\n",
    "plt.plot(   x,  poly_interp_Tchebychev(coef, x), color=\"green\", label=\"Pn(x)\")\n",
    "plt.xlabel(\"x\")\n",
    "plt.ylabel(\"f(x)\")\n",
    "plt.legend()\n",
    "plt.show()"
   ]
  },
  {
   "cell_type": "markdown",
   "metadata": {},
   "source": [
    "d) **<font color=black><span style=\"background-color:skyblue\">À rendre :</span></font>**  Tracer et comparer les courbes obtenues avec cet algorithme et avec celui donné pour la fonction de Runge de l'exercice précédent pour $n =10$. "
   ]
  },
  {
   "cell_type": "code",
   "execution_count": null,
   "metadata": {},
   "outputs": [],
   "source": [
    "# Tracer les courbes\n",
    "N    = 1000\n",
    "xmin = -1\n",
    "xmax =  1\n",
    "x    = np.linspace(xmin, xmax, N)\n",
    "\n",
    "# degre du polynome \n",
    "n = 10\n",
    "\n",
    "\n",
    "# Évaluer aux points x le polynome d'interpolation aux points de Tchebychev\n",
    "# dans la base de Lagrange (p_cheb) et dans la base de Tchebychev (p_cheb_2)\n",
    "\n",
    "# points equidistants\n",
    "xk_cheb2 = \n",
    "yk_cheb2 = \n",
    "\n",
    "# polynome \n",
    "p_cheb     = \n",
    "\n",
    "coef_cheb2 = \n",
    "p_cheb2    = "
   ]
  },
  {
   "cell_type": "code",
   "execution_count": null,
   "metadata": {},
   "outputs": [],
   "source": [
    "fig_equi=plt.figure()\n",
    "plt.scatter(xk_cheb2, yk_cheb2,                    color=\"red\",   label=\"yk\")\n",
    "plt.plot(   x       , p_cheb , linestyle='dashed', color=\"blue\",  label=\"Pn(x) Lagrange\")\n",
    "plt.plot(   x       , p_cheb2, linestyle='dotted', color=\"green\", label=\"Pn(x) Tchebychev\")\n",
    "plt.ylim((0.,1.))\n",
    "plt.xlabel(\"x\")\n",
    "plt.ylabel(\"f(x)\")\n",
    "plt.legend()\n",
    "plt.show()"
   ]
  },
  {
   "cell_type": "markdown",
   "metadata": {},
   "source": [
    "e) **<font color=black><span style=\"background-color:skyblue\">À rendre :</span></font>**  Pour cette fonction, augmenter le nombre de point au-delà $n=660$. Commenter la différence. "
   ]
  },
  {
   "cell_type": "markdown",
   "metadata": {},
   "source": [
    "**Réponse :**"
   ]
  },
  {
   "cell_type": "code",
   "execution_count": null,
   "metadata": {},
   "outputs": [],
   "source": [
    "# Tracer les courbes\n",
    "N    = 1000\n",
    "xmin = -1\n",
    "xmax =  1\n",
    "x    = np.linspace(xmin, xmax, N)\n",
    "\n",
    "# degre du polynome \n",
    "n = 660\n",
    "\n",
    "\n",
    "# Évaluer aux points x le polynome d'interpolation aux points de Tchebychev\n",
    "# dans la base de Lagrange (p_cheb) et dans la base de Tchebychev (p_cheb_2)\n",
    "\n",
    "# points equidistants\n",
    "xk_cheb2 = \n",
    "yk_cheb2 = \n",
    "\n",
    "# polynome \n",
    "p_cheb     = \n",
    "\n",
    "coef_cheb2 = \n",
    "p_cheb2    = "
   ]
  },
  {
   "cell_type": "code",
   "execution_count": null,
   "metadata": {},
   "outputs": [],
   "source": [
    "fig_equi=plt.figure()\n",
    "#plt.scatter(xk_cheb2, yk_cheb2, color=\"red\", label=\"yk\")\n",
    "plt.plot(x, p_cheb,  linestyle='dashed', color=\"blue\",  label=\"Pn(x) Lagrange\")\n",
    "plt.plot(x, p_cheb2, linestyle='dotted', color=\"green\", label=\"Pn(x) Tchebychev\")\n",
    "plt.ylim((0.,1.))\n",
    "plt.xlabel(\"x\")\n",
    "plt.ylabel(\"f(x)\")\n",
    "plt.legend()\n",
    "plt.show()"
   ]
  },
  {
   "cell_type": "markdown",
   "metadata": {},
   "source": [
    "**Réponse :**"
   ]
  },
  {
   "cell_type": "markdown",
   "metadata": {},
   "source": [
    "---\n",
    "<Big>**Pour aller plus loin** :</Big> \n",
    "\n",
    "La suite du notebook comprend des questions et exercices optionelles. \n",
    "Elle inclue également des questions d'implémentation optionelles pour obtenir des points \n",
    "**<font color=black><span style=\"background:deepskyblue\">bonus</span></font>**. \n",
    "\n",
    "---\n"
   ]
  },
  {
   "cell_type": "markdown",
   "metadata": {},
   "source": [
    "**<big> III) Amélioration de la formule de Lagrange du polynôme d'interpolation </big>**\n",
    "\n",
    ">L'algorithme construit au II) exploite les points de Tchebychev. Nous allons voir désormais des algorithmes qui cherchent à \"corriger\" les problèmes de stabilités algorithmiques dans la base de Lagrange.  \n",
    ">\n",
    ">On rappelle que le polynôme d'interpolation de Lagrange peut s'écrire de  la façon suivante dans la base de Lagrange\n",
    ">\n",
    ">$$p_n(f) = \\sum_{k=0}^n f(x_k) l_k,$$\n",
    ">\n",
    ">où les polynômes $l_k$ sont définis au début de l'énoncé, et on introduit les poids $w_k$ définis par\n",
    ">\n",
    ">$$w_k = \\frac{1}{\\prod\\limits_{l\\neq k} (x_k - x_l)}, \\qquad{} k=0,\\ldots,n.$$\n",
    "\n",
    "### Question 7 :\n",
    "\n",
    "Montrer qu'on peut réécrire $p_n(f)$ de la façon suivante\n",
    "\n",
    "$$\n",
    "    p_n(f)(x) = \n",
    "    \\left\\{\n",
    "    \\begin{aligned}\n",
    "        &\\Pi_{n+1}(x)\\sum_{k=0}^n \\frac{\\omega_k}{x-x_k} f(x_k) \\qquad{} && x\\notin \\{x_0,\\ldots,x_n\\} \\\\\n",
    "        &f(x_k) && x=x_k.\n",
    "    \\end{aligned}\n",
    "    \\right.    \n",
    "$$"
   ]
  },
  {
   "cell_type": "markdown",
   "metadata": {},
   "source": [
    "### Question 8 : \n",
    "\n",
    "**<font color=black><span style=\"background:deepskyblue\">Bonus :</span></font>**\n",
    "Implémenter une fonction qui calcule les poids $\\omega_k$ en fonctions des points d'interpolations $x_k$, puis une fonction qui permet d'évaluer le polynôme d'interpolation en utilisant la formule ci-dessus."
   ]
  },
  {
   "cell_type": "code",
   "execution_count": null,
   "metadata": {},
   "outputs": [],
   "source": [
    "def compute_bary_coef(xk):\n",
    "    \"\"\"\n",
    "    calcule des poids wk en fonction des points d'interpolation xk \n",
    "    ----------\n",
    "    parametres:\n",
    "    xk : tableau des points d'interpolations \n",
    "    \n",
    "    valeur de retour:\n",
    "    valeur des poids wk\n",
    "    \"\"\"\n",
    "    return "
   ]
  },
  {
   "cell_type": "code",
   "execution_count": null,
   "metadata": {},
   "outputs": [],
   "source": [
    "def poly_interp_bary(xk, yk, wk, x):\n",
    "    \"\"\"\n",
    "    calcule les valeurs en x du polynome par la formule de Lagrange améliorée \n",
    "    ---------- \n",
    "    parametres:\n",
    "    xk   : tableau des abscisses des points d'interpolation  \n",
    "    yk   : tableau des ordonnées des points d'interpolation  \n",
    "    wk   : poids de a formule de Lagrange améliorée \n",
    "    x    : points où on evalue le polynome\n",
    "    \n",
    "    valeur de retour:\n",
    "    tableau des valeurs du polynome en x\n",
    "    \"\"\"   \n",
    "    return "
   ]
  },
  {
   "cell_type": "code",
   "execution_count": null,
   "metadata": {},
   "outputs": [],
   "source": [
    "# Abscisses et ordonnees des points d'interpolation\n",
    "xk = np.linspace(-1, 1, 11)\n",
    "yk = np.array([8.85138827, 4.34206671, 6.71658158, 8.30040117, 8.5106317, 3.43844384,\\\n",
    "               5.15488902, 9.12458249, 2.97061689, 8.54675873, 4.78406823])\n",
    "\n",
    "# Points auxquels p sera évalués pour le tracé\n",
    "x  = np.linspace(-1, 1, 1000)\n"
   ]
  },
  {
   "cell_type": "markdown",
   "metadata": {},
   "source": [
    "### Question 9 :\n",
    "\n",
    "**<font color=black><span style=\"background:deepskyblue\">Bonus :</span></font>**\n",
    "Essayer à nouveau d'approcher la fonction $g$ définie en (3), en utilisant ce nouvel algorithme pour calculer le polynôme d'interpolation. \n",
    "\n",
    "*Indication :* On pourra augmenter progressivement le nombre de points d'interpolation $n$ jusqu'à environ 820.\n",
    "\n",
    "Qu'observez vous pour les coefficients $\\omega_k$ lorsque $n$ se rapproche de cette valeur?"
   ]
  },
  {
   "cell_type": "code",
   "execution_count": null,
   "metadata": {
    "scrolled": true
   },
   "outputs": [],
   "source": [
    "# Points auxquels g et P_n(g) seront évalués pour le tracé\n",
    "xmin = -1\n",
    "xmax = 1\n",
    "x = np.linspace(xmin, xmax, 2000)\n",
    "\n",
    "# degre du polynome \n",
    "n = 10\n"
   ]
  },
  {
   "cell_type": "markdown",
   "metadata": {},
   "source": [
    "**Réponse :**"
   ]
  },
  {
   "cell_type": "markdown",
   "metadata": {},
   "source": [
    "---\n",
    "**<big> IV) Formule barycentrique du polynôme d'interpolation </big>**\n",
    "\n",
    "### Question 10 :\n",
    "\n",
    "Montrer que \n",
    "\n",
    "$$\\Pi_{n+1}(x) \\sum_{k=0}^n \\frac{\\omega_k}{x-x_k} = 1,$$\n",
    "\n",
    "et en déduire qu'on peut réécrire $p_n(f)$ de la façon suivante\n",
    "\n",
    "$$\n",
    "    p_n(f)(x) = \n",
    "    \\left\\{\n",
    "    \\begin{aligned}\n",
    "        & \\frac{\\displaystyle \\sum_{k=0}^n \\frac{\\omega_k}{x-x_k} f(x_k)}{\\displaystyle \\sum_{k=0}^n \\frac{\\omega_k}{x-x_k}} \\qquad{} && x\\notin \\{x_0,\\ldots,x_n\\} \\\\\n",
    "        &f(x_k) & &x=x_k.\n",
    "    \\end{aligned}\n",
    "    \\right.    \n",
    "$$"
   ]
  },
  {
   "cell_type": "markdown",
   "metadata": {},
   "source": [
    ">On admet que pour tout $n\\in\\mathbb{N}$, en prenant les points d'interpolation de Tchebychef on a\n",
    ">\n",
    ">$$\\omega_k = C_n \\tilde\\omega_k \\qquad{} \\forall~k\\in\\{0,\\ldots,n\\},$$\n",
    ">\n",
    ">où\n",
    ">\n",
    ">$$\\tilde\\omega_k = (-1)^k \\sin\\left(\\frac{(2k+1)\\pi}{2n+2}\\right),$$\n",
    ">\n",
    ">et donc qu'on peut réécrire $P_n(f)$ comme\n",
    ">\n",
    ">$$\n",
    "    p_n(f)(x) = \n",
    "    \\left\\{\n",
    "    \\begin{aligned}\n",
    "        & \\frac{\\displaystyle \\sum_{k=0}^n \\frac{\\tilde\\omega_k}{x-x_k} f(x_k)}{\\displaystyle \\sum_{k=0}^n \\frac{\\tilde\\omega_k}{x-x_k}} \\qquad{} && x\\notin \\{x_0,\\ldots,x_n\\} \\\\\n",
    "        &f(x_k) && x=x_k.\n",
    "    \\end{aligned}\n",
    "    \\right.    \n",
    "$$"
   ]
  },
  {
   "cell_type": "markdown",
   "metadata": {},
   "source": [
    "### Question 11 :\n",
    "\n",
    "**<font color=black><span style=\"background:deepskyblue\">Bonus :</span></font>**\n",
    "Essayer à nouveau d'approcher la fonction $f$ définie en (3), en utilisant le nouvel algorithme modifié pour calculer le polynôme d'interpolation. \n",
    "\n",
    "*Indication :* On pourra augmenter progressivement le nombre de points d'interpolation $n$ jusqu'à environ 5000."
   ]
  },
  {
   "cell_type": "code",
   "execution_count": null,
   "metadata": {},
   "outputs": [],
   "source": [
    "def poly_interp_bary_modif(xk, yk, wk, x):\n",
    "    \"\"\"\n",
    "    calcule les valeurs en x du polynome par la formule barycentrique n\n",
    "    ---------- \n",
    "    parametres:\n",
    "    xk   : tableau des abscisses des points d'interpolation  \n",
    "    yk   : tableau des ordonnées des points d'interpolation  \n",
    "    wk   : poids de a formule de Lagrange améliorée \n",
    "    x    : points où on evalue le polynome\n",
    "    \n",
    "    valeur de retour:\n",
    "    tableau des valeurs du polynome en x\n",
    "    \"\"\"\n",
    "    return "
   ]
  },
  {
   "cell_type": "code",
   "execution_count": null,
   "metadata": {
    "scrolled": true
   },
   "outputs": [],
   "source": [
    "# Points auxquels g et P_n(g) seront évalués pour le tracé\n",
    "xmin = -1\n",
    "xmax =  1\n",
    "x    = np.linspace(xmin, xmax, 2000)\n",
    "\n",
    "# degre du polynome \n",
    "n = 10\n"
   ]
  },
  {
   "cell_type": "markdown",
   "metadata": {},
   "source": [
    "---\n",
    "**<big> V) Test numérique  </big>**\n",
    "\n",
    ">On considère maintenant la fonction $g:[-1,1]\\to\\mathbb{R}$ définie par\n",
    ">\n",
    ">$$g(x) = \\tanh(20 \\sin(15 x)) + 0.02\\exp(3x)\\sin(300x), \\qquad{} (3)$$\n",
    ">\n",
    ">qu'on va essayer d'approcher à l'aide du polynôme d'interpolation de Lagrange $P_n(g)$ **aux points de Tchebychef**."
   ]
  },
  {
   "cell_type": "markdown",
   "metadata": {},
   "source": [
    "### Question 12 :\n",
    "\n",
    "a) Tracer $g$ sur $[-1,1]$."
   ]
  },
  {
   "cell_type": "code",
   "execution_count": null,
   "metadata": {
    "scrolled": true
   },
   "outputs": [],
   "source": [
    "def g(x):\n",
    "    return "
   ]
  },
  {
   "cell_type": "code",
   "execution_count": null,
   "metadata": {},
   "outputs": [],
   "source": [
    "# Points auxquels g sera évaluée pour le tracé\n",
    "xmin = -1\n",
    "xmax =  1\n",
    "x = np.linspace(xmin, xmax, 2000)\n"
   ]
  },
  {
   "cell_type": "markdown",
   "metadata": {},
   "source": [
    "b) A l'aide des différents algorithmes développés, essayer d'approcher $g$ à l'aide de son polynôme d'interpolation aux points de Tchebychef de degrés le plus élevé possible. "
   ]
  },
  {
   "cell_type": "code",
   "execution_count": null,
   "metadata": {
    "scrolled": true
   },
   "outputs": [],
   "source": [
    "# Points auxquels g et P_n(g) seront évalués pour le tracé\n",
    "xmin = -1\n",
    "xmax =  1\n",
    "x = np.linspace(xmin, xmax, 2000)\n",
    "\n",
    "# degre du polynome \n",
    "n = 10\n",
    "\n"
   ]
  },
  {
   "cell_type": "markdown",
   "metadata": {},
   "source": [
    "---"
   ]
  },
  {
   "cell_type": "markdown",
   "metadata": {},
   "source": [
    "## Exercice 3 : Approximation par les polynômes de Bernstein"
   ]
  },
  {
   "cell_type": "markdown",
   "metadata": {},
   "source": [
    ">Dans cet exercice, on considère $[a,b]=[0,1]$. \n",
    ">\n",
    ">Les polynômes de Bernstein sont définis par $B_k^n(x) = {n \\choose k} x^k(1-x)^{n-k}$, où ${n \\choose k}$ sont les coefficients binomiaux. À l'aide de ces polynômes on peut définir le polynôme \n",
    ">\n",
    ">$$ R_n(f) = \\sum_{k=0}^n f\\left(\\frac{k}{n}\\right) B_k^n,$$\n",
    ">\n",
    ">qu'on appelle la $n$-ième approximation de $f$. Notons que les polynômes $R_n(f)$ sont construits à partir des valeurs de $f$ aux points $0,\\frac{1}{n},...,1$, mais en ces points la valeur de $R_n(f)$ peut être différente de celle de $f$ : l'approximation obtenue n'est pas une interpolation. On peut montrer que, pour toute fonction $f$ continue sur $[a,b]$, les polynômes $R_n(f)$ convergent uniformément vers $f$ quand $n\\to \\infty$. Le but de cet exercice est de démontrer ce résultat et d'obtenir une estimation de la vitesse de convergence, quand la fonction $f$ est lipschitzienne."
   ]
  },
  {
   "cell_type": "markdown",
   "metadata": {},
   "source": [
    "### Question 1\n",
    "\n",
    "Montrer que les polynômes de Bernstein vérifient les identités suivantes pour tout $x \\in [0,1]$:\n",
    "\n",
    "$$\\sum_{j=0}^n B_j^n(x) = 1,\\quad{}  \\sum_{j=0}^n \\frac{j}{n} B_j^n(x) = x, \\quad{} \\sum_{j=0}^n \\frac{j^2}{n^2} B_j^n(x)= \\left(1-\\frac{1}{n}\\right) x^2+\\frac{1}{n} x.$$"
   ]
  },
  {
   "cell_type": "markdown",
   "metadata": {},
   "source": [
    "### Question 2 \n",
    "\n",
    "Soit $\\delta >0,\\ x \\in [0,1]$ et $k \\in \\{0,1,...,n\\}$. Montrer que si $f$ est $L$-lipschitzienne alors on a les estimations suivantes :\n",
    "\n",
    "$$\n",
    "\\begin{aligned}\n",
    "    \\text{a)} \\quad{} & \\left| \\sum_{k=0, |x-k/n|\\leq \\delta}^n (f(x)-f(k/n))B_k^n(x)\\right| \\leq L\\delta \\\\ \\\\\n",
    "\t\\text{b)} \\quad{} & \\left| \\sum_{k=0, |x-k/n|\\geq \\delta}^n (f(x)-f(k/n))B_k^n(x)\\right| \\leq L\\delta\\left( 1+ \\frac{1}{\\delta^2}\\left(x-\\frac{k}{n}\\right)^2 \\right).\n",
    "\\end{aligned}\n",
    "$$"
   ]
  },
  {
   "cell_type": "markdown",
   "metadata": {},
   "source": [
    "### Question 3 \n",
    "\n",
    "En déduire que si $f$ est $L$-lipschitzienne, alors \n",
    "\n",
    "$$ \\|f-R_n(f)\\|_\\infty \\leq \\frac{9L}{4n^{1/2}}.$$"
   ]
  },
  {
   "cell_type": "markdown",
   "metadata": {},
   "source": [
    "---"
   ]
  },
  {
   "cell_type": "markdown",
   "metadata": {},
   "source": [
    "## Exercice 4 : Estimations des constantes de Lebesgue ([1])"
   ]
  },
  {
   "cell_type": "markdown",
   "metadata": {},
   "source": [
    "### Question 1 : Une formule pour la constante de Lebesgue\n",
    "\n",
    "Montrer que\n",
    "\n",
    "$$\\Lambda_n = \\sup\\limits_{x\\in[a,b]} \\sum_{k=0}^n \\left\\vert l_k(x)\\right\\vert,$$\n",
    "\n",
    "où les $l_k$ sont les polynômes de Lagrange."
   ]
  },
  {
   "cell_type": "markdown",
   "metadata": {},
   "source": [
    "### Question 2 : Un encadrement pour les points équidistants\n",
    "\n",
    ">On suppose dans cette question que les points $x_k$ sont équidistants : \n",
    "$x_k=a+k\\frac{b-a}{n}$. \n",
    ">\n",
    ">*Sans perte de généralité, on considèrera dans toute cette question $[a,b]=[0,n]$.*"
   ]
  },
  {
   "cell_type": "markdown",
   "metadata": {},
   "source": [
    "a) En considérant $x=\\frac{1}{2}$, montrer que\n",
    "\n",
    "$$\\left\\vert l_k(x) \\right\\vert \\leq \\frac{1}{4n^2}\\binom{n}{k}.$$"
   ]
  },
  {
   "cell_type": "markdown",
   "metadata": {},
   "source": [
    "b) En considérant $x\\in [i,i+1]$ pour un certain $i\\in\\{0,\\ldots,n-1\\}$, montrer que\n",
    "\n",
    "$$\\left\\vert l_k(x) \\right\\vert \\leq \\binom{n}{k}.$$"
   ]
  },
  {
   "cell_type": "markdown",
   "metadata": {},
   "source": [
    "c) En déduire que \n",
    "\n",
    "$$\\frac{2^n}{4n^2}\\leq \\Lambda_n \\leq 2^n.$$"
   ]
  },
  {
   "cell_type": "markdown",
   "metadata": {},
   "source": [
    "### Question 3 : Une majoration pour les points de Tchebyshev\n",
    "\n",
    ">On considère dans cette question que les points $x_k$ sont les points de Tchebyshev. \n",
    ">\n",
    ">*Sans perte de généralité, on considèrera dans toute cette question $[a,b]=[-1,1]$.*"
   ]
  },
  {
   "cell_type": "markdown",
   "metadata": {},
   "source": [
    "a) Exprimer $l_k(x)$ en fonction de $\\Pi_{n+1}(x)$ et de $\\Pi_{n+1}'(x_k)$, puis en fonction de $T_{n+1}(x)$ et de $T_{n+1}'(x_k)$."
   ]
  },
  {
   "cell_type": "markdown",
   "metadata": {},
   "source": [
    "b) En utilisant le changement de variable $x=\\cos \\theta$, montrer que\n",
    "\n",
    "$$\\left\\vert l_k(\\cos\\theta)\\right\\vert = \\frac{\\left\\vert \\sin(\\theta_k)\\cos((n+1)\\theta)\\right\\vert}{(n+1)\\left\\vert \\cos(\\theta)-\\cos(\\theta_k)\\right\\vert}.$$"
   ]
  },
  {
   "cell_type": "markdown",
   "metadata": {},
   "source": [
    "c) À l'aide notamment de formules de trigonométrie, en déduire que\n",
    "\n",
    "$$\\left\\vert l_k(\\cos\\theta)\\right\\vert \\leq \\frac{\\pi}{2} \\frac{\\vert \\sin\\theta_k\\vert \\vert \\cos((n+1)\\theta)\\vert}{(n+1)\\vert \\sin \\frac{\\theta+\\theta_k}{2} \\vert \\vert \\theta - \\theta_k\\vert} \\leq \\pi\\frac{\\left\\vert \\cos((n+1)\\theta)\\right\\vert}{(n+1)\\left\\vert \\theta-\\theta_i\\right\\vert}.$$"
   ]
  },
  {
   "cell_type": "markdown",
   "metadata": {},
   "source": [
    "d) On fixe $\\theta\\in[0,\\pi]$ et on note $\\theta_j$ le point de Tchebychev le plus proche de $\\theta$. Montrer que\n",
    "\n",
    "$$\n",
    "\\left\\vert l_k(\\cos\\theta)\\right\\vert \\leq \\left\\{\n",
    "\\begin{aligned}\n",
    "& \\pi,\\quad & \\vert k-j\\vert \\leq 1,\\\\\n",
    "&  \\frac{1}{\\vert k-j\\vert -1},\\quad &\\text{sinon}.\n",
    "\\end{aligned}\n",
    "\\right.\n",
    "$$"
   ]
  },
  {
   "cell_type": "markdown",
   "metadata": {},
   "source": [
    "e) En déduire l'existence d'une constante $C$ telle que\n",
    "\n",
    "$$\\Lambda_n \\leq C\\ln n.$$"
   ]
  },
  {
   "cell_type": "markdown",
   "metadata": {},
   "source": [
    "---"
   ]
  },
  {
   "cell_type": "markdown",
   "metadata": {},
   "source": [
    "## Exercice 5 : Méthode des différences divisées"
   ]
  },
  {
   "cell_type": "markdown",
   "metadata": {},
   "source": [
    ">On note $c^n_0,\\ldots,c^n_k,\\ldots,c^n_n$ les coefficients du polynôme d'interpolation de Lagrange $P_n(f)$ dans la base des *polynômes de Newton* :\n",
    ">\n",
    ">$$p_n(f)=\\sum_{k=0}^n c^n_k \\Pi_k.$$\n",
    ">\n",
    ">On va expliquer pourquoi cette base est intéressante, et obtenir un algorithme permettant de calculer ces coefficients uniquement à partir des valeurs d'interpolation $f(x_0),\\ldots, f(x_n)$."
   ]
  },
  {
   "cell_type": "markdown",
   "metadata": {},
   "source": [
    "---\n",
    "**<big> I) Calcul du polynôme d'interpolation de Lagrange dans la base de Newton </big>**\n",
    "\n",
    "### Question 1\n",
    "On note $f[x_0,\\ldots,x_n]$ le coefficient de degré $n$ (dans la base canonique) du polynôme d'interpolation $p_n(f)$ aux points $x_0,\\ldots,x_n$. Montrer que pour tout $n\\in\\mathbb{N}$\n",
    "\n",
    "$$c_n^n=f[x_0,\\ldots,x_n].$$\n",
    "\n",
    "On rajoute un point d'interpolation $x_{n+1}$ (distinct des points $x_0,\\ldots,x_n$). Démontrer l'identité suivante :\n",
    "\n",
    "$$f[x_0,\\ldots,x_{n+1}]=\\frac{f[x_{1},\\ldots,x_{n+1}]-f[x_0,\\ldots,x_{n}]}{x_{n+1}-x_0}. \\qquad{} (1)$$\n",
    "\n",
    "*Indication : On pourra considérer le polynôme $\\tilde{p}_{n}(f)$ d'interpolation de $f$ en $x_1,\\ldots,x_{n+1}$, et étudier le polynôme*\n",
    "\n",
    "$$\\frac{(x-x_0)\\tilde{p}_{n}(f) - (x-x_{n+1})p_n(f)}{x_{n+1}-x_0}.$$"
   ]
  },
  {
   "cell_type": "markdown",
   "metadata": {},
   "source": [
    "### Question 2\n",
    "Montrer qu'il existe $\\alpha\\in\\mathbb{R}$ tel que\n",
    "\n",
    "$$p_{n+1}(f)-p_n(f) = \\alpha \\Pi_{n+1}.$$\n",
    "\n",
    "Que peut-on en déduire concernant les coefficient $c_k^n$ et $c_k^{n+1}$ pour $k\\leq n$?"
   ]
  },
  {
   "cell_type": "markdown",
   "metadata": {},
   "source": [
    "### Question 3 \n",
    "En déduire que \n",
    "\n",
    "$$p_n(f)(x)=\\sum_{k=0}^n f[x_0,\\ldots,x_k] \\Pi_k(x),\\quad \\forall~x\\in[a,b]. \\qquad{} (2)$$"
   ]
  },
  {
   "cell_type": "markdown",
   "metadata": {},
   "source": [
    "---\n",
    "**<big> II) Complexité </big>**\n",
    "    \n",
    "### Question 4 \n",
    "Calculer le nombre d'opérations (additions, soustractions, multiplications ou divisions) nécessaires pour calculer les coefficients $c_0^n,\\dots, c_k^n, \\dots, c_n^n$ à $n$ fixé."
   ]
  },
  {
   "cell_type": "markdown",
   "metadata": {},
   "source": [
    "### Question 5\n",
    "De même, connaissant les $c_0^n,\\dots, c_k^n, \\dots, c_n^n$, calculer le nombre d'opérations pour évaluer $p_n(f)(x)$ en un point $x$ donné. On utilisera pour cela la méthode de Horner ([3,2]) \n",
    "\n",
    "$$\n",
    "\\begin{aligned}\n",
    "q_1(x) &= c_n^n (x-x_{n-1}) + c_{n-1}^n, \\\\ \n",
    "q_{i+1}(x) &= (x-x_{n-(i+1)}) q_i(x) + c_{n-(i+1)}^n,  \\\\\n",
    "p_{n}(f) &= q_{n}.\n",
    "\\end{aligned}\n",
    "$$"
   ]
  },
  {
   "cell_type": "markdown",
   "metadata": {},
   "source": [
    "### Question 6 \n",
    "Combien cela fait-il d'opérations au total pour évaluer $m$ valeurs de $p_n(x)$."
   ]
  },
  {
   "cell_type": "markdown",
   "metadata": {},
   "source": [
    "### Question 7 \n",
    "Comparer avec le nombre d’opérations nécessaires si on avait fait les calculs dans la base de Lagrange. Commenter les avantages et les inconvénients des deux méthodes."
   ]
  },
  {
   "cell_type": "markdown",
   "metadata": {},
   "source": [
    "---\n",
    "**<big> III) Mise en oeuvre </big>**\n",
    "\n",
    "### Question 8 \n",
    "\n",
    "On cherche ici uniquement à comparer la complexité algorithmique de deux implémentations. On étudiera par la suite la précision des résultats obtenus. \n",
    "\n",
    "La cellule suivante propose une implémentation du calcul des coefficients du polynome d'interpolation dans la base de Newton. \n",
    "\n",
    "a) Cette implémentation présente deux boucles. Implémenter une seconde fonction ayant les mêmes entrées et sorties mais qui ne présente qu'une seule boucle, la seconde boucle étant remplacée par un calcul vectoriel.\n",
    "\n",
    "*Tester votre algorithme sur l'exemple simple suivant. Considérer les points d'interpolations $-1,0,1$ et la fonction $f(x)=x^2$, calculer à la main les coefficients $f[x_0,\\ldots,x_k]$, et vérifier que votre algorithme renvoie bien les mêmes valeurs.*\n",
    "\n",
    "b) Comparer les coûts de calcul numérique pour un nombre $N=1000$ de points d'interpolation. On pourra utiliser *%timeit* pour comparer les temps de calcul (voir exemple dans les notebooks du tutorat). "
   ]
  },
  {
   "cell_type": "code",
   "execution_count": null,
   "metadata": {},
   "outputs": [],
   "source": [
    "def compute_divided_diff_coef_loop(xk, yk):\n",
    "    \"\"\"\n",
    "    calcule (implémentation avec des boucles) le tableau des coefficients c_k^n dans la base de Newton\n",
    "    ----------  \n",
    "    parametres :\n",
    "    xk : tableau des abscisses d'interpolation\n",
    "    yk : tableau des f(xk)\n",
    "    \n",
    "    valeur de retour :\n",
    "    tableau des coefficients c_k^n\n",
    "    \"\"\"\n",
    "    n    = xk.size\n",
    "    coef = yk.copy()\n",
    "    \n",
    "    for k in range(1,n):\n",
    "        for i in range(n-1,k-1,-1):\n",
    "            coef[i] = (coef[i] - coef[i-1])/(xk[i] - xk[i-k])\n",
    "\n",
    "    return coef"
   ]
  },
  {
   "cell_type": "code",
   "execution_count": null,
   "metadata": {},
   "outputs": [],
   "source": [
    "def compute_divided_diff_coef_vector(xk, yk):\n",
    "    \"\"\"\n",
    "    calcule (implémentation avec des vecteurs) le tableau des coefficients c_k^n dans la base de Newton\n",
    "    ----------  \n",
    "    parametres :\n",
    "    xk : tableau des abscisses d'interpolation\n",
    "    yk : tableau des f(xk)\n",
    "    \n",
    "    valeur de retour :\n",
    "    tableau des coefficients c_k^n\n",
    "    \"\"\"\n",
    "    return "
   ]
  },
  {
   "cell_type": "code",
   "execution_count": null,
   "metadata": {},
   "outputs": [],
   "source": [
    "# Tester votre fonction sur le cas test simple\n",
    "\n"
   ]
  },
  {
   "cell_type": "code",
   "execution_count": null,
   "metadata": {},
   "outputs": [],
   "source": [
    "# Tester votre fonction sur le cas test N=1000\n",
    "\n"
   ]
  },
  {
   "cell_type": "markdown",
   "metadata": {},
   "source": [
    "### Question 9 \n",
    "\n",
    "Implémenter une fonction qui prend en entrée des abscisses $x_k$ les coefficients $f[x_0,\\ldots,x_k]$ et un vecteurs de points de $[a,b]$, et qui renvoie la valeur de $p_n(f)$ en ces différents points. On pourra utiliser :\n",
    "\n",
    "$$p_n(f)(x)=\\sum_{k=0}^n f[x_0,\\ldots,x_k] \\Pi_k(x),\\quad \\forall~x\\in[a,b] $$\n",
    "\n",
    "et un algorithme d'évaluation de type Horner. \n",
    "\n",
    "*Tester votre algorithme avec les coefficients produits pour l'exemple de la question précédente, et vérifier qu'on retombe bien sur $f(x)=x^2$.*\n"
   ]
  },
  {
   "cell_type": "code",
   "execution_count": null,
   "metadata": {},
   "outputs": [],
   "source": [
    "def poly_interp_Newton(coef, xk, x):\n",
    "    \"\"\"\n",
    "    calcule les valeurs en x du polynome dont les coefficients dans \n",
    "    la base de Newton associee aux abscisses xk sont coef \n",
    "    ---------- \n",
    "    parametres:\n",
    "    coef : tableau des coefficients dans la base de Newton\n",
    "    xk   : tableau d'abscisses associees a cette base\n",
    "    x    : points où on evalue le polynome\n",
    "    \n",
    "    valeur de retour:\n",
    "    tableau des valeurs du polynome en x\n",
    "    \"\"\"\n",
    "    return "
   ]
  },
  {
   "cell_type": "code",
   "execution_count": null,
   "metadata": {},
   "outputs": [],
   "source": [
    "# Tester votre fonction sur le cas test simple\n",
    "\n"
   ]
  },
  {
   "cell_type": "markdown",
   "metadata": {},
   "source": [
    "### Question 10\n",
    "\n",
    "Utiliser les fonctions construites aux deux questions précédentes pour tracer l'unique polynôme $p_n$ de degré $n$ vérifiant $p_n(x_k)=y_k$ pour tout $k$ avec les valeurs de $x_k$ et de $y_k$ données ci-dessous.\n"
   ]
  },
  {
   "cell_type": "code",
   "execution_count": null,
   "metadata": {},
   "outputs": [],
   "source": [
    "# Abscisses et ordonnees des points d'interpolation\n",
    "xk = np.linspace(-1, 1, 11)\n",
    "yk = np.array([8.85138827, 4.34206671, 6.71658158, 8.30040117, 8.5106317, 3.43844384,\\\n",
    "               5.15488902, 9.12458249, 2.97061689, 8.54675873, 4.78406823])\n",
    "\n",
    "# Points auxquels p sera évalués pour le tracé\n",
    "x = np.linspace(-1, 1, 1000)\n",
    "\n"
   ]
  },
  {
   "cell_type": "markdown",
   "metadata": {},
   "source": [
    "---"
   ]
  },
  {
   "cell_type": "markdown",
   "metadata": {},
   "source": [
    "## Références\n",
    "\n",
    "[1] J.-P. Demailly. Analyse numérique et équations différentielles-4ème Ed. EDP sciences, 2016.\n",
    "\n",
    "[2] A. T. Fuller. Horner versus Holdred : An episode in the history of root computation. Historia Mathematica, 26(1) :29 – 51, 1999.\n",
    "\n",
    "[3] W. G. Horner. XXI. A new method of solving numerical equations of all orders, by continuous approximation. Philosophical Transactions of the Royal Society of London, 109 :308–335, 1819. Communicated by Davies Gilbert.\n",
    "\n",
    "[4] L. N. Trefethen. Approximation theory and approximation practice, volume 128. Siam, 2013.\n",
    "\n",
    "[5] J.-P. Berrut and L. N. Trefethen. Barycentric Lagrange interpolation, SIAM Review, Vol. 46, No. 3, pp. 501 – 517."
   ]
  }
 ],
 "metadata": {
  "@webio": {
   "lastCommId": null,
   "lastKernelId": null
  },
  "kernelspec": {
   "display_name": "Python 3 (ipykernel)",
   "language": "python",
   "name": "python3"
  },
  "language_info": {
   "codemirror_mode": {
    "name": "ipython",
    "version": 3
   },
   "file_extension": ".py",
   "mimetype": "text/x-python",
   "name": "python",
   "nbconvert_exporter": "python",
   "pygments_lexer": "ipython3",
   "version": "3.10.4"
  },
  "latex_envs": {
   "LaTeX_envs_menu_present": true,
   "autoclose": false,
   "autocomplete": false,
   "bibliofile": "biblio.bib",
   "cite_by": "apalike",
   "current_citInitial": 1,
   "eqLabelWithNumbers": true,
   "eqNumInitial": 1,
   "hotkeys": {
    "equation": "Ctrl-E",
    "itemize": "Ctrl-I"
   },
   "labels_anchors": false,
   "latex_user_defs": false,
   "report_style_numbering": false,
   "user_envs_cfg": false
  },
  "toc": {
   "base_numbering": 1,
   "nav_menu": {},
   "number_sections": false,
   "sideBar": false,
   "skip_h1_title": false,
   "title_cell": "Table of Contents",
   "title_sidebar": "Contents",
   "toc_cell": false,
   "toc_position": {},
   "toc_section_display": false,
   "toc_window_display": false
  }
 },
 "nbformat": 4,
 "nbformat_minor": 4
}
